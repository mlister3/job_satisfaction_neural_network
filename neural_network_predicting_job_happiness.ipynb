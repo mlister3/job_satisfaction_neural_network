{
  "cells": [
    {
      "cell_type": "markdown",
      "source": [
        "### Dependencies"
      ],
      "metadata": {
        "id": "IaPKEWSbRUae"
      },
      "id": "IaPKEWSbRUae"
    },
    {
      "cell_type": "code",
      "source": [
        "# Install Modules\n",
        "!pip install keras_tuner -q\n",
        "\n",
        "# Load Dependencies\n",
        "import pandas as pd\n",
        "from sklearn.model_selection import train_test_split\n",
        "from sklearn.preprocessing import StandardScaler\n",
        "from sklearn.decomposition import PCA\n",
        "import tensorflow as tf\n",
        "import keras_tuner as kt\n",
        "import warnings\n",
        "import numpy as np\n",
        "\n",
        "# Disable all warnings\n",
        "warnings.filterwarnings(\"ignore\")"
      ],
      "metadata": {
        "id": "cGTSm3q0pxD1",
        "outputId": "ff8812d6-e276-44dd-c8ef-d51d20dd5c58",
        "colab": {
          "base_uri": "https://localhost:8080/"
        }
      },
      "id": "cGTSm3q0pxD1",
      "execution_count": 1,
      "outputs": [
        {
          "output_type": "stream",
          "name": "stdout",
          "text": [
            "\u001b[?25l     \u001b[90m━━━━━━━━━━━━━━━━━━━━━━━━━━━━━━━━━━━━━━━━\u001b[0m \u001b[32m0.0/176.1 kB\u001b[0m \u001b[31m?\u001b[0m eta \u001b[36m-:--:--\u001b[0m\r\u001b[2K     \u001b[91m━━━━━━━━━━━━━━━━━━━━━━━━━━━━━━━━━━━━━━\u001b[0m\u001b[91m╸\u001b[0m \u001b[32m174.1/176.1 kB\u001b[0m \u001b[31m5.6 MB/s\u001b[0m eta \u001b[36m0:00:01\u001b[0m\r\u001b[2K     \u001b[90m━━━━━━━━━━━━━━━━━━━━━━━━━━━━━━━━━━━━━━━\u001b[0m \u001b[32m176.1/176.1 kB\u001b[0m \u001b[31m4.2 MB/s\u001b[0m eta \u001b[36m0:00:00\u001b[0m\n",
            "\u001b[?25h"
          ]
        }
      ]
    },
    {
      "cell_type": "markdown",
      "source": [
        "## Preprocessing"
      ],
      "metadata": {
        "id": "2qmFvsUoRh79"
      },
      "id": "2qmFvsUoRh79"
    },
    {
      "cell_type": "markdown",
      "source": [
        "### Load Data"
      ],
      "metadata": {
        "id": "EBWujbVtpiCk"
      },
      "id": "EBWujbVtpiCk"
    },
    {
      "cell_type": "code",
      "execution_count": 2,
      "id": "7d72e12a",
      "metadata": {
        "id": "7d72e12a"
      },
      "outputs": [],
      "source": [
        "def load_join(select, loaded):\n",
        "    selected_df = pd.read_csv(\"https://www.dropbox.com/s/\" + select + \"?dl=1\", index_col=\"review_index\")\n",
        "    if loaded is not None:\n",
        "        selected_df = pd.merge(loaded, selected_df, on='review_index')\n",
        "    return selected_df"
      ]
    },
    {
      "cell_type": "code",
      "execution_count": 3,
      "id": "3db93c45",
      "metadata": {
        "id": "3db93c45"
      },
      "outputs": [],
      "source": [
        "load_metadata = True\n",
        "load_ratings = True\n",
        "load_opinions = True\n",
        "load_descriptions = False\n",
        "load_world_happiness_report = False\n",
        "\n",
        "working_df = None\n",
        "if load_metadata == True:\n",
        "    load_index = \"goqyfyeu2qvpsmo/metadata_df\"\n",
        "    working_df = load_join(load_index, working_df)\n",
        "if load_ratings == True:\n",
        "    load_index = \"9j2j86xwqrmrljx/ratings_df.csv\"\n",
        "    working_df = load_join(load_index, working_df)\n",
        "if load_opinions == True:\n",
        "    load_index = \"q8v9f6rbb4z12df/opinion_df.csv\"\n",
        "    working_df = load_join(load_index, working_df)\n",
        "if load_descriptions == True:\n",
        "    load_index = \"hnp8sebleh6dzgt/descriptions_df.csv\"\n",
        "    working_df = load_join(load_index, working_df)\n",
        "    \n",
        "if load_world_happiness_report == True:\n",
        "    WHR_df = pd.read_csv(\"https://www.dropbox.com/s/jyr4e7fleevrb1s/WHR2023.csv?dl=1\")"
      ]
    },
    {
      "cell_type": "code",
      "execution_count": 4,
      "id": "ef1fe8a6",
      "metadata": {
        "id": "ef1fe8a6",
        "outputId": "e6d5835f-8408-4cd3-8ac3-4c0c508c5c12",
        "colab": {
          "base_uri": "https://localhost:8080/",
          "height": 0
        }
      },
      "outputs": [
        {
          "output_type": "execute_result",
          "data": {
            "text/plain": [
              "                                         current  overall_rating  \\\n",
              "review_index                                                       \n",
              "0                               Current Employee               2   \n",
              "1             Current Employee, more than 1 year               2   \n",
              "2             Current Employee, less than 1 year               1   \n",
              "\n",
              "              work_life_balance  culture_values  diversity_inclusion  \\\n",
              "review_index                                                           \n",
              "0                           4.0             3.0                  NaN   \n",
              "1                           3.0             1.0                  NaN   \n",
              "2                           1.0             1.0                  NaN   \n",
              "\n",
              "              career_opp  comp_benefits  senior_mgmt recommend ceo_approv  \\\n",
              "review_index                                                                \n",
              "0                    2.0            3.0          3.0         x          o   \n",
              "1                    2.0            1.0          4.0         x          o   \n",
              "2                    1.0            1.0          1.0         x          o   \n",
              "\n",
              "             outlook  \n",
              "review_index          \n",
              "0                  r  \n",
              "1                  r  \n",
              "2                  x  "
            ],
            "text/html": [
              "\n",
              "  <div id=\"df-605e9d52-d51b-4116-aa1b-0c75e179f841\">\n",
              "    <div class=\"colab-df-container\">\n",
              "      <div>\n",
              "<style scoped>\n",
              "    .dataframe tbody tr th:only-of-type {\n",
              "        vertical-align: middle;\n",
              "    }\n",
              "\n",
              "    .dataframe tbody tr th {\n",
              "        vertical-align: top;\n",
              "    }\n",
              "\n",
              "    .dataframe thead th {\n",
              "        text-align: right;\n",
              "    }\n",
              "</style>\n",
              "<table border=\"1\" class=\"dataframe\">\n",
              "  <thead>\n",
              "    <tr style=\"text-align: right;\">\n",
              "      <th></th>\n",
              "      <th>current</th>\n",
              "      <th>overall_rating</th>\n",
              "      <th>work_life_balance</th>\n",
              "      <th>culture_values</th>\n",
              "      <th>diversity_inclusion</th>\n",
              "      <th>career_opp</th>\n",
              "      <th>comp_benefits</th>\n",
              "      <th>senior_mgmt</th>\n",
              "      <th>recommend</th>\n",
              "      <th>ceo_approv</th>\n",
              "      <th>outlook</th>\n",
              "    </tr>\n",
              "    <tr>\n",
              "      <th>review_index</th>\n",
              "      <th></th>\n",
              "      <th></th>\n",
              "      <th></th>\n",
              "      <th></th>\n",
              "      <th></th>\n",
              "      <th></th>\n",
              "      <th></th>\n",
              "      <th></th>\n",
              "      <th></th>\n",
              "      <th></th>\n",
              "      <th></th>\n",
              "    </tr>\n",
              "  </thead>\n",
              "  <tbody>\n",
              "    <tr>\n",
              "      <th>0</th>\n",
              "      <td>Current Employee</td>\n",
              "      <td>2</td>\n",
              "      <td>4.0</td>\n",
              "      <td>3.0</td>\n",
              "      <td>NaN</td>\n",
              "      <td>2.0</td>\n",
              "      <td>3.0</td>\n",
              "      <td>3.0</td>\n",
              "      <td>x</td>\n",
              "      <td>o</td>\n",
              "      <td>r</td>\n",
              "    </tr>\n",
              "    <tr>\n",
              "      <th>1</th>\n",
              "      <td>Current Employee, more than 1 year</td>\n",
              "      <td>2</td>\n",
              "      <td>3.0</td>\n",
              "      <td>1.0</td>\n",
              "      <td>NaN</td>\n",
              "      <td>2.0</td>\n",
              "      <td>1.0</td>\n",
              "      <td>4.0</td>\n",
              "      <td>x</td>\n",
              "      <td>o</td>\n",
              "      <td>r</td>\n",
              "    </tr>\n",
              "    <tr>\n",
              "      <th>2</th>\n",
              "      <td>Current Employee, less than 1 year</td>\n",
              "      <td>1</td>\n",
              "      <td>1.0</td>\n",
              "      <td>1.0</td>\n",
              "      <td>NaN</td>\n",
              "      <td>1.0</td>\n",
              "      <td>1.0</td>\n",
              "      <td>1.0</td>\n",
              "      <td>x</td>\n",
              "      <td>o</td>\n",
              "      <td>x</td>\n",
              "    </tr>\n",
              "  </tbody>\n",
              "</table>\n",
              "</div>\n",
              "      <button class=\"colab-df-convert\" onclick=\"convertToInteractive('df-605e9d52-d51b-4116-aa1b-0c75e179f841')\"\n",
              "              title=\"Convert this dataframe to an interactive table.\"\n",
              "              style=\"display:none;\">\n",
              "        \n",
              "  <svg xmlns=\"http://www.w3.org/2000/svg\" height=\"24px\"viewBox=\"0 0 24 24\"\n",
              "       width=\"24px\">\n",
              "    <path d=\"M0 0h24v24H0V0z\" fill=\"none\"/>\n",
              "    <path d=\"M18.56 5.44l.94 2.06.94-2.06 2.06-.94-2.06-.94-.94-2.06-.94 2.06-2.06.94zm-11 1L8.5 8.5l.94-2.06 2.06-.94-2.06-.94L8.5 2.5l-.94 2.06-2.06.94zm10 10l.94 2.06.94-2.06 2.06-.94-2.06-.94-.94-2.06-.94 2.06-2.06.94z\"/><path d=\"M17.41 7.96l-1.37-1.37c-.4-.4-.92-.59-1.43-.59-.52 0-1.04.2-1.43.59L10.3 9.45l-7.72 7.72c-.78.78-.78 2.05 0 2.83L4 21.41c.39.39.9.59 1.41.59.51 0 1.02-.2 1.41-.59l7.78-7.78 2.81-2.81c.8-.78.8-2.07 0-2.86zM5.41 20L4 18.59l7.72-7.72 1.47 1.35L5.41 20z\"/>\n",
              "  </svg>\n",
              "      </button>\n",
              "      \n",
              "  <style>\n",
              "    .colab-df-container {\n",
              "      display:flex;\n",
              "      flex-wrap:wrap;\n",
              "      gap: 12px;\n",
              "    }\n",
              "\n",
              "    .colab-df-convert {\n",
              "      background-color: #E8F0FE;\n",
              "      border: none;\n",
              "      border-radius: 50%;\n",
              "      cursor: pointer;\n",
              "      display: none;\n",
              "      fill: #1967D2;\n",
              "      height: 32px;\n",
              "      padding: 0 0 0 0;\n",
              "      width: 32px;\n",
              "    }\n",
              "\n",
              "    .colab-df-convert:hover {\n",
              "      background-color: #E2EBFA;\n",
              "      box-shadow: 0px 1px 2px rgba(60, 64, 67, 0.3), 0px 1px 3px 1px rgba(60, 64, 67, 0.15);\n",
              "      fill: #174EA6;\n",
              "    }\n",
              "\n",
              "    [theme=dark] .colab-df-convert {\n",
              "      background-color: #3B4455;\n",
              "      fill: #D2E3FC;\n",
              "    }\n",
              "\n",
              "    [theme=dark] .colab-df-convert:hover {\n",
              "      background-color: #434B5C;\n",
              "      box-shadow: 0px 1px 3px 1px rgba(0, 0, 0, 0.15);\n",
              "      filter: drop-shadow(0px 1px 2px rgba(0, 0, 0, 0.3));\n",
              "      fill: #FFFFFF;\n",
              "    }\n",
              "  </style>\n",
              "\n",
              "      <script>\n",
              "        const buttonEl =\n",
              "          document.querySelector('#df-605e9d52-d51b-4116-aa1b-0c75e179f841 button.colab-df-convert');\n",
              "        buttonEl.style.display =\n",
              "          google.colab.kernel.accessAllowed ? 'block' : 'none';\n",
              "\n",
              "        async function convertToInteractive(key) {\n",
              "          const element = document.querySelector('#df-605e9d52-d51b-4116-aa1b-0c75e179f841');\n",
              "          const dataTable =\n",
              "            await google.colab.kernel.invokeFunction('convertToInteractive',\n",
              "                                                     [key], {});\n",
              "          if (!dataTable) return;\n",
              "\n",
              "          const docLinkHtml = 'Like what you see? Visit the ' +\n",
              "            '<a target=\"_blank\" href=https://colab.research.google.com/notebooks/data_table.ipynb>data table notebook</a>'\n",
              "            + ' to learn more about interactive tables.';\n",
              "          element.innerHTML = '';\n",
              "          dataTable['output_type'] = 'display_data';\n",
              "          await google.colab.output.renderOutput(dataTable, element);\n",
              "          const docLink = document.createElement('div');\n",
              "          docLink.innerHTML = docLinkHtml;\n",
              "          element.appendChild(docLink);\n",
              "        }\n",
              "      </script>\n",
              "    </div>\n",
              "  </div>\n",
              "  "
            ]
          },
          "metadata": {},
          "execution_count": 4
        }
      ],
      "source": [
        "unedited_working_df = working_df.copy()\n",
        "working_df = working_df.drop(['firm', 'date_review', 'job_title', 'location'], axis=1)\n",
        "working_df.head(3)"
      ]
    },
    {
      "cell_type": "markdown",
      "source": [
        "### Data Cleaning"
      ],
      "metadata": {
        "id": "e20KFxSGSZZD"
      },
      "id": "e20KFxSGSZZD"
    },
    {
      "cell_type": "markdown",
      "source": [
        "#### Cleaning Data Attempt - Drop Less Columns"
      ],
      "metadata": {
        "id": "XvzKGdaSTyTa"
      },
      "id": "XvzKGdaSTyTa"
    },
    {
      "cell_type": "code",
      "source": [
        "preprocessing_df = unedited_working_df.copy()\n",
        "preprocessing_df = preprocessing_df.drop(['date_review', 'job_title', 'location'], axis=1)"
      ],
      "metadata": {
        "id": "-3sbJz_oT7uh"
      },
      "id": "-3sbJz_oT7uh",
      "execution_count": 162,
      "outputs": []
    },
    {
      "cell_type": "code",
      "source": [
        "preprocessing_df.nunique()"
      ],
      "metadata": {
        "id": "YZmwqlx_g81L",
        "outputId": "e47c62cc-a4f3-4b22-e46d-f020963a3ee7",
        "colab": {
          "base_uri": "https://localhost:8080/"
        }
      },
      "id": "YZmwqlx_g81L",
      "execution_count": 163,
      "outputs": [
        {
          "output_type": "execute_result",
          "data": {
            "text/plain": [
              "firm                   428\n",
              "current                 29\n",
              "overall_rating           5\n",
              "work_life_balance        5\n",
              "culture_values           5\n",
              "diversity_inclusion      5\n",
              "career_opp               5\n",
              "comp_benefits            5\n",
              "senior_mgmt              5\n",
              "recommend                3\n",
              "ceo_approv               4\n",
              "outlook                  4\n",
              "dtype: int64"
            ]
          },
          "metadata": {},
          "execution_count": 163
        }
      ]
    },
    {
      "cell_type": "code",
      "source": [
        "cutoff_value = 2000\n",
        "firms_to_replace = preprocessing_df['firm'].value_counts()[preprocessing_df['firm'].value_counts() < cutoff_value].index.tolist()\n",
        "\n",
        "# Replace in dataframe\n",
        "for firm in firms_to_replace:\n",
        "    preprocessing_df['firm'] = preprocessing_df['firm'].replace(firm,\"Other\")\n",
        "    \n",
        "# Check to make sure binning was successful\n",
        "print(preprocessing_df['firm'].value_counts())\n",
        "print(\"These ar how many samples that got 'firm' changed to Other: \", len(preprocessing_df[preprocessing_df['firm'] == \"Other\"]))\n",
        "print(\"Number of firms removed: \", len(firms_to_replace))"
      ],
      "metadata": {
        "colab": {
          "base_uri": "https://localhost:8080/"
        },
        "id": "rTx2FoxVWDZw",
        "outputId": "ddd9434c-b473-4838-e0cb-a22b898ffd5f"
      },
      "id": "rTx2FoxVWDZw",
      "execution_count": 164,
      "outputs": [
        {
          "output_type": "stream",
          "name": "stdout",
          "text": [
            "Other                 132211\n",
            "IBM                    60436\n",
            "McDonald-s             49450\n",
            "Deloitte               46995\n",
            "EY                     34050\n",
            "                       ...  \n",
            "Bayer                   2441\n",
            "BDO                     2422\n",
            "The-Salvation-Army      2356\n",
            "Accenture               2156\n",
            "Co-op                   2065\n",
            "Name: firm, Length: 77, dtype: int64\n",
            "These ar how many samples that got 'firm' changed to Other:  132211\n",
            "Number of firms removed:  352\n"
          ]
        }
      ]
    },
    {
      "cell_type": "code",
      "source": [
        "# Cutoff value to make a list of values in the 'current' column to put into \"other\" catagory\n",
        "cutoff_value = 10000\n",
        "current_to_replace = preprocessing_df['current'].value_counts()[preprocessing_df['current'].value_counts() < cutoff_value].index.tolist()\n",
        "\n",
        "# Replace in dataframe\n",
        "for review in current_to_replace:\n",
        "    preprocessing_df['current'] = preprocessing_df['current'].replace(review,\"Other\")\n",
        "\n",
        "# Check to make sure binning was successful\n",
        "preprocessing_df['current'].value_counts()"
      ],
      "metadata": {
        "colab": {
          "base_uri": "https://localhost:8080/"
        },
        "id": "39acOwg0d6hs",
        "outputId": "7853ac06-1e6e-4551-9cca-d9de9aafc788"
      },
      "id": "39acOwg0d6hs",
      "execution_count": 165,
      "outputs": [
        {
          "output_type": "execute_result",
          "data": {
            "text/plain": [
              "Current Employee                        209599\n",
              "Former Employee                         146133\n",
              "Current Employee, more than 1 year       82749\n",
              "Current Employee, more than 3 years      66471\n",
              "Former Employee, more than 1 year        65687\n",
              "Current Employee, less than 1 year       49603\n",
              "Former Employee, more than 3 years       43614\n",
              "Former Employee, less than 1 year        41874\n",
              "Current Employee, more than 5 years      40155\n",
              "Current Employee, more than 10 years     25029\n",
              "Former Employee, more than 5 years       23017\n",
              "Current Employee, more than 8 years      18506\n",
              "Former Employee, more than 10 years      15411\n",
              "Former Employee, more than 8 years       10686\n",
              "Other                                       32\n",
              "Name: current, dtype: int64"
            ]
          },
          "metadata": {},
          "execution_count": 165
        }
      ]
    },
    {
      "cell_type": "code",
      "source": [
        "print(\"Columns before processing: \", len(preprocessing_df))\n",
        "columns_to_convert = ['overall_rating', 'work_life_balance', 'culture_values',\n",
        "                      'diversity_inclusion', 'career_opp', 'comp_benefits',\n",
        "                      'senior_mgmt']\n",
        "\n",
        "preprocessing_df[columns_to_convert] = preprocessing_df[columns_to_convert].astype(float)\n",
        "preprocessing_df.dropna(subset=columns_to_convert, inplace=True)\n",
        "print(\"Column after dropping NaN values: \", len(preprocessing_df))"
      ],
      "metadata": {
        "colab": {
          "base_uri": "https://localhost:8080/"
        },
        "id": "MAuiVMDzebJs",
        "outputId": "d0d5c15b-6445-4ba5-95c8-7c3b0ef14c73"
      },
      "id": "MAuiVMDzebJs",
      "execution_count": 166,
      "outputs": [
        {
          "output_type": "stream",
          "name": "stdout",
          "text": [
            "Columns before processing:  838566\n",
            "Column after dropping NaN values:  133863\n"
          ]
        }
      ]
    },
    {
      "cell_type": "code",
      "source": [
        "X = pd.get_dummies(preprocessing_df.drop('overall_rating', axis = 1)).drop(['recommend_o', 'ceo_approv_o', 'outlook_o'], axis = 1)\n",
        "y = pd.get_dummies(preprocessing_df['overall_rating'].astype(int))"
      ],
      "metadata": {
        "id": "_xk5_jE7erM6"
      },
      "id": "_xk5_jE7erM6",
      "execution_count": 167,
      "outputs": []
    },
    {
      "cell_type": "code",
      "source": [
        "# Split the preprocessed data into a training and testing dataset\n",
        "X_train, X_test, y_train, y_test = train_test_split(X, y, test_size=0.25, random_state=1)\n",
        "\n",
        "# Create a StandardScaler instances\n",
        "scaler = StandardScaler()\n",
        "\n",
        "# Fit the StandardScaler\n",
        "X_scaler = scaler.fit(X_train)\n",
        "\n",
        "# Scale the data\n",
        "X_train_scaled = X_scaler.transform(X_train)\n",
        "X_test_scaled = X_scaler.transform(X_test)\n",
        "\n",
        "X_train_scaled.shape"
      ],
      "metadata": {
        "colab": {
          "base_uri": "https://localhost:8080/"
        },
        "id": "XaNS2qcVdw_2",
        "outputId": "bbd3f884-191d-41d0-f88c-da567b7afc03"
      },
      "id": "XaNS2qcVdw_2",
      "execution_count": 168,
      "outputs": [
        {
          "output_type": "execute_result",
          "data": {
            "text/plain": [
              "(100397, 106)"
            ]
          },
          "metadata": {},
          "execution_count": 168
        }
      ]
    },
    {
      "cell_type": "markdown",
      "source": [
        "#### Cleaning Data Attempt - Half Hot-Ended Remove NaN"
      ],
      "metadata": {
        "id": "crZbmswLpKK1"
      },
      "id": "crZbmswLpKK1"
    },
    {
      "cell_type": "code",
      "source": [
        "working_half_hotend_df = unedited_working_df.copy()\n",
        "working_half_hotend_df = working_half_hotend_df.drop(['date_review', 'job_title', 'location'], axis=1)\n",
        "\n",
        "columns_to_convert = ['overall_rating', 'work_life_balance', 'culture_values',\n",
        "                      'diversity_inclusion', 'career_opp', 'comp_benefits',\n",
        "                      'senior_mgmt']\n",
        "\n",
        "working_half_hotend_df[columns_to_convert] = working_half_hotend_df[columns_to_convert].astype(float)"
      ],
      "metadata": {
        "id": "bTo1RtfapS4X"
      },
      "id": "bTo1RtfapS4X",
      "execution_count": 5,
      "outputs": []
    },
    {
      "cell_type": "code",
      "source": [
        "cutoff_value = 3000\n",
        "firms_to_replace = working_half_hotend_df['firm'].value_counts()[working_half_hotend_df['firm'].value_counts() < cutoff_value].index.tolist()\n",
        "\n",
        "# Replace in dataframe\n",
        "for firm in firms_to_replace:\n",
        "    working_half_hotend_df['firm'] = working_half_hotend_df['firm'].replace(firm,\"Other\")\n",
        "    \n",
        "# Check to make sure binning was successful\n",
        "print(working_half_hotend_df['firm'].value_counts())\n",
        "print(\"These ar how many samples that got 'firm' changed to Other: \", len(working_half_hotend_df[working_half_hotend_df['firm'] == \"Other\"]))\n",
        "print(\"Number of firms removed: \", len(firms_to_replace))\n",
        "print(\"Remaining number of firms: \", len(working_half_hotend_df['firm'].value_counts()))"
      ],
      "metadata": {
        "id": "PlbLgahEoeV3",
        "outputId": "639fe886-8160-4199-f140-7a80ec6e86f9",
        "colab": {
          "base_uri": "https://localhost:8080/"
        }
      },
      "id": "PlbLgahEoeV3",
      "execution_count": 6,
      "outputs": [
        {
          "output_type": "stream",
          "name": "stdout",
          "text": [
            "Other                      178782\n",
            "IBM                         60436\n",
            "McDonald-s                  49450\n",
            "Deloitte                    46995\n",
            "EY                          34050\n",
            "PwC                         33227\n",
            "Oracle                      31941\n",
            "Microsoft                   26675\n",
            "J-P-Morgan                  25814\n",
            "KPMG                        24815\n",
            "Apple                       20797\n",
            "Citi                        18726\n",
            "Google                      15995\n",
            "SAP                         14344\n",
            "HSBC-Holdings               13893\n",
            "Tesco                       12149\n",
            "Marriott-International      10409\n",
            "Barclays                     9710\n",
            "Thomson-Reuters              9553\n",
            "American-Express             9349\n",
            "Morgan-Stanley               9093\n",
            "Goldman-Sachs                8808\n",
            "Vodafone                     8321\n",
            "Salesforce                   8234\n",
            "Pizza-Hut                    7592\n",
            "BNY-Mellon                   6630\n",
            "Deutsche-Bank                6388\n",
            "Hilton                       6155\n",
            "J-Sainsbury                  5925\n",
            "GlaxoSmithKline              5646\n",
            "Unilever                     5632\n",
            "BT                           5337\n",
            "CBRE                         5276\n",
            "McKinsey-and-Company         5106\n",
            "NHS                          4977\n",
            "Pearson                      4879\n",
            "ASDA                         4760\n",
            "Primark                      4680\n",
            "Marks-and-Spencer            4557\n",
            "Bloomberg-L-P                4394\n",
            "Booking-com                  4393\n",
            "University-of-Michigan       4185\n",
            "Hyatt                        4041\n",
            "Aon                          3975\n",
            "Capita                       3945\n",
            "Willis-Towers-Watson         3816\n",
            "BNP-Paribas                  3757\n",
            "LinkedIn                     3635\n",
            "Bain-and-Company             3623\n",
            "Boots                        3618\n",
            "Waitrose                     3616\n",
            "Mercer                       3496\n",
            "Boston-Consulting-Group      3466\n",
            "AstraZeneca                  3443\n",
            "Sodexo                       3411\n",
            "next                         3324\n",
            "Grant-Thornton               3244\n",
            "Hays                         3045\n",
            "Lloyds-Banking-Group         3033\n",
            "Name: firm, dtype: int64\n",
            "These ar how many samples that got 'firm' changed to Other:  178782\n",
            "Number of firms removed:  370\n",
            "Remaining number of firms:  59\n"
          ]
        }
      ]
    },
    {
      "cell_type": "code",
      "source": [
        "# Cutoff value to make a list of values in the 'current' column to put into \"other\" catagory\n",
        "cutoff_value = 10\n",
        "current_to_replace = working_half_hotend_df['current'].value_counts()[working_half_hotend_df['current'].value_counts() < cutoff_value].index.tolist()\n",
        "\n",
        "# Replace in dataframe\n",
        "for review in current_to_replace:\n",
        "    working_half_hotend_df['current'] = working_half_hotend_df['current'].replace(review,\"Other\")\n",
        "\n",
        "# Check to make sure binning was successful\n",
        "working_half_hotend_df['current'].value_counts()"
      ],
      "metadata": {
        "colab": {
          "base_uri": "https://localhost:8080/"
        },
        "id": "KGiJaOscrV5U",
        "outputId": "a20db3be-8cac-40b9-9f3c-9df9fbfc17e7"
      },
      "id": "KGiJaOscrV5U",
      "execution_count": 7,
      "outputs": [
        {
          "output_type": "execute_result",
          "data": {
            "text/plain": [
              "Current Employee                        209599\n",
              "Former Employee                         146133\n",
              "Current Employee, more than 1 year       82749\n",
              "Current Employee, more than 3 years      66471\n",
              "Former Employee, more than 1 year        65687\n",
              "Current Employee, less than 1 year       49603\n",
              "Former Employee, more than 3 years       43614\n",
              "Former Employee, less than 1 year        41874\n",
              "Current Employee, more than 5 years      40155\n",
              "Current Employee, more than 10 years     25029\n",
              "Former Employee, more than 5 years       23017\n",
              "Current Employee, more than 8 years      18506\n",
              "Former Employee, more than 10 years      15411\n",
              "Former Employee, more than 8 years       10686\n",
              "Other                                       32\n",
              "Name: current, dtype: int64"
            ]
          },
          "metadata": {},
          "execution_count": 7
        }
      ]
    },
    {
      "cell_type": "code",
      "source": [
        "print(\"Columns before processing: \", len(working_half_hotend_df))\n",
        "working_half_hotend_df.dropna(subset=columns_to_convert, inplace=True)\n",
        "print(\"Column after dropping NaN values: \", len(working_half_hotend_df))\n",
        "working_half_hotend_df.nunique()"
      ],
      "metadata": {
        "colab": {
          "base_uri": "https://localhost:8080/"
        },
        "id": "ZkgM6zrdtsmZ",
        "outputId": "831bc0d8-9b2d-4ef5-d7ff-eec13f699aa4"
      },
      "id": "ZkgM6zrdtsmZ",
      "execution_count": 8,
      "outputs": [
        {
          "output_type": "stream",
          "name": "stdout",
          "text": [
            "Columns before processing:  838566\n",
            "Column after dropping NaN values:  133863\n"
          ]
        },
        {
          "output_type": "execute_result",
          "data": {
            "text/plain": [
              "firm                   59\n",
              "current                15\n",
              "overall_rating          5\n",
              "work_life_balance       5\n",
              "culture_values          5\n",
              "diversity_inclusion     5\n",
              "career_opp              5\n",
              "comp_benefits           5\n",
              "senior_mgmt             5\n",
              "recommend               3\n",
              "ceo_approv              4\n",
              "outlook                 4\n",
              "dtype: int64"
            ]
          },
          "metadata": {},
          "execution_count": 8
        }
      ]
    },
    {
      "cell_type": "code",
      "source": [
        "X = pd.get_dummies(working_half_hotend_df.drop('overall_rating', axis = 1)).drop(['recommend_o', 'ceo_approv_o', 'outlook_o'], axis = 1)\n",
        "y = pd.get_dummies(working_half_hotend_df['overall_rating'].astype(int))\n",
        "\n",
        "X.columns"
      ],
      "metadata": {
        "colab": {
          "base_uri": "https://localhost:8080/"
        },
        "id": "GRs0ZXHb4U4e",
        "outputId": "0b96af72-a810-4d36-c29e-4030781ea9bc"
      },
      "id": "GRs0ZXHb4U4e",
      "execution_count": 9,
      "outputs": [
        {
          "output_type": "execute_result",
          "data": {
            "text/plain": [
              "Index(['work_life_balance', 'culture_values', 'diversity_inclusion',\n",
              "       'career_opp', 'comp_benefits', 'senior_mgmt', 'firm_ASDA',\n",
              "       'firm_American-Express', 'firm_Aon', 'firm_Apple', 'firm_AstraZeneca',\n",
              "       'firm_BNP-Paribas', 'firm_BNY-Mellon', 'firm_BT',\n",
              "       'firm_Bain-and-Company', 'firm_Barclays', 'firm_Bloomberg-L-P',\n",
              "       'firm_Booking-com', 'firm_Boots', 'firm_Boston-Consulting-Group',\n",
              "       'firm_CBRE', 'firm_Capita', 'firm_Citi', 'firm_Deloitte',\n",
              "       'firm_Deutsche-Bank', 'firm_EY', 'firm_GlaxoSmithKline',\n",
              "       'firm_Goldman-Sachs', 'firm_Google', 'firm_Grant-Thornton',\n",
              "       'firm_HSBC-Holdings', 'firm_Hays', 'firm_Hilton', 'firm_Hyatt',\n",
              "       'firm_IBM', 'firm_J-P-Morgan', 'firm_J-Sainsbury', 'firm_KPMG',\n",
              "       'firm_LinkedIn', 'firm_Lloyds-Banking-Group', 'firm_Marks-and-Spencer',\n",
              "       'firm_Marriott-International', 'firm_McDonald-s',\n",
              "       'firm_McKinsey-and-Company', 'firm_Mercer', 'firm_Microsoft',\n",
              "       'firm_Morgan-Stanley', 'firm_NHS', 'firm_Oracle', 'firm_Other',\n",
              "       'firm_Pearson', 'firm_Pizza-Hut', 'firm_Primark', 'firm_PwC',\n",
              "       'firm_SAP', 'firm_Salesforce', 'firm_Sodexo', 'firm_Tesco',\n",
              "       'firm_Thomson-Reuters', 'firm_Unilever', 'firm_University-of-Michigan',\n",
              "       'firm_Vodafone', 'firm_Waitrose', 'firm_Willis-Towers-Watson',\n",
              "       'firm_next', 'current_Current Employee',\n",
              "       'current_Current Employee, less than 1 year',\n",
              "       'current_Current Employee, more than 1 year',\n",
              "       'current_Current Employee, more than 10 years',\n",
              "       'current_Current Employee, more than 3 years',\n",
              "       'current_Current Employee, more than 5 years',\n",
              "       'current_Current Employee, more than 8 years',\n",
              "       'current_Former Employee', 'current_Former Employee, less than 1 year',\n",
              "       'current_Former Employee, more than 1 year',\n",
              "       'current_Former Employee, more than 10 years',\n",
              "       'current_Former Employee, more than 3 years',\n",
              "       'current_Former Employee, more than 5 years',\n",
              "       'current_Former Employee, more than 8 years', 'current_Other',\n",
              "       'recommend_v', 'recommend_x', 'ceo_approv_r', 'ceo_approv_v',\n",
              "       'ceo_approv_x', 'outlook_r', 'outlook_v', 'outlook_x'],\n",
              "      dtype='object')"
            ]
          },
          "metadata": {},
          "execution_count": 9
        }
      ]
    },
    {
      "cell_type": "code",
      "source": [
        "# Split the preprocessed data into a training and testing dataset\n",
        "X_train, X_test, y_train, y_test = train_test_split(X, y, test_size=0.25, random_state=1)\n",
        "\n",
        "# Create a StandardScaler instances\n",
        "scaler = StandardScaler()\n",
        "\n",
        "# Fit the StandardScaler\n",
        "X_scaler = scaler.fit(X_train)\n",
        "\n",
        "# Scale the data\n",
        "X_train_scaled = X_scaler.transform(X_train)\n",
        "X_test_scaled = X_scaler.transform(X_test)\n",
        "\n",
        "X_train_scaled.shape"
      ],
      "metadata": {
        "colab": {
          "base_uri": "https://localhost:8080/"
        },
        "id": "E7jtdKzF4iWW",
        "outputId": "a848be25-9d36-4c9e-c461-3d70eaed3020"
      },
      "id": "E7jtdKzF4iWW",
      "execution_count": 10,
      "outputs": [
        {
          "output_type": "execute_result",
          "data": {
            "text/plain": [
              "(100397, 88)"
            ]
          },
          "metadata": {},
          "execution_count": 10
        }
      ]
    },
    {
      "cell_type": "markdown",
      "source": [
        "#### Cleaning Data Attempt - PCA"
      ],
      "metadata": {
        "id": "BwLXYwU-hbUN"
      },
      "id": "BwLXYwU-hbUN"
    },
    {
      "cell_type": "code",
      "source": [
        "# Create PCA Model\n",
        "pca_model = PCA(n_components=25)"
      ],
      "metadata": {
        "id": "QLpXNAZSjlyo"
      },
      "id": "QLpXNAZSjlyo",
      "execution_count": 255,
      "outputs": []
    },
    {
      "cell_type": "code",
      "source": [
        "pca_model = pca_model.fit(X_train_scaled)\n",
        "\n",
        "X_train_scaled = pca_model.transform(X_train_scaled)\n",
        "X_test_scaled = pca_model.transform(X_test_scaled)\n",
        "\n",
        "# Training DataFrame with the PCA components\n",
        "pca_df = pd.DataFrame(data=X_train_scaled, columns=['PC1', 'PC2', 'PC3', 'PC4', 'PC5', 'PC6', 'PC7', 'PC8', 'PC9', 'PC10', \n",
        "                                                'PC11', 'PC12', 'PC13', 'PC14', 'PC15', 'PC16', 'PC17', 'PC18', 'PC19', 'PC20',\n",
        "                                                'PC21', 'PC22', 'PC23', 'PC24', 'PC25'])#, 'PC26', 'PC27', 'PC28', 'PC29'])#, 'PC30'])\n",
        "                                              #  'PC31', 'PC32', 'PC33', 'PC34', 'PC35'])\n",
        "\n",
        "# Retrieve the explained variance from the PCA model\n",
        "explained_variance = pca_model.explained_variance_ratio_\n",
        "Scope = 0\n",
        "\n",
        "# Print the explained variance for each principal component\n",
        "for i, variance in enumerate(explained_variance):\n",
        "    Scope = Scope + variance\n",
        "    print(f\"Explained Variance PC{i+1}: {variance:.4f}\")\n",
        "\n",
        "print(f\"{Scope * 100:.2f}%\")"
      ],
      "metadata": {
        "id": "aweKhmPsiGMG",
        "outputId": "7eade046-bf26-4765-8575-39446eab0665",
        "colab": {
          "base_uri": "https://localhost:8080/"
        }
      },
      "id": "aweKhmPsiGMG",
      "execution_count": 256,
      "outputs": [
        {
          "output_type": "stream",
          "name": "stdout",
          "text": [
            "Explained Variance PC1: 0.1108\n",
            "Explained Variance PC2: 0.0630\n",
            "Explained Variance PC3: 0.0426\n",
            "Explained Variance PC4: 0.0403\n",
            "Explained Variance PC5: 0.0301\n",
            "Explained Variance PC6: 0.0261\n",
            "Explained Variance PC7: 0.0238\n",
            "Explained Variance PC8: 0.0224\n",
            "Explained Variance PC9: 0.0223\n",
            "Explained Variance PC10: 0.0215\n",
            "Explained Variance PC11: 0.0208\n",
            "Explained Variance PC12: 0.0205\n",
            "Explained Variance PC13: 0.0204\n",
            "Explained Variance PC14: 0.0203\n",
            "Explained Variance PC15: 0.0202\n",
            "Explained Variance PC16: 0.0200\n",
            "Explained Variance PC17: 0.0198\n",
            "Explained Variance PC18: 0.0198\n",
            "Explained Variance PC19: 0.0195\n",
            "Explained Variance PC20: 0.0193\n",
            "Explained Variance PC21: 0.0192\n",
            "Explained Variance PC22: 0.0191\n",
            "Explained Variance PC23: 0.0191\n",
            "Explained Variance PC24: 0.0189\n",
            "Explained Variance PC25: 0.0187\n",
            "69.86%\n"
          ]
        }
      ]
    },
    {
      "cell_type": "markdown",
      "source": [
        "## NN Attempt - Compile, Train, & Evaluate Default Model"
      ],
      "metadata": {
        "id": "CGVIpLvl4KGZ"
      },
      "id": "CGVIpLvl4KGZ"
    },
    {
      "cell_type": "code",
      "source": [
        "# Define the model\n",
        "nn_default = tf.keras.models.Sequential()\n",
        "\n",
        "# Add the masking layer\n",
        "#nn_default.add(tf.keras.layers.Masking(mask_value=10, input_shape=(X_train_scaled.shape[1],)))\n",
        "\n",
        "nn_default.add(tf.keras.layers.Dense(units=100, activation='relu', input_dim=X_train_scaled.shape[1]))\n",
        "\n",
        "nn_default.add(tf.keras.layers.Dense(units=80, activation='relu'))\n",
        "\n",
        "# Add the output layer\n",
        "nn_default.add(tf.keras.layers.Dense(units=5, activation='sigmoid'))\n",
        "\n",
        "# Check the structure of the model\n",
        "nn_default.summary()"
      ],
      "metadata": {
        "id": "YAFrnD0r4RxQ",
        "outputId": "1c8ea4b2-91a5-4e62-8b7c-2f8ca1cef13a",
        "colab": {
          "base_uri": "https://localhost:8080/"
        }
      },
      "id": "YAFrnD0r4RxQ",
      "execution_count": 11,
      "outputs": [
        {
          "output_type": "stream",
          "name": "stdout",
          "text": [
            "Model: \"sequential\"\n",
            "_________________________________________________________________\n",
            " Layer (type)                Output Shape              Param #   \n",
            "=================================================================\n",
            " dense (Dense)               (None, 100)               8900      \n",
            "                                                                 \n",
            " dense_1 (Dense)             (None, 80)                8080      \n",
            "                                                                 \n",
            " dense_2 (Dense)             (None, 5)                 405       \n",
            "                                                                 \n",
            "=================================================================\n",
            "Total params: 17,385\n",
            "Trainable params: 17,385\n",
            "Non-trainable params: 0\n",
            "_________________________________________________________________\n"
          ]
        }
      ]
    },
    {
      "cell_type": "code",
      "source": [
        "# Compile the model\n",
        "nn_default.compile(loss='mse', optimizer='adam', metrics=['accuracy'])\n",
        "\n",
        "# Train the model\n",
        "history = nn_default.fit(X_train_scaled, y_train, epochs=20, verbose=1, batch_size=64)"
      ],
      "metadata": {
        "id": "4pCl9zGr4blK",
        "outputId": "9eacd420-e43a-4b3b-8ce9-dbf8c0a9e675",
        "colab": {
          "base_uri": "https://localhost:8080/"
        }
      },
      "id": "4pCl9zGr4blK",
      "execution_count": 12,
      "outputs": [
        {
          "output_type": "stream",
          "name": "stdout",
          "text": [
            "Epoch 1/20\n",
            "1569/1569 [==============================] - 16s 7ms/step - loss: 0.0971 - accuracy: 0.6354\n",
            "Epoch 2/20\n",
            "1569/1569 [==============================] - 8s 5ms/step - loss: 0.0899 - accuracy: 0.6643\n",
            "Epoch 3/20\n",
            "1569/1569 [==============================] - 4s 3ms/step - loss: 0.0891 - accuracy: 0.6679\n",
            "Epoch 4/20\n",
            "1569/1569 [==============================] - 4s 3ms/step - loss: 0.0883 - accuracy: 0.6706\n",
            "Epoch 5/20\n",
            "1569/1569 [==============================] - 5s 3ms/step - loss: 0.0878 - accuracy: 0.6722\n",
            "Epoch 6/20\n",
            "1569/1569 [==============================] - 4s 3ms/step - loss: 0.0872 - accuracy: 0.6746\n",
            "Epoch 7/20\n",
            "1569/1569 [==============================] - 4s 3ms/step - loss: 0.0867 - accuracy: 0.6779\n",
            "Epoch 8/20\n",
            "1569/1569 [==============================] - 5s 3ms/step - loss: 0.0862 - accuracy: 0.6809\n",
            "Epoch 9/20\n",
            "1569/1569 [==============================] - 4s 3ms/step - loss: 0.0858 - accuracy: 0.6812\n",
            "Epoch 10/20\n",
            "1569/1569 [==============================] - 4s 3ms/step - loss: 0.0853 - accuracy: 0.6840\n",
            "Epoch 11/20\n",
            "1569/1569 [==============================] - 4s 3ms/step - loss: 0.0850 - accuracy: 0.6860\n",
            "Epoch 12/20\n",
            "1569/1569 [==============================] - 4s 3ms/step - loss: 0.0846 - accuracy: 0.6882\n",
            "Epoch 13/20\n",
            "1569/1569 [==============================] - 4s 3ms/step - loss: 0.0842 - accuracy: 0.6904\n",
            "Epoch 14/20\n",
            "1569/1569 [==============================] - 5s 3ms/step - loss: 0.0839 - accuracy: 0.6925\n",
            "Epoch 15/20\n",
            "1569/1569 [==============================] - 4s 2ms/step - loss: 0.0835 - accuracy: 0.6952\n",
            "Epoch 16/20\n",
            "1569/1569 [==============================] - 4s 3ms/step - loss: 0.0832 - accuracy: 0.6956\n",
            "Epoch 17/20\n",
            "1569/1569 [==============================] - 5s 3ms/step - loss: 0.0828 - accuracy: 0.6974\n",
            "Epoch 18/20\n",
            "1569/1569 [==============================] - 4s 3ms/step - loss: 0.0825 - accuracy: 0.6997\n",
            "Epoch 19/20\n",
            "1569/1569 [==============================] - 4s 3ms/step - loss: 0.0822 - accuracy: 0.7025\n",
            "Epoch 20/20\n",
            "1569/1569 [==============================] - 5s 3ms/step - loss: 0.0820 - accuracy: 0.7035\n"
          ]
        }
      ]
    },
    {
      "cell_type": "code",
      "source": [
        "# Evaluate the model using the test data\n",
        "model_loss, model_accuracy = nn_default.evaluate(X_test_scaled,y_test,verbose=1, batch_size=64)\n",
        "print(f\"Loss: {model_loss}, Accuracy: {model_accuracy}\")"
      ],
      "metadata": {
        "colab": {
          "base_uri": "https://localhost:8080/"
        },
        "id": "Xq7EK7m1CNB8",
        "outputId": "c873fdba-55fb-45f1-deea-5ffa42bb18ba"
      },
      "id": "Xq7EK7m1CNB8",
      "execution_count": 13,
      "outputs": [
        {
          "output_type": "stream",
          "name": "stdout",
          "text": [
            "523/523 [==============================] - 1s 2ms/step - loss: 0.0912 - accuracy: 0.6613\n",
            "Loss: 0.0911693423986435, Accuracy: 0.6613278985023499\n"
          ]
        }
      ]
    },
    {
      "cell_type": "code",
      "source": [
        "predictions = pd.DataFrame(nn_default.predict(X_test_scaled))"
      ],
      "metadata": {
        "colab": {
          "base_uri": "https://localhost:8080/"
        },
        "id": "V4gglbzaGIi9",
        "outputId": "c36d2a5c-9dc7-4adf-e417-a14a12a2a6dc"
      },
      "id": "V4gglbzaGIi9",
      "execution_count": 14,
      "outputs": [
        {
          "output_type": "stream",
          "name": "stdout",
          "text": [
            "1046/1046 [==============================] - 2s 2ms/step\n"
          ]
        }
      ]
    },
    {
      "cell_type": "code",
      "source": [
        "predictions = predictions.rename(columns={0: 1, 1: 2, 2: 3, 3: 4, 4: 5})\n",
        "predictions['y_predict'] = predictions.idxmax(axis=1)\n",
        "predictions['y_actual'] = (y_test.idxmax(axis=1)).reset_index(drop=True)\n",
        "predictions[1:10]"
      ],
      "metadata": {
        "colab": {
          "base_uri": "https://localhost:8080/",
          "height": 331
        },
        "id": "QZyzY7QFagvv",
        "outputId": "88a89850-e08c-40cd-97a6-ca99b593d312"
      },
      "id": "QZyzY7QFagvv",
      "execution_count": 15,
      "outputs": [
        {
          "output_type": "execute_result",
          "data": {
            "text/plain": [
              "          1         2         3         4         5  y_predict  y_actual\n",
              "1  0.000096  0.000072  0.030257  0.676589  0.272983          4         4\n",
              "2  0.000190  0.001124  0.097513  0.572497  0.337251          4         5\n",
              "3  0.000503  0.010779  0.111240  0.669360  0.147367          4         1\n",
              "4  0.943163  0.073102  0.010667  0.002240  0.010728          1         1\n",
              "5  0.000293  0.000420  0.016490  0.752442  0.235446          4         4\n",
              "6  0.001074  0.022121  0.460640  0.378533  0.019041          3         3\n",
              "7  0.890610  0.120060  0.017462  0.009019  0.023141          1         1\n",
              "8  0.000236  0.000867  0.008928  0.592259  0.381511          4         5\n",
              "9  0.000884  0.000271  0.068241  0.719579  0.187216          4         4"
            ],
            "text/html": [
              "\n",
              "  <div id=\"df-2eb8b19e-f115-4fc0-839a-743000dca00c\">\n",
              "    <div class=\"colab-df-container\">\n",
              "      <div>\n",
              "<style scoped>\n",
              "    .dataframe tbody tr th:only-of-type {\n",
              "        vertical-align: middle;\n",
              "    }\n",
              "\n",
              "    .dataframe tbody tr th {\n",
              "        vertical-align: top;\n",
              "    }\n",
              "\n",
              "    .dataframe thead th {\n",
              "        text-align: right;\n",
              "    }\n",
              "</style>\n",
              "<table border=\"1\" class=\"dataframe\">\n",
              "  <thead>\n",
              "    <tr style=\"text-align: right;\">\n",
              "      <th></th>\n",
              "      <th>1</th>\n",
              "      <th>2</th>\n",
              "      <th>3</th>\n",
              "      <th>4</th>\n",
              "      <th>5</th>\n",
              "      <th>y_predict</th>\n",
              "      <th>y_actual</th>\n",
              "    </tr>\n",
              "  </thead>\n",
              "  <tbody>\n",
              "    <tr>\n",
              "      <th>1</th>\n",
              "      <td>0.000096</td>\n",
              "      <td>0.000072</td>\n",
              "      <td>0.030257</td>\n",
              "      <td>0.676589</td>\n",
              "      <td>0.272983</td>\n",
              "      <td>4</td>\n",
              "      <td>4</td>\n",
              "    </tr>\n",
              "    <tr>\n",
              "      <th>2</th>\n",
              "      <td>0.000190</td>\n",
              "      <td>0.001124</td>\n",
              "      <td>0.097513</td>\n",
              "      <td>0.572497</td>\n",
              "      <td>0.337251</td>\n",
              "      <td>4</td>\n",
              "      <td>5</td>\n",
              "    </tr>\n",
              "    <tr>\n",
              "      <th>3</th>\n",
              "      <td>0.000503</td>\n",
              "      <td>0.010779</td>\n",
              "      <td>0.111240</td>\n",
              "      <td>0.669360</td>\n",
              "      <td>0.147367</td>\n",
              "      <td>4</td>\n",
              "      <td>1</td>\n",
              "    </tr>\n",
              "    <tr>\n",
              "      <th>4</th>\n",
              "      <td>0.943163</td>\n",
              "      <td>0.073102</td>\n",
              "      <td>0.010667</td>\n",
              "      <td>0.002240</td>\n",
              "      <td>0.010728</td>\n",
              "      <td>1</td>\n",
              "      <td>1</td>\n",
              "    </tr>\n",
              "    <tr>\n",
              "      <th>5</th>\n",
              "      <td>0.000293</td>\n",
              "      <td>0.000420</td>\n",
              "      <td>0.016490</td>\n",
              "      <td>0.752442</td>\n",
              "      <td>0.235446</td>\n",
              "      <td>4</td>\n",
              "      <td>4</td>\n",
              "    </tr>\n",
              "    <tr>\n",
              "      <th>6</th>\n",
              "      <td>0.001074</td>\n",
              "      <td>0.022121</td>\n",
              "      <td>0.460640</td>\n",
              "      <td>0.378533</td>\n",
              "      <td>0.019041</td>\n",
              "      <td>3</td>\n",
              "      <td>3</td>\n",
              "    </tr>\n",
              "    <tr>\n",
              "      <th>7</th>\n",
              "      <td>0.890610</td>\n",
              "      <td>0.120060</td>\n",
              "      <td>0.017462</td>\n",
              "      <td>0.009019</td>\n",
              "      <td>0.023141</td>\n",
              "      <td>1</td>\n",
              "      <td>1</td>\n",
              "    </tr>\n",
              "    <tr>\n",
              "      <th>8</th>\n",
              "      <td>0.000236</td>\n",
              "      <td>0.000867</td>\n",
              "      <td>0.008928</td>\n",
              "      <td>0.592259</td>\n",
              "      <td>0.381511</td>\n",
              "      <td>4</td>\n",
              "      <td>5</td>\n",
              "    </tr>\n",
              "    <tr>\n",
              "      <th>9</th>\n",
              "      <td>0.000884</td>\n",
              "      <td>0.000271</td>\n",
              "      <td>0.068241</td>\n",
              "      <td>0.719579</td>\n",
              "      <td>0.187216</td>\n",
              "      <td>4</td>\n",
              "      <td>4</td>\n",
              "    </tr>\n",
              "  </tbody>\n",
              "</table>\n",
              "</div>\n",
              "      <button class=\"colab-df-convert\" onclick=\"convertToInteractive('df-2eb8b19e-f115-4fc0-839a-743000dca00c')\"\n",
              "              title=\"Convert this dataframe to an interactive table.\"\n",
              "              style=\"display:none;\">\n",
              "        \n",
              "  <svg xmlns=\"http://www.w3.org/2000/svg\" height=\"24px\"viewBox=\"0 0 24 24\"\n",
              "       width=\"24px\">\n",
              "    <path d=\"M0 0h24v24H0V0z\" fill=\"none\"/>\n",
              "    <path d=\"M18.56 5.44l.94 2.06.94-2.06 2.06-.94-2.06-.94-.94-2.06-.94 2.06-2.06.94zm-11 1L8.5 8.5l.94-2.06 2.06-.94-2.06-.94L8.5 2.5l-.94 2.06-2.06.94zm10 10l.94 2.06.94-2.06 2.06-.94-2.06-.94-.94-2.06-.94 2.06-2.06.94z\"/><path d=\"M17.41 7.96l-1.37-1.37c-.4-.4-.92-.59-1.43-.59-.52 0-1.04.2-1.43.59L10.3 9.45l-7.72 7.72c-.78.78-.78 2.05 0 2.83L4 21.41c.39.39.9.59 1.41.59.51 0 1.02-.2 1.41-.59l7.78-7.78 2.81-2.81c.8-.78.8-2.07 0-2.86zM5.41 20L4 18.59l7.72-7.72 1.47 1.35L5.41 20z\"/>\n",
              "  </svg>\n",
              "      </button>\n",
              "      \n",
              "  <style>\n",
              "    .colab-df-container {\n",
              "      display:flex;\n",
              "      flex-wrap:wrap;\n",
              "      gap: 12px;\n",
              "    }\n",
              "\n",
              "    .colab-df-convert {\n",
              "      background-color: #E8F0FE;\n",
              "      border: none;\n",
              "      border-radius: 50%;\n",
              "      cursor: pointer;\n",
              "      display: none;\n",
              "      fill: #1967D2;\n",
              "      height: 32px;\n",
              "      padding: 0 0 0 0;\n",
              "      width: 32px;\n",
              "    }\n",
              "\n",
              "    .colab-df-convert:hover {\n",
              "      background-color: #E2EBFA;\n",
              "      box-shadow: 0px 1px 2px rgba(60, 64, 67, 0.3), 0px 1px 3px 1px rgba(60, 64, 67, 0.15);\n",
              "      fill: #174EA6;\n",
              "    }\n",
              "\n",
              "    [theme=dark] .colab-df-convert {\n",
              "      background-color: #3B4455;\n",
              "      fill: #D2E3FC;\n",
              "    }\n",
              "\n",
              "    [theme=dark] .colab-df-convert:hover {\n",
              "      background-color: #434B5C;\n",
              "      box-shadow: 0px 1px 3px 1px rgba(0, 0, 0, 0.15);\n",
              "      filter: drop-shadow(0px 1px 2px rgba(0, 0, 0, 0.3));\n",
              "      fill: #FFFFFF;\n",
              "    }\n",
              "  </style>\n",
              "\n",
              "      <script>\n",
              "        const buttonEl =\n",
              "          document.querySelector('#df-2eb8b19e-f115-4fc0-839a-743000dca00c button.colab-df-convert');\n",
              "        buttonEl.style.display =\n",
              "          google.colab.kernel.accessAllowed ? 'block' : 'none';\n",
              "\n",
              "        async function convertToInteractive(key) {\n",
              "          const element = document.querySelector('#df-2eb8b19e-f115-4fc0-839a-743000dca00c');\n",
              "          const dataTable =\n",
              "            await google.colab.kernel.invokeFunction('convertToInteractive',\n",
              "                                                     [key], {});\n",
              "          if (!dataTable) return;\n",
              "\n",
              "          const docLinkHtml = 'Like what you see? Visit the ' +\n",
              "            '<a target=\"_blank\" href=https://colab.research.google.com/notebooks/data_table.ipynb>data table notebook</a>'\n",
              "            + ' to learn more about interactive tables.';\n",
              "          element.innerHTML = '';\n",
              "          dataTable['output_type'] = 'display_data';\n",
              "          await google.colab.output.renderOutput(dataTable, element);\n",
              "          const docLink = document.createElement('div');\n",
              "          docLink.innerHTML = docLinkHtml;\n",
              "          element.appendChild(docLink);\n",
              "        }\n",
              "      </script>\n",
              "    </div>\n",
              "  </div>\n",
              "  "
            ]
          },
          "metadata": {},
          "execution_count": 15
        }
      ]
    },
    {
      "cell_type": "code",
      "source": [
        "difference = 0\n",
        "\n",
        "for index, row in predictions.iterrows():\n",
        "    # Get the absolute difference between 'y_predict' and 'y_actual' columns\n",
        "    diff = abs(row['y_predict'] - row['y_actual'])\n",
        "    \n",
        "    # Add the difference to the total\n",
        "    difference += diff\n",
        "\n",
        "difference = difference / len(predictions)\n",
        "print(\"Mean points delta actual value: \", difference)"
      ],
      "metadata": {
        "colab": {
          "base_uri": "https://localhost:8080/"
        },
        "id": "gbbrZIoxIj61",
        "outputId": "790c445d-b4fb-4c78-be07-d09245898fd2"
      },
      "id": "gbbrZIoxIj61",
      "execution_count": 16,
      "outputs": [
        {
          "output_type": "stream",
          "name": "stdout",
          "text": [
            "Mean points delta actual value:  0.3722285304488137\n"
          ]
        }
      ]
    },
    {
      "cell_type": "markdown",
      "source": [
        "Hot Ended - Mean points delta actual value:  0.43129239369973577\n",
        "\n",
        "Half Hot Ended Remove NaN - Mean points delta actual value:  0.36371242455028985\n",
        "\n",
        "Half Hot Ended Mask NaN - Mean points delta actual value:  0.4334150599593593"
      ],
      "metadata": {
        "id": "MII4Eq4PL1GR"
      },
      "id": "MII4Eq4PL1GR"
    }
  ],
  "metadata": {
    "kernelspec": {
      "display_name": "Python 3 (ipykernel)",
      "language": "python",
      "name": "python3"
    },
    "language_info": {
      "codemirror_mode": {
        "name": "ipython",
        "version": 3
      },
      "file_extension": ".py",
      "mimetype": "text/x-python",
      "name": "python",
      "nbconvert_exporter": "python",
      "pygments_lexer": "ipython3",
      "version": "3.10.11"
    },
    "colab": {
      "provenance": []
    }
  },
  "nbformat": 4,
  "nbformat_minor": 5
}