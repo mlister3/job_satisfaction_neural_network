{
  "cells": [
    {
      "cell_type": "markdown",
      "source": [
        "## Dependencies"
      ],
      "metadata": {
        "id": "IaPKEWSbRUae"
      },
      "id": "IaPKEWSbRUae"
    },
    {
      "cell_type": "code",
      "source": [
        "# Install Modules\n",
        "!pip install keras_tuner -q\n",
        "\n",
        "# Load Dependencies\n",
        "import pandas as pd\n",
        "from sklearn.model_selection import train_test_split\n",
        "from sklearn.preprocessing import StandardScaler\n",
        "from sklearn.decomposition import PCA\n",
        "import tensorflow as tf\n",
        "import keras_tuner as kt\n",
        "import warnings\n",
        "import numpy as np\n",
        "from collections import Counter\n",
        "import nltk\n",
        "from nltk.tokenize import word_tokenize\n",
        "from nltk.corpus import stopwords\n",
        "nltk.download('punkt')\n",
        "nltk.download('stopwords')\n",
        "\n",
        "# Disable all warnings\n",
        "warnings.filterwarnings(\"ignore\")"
      ],
      "metadata": {
        "id": "cGTSm3q0pxD1",
        "outputId": "85ab6863-a8ea-4a80-9bc2-33e67d477225",
        "colab": {
          "base_uri": "https://localhost:8080/"
        }
      },
      "id": "cGTSm3q0pxD1",
      "execution_count": 1,
      "outputs": [
        {
          "output_type": "stream",
          "name": "stdout",
          "text": [
            "\u001b[?25l     \u001b[90m━━━━━━━━━━━━━━━━━━━━━━━━━━━━━━━━━━━━━━━━\u001b[0m \u001b[32m0.0/176.1 kB\u001b[0m \u001b[31m?\u001b[0m eta \u001b[36m-:--:--\u001b[0m\r\u001b[2K     \u001b[91m━━━━━━━━━━━━━━━━━━━━━━━━━━━━━━━━━━━━━━\u001b[0m\u001b[91m╸\u001b[0m \u001b[32m174.1/176.1 kB\u001b[0m \u001b[31m6.1 MB/s\u001b[0m eta \u001b[36m0:00:01\u001b[0m\r\u001b[2K     \u001b[90m━━━━━━━━━━━━━━━━━━━━━━━━━━━━━━━━━━━━━━━\u001b[0m \u001b[32m176.1/176.1 kB\u001b[0m \u001b[31m4.5 MB/s\u001b[0m eta \u001b[36m0:00:00\u001b[0m\n",
            "\u001b[?25h"
          ]
        },
        {
          "output_type": "stream",
          "name": "stderr",
          "text": [
            "[nltk_data] Downloading package punkt to /root/nltk_data...\n",
            "[nltk_data]   Unzipping tokenizers/punkt.zip.\n",
            "[nltk_data] Downloading package stopwords to /root/nltk_data...\n",
            "[nltk_data]   Unzipping corpora/stopwords.zip.\n"
          ]
        }
      ]
    },
    {
      "cell_type": "markdown",
      "source": [
        "## Load Data"
      ],
      "metadata": {
        "id": "EBWujbVtpiCk"
      },
      "id": "EBWujbVtpiCk"
    },
    {
      "cell_type": "code",
      "execution_count": 2,
      "id": "7d72e12a",
      "metadata": {
        "id": "7d72e12a"
      },
      "outputs": [],
      "source": [
        "def load_join(select, loaded):\n",
        "    selected_df = pd.read_csv(\"https://www.dropbox.com/s/\" + select + \"?dl=1\", index_col=\"review_index\")\n",
        "    if loaded is not None:\n",
        "        selected_df = pd.merge(loaded, selected_df, on='review_index')\n",
        "    return selected_df"
      ]
    },
    {
      "cell_type": "code",
      "execution_count": 3,
      "id": "3db93c45",
      "metadata": {
        "id": "3db93c45"
      },
      "outputs": [],
      "source": [
        "load_metadata = True\n",
        "load_ratings = True\n",
        "load_opinions = True\n",
        "load_descriptions = True\n",
        "load_world_happiness_report = False\n",
        "\n",
        "index_df = None\n",
        "if load_metadata == True:\n",
        "    load_index = \"goqyfyeu2qvpsmo/metadata_df.csv\"\n",
        "    index_df = load_join(load_index, index_df)\n",
        "if load_ratings == True:\n",
        "    load_index = \"9j2j86xwqrmrljx/ratings_df.csv\"\n",
        "    index_df = load_join(load_index, index_df)\n",
        "if load_opinions == True:\n",
        "    load_index = \"q8v9f6rbb4z12df/opinion_df.csv\"\n",
        "    index_df = load_join(load_index, index_df)\n",
        "if load_descriptions == True:\n",
        "    load_index = \"hnp8sebleh6dzgt/descriptions_df.csv\"\n",
        "    index_df = load_join(load_index, index_df)\n",
        "    \n",
        "if load_world_happiness_report == True:\n",
        "    WHR_df = pd.read_csv(\"https://www.dropbox.com/s/jyr4e7fleevrb1s/WHR2023.csv?dl=1\")"
      ]
    },
    {
      "cell_type": "code",
      "execution_count": 62,
      "id": "ef1fe8a6",
      "metadata": {
        "id": "ef1fe8a6"
      },
      "outputs": [],
      "source": [
        "user_input_df = index_df.drop(['firm', 'date_review', 'job_title', 'location', 'current',\t'work_life_balance',\t'culture_values',\t'diversity_inclusion',\n",
        "                               'career_opp',\t'comp_benefits',\t'senior_mgmt',\t'recommend',\t'ceo_approv',\t'outlook'], axis=1).copy()\n",
        "\n",
        "nn_working_df = index_df.drop(['date_review', 'job_title', 'location', 'headline', 'pros', 'cons'], axis=1).copy()\n",
        "\n",
        "nn_op_working_df = index_df.drop(['date_review', 'job_title', 'location'], axis=1).copy()"
      ]
    },
    {
      "cell_type": "markdown",
      "source": [
        "## Cleaning Data Attempt - Half Hot-Ended Remove NaN"
      ],
      "metadata": {
        "id": "crZbmswLpKK1"
      },
      "id": "crZbmswLpKK1"
    },
    {
      "cell_type": "code",
      "source": [
        "working_half_hotend_df = nn_working_df.copy()\n",
        "columns_to_convert = ['overall_rating', 'work_life_balance', 'culture_values',\n",
        "                      'diversity_inclusion', 'career_opp', 'comp_benefits',\n",
        "                      'senior_mgmt']\n",
        "\n",
        "working_half_hotend_df[columns_to_convert] = working_half_hotend_df[columns_to_convert].astype(float)"
      ],
      "metadata": {
        "id": "bTo1RtfapS4X"
      },
      "id": "bTo1RtfapS4X",
      "execution_count": 5,
      "outputs": []
    },
    {
      "cell_type": "code",
      "source": [
        "cutoff_value = 3000\n",
        "firms_to_replace = working_half_hotend_df['firm'].value_counts()[working_half_hotend_df['firm'].value_counts() < cutoff_value].index.tolist()\n",
        "\n",
        "# Replace in dataframe\n",
        "for firm in firms_to_replace:\n",
        "    working_half_hotend_df['firm'] = working_half_hotend_df['firm'].replace(firm,\"Other\")\n",
        "    \n",
        "# Check to make sure binning was successful\n",
        "print(working_half_hotend_df['firm'].value_counts())\n",
        "print(\"These ar how many samples that got 'firm' changed to Other: \", len(working_half_hotend_df[working_half_hotend_df['firm'] == \"Other\"]))\n",
        "print(\"Number of firms removed: \", len(firms_to_replace))\n",
        "print(\"Remaining number of firms: \", len(working_half_hotend_df['firm'].value_counts()))"
      ],
      "metadata": {
        "id": "PlbLgahEoeV3",
        "outputId": "19d67e9e-773b-4943-a274-93467e78f156",
        "colab": {
          "base_uri": "https://localhost:8080/"
        }
      },
      "id": "PlbLgahEoeV3",
      "execution_count": 6,
      "outputs": [
        {
          "output_type": "stream",
          "name": "stdout",
          "text": [
            "Other                      178782\n",
            "IBM                         60436\n",
            "McDonald-s                  49450\n",
            "Deloitte                    46995\n",
            "EY                          34050\n",
            "PwC                         33227\n",
            "Oracle                      31941\n",
            "Microsoft                   26675\n",
            "J-P-Morgan                  25814\n",
            "KPMG                        24815\n",
            "Apple                       20797\n",
            "Citi                        18726\n",
            "Google                      15995\n",
            "SAP                         14344\n",
            "HSBC-Holdings               13893\n",
            "Tesco                       12149\n",
            "Marriott-International      10409\n",
            "Barclays                     9710\n",
            "Thomson-Reuters              9553\n",
            "American-Express             9349\n",
            "Morgan-Stanley               9093\n",
            "Goldman-Sachs                8808\n",
            "Vodafone                     8321\n",
            "Salesforce                   8234\n",
            "Pizza-Hut                    7592\n",
            "BNY-Mellon                   6630\n",
            "Deutsche-Bank                6388\n",
            "Hilton                       6155\n",
            "J-Sainsbury                  5925\n",
            "GlaxoSmithKline              5646\n",
            "Unilever                     5632\n",
            "BT                           5337\n",
            "CBRE                         5276\n",
            "McKinsey-and-Company         5106\n",
            "NHS                          4977\n",
            "Pearson                      4879\n",
            "ASDA                         4760\n",
            "Primark                      4680\n",
            "Marks-and-Spencer            4557\n",
            "Bloomberg-L-P                4394\n",
            "Booking-com                  4393\n",
            "University-of-Michigan       4185\n",
            "Hyatt                        4041\n",
            "Aon                          3975\n",
            "Capita                       3945\n",
            "Willis-Towers-Watson         3816\n",
            "BNP-Paribas                  3757\n",
            "LinkedIn                     3635\n",
            "Bain-and-Company             3623\n",
            "Boots                        3618\n",
            "Waitrose                     3616\n",
            "Mercer                       3496\n",
            "Boston-Consulting-Group      3466\n",
            "AstraZeneca                  3443\n",
            "Sodexo                       3411\n",
            "next                         3324\n",
            "Grant-Thornton               3244\n",
            "Hays                         3045\n",
            "Lloyds-Banking-Group         3033\n",
            "Name: firm, dtype: int64\n",
            "These ar how many samples that got 'firm' changed to Other:  178782\n",
            "Number of firms removed:  370\n",
            "Remaining number of firms:  59\n"
          ]
        }
      ]
    },
    {
      "cell_type": "code",
      "source": [
        "# Cutoff value to make a list of values in the 'current' column to put into \"other\" catagory\n",
        "cutoff_value = 10\n",
        "current_to_replace = working_half_hotend_df['current'].value_counts()[working_half_hotend_df['current'].value_counts() < cutoff_value].index.tolist()\n",
        "\n",
        "# Replace in dataframe\n",
        "for review in current_to_replace:\n",
        "    working_half_hotend_df['current'] = working_half_hotend_df['current'].replace(review,\"Other\")\n",
        "\n",
        "# Check to make sure binning was successful\n",
        "working_half_hotend_df['current'].value_counts()"
      ],
      "metadata": {
        "colab": {
          "base_uri": "https://localhost:8080/"
        },
        "id": "KGiJaOscrV5U",
        "outputId": "848b20f6-5344-453c-ef81-b0c100b2fd1a"
      },
      "id": "KGiJaOscrV5U",
      "execution_count": 7,
      "outputs": [
        {
          "output_type": "execute_result",
          "data": {
            "text/plain": [
              "Current Employee                        209599\n",
              "Former Employee                         146133\n",
              "Current Employee, more than 1 year       82749\n",
              "Current Employee, more than 3 years      66471\n",
              "Former Employee, more than 1 year        65687\n",
              "Current Employee, less than 1 year       49603\n",
              "Former Employee, more than 3 years       43614\n",
              "Former Employee, less than 1 year        41874\n",
              "Current Employee, more than 5 years      40155\n",
              "Current Employee, more than 10 years     25029\n",
              "Former Employee, more than 5 years       23017\n",
              "Current Employee, more than 8 years      18506\n",
              "Former Employee, more than 10 years      15411\n",
              "Former Employee, more than 8 years       10686\n",
              "Other                                       32\n",
              "Name: current, dtype: int64"
            ]
          },
          "metadata": {},
          "execution_count": 7
        }
      ]
    },
    {
      "cell_type": "code",
      "source": [
        "print(\"Columns before processing: \", len(working_half_hotend_df))\n",
        "working_half_hotend_df.dropna(subset=columns_to_convert, inplace=True)\n",
        "print(\"Column after dropping NaN values: \", len(working_half_hotend_df))\n",
        "working_half_hotend_df.nunique()"
      ],
      "metadata": {
        "colab": {
          "base_uri": "https://localhost:8080/"
        },
        "id": "ZkgM6zrdtsmZ",
        "outputId": "efd03d3e-1199-4acc-9aa3-7bc9bdbd2a54"
      },
      "id": "ZkgM6zrdtsmZ",
      "execution_count": 8,
      "outputs": [
        {
          "output_type": "stream",
          "name": "stdout",
          "text": [
            "Columns before processing:  838566\n",
            "Column after dropping NaN values:  133863\n"
          ]
        },
        {
          "output_type": "execute_result",
          "data": {
            "text/plain": [
              "firm                   59\n",
              "current                15\n",
              "overall_rating          5\n",
              "work_life_balance       5\n",
              "culture_values          5\n",
              "diversity_inclusion     5\n",
              "career_opp              5\n",
              "comp_benefits           5\n",
              "senior_mgmt             5\n",
              "recommend               3\n",
              "ceo_approv              4\n",
              "outlook                 4\n",
              "dtype: int64"
            ]
          },
          "metadata": {},
          "execution_count": 8
        }
      ]
    },
    {
      "cell_type": "code",
      "source": [
        "X = pd.get_dummies(working_half_hotend_df.drop('overall_rating', axis = 1)).drop(['recommend_o', 'ceo_approv_o', 'outlook_o'], axis = 1)\n",
        "y = pd.get_dummies(working_half_hotend_df['overall_rating'].astype(int))\n",
        "\n",
        "X.columns"
      ],
      "metadata": {
        "colab": {
          "base_uri": "https://localhost:8080/"
        },
        "id": "GRs0ZXHb4U4e",
        "outputId": "939efaed-cccc-4114-9185-c543eeb94b39"
      },
      "id": "GRs0ZXHb4U4e",
      "execution_count": 9,
      "outputs": [
        {
          "output_type": "execute_result",
          "data": {
            "text/plain": [
              "Index(['work_life_balance', 'culture_values', 'diversity_inclusion',\n",
              "       'career_opp', 'comp_benefits', 'senior_mgmt', 'firm_ASDA',\n",
              "       'firm_American-Express', 'firm_Aon', 'firm_Apple', 'firm_AstraZeneca',\n",
              "       'firm_BNP-Paribas', 'firm_BNY-Mellon', 'firm_BT',\n",
              "       'firm_Bain-and-Company', 'firm_Barclays', 'firm_Bloomberg-L-P',\n",
              "       'firm_Booking-com', 'firm_Boots', 'firm_Boston-Consulting-Group',\n",
              "       'firm_CBRE', 'firm_Capita', 'firm_Citi', 'firm_Deloitte',\n",
              "       'firm_Deutsche-Bank', 'firm_EY', 'firm_GlaxoSmithKline',\n",
              "       'firm_Goldman-Sachs', 'firm_Google', 'firm_Grant-Thornton',\n",
              "       'firm_HSBC-Holdings', 'firm_Hays', 'firm_Hilton', 'firm_Hyatt',\n",
              "       'firm_IBM', 'firm_J-P-Morgan', 'firm_J-Sainsbury', 'firm_KPMG',\n",
              "       'firm_LinkedIn', 'firm_Lloyds-Banking-Group', 'firm_Marks-and-Spencer',\n",
              "       'firm_Marriott-International', 'firm_McDonald-s',\n",
              "       'firm_McKinsey-and-Company', 'firm_Mercer', 'firm_Microsoft',\n",
              "       'firm_Morgan-Stanley', 'firm_NHS', 'firm_Oracle', 'firm_Other',\n",
              "       'firm_Pearson', 'firm_Pizza-Hut', 'firm_Primark', 'firm_PwC',\n",
              "       'firm_SAP', 'firm_Salesforce', 'firm_Sodexo', 'firm_Tesco',\n",
              "       'firm_Thomson-Reuters', 'firm_Unilever', 'firm_University-of-Michigan',\n",
              "       'firm_Vodafone', 'firm_Waitrose', 'firm_Willis-Towers-Watson',\n",
              "       'firm_next', 'current_Current Employee',\n",
              "       'current_Current Employee, less than 1 year',\n",
              "       'current_Current Employee, more than 1 year',\n",
              "       'current_Current Employee, more than 10 years',\n",
              "       'current_Current Employee, more than 3 years',\n",
              "       'current_Current Employee, more than 5 years',\n",
              "       'current_Current Employee, more than 8 years',\n",
              "       'current_Former Employee', 'current_Former Employee, less than 1 year',\n",
              "       'current_Former Employee, more than 1 year',\n",
              "       'current_Former Employee, more than 10 years',\n",
              "       'current_Former Employee, more than 3 years',\n",
              "       'current_Former Employee, more than 5 years',\n",
              "       'current_Former Employee, more than 8 years', 'current_Other',\n",
              "       'recommend_v', 'recommend_x', 'ceo_approv_r', 'ceo_approv_v',\n",
              "       'ceo_approv_x', 'outlook_r', 'outlook_v', 'outlook_x'],\n",
              "      dtype='object')"
            ]
          },
          "metadata": {},
          "execution_count": 9
        }
      ]
    },
    {
      "cell_type": "code",
      "source": [
        "# Split the preprocessed data into a training and testing dataset\n",
        "X_train, X_test, y_train, y_test = train_test_split(X, y, test_size=0.25, random_state=1)\n",
        "\n",
        "# Create a StandardScaler instances\n",
        "scaler = StandardScaler()\n",
        "\n",
        "# Fit the StandardScaler\n",
        "X_scaler = scaler.fit(X_train)\n",
        "\n",
        "# Scale the data\n",
        "X_train_scaled = X_scaler.transform(X_train)\n",
        "X_test_scaled = X_scaler.transform(X_test)\n",
        "\n",
        "X_train_scaled.shape"
      ],
      "metadata": {
        "colab": {
          "base_uri": "https://localhost:8080/"
        },
        "id": "E7jtdKzF4iWW",
        "outputId": "85404b02-1992-40a4-f97d-be28cd242af5"
      },
      "id": "E7jtdKzF4iWW",
      "execution_count": 10,
      "outputs": [
        {
          "output_type": "execute_result",
          "data": {
            "text/plain": [
              "(100397, 88)"
            ]
          },
          "metadata": {},
          "execution_count": 10
        }
      ]
    },
    {
      "cell_type": "markdown",
      "source": [
        "## NN Attempt - Compile, Train, & Evaluate Default Model"
      ],
      "metadata": {
        "id": "CGVIpLvl4KGZ"
      },
      "id": "CGVIpLvl4KGZ"
    },
    {
      "cell_type": "code",
      "source": [
        "# Define the model\n",
        "nn_default = tf.keras.models.Sequential()\n",
        "\n",
        "# Add the masking layer\n",
        "#nn_default.add(tf.keras.layers.Masking(mask_value=10, input_shape=(X_train_scaled.shape[1],)))\n",
        "\n",
        "nn_default.add(tf.keras.layers.Dense(units=100, activation='relu', input_dim=X_train_scaled.shape[1]))\n",
        "\n",
        "nn_default.add(tf.keras.layers.Dense(units=80, activation='relu'))\n",
        "\n",
        "# Add the output layer\n",
        "nn_default.add(tf.keras.layers.Dense(units=5, activation='sigmoid'))\n",
        "\n",
        "# Check the structure of the model\n",
        "nn_default.summary()"
      ],
      "metadata": {
        "id": "YAFrnD0r4RxQ",
        "outputId": "23813a0f-5d2e-425e-e3d3-38b73ac2899f",
        "colab": {
          "base_uri": "https://localhost:8080/"
        }
      },
      "id": "YAFrnD0r4RxQ",
      "execution_count": 11,
      "outputs": [
        {
          "output_type": "stream",
          "name": "stdout",
          "text": [
            "Model: \"sequential\"\n",
            "_________________________________________________________________\n",
            " Layer (type)                Output Shape              Param #   \n",
            "=================================================================\n",
            " dense (Dense)               (None, 100)               8900      \n",
            "                                                                 \n",
            " dense_1 (Dense)             (None, 80)                8080      \n",
            "                                                                 \n",
            " dense_2 (Dense)             (None, 5)                 405       \n",
            "                                                                 \n",
            "=================================================================\n",
            "Total params: 17,385\n",
            "Trainable params: 17,385\n",
            "Non-trainable params: 0\n",
            "_________________________________________________________________\n"
          ]
        }
      ]
    },
    {
      "cell_type": "code",
      "source": [
        "# Compile the model\n",
        "nn_default.compile(loss='mse', optimizer='adam', metrics=['accuracy'])\n",
        "\n",
        "# Train the model\n",
        "history = nn_default.fit(X_train_scaled, y_train, epochs=20, verbose=1, batch_size=64)"
      ],
      "metadata": {
        "id": "4pCl9zGr4blK",
        "outputId": "6b9cd1a7-2632-4d94-984f-3f83c869ee4e",
        "colab": {
          "base_uri": "https://localhost:8080/"
        }
      },
      "id": "4pCl9zGr4blK",
      "execution_count": 12,
      "outputs": [
        {
          "output_type": "stream",
          "name": "stdout",
          "text": [
            "Epoch 1/20\n",
            "1569/1569 [==============================] - 6s 3ms/step - loss: 0.0962 - accuracy: 0.6383\n",
            "Epoch 2/20\n",
            "1569/1569 [==============================] - 3s 2ms/step - loss: 0.0900 - accuracy: 0.6634\n",
            "Epoch 3/20\n",
            "1569/1569 [==============================] - 4s 2ms/step - loss: 0.0891 - accuracy: 0.6682\n",
            "Epoch 4/20\n",
            "1569/1569 [==============================] - 3s 2ms/step - loss: 0.0885 - accuracy: 0.6705\n",
            "Epoch 5/20\n",
            "1569/1569 [==============================] - 4s 3ms/step - loss: 0.0879 - accuracy: 0.6733\n",
            "Epoch 6/20\n",
            "1569/1569 [==============================] - 4s 3ms/step - loss: 0.0874 - accuracy: 0.6763\n",
            "Epoch 7/20\n",
            "1569/1569 [==============================] - 4s 2ms/step - loss: 0.0868 - accuracy: 0.6777\n",
            "Epoch 8/20\n",
            "1569/1569 [==============================] - 2s 2ms/step - loss: 0.0864 - accuracy: 0.6803\n",
            "Epoch 9/20\n",
            "1569/1569 [==============================] - 2s 1ms/step - loss: 0.0860 - accuracy: 0.6828\n",
            "Epoch 10/20\n",
            "1569/1569 [==============================] - 2s 1ms/step - loss: 0.0856 - accuracy: 0.6839\n",
            "Epoch 11/20\n",
            "1569/1569 [==============================] - 2s 1ms/step - loss: 0.0852 - accuracy: 0.6862\n",
            "Epoch 12/20\n",
            "1569/1569 [==============================] - 2s 1ms/step - loss: 0.0848 - accuracy: 0.6882\n",
            "Epoch 13/20\n",
            "1569/1569 [==============================] - 2s 1ms/step - loss: 0.0844 - accuracy: 0.6903\n",
            "Epoch 14/20\n",
            "1569/1569 [==============================] - 2s 2ms/step - loss: 0.0840 - accuracy: 0.6915\n",
            "Epoch 15/20\n",
            "1569/1569 [==============================] - 2s 1ms/step - loss: 0.0837 - accuracy: 0.6945\n",
            "Epoch 16/20\n",
            "1569/1569 [==============================] - 2s 1ms/step - loss: 0.0833 - accuracy: 0.6961\n",
            "Epoch 17/20\n",
            "1569/1569 [==============================] - 2s 1ms/step - loss: 0.0830 - accuracy: 0.6972\n",
            "Epoch 18/20\n",
            "1569/1569 [==============================] - 2s 1ms/step - loss: 0.0827 - accuracy: 0.6980\n",
            "Epoch 19/20\n",
            "1569/1569 [==============================] - 2s 1ms/step - loss: 0.0824 - accuracy: 0.7001\n",
            "Epoch 20/20\n",
            "1569/1569 [==============================] - 2s 1ms/step - loss: 0.0820 - accuracy: 0.7017\n"
          ]
        }
      ]
    },
    {
      "cell_type": "code",
      "source": [
        "# Evaluate the model using the test data\n",
        "model_loss, model_accuracy = nn_default.evaluate(X_test_scaled,y_test,verbose=1, batch_size=64)\n",
        "print(f\"Loss: {model_loss}, Accuracy: {model_accuracy}\")"
      ],
      "metadata": {
        "colab": {
          "base_uri": "https://localhost:8080/"
        },
        "id": "Xq7EK7m1CNB8",
        "outputId": "3b13d98a-9f0b-4128-bf4c-8ced137cbcae"
      },
      "id": "Xq7EK7m1CNB8",
      "execution_count": 13,
      "outputs": [
        {
          "output_type": "stream",
          "name": "stdout",
          "text": [
            "523/523 [==============================] - 1s 967us/step - loss: 0.0918 - accuracy: 0.6588\n",
            "Loss: 0.09178947657346725, Accuracy: 0.6587880253791809\n"
          ]
        }
      ]
    },
    {
      "cell_type": "code",
      "source": [
        "predictions = pd.DataFrame(nn_default.predict(X_test_scaled))"
      ],
      "metadata": {
        "colab": {
          "base_uri": "https://localhost:8080/"
        },
        "id": "V4gglbzaGIi9",
        "outputId": "c24c5335-3d13-42a5-f90f-d918e5556b45"
      },
      "id": "V4gglbzaGIi9",
      "execution_count": 14,
      "outputs": [
        {
          "output_type": "stream",
          "name": "stdout",
          "text": [
            "1046/1046 [==============================] - 1s 832us/step\n"
          ]
        }
      ]
    },
    {
      "cell_type": "code",
      "source": [
        "predictions = predictions.rename(columns={0: 1, 1: 2, 2: 3, 3: 4, 4: 5})\n",
        "predictions['y_predict'] = predictions.idxmax(axis=1)\n",
        "predictions['y_actual'] = (y_test.idxmax(axis=1)).reset_index(drop=True)\n",
        "predictions[1:10]"
      ],
      "metadata": {
        "colab": {
          "base_uri": "https://localhost:8080/",
          "height": 331
        },
        "id": "QZyzY7QFagvv",
        "outputId": "8b21651e-2abb-4a06-f19a-36820b101c1f"
      },
      "id": "QZyzY7QFagvv",
      "execution_count": 15,
      "outputs": [
        {
          "output_type": "execute_result",
          "data": {
            "text/plain": [
              "          1             2         3         4         5  y_predict  y_actual\n",
              "1  0.000035  3.733816e-05  0.038713  0.694281  0.232375          4         4\n",
              "2  0.000581  2.193054e-05  0.120306  0.547364  0.360868          4         5\n",
              "3  0.006839  1.425769e-02  0.238363  0.577762  0.060083          4         1\n",
              "4  0.717077  2.137113e-01  0.026523  0.007406  0.006450          1         1\n",
              "5  0.000041  1.825487e-06  0.022788  0.486622  0.452654          4         4\n",
              "6  0.013532  5.443876e-02  0.684440  0.211661  0.018587          3         3\n",
              "7  0.829272  6.171545e-02  0.038280  0.013916  0.018151          1         1\n",
              "8  0.000009  2.846333e-08  0.018283  0.626462  0.283581          4         5\n",
              "9  0.000115  1.105093e-04  0.064042  0.762625  0.143783          4         4"
            ],
            "text/html": [
              "\n",
              "  <div id=\"df-f13ef78e-cfa7-456e-b38b-34695b655d1f\">\n",
              "    <div class=\"colab-df-container\">\n",
              "      <div>\n",
              "<style scoped>\n",
              "    .dataframe tbody tr th:only-of-type {\n",
              "        vertical-align: middle;\n",
              "    }\n",
              "\n",
              "    .dataframe tbody tr th {\n",
              "        vertical-align: top;\n",
              "    }\n",
              "\n",
              "    .dataframe thead th {\n",
              "        text-align: right;\n",
              "    }\n",
              "</style>\n",
              "<table border=\"1\" class=\"dataframe\">\n",
              "  <thead>\n",
              "    <tr style=\"text-align: right;\">\n",
              "      <th></th>\n",
              "      <th>1</th>\n",
              "      <th>2</th>\n",
              "      <th>3</th>\n",
              "      <th>4</th>\n",
              "      <th>5</th>\n",
              "      <th>y_predict</th>\n",
              "      <th>y_actual</th>\n",
              "    </tr>\n",
              "  </thead>\n",
              "  <tbody>\n",
              "    <tr>\n",
              "      <th>1</th>\n",
              "      <td>0.000035</td>\n",
              "      <td>3.733816e-05</td>\n",
              "      <td>0.038713</td>\n",
              "      <td>0.694281</td>\n",
              "      <td>0.232375</td>\n",
              "      <td>4</td>\n",
              "      <td>4</td>\n",
              "    </tr>\n",
              "    <tr>\n",
              "      <th>2</th>\n",
              "      <td>0.000581</td>\n",
              "      <td>2.193054e-05</td>\n",
              "      <td>0.120306</td>\n",
              "      <td>0.547364</td>\n",
              "      <td>0.360868</td>\n",
              "      <td>4</td>\n",
              "      <td>5</td>\n",
              "    </tr>\n",
              "    <tr>\n",
              "      <th>3</th>\n",
              "      <td>0.006839</td>\n",
              "      <td>1.425769e-02</td>\n",
              "      <td>0.238363</td>\n",
              "      <td>0.577762</td>\n",
              "      <td>0.060083</td>\n",
              "      <td>4</td>\n",
              "      <td>1</td>\n",
              "    </tr>\n",
              "    <tr>\n",
              "      <th>4</th>\n",
              "      <td>0.717077</td>\n",
              "      <td>2.137113e-01</td>\n",
              "      <td>0.026523</td>\n",
              "      <td>0.007406</td>\n",
              "      <td>0.006450</td>\n",
              "      <td>1</td>\n",
              "      <td>1</td>\n",
              "    </tr>\n",
              "    <tr>\n",
              "      <th>5</th>\n",
              "      <td>0.000041</td>\n",
              "      <td>1.825487e-06</td>\n",
              "      <td>0.022788</td>\n",
              "      <td>0.486622</td>\n",
              "      <td>0.452654</td>\n",
              "      <td>4</td>\n",
              "      <td>4</td>\n",
              "    </tr>\n",
              "    <tr>\n",
              "      <th>6</th>\n",
              "      <td>0.013532</td>\n",
              "      <td>5.443876e-02</td>\n",
              "      <td>0.684440</td>\n",
              "      <td>0.211661</td>\n",
              "      <td>0.018587</td>\n",
              "      <td>3</td>\n",
              "      <td>3</td>\n",
              "    </tr>\n",
              "    <tr>\n",
              "      <th>7</th>\n",
              "      <td>0.829272</td>\n",
              "      <td>6.171545e-02</td>\n",
              "      <td>0.038280</td>\n",
              "      <td>0.013916</td>\n",
              "      <td>0.018151</td>\n",
              "      <td>1</td>\n",
              "      <td>1</td>\n",
              "    </tr>\n",
              "    <tr>\n",
              "      <th>8</th>\n",
              "      <td>0.000009</td>\n",
              "      <td>2.846333e-08</td>\n",
              "      <td>0.018283</td>\n",
              "      <td>0.626462</td>\n",
              "      <td>0.283581</td>\n",
              "      <td>4</td>\n",
              "      <td>5</td>\n",
              "    </tr>\n",
              "    <tr>\n",
              "      <th>9</th>\n",
              "      <td>0.000115</td>\n",
              "      <td>1.105093e-04</td>\n",
              "      <td>0.064042</td>\n",
              "      <td>0.762625</td>\n",
              "      <td>0.143783</td>\n",
              "      <td>4</td>\n",
              "      <td>4</td>\n",
              "    </tr>\n",
              "  </tbody>\n",
              "</table>\n",
              "</div>\n",
              "      <button class=\"colab-df-convert\" onclick=\"convertToInteractive('df-f13ef78e-cfa7-456e-b38b-34695b655d1f')\"\n",
              "              title=\"Convert this dataframe to an interactive table.\"\n",
              "              style=\"display:none;\">\n",
              "        \n",
              "  <svg xmlns=\"http://www.w3.org/2000/svg\" height=\"24px\"viewBox=\"0 0 24 24\"\n",
              "       width=\"24px\">\n",
              "    <path d=\"M0 0h24v24H0V0z\" fill=\"none\"/>\n",
              "    <path d=\"M18.56 5.44l.94 2.06.94-2.06 2.06-.94-2.06-.94-.94-2.06-.94 2.06-2.06.94zm-11 1L8.5 8.5l.94-2.06 2.06-.94-2.06-.94L8.5 2.5l-.94 2.06-2.06.94zm10 10l.94 2.06.94-2.06 2.06-.94-2.06-.94-.94-2.06-.94 2.06-2.06.94z\"/><path d=\"M17.41 7.96l-1.37-1.37c-.4-.4-.92-.59-1.43-.59-.52 0-1.04.2-1.43.59L10.3 9.45l-7.72 7.72c-.78.78-.78 2.05 0 2.83L4 21.41c.39.39.9.59 1.41.59.51 0 1.02-.2 1.41-.59l7.78-7.78 2.81-2.81c.8-.78.8-2.07 0-2.86zM5.41 20L4 18.59l7.72-7.72 1.47 1.35L5.41 20z\"/>\n",
              "  </svg>\n",
              "      </button>\n",
              "      \n",
              "  <style>\n",
              "    .colab-df-container {\n",
              "      display:flex;\n",
              "      flex-wrap:wrap;\n",
              "      gap: 12px;\n",
              "    }\n",
              "\n",
              "    .colab-df-convert {\n",
              "      background-color: #E8F0FE;\n",
              "      border: none;\n",
              "      border-radius: 50%;\n",
              "      cursor: pointer;\n",
              "      display: none;\n",
              "      fill: #1967D2;\n",
              "      height: 32px;\n",
              "      padding: 0 0 0 0;\n",
              "      width: 32px;\n",
              "    }\n",
              "\n",
              "    .colab-df-convert:hover {\n",
              "      background-color: #E2EBFA;\n",
              "      box-shadow: 0px 1px 2px rgba(60, 64, 67, 0.3), 0px 1px 3px 1px rgba(60, 64, 67, 0.15);\n",
              "      fill: #174EA6;\n",
              "    }\n",
              "\n",
              "    [theme=dark] .colab-df-convert {\n",
              "      background-color: #3B4455;\n",
              "      fill: #D2E3FC;\n",
              "    }\n",
              "\n",
              "    [theme=dark] .colab-df-convert:hover {\n",
              "      background-color: #434B5C;\n",
              "      box-shadow: 0px 1px 3px 1px rgba(0, 0, 0, 0.15);\n",
              "      filter: drop-shadow(0px 1px 2px rgba(0, 0, 0, 0.3));\n",
              "      fill: #FFFFFF;\n",
              "    }\n",
              "  </style>\n",
              "\n",
              "      <script>\n",
              "        const buttonEl =\n",
              "          document.querySelector('#df-f13ef78e-cfa7-456e-b38b-34695b655d1f button.colab-df-convert');\n",
              "        buttonEl.style.display =\n",
              "          google.colab.kernel.accessAllowed ? 'block' : 'none';\n",
              "\n",
              "        async function convertToInteractive(key) {\n",
              "          const element = document.querySelector('#df-f13ef78e-cfa7-456e-b38b-34695b655d1f');\n",
              "          const dataTable =\n",
              "            await google.colab.kernel.invokeFunction('convertToInteractive',\n",
              "                                                     [key], {});\n",
              "          if (!dataTable) return;\n",
              "\n",
              "          const docLinkHtml = 'Like what you see? Visit the ' +\n",
              "            '<a target=\"_blank\" href=https://colab.research.google.com/notebooks/data_table.ipynb>data table notebook</a>'\n",
              "            + ' to learn more about interactive tables.';\n",
              "          element.innerHTML = '';\n",
              "          dataTable['output_type'] = 'display_data';\n",
              "          await google.colab.output.renderOutput(dataTable, element);\n",
              "          const docLink = document.createElement('div');\n",
              "          docLink.innerHTML = docLinkHtml;\n",
              "          element.appendChild(docLink);\n",
              "        }\n",
              "      </script>\n",
              "    </div>\n",
              "  </div>\n",
              "  "
            ]
          },
          "metadata": {},
          "execution_count": 15
        }
      ]
    },
    {
      "cell_type": "code",
      "source": [
        "difference = 0\n",
        "\n",
        "for index, row in predictions.iterrows():\n",
        "    # Get the absolute difference between 'y_predict' and 'y_actual' columns\n",
        "    diff = abs(row['y_predict'] - row['y_actual'])\n",
        "    \n",
        "    # Add the difference to the total\n",
        "    difference += diff\n",
        "\n",
        "difference = difference / len(predictions)\n",
        "print(\"Mean points delta actual value: \", difference)"
      ],
      "metadata": {
        "colab": {
          "base_uri": "https://localhost:8080/"
        },
        "id": "gbbrZIoxIj61",
        "outputId": "263d5152-6d64-44ff-dc3d-d4c32aa896fd"
      },
      "id": "gbbrZIoxIj61",
      "execution_count": 16,
      "outputs": [
        {
          "output_type": "stream",
          "name": "stdout",
          "text": [
            "Mean points delta actual value:  0.375186756708301\n"
          ]
        }
      ]
    },
    {
      "cell_type": "markdown",
      "source": [
        "Hot Ended - Mean points delta actual value:  0.43129239369973577\n",
        "\n",
        "Half Hot Ended Remove NaN - Mean points delta actual value:  0.36371242455028985\n",
        "\n",
        "Half Hot Ended Mask NaN - Mean points delta actual value:  0.4334150599593593"
      ],
      "metadata": {
        "id": "MII4Eq4PL1GR"
      },
      "id": "MII4Eq4PL1GR"
    },
    {
      "cell_type": "markdown",
      "source": [
        "## Scaping Key Words from User Inputs"
      ],
      "metadata": {
        "id": "nIHy2x3wDvs8"
      },
      "id": "nIHy2x3wDvs8"
    },
    {
      "cell_type": "code",
      "source": [
        "working_user_input_df = user_input_df.copy()\n",
        "working_user_input_df = working_user_input_df[working_user_input_df.index.isin(working_half_hotend_df.index)]\n",
        "print(\"Rows in dataset prior ro removing rows with NaN values: \", len(user_input_df))\n",
        "print(\"Rows in dataset after removing rows with NaN values: \", len(working_user_input_df))\n",
        "working_user_input_df.head(1)"
      ],
      "metadata": {
        "id": "zzCjYJuWD4ST",
        "outputId": "7162b0f0-e58e-4b94-a904-fc5da7d16baf",
        "colab": {
          "base_uri": "https://localhost:8080/",
          "height": 147
        }
      },
      "id": "zzCjYJuWD4ST",
      "execution_count": 17,
      "outputs": [
        {
          "output_type": "stream",
          "name": "stdout",
          "text": [
            "Rows in dataset prior ro removing rows with NaN values:  838566\n",
            "Rows in dataset after removing rows with NaN values:  133863\n"
          ]
        },
        {
          "output_type": "execute_result",
          "data": {
            "text/plain": [
              "              overall_rating                                     headline  \\\n",
              "review_index                                                                \n",
              "50                         2  The people both make and destroy this place   \n",
              "\n",
              "                                                           pros  \\\n",
              "review_index                                                      \n",
              "50            Great people in some places, excellent Christm...   \n",
              "\n",
              "                                                           cons  \n",
              "review_index                                                     \n",
              "50            Poor pay, huge gap for pay between senior mana...  "
            ],
            "text/html": [
              "\n",
              "  <div id=\"df-b80a7f2c-1519-4660-a15e-70e0a0898329\">\n",
              "    <div class=\"colab-df-container\">\n",
              "      <div>\n",
              "<style scoped>\n",
              "    .dataframe tbody tr th:only-of-type {\n",
              "        vertical-align: middle;\n",
              "    }\n",
              "\n",
              "    .dataframe tbody tr th {\n",
              "        vertical-align: top;\n",
              "    }\n",
              "\n",
              "    .dataframe thead th {\n",
              "        text-align: right;\n",
              "    }\n",
              "</style>\n",
              "<table border=\"1\" class=\"dataframe\">\n",
              "  <thead>\n",
              "    <tr style=\"text-align: right;\">\n",
              "      <th></th>\n",
              "      <th>overall_rating</th>\n",
              "      <th>headline</th>\n",
              "      <th>pros</th>\n",
              "      <th>cons</th>\n",
              "    </tr>\n",
              "    <tr>\n",
              "      <th>review_index</th>\n",
              "      <th></th>\n",
              "      <th></th>\n",
              "      <th></th>\n",
              "      <th></th>\n",
              "    </tr>\n",
              "  </thead>\n",
              "  <tbody>\n",
              "    <tr>\n",
              "      <th>50</th>\n",
              "      <td>2</td>\n",
              "      <td>The people both make and destroy this place</td>\n",
              "      <td>Great people in some places, excellent Christm...</td>\n",
              "      <td>Poor pay, huge gap for pay between senior mana...</td>\n",
              "    </tr>\n",
              "  </tbody>\n",
              "</table>\n",
              "</div>\n",
              "      <button class=\"colab-df-convert\" onclick=\"convertToInteractive('df-b80a7f2c-1519-4660-a15e-70e0a0898329')\"\n",
              "              title=\"Convert this dataframe to an interactive table.\"\n",
              "              style=\"display:none;\">\n",
              "        \n",
              "  <svg xmlns=\"http://www.w3.org/2000/svg\" height=\"24px\"viewBox=\"0 0 24 24\"\n",
              "       width=\"24px\">\n",
              "    <path d=\"M0 0h24v24H0V0z\" fill=\"none\"/>\n",
              "    <path d=\"M18.56 5.44l.94 2.06.94-2.06 2.06-.94-2.06-.94-.94-2.06-.94 2.06-2.06.94zm-11 1L8.5 8.5l.94-2.06 2.06-.94-2.06-.94L8.5 2.5l-.94 2.06-2.06.94zm10 10l.94 2.06.94-2.06 2.06-.94-2.06-.94-.94-2.06-.94 2.06-2.06.94z\"/><path d=\"M17.41 7.96l-1.37-1.37c-.4-.4-.92-.59-1.43-.59-.52 0-1.04.2-1.43.59L10.3 9.45l-7.72 7.72c-.78.78-.78 2.05 0 2.83L4 21.41c.39.39.9.59 1.41.59.51 0 1.02-.2 1.41-.59l7.78-7.78 2.81-2.81c.8-.78.8-2.07 0-2.86zM5.41 20L4 18.59l7.72-7.72 1.47 1.35L5.41 20z\"/>\n",
              "  </svg>\n",
              "      </button>\n",
              "      \n",
              "  <style>\n",
              "    .colab-df-container {\n",
              "      display:flex;\n",
              "      flex-wrap:wrap;\n",
              "      gap: 12px;\n",
              "    }\n",
              "\n",
              "    .colab-df-convert {\n",
              "      background-color: #E8F0FE;\n",
              "      border: none;\n",
              "      border-radius: 50%;\n",
              "      cursor: pointer;\n",
              "      display: none;\n",
              "      fill: #1967D2;\n",
              "      height: 32px;\n",
              "      padding: 0 0 0 0;\n",
              "      width: 32px;\n",
              "    }\n",
              "\n",
              "    .colab-df-convert:hover {\n",
              "      background-color: #E2EBFA;\n",
              "      box-shadow: 0px 1px 2px rgba(60, 64, 67, 0.3), 0px 1px 3px 1px rgba(60, 64, 67, 0.15);\n",
              "      fill: #174EA6;\n",
              "    }\n",
              "\n",
              "    [theme=dark] .colab-df-convert {\n",
              "      background-color: #3B4455;\n",
              "      fill: #D2E3FC;\n",
              "    }\n",
              "\n",
              "    [theme=dark] .colab-df-convert:hover {\n",
              "      background-color: #434B5C;\n",
              "      box-shadow: 0px 1px 3px 1px rgba(0, 0, 0, 0.15);\n",
              "      filter: drop-shadow(0px 1px 2px rgba(0, 0, 0, 0.3));\n",
              "      fill: #FFFFFF;\n",
              "    }\n",
              "  </style>\n",
              "\n",
              "      <script>\n",
              "        const buttonEl =\n",
              "          document.querySelector('#df-b80a7f2c-1519-4660-a15e-70e0a0898329 button.colab-df-convert');\n",
              "        buttonEl.style.display =\n",
              "          google.colab.kernel.accessAllowed ? 'block' : 'none';\n",
              "\n",
              "        async function convertToInteractive(key) {\n",
              "          const element = document.querySelector('#df-b80a7f2c-1519-4660-a15e-70e0a0898329');\n",
              "          const dataTable =\n",
              "            await google.colab.kernel.invokeFunction('convertToInteractive',\n",
              "                                                     [key], {});\n",
              "          if (!dataTable) return;\n",
              "\n",
              "          const docLinkHtml = 'Like what you see? Visit the ' +\n",
              "            '<a target=\"_blank\" href=https://colab.research.google.com/notebooks/data_table.ipynb>data table notebook</a>'\n",
              "            + ' to learn more about interactive tables.';\n",
              "          element.innerHTML = '';\n",
              "          dataTable['output_type'] = 'display_data';\n",
              "          await google.colab.output.renderOutput(dataTable, element);\n",
              "          const docLink = document.createElement('div');\n",
              "          docLink.innerHTML = docLinkHtml;\n",
              "          element.appendChild(docLink);\n",
              "        }\n",
              "      </script>\n",
              "    </div>\n",
              "  </div>\n",
              "  "
            ]
          },
          "metadata": {},
          "execution_count": 17
        }
      ]
    },
    {
      "cell_type": "code",
      "source": [
        "def text_tokenizer(text):\n",
        "    # Tokenize the text into individual words\n",
        "    words = word_tokenize(text.lower())\n",
        "\n",
        "    # Remove stopwords\n",
        "    stop_words = set(stopwords.words('english'))\n",
        "    filtered_words = [word for word in words if word.isalnum() and word not in stop_words]\n",
        "\n",
        "    return filtered_words\n",
        "\n",
        "# Text processor takes dataframe of only 1 column of strings, tokenizes it, and returns series of comma separated words from each string."
      ],
      "metadata": {
        "id": "zbF77vEFHf19"
      },
      "id": "zbF77vEFHf19",
      "execution_count": 18,
      "outputs": []
    },
    {
      "cell_type": "code",
      "source": [
        "def word_counter(series_column, n):\n",
        "  \n",
        "  all_words = [word for sublist in series_column for word in sublist]\n",
        "  word_counts = Counter(all_words)\n",
        "\n",
        "  most_common_words = word_counts.most_common(n)\n",
        "\n",
        "  return most_common_words\n",
        "\n",
        "# Takes in tokenized series and returns the top \"value of 'n'\" words as a series."
      ],
      "metadata": {
        "id": "B3NunGXtHlEr"
      },
      "id": "B3NunGXtHlEr",
      "execution_count": 19,
      "outputs": []
    },
    {
      "cell_type": "code",
      "source": [
        "def column_processor(rating, attribute, n):\n",
        "  index_user_input_df = working_user_input_df[working_user_input_df['overall_rating'] == rating].copy().drop(['overall_rating'], axis = 1)\n",
        "  isolated = index_user_input_df[attribute].rename(str(attribute)+ \"_\" + str(rating))\n",
        "  isolated = isolated.reset_index(drop=True)\n",
        "  isolated = isolated.dropna().astype(str)\n",
        "  preprocessed_data = isolated.apply(text_tokenizer)\n",
        "  word_count_list = word_counter(preprocessed_data, n)\n",
        "\n",
        "  return word_count_list\n",
        "\n",
        "# Takes requested rating and attribute, finds the column, and calls to the function that tokenizes text, calls to the function that counts words. Returns series."
      ],
      "metadata": {
        "id": "mFbVBjqrWfAr"
      },
      "id": "mFbVBjqrWfAr",
      "execution_count": 20,
      "outputs": []
    },
    {
      "cell_type": "code",
      "source": [
        "parsed_df = pd.DataFrame()\n",
        "\n",
        "return_top_counter = 750\n",
        "\n",
        "for i in range(1, 6):\n",
        "    for attribute in working_user_input_df.drop(['overall_rating'], axis=1):\n",
        "        index_series_to_df = pd.DataFrame(column_processor(i, attribute, return_top_counter), columns=[str(attribute) + '_' + str(i) + '_words', str(attribute) + '_' + str(i) + '_count'])\n",
        "        index_series_to_df = index_series_to_df.rename_axis('word_index')\n",
        "\n",
        "        if parsed_df.empty:\n",
        "            parsed_df = index_series_to_df\n",
        "        else:\n",
        "            parsed_df = pd.merge(parsed_df, index_series_to_df, on='word_index')"
      ],
      "metadata": {
        "id": "oPVtfZkZZkfr"
      },
      "id": "oPVtfZkZZkfr",
      "execution_count": 133,
      "outputs": []
    },
    {
      "cell_type": "code",
      "source": [
        "parsed_words_df = parsed_df.drop(columns=[col for col in parsed_df.columns if 'count' in col])\n",
        "duplicate_words_list = parsed_words_df.values.flatten().tolist()\n",
        "duplicate_words_list = [word for word in duplicate_words_list if duplicate_words_list.count(word) > 1]\n",
        "duplicate_words_list = list(set(duplicate_words_list))\n",
        "print(len(duplicate_words_list))"
      ],
      "metadata": {
        "id": "WI8pTkAR2_mZ",
        "outputId": "55fc2a53-a103-4b95-d4a9-c37ab3e6b537",
        "colab": {
          "base_uri": "https://localhost:8080/"
        }
      },
      "id": "WI8pTkAR2_mZ",
      "execution_count": 134,
      "outputs": [
        {
          "output_type": "stream",
          "name": "stdout",
          "text": [
            "1475\n"
          ]
        }
      ]
    },
    {
      "cell_type": "code",
      "source": [
        "parsed_words_optimized_df = parsed_words_df.copy()\n",
        "for column in parsed_words_optimized_df.columns:\n",
        "    parsed_words_optimized_df[column] = parsed_words_optimized_df[column].apply(lambda x: '' if x in duplicate_words_list else x)\n",
        "\n",
        "parsed_words_optimized_df = parsed_words_optimized_df.apply(lambda x: x.sort_values().values)\n",
        "parsed_words_optimized_df = parsed_words_optimized_df.apply(lambda x: sorted(x, key=bool, reverse=True))\n",
        "parsed_words_optimized_df = parsed_words_optimized_df[~(parsed_words_optimized_df == '').all(axis=1)]\n",
        "parsed_words_optimized_df.head(10)"
      ],
      "metadata": {
        "id": "k0LG6uPr4Kle",
        "outputId": "41ca3e7c-ad8e-4d02-988a-634c773d38b1",
        "colab": {
          "base_uri": "https://localhost:8080/",
          "height": 458
        }
      },
      "id": "k0LG6uPr4Kle",
      "execution_count": 153,
      "outputs": [
        {
          "output_type": "execute_result",
          "data": {
            "text/plain": [
              "           headline_1_words pros_1_words cons_1_words headline_2_words  \\\n",
              "word_index                                                               \n",
              "0                    abused    advantage            7        beginning   \n",
              "1            administrative          air        abuse          british   \n",
              "2                 appalling   attractive          act          careful   \n",
              "3                 atrocious     bearable        allow        carefully   \n",
              "4                     azure         book       answer          carrier   \n",
              "5                 backwards    buildings     behavior              cog   \n",
              "6                      bone          buy    bloomberg        debenhams   \n",
              "7                    brutal      country        board         draining   \n",
              "8                      burn        drink      bullied        execution   \n",
              "9                  childish     expenses         came              gds   \n",
              "\n",
              "           pros_2_words cons_2_words headline_3_words  pros_3_words  \\\n",
              "word_index                                                            \n",
              "0                   art        alone         adequate  availability   \n",
              "1            assistance       asking            aight   camaraderie   \n",
              "2                  cafe         cuts          builder        casual   \n",
              "3                 deals      deliver        dependant      coverage   \n",
              "4                direct        drama            downs   prestigious   \n",
              "5                finish        heard              ehh         rates   \n",
              "6            guaranteed     promised           losing          soft   \n",
              "7             immediate   regardless          neutral                 \n",
              "8                  main      related        reporting                 \n",
              "9               monthly      serious            rough                 \n",
              "\n",
              "              cons_3_words headline_4_words pros_4_words cons_4_words  \\\n",
              "word_index                                                              \n",
              "0           accountability              aon       active        adapt   \n",
              "1                 external               ba     benifits     assigned   \n",
              "2              inefficient         becoming   businesses         band   \n",
              "3                     rise       commercial    competent   comparison   \n",
              "4                    stand         deutsche        cross    confusing   \n",
              "5                                foundation    learnings       demand   \n",
              "6                                     grind    organised      demands   \n",
              "7                              improvements      sectors       depend   \n",
              "8                                 kickstart    transport        merit   \n",
              "9                                       kyc         vast       overly   \n",
              "\n",
              "           headline_5_words   pros_5_words cons_5_words  \n",
              "word_index                                               \n",
              "0                      2020  accommodating   applicable  \n",
              "1                  accounts       continue         cold  \n",
              "2                        ae    cooperative      commute  \n",
              "3                        ai     developing     complain  \n",
              "4                ambassador      encourage   complexity  \n",
              "5                apprentice     encourages     downside  \n",
              "6                      army         ensure    downsides  \n",
              "7                    awsome       equality       facing  \n",
              "8                      bain         joined        fault  \n",
              "9                       bcg     meaningful    improving  "
            ],
            "text/html": [
              "\n",
              "  <div id=\"df-5df4dad8-d58d-467f-907d-ce2f5c9a4926\">\n",
              "    <div class=\"colab-df-container\">\n",
              "      <div>\n",
              "<style scoped>\n",
              "    .dataframe tbody tr th:only-of-type {\n",
              "        vertical-align: middle;\n",
              "    }\n",
              "\n",
              "    .dataframe tbody tr th {\n",
              "        vertical-align: top;\n",
              "    }\n",
              "\n",
              "    .dataframe thead th {\n",
              "        text-align: right;\n",
              "    }\n",
              "</style>\n",
              "<table border=\"1\" class=\"dataframe\">\n",
              "  <thead>\n",
              "    <tr style=\"text-align: right;\">\n",
              "      <th></th>\n",
              "      <th>headline_1_words</th>\n",
              "      <th>pros_1_words</th>\n",
              "      <th>cons_1_words</th>\n",
              "      <th>headline_2_words</th>\n",
              "      <th>pros_2_words</th>\n",
              "      <th>cons_2_words</th>\n",
              "      <th>headline_3_words</th>\n",
              "      <th>pros_3_words</th>\n",
              "      <th>cons_3_words</th>\n",
              "      <th>headline_4_words</th>\n",
              "      <th>pros_4_words</th>\n",
              "      <th>cons_4_words</th>\n",
              "      <th>headline_5_words</th>\n",
              "      <th>pros_5_words</th>\n",
              "      <th>cons_5_words</th>\n",
              "    </tr>\n",
              "    <tr>\n",
              "      <th>word_index</th>\n",
              "      <th></th>\n",
              "      <th></th>\n",
              "      <th></th>\n",
              "      <th></th>\n",
              "      <th></th>\n",
              "      <th></th>\n",
              "      <th></th>\n",
              "      <th></th>\n",
              "      <th></th>\n",
              "      <th></th>\n",
              "      <th></th>\n",
              "      <th></th>\n",
              "      <th></th>\n",
              "      <th></th>\n",
              "      <th></th>\n",
              "    </tr>\n",
              "  </thead>\n",
              "  <tbody>\n",
              "    <tr>\n",
              "      <th>0</th>\n",
              "      <td>abused</td>\n",
              "      <td>advantage</td>\n",
              "      <td>7</td>\n",
              "      <td>beginning</td>\n",
              "      <td>art</td>\n",
              "      <td>alone</td>\n",
              "      <td>adequate</td>\n",
              "      <td>availability</td>\n",
              "      <td>accountability</td>\n",
              "      <td>aon</td>\n",
              "      <td>active</td>\n",
              "      <td>adapt</td>\n",
              "      <td>2020</td>\n",
              "      <td>accommodating</td>\n",
              "      <td>applicable</td>\n",
              "    </tr>\n",
              "    <tr>\n",
              "      <th>1</th>\n",
              "      <td>administrative</td>\n",
              "      <td>air</td>\n",
              "      <td>abuse</td>\n",
              "      <td>british</td>\n",
              "      <td>assistance</td>\n",
              "      <td>asking</td>\n",
              "      <td>aight</td>\n",
              "      <td>camaraderie</td>\n",
              "      <td>external</td>\n",
              "      <td>ba</td>\n",
              "      <td>benifits</td>\n",
              "      <td>assigned</td>\n",
              "      <td>accounts</td>\n",
              "      <td>continue</td>\n",
              "      <td>cold</td>\n",
              "    </tr>\n",
              "    <tr>\n",
              "      <th>2</th>\n",
              "      <td>appalling</td>\n",
              "      <td>attractive</td>\n",
              "      <td>act</td>\n",
              "      <td>careful</td>\n",
              "      <td>cafe</td>\n",
              "      <td>cuts</td>\n",
              "      <td>builder</td>\n",
              "      <td>casual</td>\n",
              "      <td>inefficient</td>\n",
              "      <td>becoming</td>\n",
              "      <td>businesses</td>\n",
              "      <td>band</td>\n",
              "      <td>ae</td>\n",
              "      <td>cooperative</td>\n",
              "      <td>commute</td>\n",
              "    </tr>\n",
              "    <tr>\n",
              "      <th>3</th>\n",
              "      <td>atrocious</td>\n",
              "      <td>bearable</td>\n",
              "      <td>allow</td>\n",
              "      <td>carefully</td>\n",
              "      <td>deals</td>\n",
              "      <td>deliver</td>\n",
              "      <td>dependant</td>\n",
              "      <td>coverage</td>\n",
              "      <td>rise</td>\n",
              "      <td>commercial</td>\n",
              "      <td>competent</td>\n",
              "      <td>comparison</td>\n",
              "      <td>ai</td>\n",
              "      <td>developing</td>\n",
              "      <td>complain</td>\n",
              "    </tr>\n",
              "    <tr>\n",
              "      <th>4</th>\n",
              "      <td>azure</td>\n",
              "      <td>book</td>\n",
              "      <td>answer</td>\n",
              "      <td>carrier</td>\n",
              "      <td>direct</td>\n",
              "      <td>drama</td>\n",
              "      <td>downs</td>\n",
              "      <td>prestigious</td>\n",
              "      <td>stand</td>\n",
              "      <td>deutsche</td>\n",
              "      <td>cross</td>\n",
              "      <td>confusing</td>\n",
              "      <td>ambassador</td>\n",
              "      <td>encourage</td>\n",
              "      <td>complexity</td>\n",
              "    </tr>\n",
              "    <tr>\n",
              "      <th>5</th>\n",
              "      <td>backwards</td>\n",
              "      <td>buildings</td>\n",
              "      <td>behavior</td>\n",
              "      <td>cog</td>\n",
              "      <td>finish</td>\n",
              "      <td>heard</td>\n",
              "      <td>ehh</td>\n",
              "      <td>rates</td>\n",
              "      <td></td>\n",
              "      <td>foundation</td>\n",
              "      <td>learnings</td>\n",
              "      <td>demand</td>\n",
              "      <td>apprentice</td>\n",
              "      <td>encourages</td>\n",
              "      <td>downside</td>\n",
              "    </tr>\n",
              "    <tr>\n",
              "      <th>6</th>\n",
              "      <td>bone</td>\n",
              "      <td>buy</td>\n",
              "      <td>bloomberg</td>\n",
              "      <td>debenhams</td>\n",
              "      <td>guaranteed</td>\n",
              "      <td>promised</td>\n",
              "      <td>losing</td>\n",
              "      <td>soft</td>\n",
              "      <td></td>\n",
              "      <td>grind</td>\n",
              "      <td>organised</td>\n",
              "      <td>demands</td>\n",
              "      <td>army</td>\n",
              "      <td>ensure</td>\n",
              "      <td>downsides</td>\n",
              "    </tr>\n",
              "    <tr>\n",
              "      <th>7</th>\n",
              "      <td>brutal</td>\n",
              "      <td>country</td>\n",
              "      <td>board</td>\n",
              "      <td>draining</td>\n",
              "      <td>immediate</td>\n",
              "      <td>regardless</td>\n",
              "      <td>neutral</td>\n",
              "      <td></td>\n",
              "      <td></td>\n",
              "      <td>improvements</td>\n",
              "      <td>sectors</td>\n",
              "      <td>depend</td>\n",
              "      <td>awsome</td>\n",
              "      <td>equality</td>\n",
              "      <td>facing</td>\n",
              "    </tr>\n",
              "    <tr>\n",
              "      <th>8</th>\n",
              "      <td>burn</td>\n",
              "      <td>drink</td>\n",
              "      <td>bullied</td>\n",
              "      <td>execution</td>\n",
              "      <td>main</td>\n",
              "      <td>related</td>\n",
              "      <td>reporting</td>\n",
              "      <td></td>\n",
              "      <td></td>\n",
              "      <td>kickstart</td>\n",
              "      <td>transport</td>\n",
              "      <td>merit</td>\n",
              "      <td>bain</td>\n",
              "      <td>joined</td>\n",
              "      <td>fault</td>\n",
              "    </tr>\n",
              "    <tr>\n",
              "      <th>9</th>\n",
              "      <td>childish</td>\n",
              "      <td>expenses</td>\n",
              "      <td>came</td>\n",
              "      <td>gds</td>\n",
              "      <td>monthly</td>\n",
              "      <td>serious</td>\n",
              "      <td>rough</td>\n",
              "      <td></td>\n",
              "      <td></td>\n",
              "      <td>kyc</td>\n",
              "      <td>vast</td>\n",
              "      <td>overly</td>\n",
              "      <td>bcg</td>\n",
              "      <td>meaningful</td>\n",
              "      <td>improving</td>\n",
              "    </tr>\n",
              "  </tbody>\n",
              "</table>\n",
              "</div>\n",
              "      <button class=\"colab-df-convert\" onclick=\"convertToInteractive('df-5df4dad8-d58d-467f-907d-ce2f5c9a4926')\"\n",
              "              title=\"Convert this dataframe to an interactive table.\"\n",
              "              style=\"display:none;\">\n",
              "        \n",
              "  <svg xmlns=\"http://www.w3.org/2000/svg\" height=\"24px\"viewBox=\"0 0 24 24\"\n",
              "       width=\"24px\">\n",
              "    <path d=\"M0 0h24v24H0V0z\" fill=\"none\"/>\n",
              "    <path d=\"M18.56 5.44l.94 2.06.94-2.06 2.06-.94-2.06-.94-.94-2.06-.94 2.06-2.06.94zm-11 1L8.5 8.5l.94-2.06 2.06-.94-2.06-.94L8.5 2.5l-.94 2.06-2.06.94zm10 10l.94 2.06.94-2.06 2.06-.94-2.06-.94-.94-2.06-.94 2.06-2.06.94z\"/><path d=\"M17.41 7.96l-1.37-1.37c-.4-.4-.92-.59-1.43-.59-.52 0-1.04.2-1.43.59L10.3 9.45l-7.72 7.72c-.78.78-.78 2.05 0 2.83L4 21.41c.39.39.9.59 1.41.59.51 0 1.02-.2 1.41-.59l7.78-7.78 2.81-2.81c.8-.78.8-2.07 0-2.86zM5.41 20L4 18.59l7.72-7.72 1.47 1.35L5.41 20z\"/>\n",
              "  </svg>\n",
              "      </button>\n",
              "      \n",
              "  <style>\n",
              "    .colab-df-container {\n",
              "      display:flex;\n",
              "      flex-wrap:wrap;\n",
              "      gap: 12px;\n",
              "    }\n",
              "\n",
              "    .colab-df-convert {\n",
              "      background-color: #E8F0FE;\n",
              "      border: none;\n",
              "      border-radius: 50%;\n",
              "      cursor: pointer;\n",
              "      display: none;\n",
              "      fill: #1967D2;\n",
              "      height: 32px;\n",
              "      padding: 0 0 0 0;\n",
              "      width: 32px;\n",
              "    }\n",
              "\n",
              "    .colab-df-convert:hover {\n",
              "      background-color: #E2EBFA;\n",
              "      box-shadow: 0px 1px 2px rgba(60, 64, 67, 0.3), 0px 1px 3px 1px rgba(60, 64, 67, 0.15);\n",
              "      fill: #174EA6;\n",
              "    }\n",
              "\n",
              "    [theme=dark] .colab-df-convert {\n",
              "      background-color: #3B4455;\n",
              "      fill: #D2E3FC;\n",
              "    }\n",
              "\n",
              "    [theme=dark] .colab-df-convert:hover {\n",
              "      background-color: #434B5C;\n",
              "      box-shadow: 0px 1px 3px 1px rgba(0, 0, 0, 0.15);\n",
              "      filter: drop-shadow(0px 1px 2px rgba(0, 0, 0, 0.3));\n",
              "      fill: #FFFFFF;\n",
              "    }\n",
              "  </style>\n",
              "\n",
              "      <script>\n",
              "        const buttonEl =\n",
              "          document.querySelector('#df-5df4dad8-d58d-467f-907d-ce2f5c9a4926 button.colab-df-convert');\n",
              "        buttonEl.style.display =\n",
              "          google.colab.kernel.accessAllowed ? 'block' : 'none';\n",
              "\n",
              "        async function convertToInteractive(key) {\n",
              "          const element = document.querySelector('#df-5df4dad8-d58d-467f-907d-ce2f5c9a4926');\n",
              "          const dataTable =\n",
              "            await google.colab.kernel.invokeFunction('convertToInteractive',\n",
              "                                                     [key], {});\n",
              "          if (!dataTable) return;\n",
              "\n",
              "          const docLinkHtml = 'Like what you see? Visit the ' +\n",
              "            '<a target=\"_blank\" href=https://colab.research.google.com/notebooks/data_table.ipynb>data table notebook</a>'\n",
              "            + ' to learn more about interactive tables.';\n",
              "          element.innerHTML = '';\n",
              "          dataTable['output_type'] = 'display_data';\n",
              "          await google.colab.output.renderOutput(dataTable, element);\n",
              "          const docLink = document.createElement('div');\n",
              "          docLink.innerHTML = docLinkHtml;\n",
              "          element.appendChild(docLink);\n",
              "        }\n",
              "      </script>\n",
              "    </div>\n",
              "  </div>\n",
              "  "
            ]
          },
          "metadata": {},
          "execution_count": 153
        }
      ]
    },
    {
      "cell_type": "markdown",
      "source": [
        "## Processing User Input strings into columns with word counts"
      ],
      "metadata": {
        "id": "zUIbqeFdEa3r"
      },
      "id": "zUIbqeFdEa3r"
    },
    {
      "cell_type": "code",
      "source": [
        "nn_op_working_df[columns_to_convert] = nn_op_working_df[columns_to_convert].astype(float)\n",
        "\n",
        "cutoff_value = 3000\n",
        "firms_to_replace = nn_op_working_df['firm'].value_counts()[nn_op_working_df['firm'].value_counts() < cutoff_value].index.tolist()\n",
        "\n",
        "for firm in firms_to_replace:\n",
        "    nn_op_working_df['firm'] = nn_op_working_df['firm'].replace(firm,\"Other\")\n",
        "\n",
        "cutoff_value2 = 10\n",
        "current_to_replace = nn_op_working_df['current'].value_counts()[nn_op_working_df['current'].value_counts() < cutoff_value2].index.tolist()\n",
        "\n",
        "for review in current_to_replace:\n",
        "    nn_op_working_df['current'] = nn_op_working_df['current'].replace(review,\"Other\")\n",
        "\n",
        "nn_op_working_df.dropna(subset=columns_to_convert, inplace=True)\n",
        "nn_op_working_df = nn_op_working_df.reset_index(drop=True)\n",
        "print(len(nn_op_working_df))"
      ],
      "metadata": {
        "id": "u4ZPCAdpEkyE",
        "outputId": "b64928a6-c105-4228-8e1b-4d67d762fe9f",
        "colab": {
          "base_uri": "https://localhost:8080/"
        }
      },
      "id": "u4ZPCAdpEkyE",
      "execution_count": 178,
      "outputs": [
        {
          "output_type": "stream",
          "name": "stdout",
          "text": [
            "133863\n"
          ]
        }
      ]
    },
    {
      "cell_type": "code",
      "source": [
        "parsed_words_df.shape"
      ],
      "metadata": {
        "id": "RxqPUh5MmV0k",
        "outputId": "8c14e3c3-4d18-4830-db7e-449f7b9bf594",
        "colab": {
          "base_uri": "https://localhost:8080/"
        }
      },
      "id": "RxqPUh5MmV0k",
      "execution_count": 139,
      "outputs": [
        {
          "output_type": "execute_result",
          "data": {
            "text/plain": [
              "(750, 15)"
            ]
          },
          "metadata": {},
          "execution_count": 139
        }
      ]
    },
    {
      "cell_type": "code",
      "source": [
        "word_counter_df = pd.DataFrame() # Full DF to be merged\n",
        "\n",
        "for index, row in nn_op_working_df.iterrows():\n",
        "    index_df = pd.DataFrame() # Individual row\n",
        "    if index % 1000 == 0:\n",
        "        percent_total = (index)/len(nn_op_working_df)*100\n",
        "\n",
        "        print(f\"\\rProcessing {index} of {len(nn_op_working_df)} COMPLETE {percent_total:.2f}%\", end=\"\")\n",
        "\n",
        "        print(f\"\\br********************\")\n",
        "    for column in ['headline', 'pros', 'cons']:\n",
        "        attribute_index_df = pd.DataFrame() # column in Individual row\n",
        "        working_index = text_tokenizer(str(row[column]))\n",
        "        for i in range(1, 6):\n",
        "            attribute_rating_counter = 0 # Value to be acdded\n",
        "            checking_index = parsed_words_optimized_df[parsed_words_optimized_df[str(column) + '_' + str(i) + '_words'] != ''][str(column) + '_' + str(i) + '_words'].tolist()\n",
        "            for word in working_index:\n",
        "                if word in checking_index: # count instances of matching words\n",
        "                    attribute_rating_counter = attribute_rating_counter + 1\n",
        "            #print(\"index #\", index, \"___comparing \", len(working_index), \" words against \", len(checking_df), \" in \", str(column) + '_' + str(i) + '_words', attribute_rating_counter, \" matches\")\n",
        "            attribute_index_df[str(column) + '_' + str(i) + '_counter'] = [attribute_rating_counter] # creates a new column for each attribute and rating counter\n",
        "        if index_df.empty:\n",
        "            index_df = attribute_index_df\n",
        "        else:\n",
        "            index_df = pd.merge(index_df, attribute_index_df, left_index=True, right_index=True)\n",
        "    word_counter_df = pd.concat([word_counter_df, index_df], ignore_index=True)\n",
        "\n",
        "word_counter_df"
      ],
      "metadata": {
        "id": "zYDMeHP9IzFf",
        "outputId": "16aa02ea-4c61-4eb7-854a-195ae54b934e",
        "colab": {
          "base_uri": "https://localhost:8080/",
          "height": 415
        }
      },
      "id": "zYDMeHP9IzFf",
      "execution_count": 193,
      "outputs": [
        {
          "output_type": "stream",
          "name": "stdout",
          "text": [
            "\rProcessing 0 of 133863 COMPLETE 0.00%\br********************\n"
          ]
        },
        {
          "output_type": "error",
          "ename": "KeyboardInterrupt",
          "evalue": "ignored",
          "traceback": [
            "\u001b[0;31m---------------------------------------------------------------------------\u001b[0m",
            "\u001b[0;31mKeyboardInterrupt\u001b[0m                         Traceback (most recent call last)",
            "\u001b[0;32m<ipython-input-193-d9dc62934f11>\u001b[0m in \u001b[0;36m<cell line: 3>\u001b[0;34m()\u001b[0m\n\u001b[1;32m     19\u001b[0m                     \u001b[0mattribute_rating_counter\u001b[0m \u001b[0;34m=\u001b[0m \u001b[0mattribute_rating_counter\u001b[0m \u001b[0;34m+\u001b[0m \u001b[0;36m1\u001b[0m\u001b[0;34m\u001b[0m\u001b[0;34m\u001b[0m\u001b[0m\n\u001b[1;32m     20\u001b[0m             \u001b[0;31m#print(\"index #\", index, \"___comparing \", len(working_index), \" words against \", len(checking_df), \" in \", str(column) + '_' + str(i) + '_words', attribute_rating_counter, \" matches\")\u001b[0m\u001b[0;34m\u001b[0m\u001b[0;34m\u001b[0m\u001b[0m\n\u001b[0;32m---> 21\u001b[0;31m             \u001b[0mattribute_index_df\u001b[0m\u001b[0;34m[\u001b[0m\u001b[0mstr\u001b[0m\u001b[0;34m(\u001b[0m\u001b[0mcolumn\u001b[0m\u001b[0;34m)\u001b[0m \u001b[0;34m+\u001b[0m \u001b[0;34m'_'\u001b[0m \u001b[0;34m+\u001b[0m \u001b[0mstr\u001b[0m\u001b[0;34m(\u001b[0m\u001b[0mi\u001b[0m\u001b[0;34m)\u001b[0m \u001b[0;34m+\u001b[0m \u001b[0;34m'_counter'\u001b[0m\u001b[0;34m]\u001b[0m \u001b[0;34m=\u001b[0m \u001b[0;34m[\u001b[0m\u001b[0mattribute_rating_counter\u001b[0m\u001b[0;34m]\u001b[0m \u001b[0;31m# creates a new column for each attribute and rating counter\u001b[0m\u001b[0;34m\u001b[0m\u001b[0;34m\u001b[0m\u001b[0m\n\u001b[0m\u001b[1;32m     22\u001b[0m         \u001b[0;32mif\u001b[0m \u001b[0mindex_df\u001b[0m\u001b[0;34m.\u001b[0m\u001b[0mempty\u001b[0m\u001b[0;34m:\u001b[0m\u001b[0;34m\u001b[0m\u001b[0;34m\u001b[0m\u001b[0m\n\u001b[1;32m     23\u001b[0m             \u001b[0mindex_df\u001b[0m \u001b[0;34m=\u001b[0m \u001b[0mattribute_index_df\u001b[0m\u001b[0;34m\u001b[0m\u001b[0;34m\u001b[0m\u001b[0m\n",
            "\u001b[0;32m/usr/local/lib/python3.10/dist-packages/pandas/core/frame.py\u001b[0m in \u001b[0;36m__setitem__\u001b[0;34m(self, key, value)\u001b[0m\n\u001b[1;32m   3957\u001b[0m \u001b[0;34m\u001b[0m\u001b[0m\n\u001b[1;32m   3958\u001b[0m         \u001b[0;31m# see if we can slice the rows\u001b[0m\u001b[0;34m\u001b[0m\u001b[0;34m\u001b[0m\u001b[0m\n\u001b[0;32m-> 3959\u001b[0;31m         \u001b[0mindexer\u001b[0m \u001b[0;34m=\u001b[0m \u001b[0mconvert_to_index_sliceable\u001b[0m\u001b[0;34m(\u001b[0m\u001b[0mself\u001b[0m\u001b[0;34m,\u001b[0m \u001b[0mkey\u001b[0m\u001b[0;34m)\u001b[0m\u001b[0;34m\u001b[0m\u001b[0;34m\u001b[0m\u001b[0m\n\u001b[0m\u001b[1;32m   3960\u001b[0m         \u001b[0;32mif\u001b[0m \u001b[0mindexer\u001b[0m \u001b[0;32mis\u001b[0m \u001b[0;32mnot\u001b[0m \u001b[0;32mNone\u001b[0m\u001b[0;34m:\u001b[0m\u001b[0;34m\u001b[0m\u001b[0;34m\u001b[0m\u001b[0m\n\u001b[1;32m   3961\u001b[0m             \u001b[0;31m# either we have a slice or we have a string that can be converted\u001b[0m\u001b[0;34m\u001b[0m\u001b[0;34m\u001b[0m\u001b[0m\n",
            "\u001b[0;32m/usr/local/lib/python3.10/dist-packages/pandas/core/indexing.py\u001b[0m in \u001b[0;36mconvert_to_index_sliceable\u001b[0;34m(obj, key)\u001b[0m\n\u001b[1;32m   2497\u001b[0m \u001b[0;34m\u001b[0m\u001b[0m\n\u001b[1;32m   2498\u001b[0m         \u001b[0;31m# we are an actual column\u001b[0m\u001b[0;34m\u001b[0m\u001b[0;34m\u001b[0m\u001b[0m\n\u001b[0;32m-> 2499\u001b[0;31m         \u001b[0;32mif\u001b[0m \u001b[0mkey\u001b[0m \u001b[0;32min\u001b[0m \u001b[0mobj\u001b[0m\u001b[0;34m.\u001b[0m\u001b[0mcolumns\u001b[0m\u001b[0;34m:\u001b[0m\u001b[0;34m\u001b[0m\u001b[0;34m\u001b[0m\u001b[0m\n\u001b[0m\u001b[1;32m   2500\u001b[0m             \u001b[0;32mreturn\u001b[0m \u001b[0;32mNone\u001b[0m\u001b[0;34m\u001b[0m\u001b[0;34m\u001b[0m\u001b[0m\n\u001b[1;32m   2501\u001b[0m \u001b[0;34m\u001b[0m\u001b[0m\n",
            "\u001b[0;32m/usr/local/lib/python3.10/dist-packages/pandas/core/indexes/base.py\u001b[0m in \u001b[0;36m__contains__\u001b[0;34m(self, key)\u001b[0m\n\u001b[1;32m   5289\u001b[0m         \u001b[0mhash\u001b[0m\u001b[0;34m(\u001b[0m\u001b[0mkey\u001b[0m\u001b[0;34m)\u001b[0m\u001b[0;34m\u001b[0m\u001b[0;34m\u001b[0m\u001b[0m\n\u001b[1;32m   5290\u001b[0m         \u001b[0;32mtry\u001b[0m\u001b[0;34m:\u001b[0m\u001b[0;34m\u001b[0m\u001b[0;34m\u001b[0m\u001b[0m\n\u001b[0;32m-> 5291\u001b[0;31m             \u001b[0;32mreturn\u001b[0m \u001b[0mkey\u001b[0m \u001b[0;32min\u001b[0m \u001b[0mself\u001b[0m\u001b[0;34m.\u001b[0m\u001b[0m_engine\u001b[0m\u001b[0;34m\u001b[0m\u001b[0;34m\u001b[0m\u001b[0m\n\u001b[0m\u001b[1;32m   5292\u001b[0m         \u001b[0;32mexcept\u001b[0m \u001b[0;34m(\u001b[0m\u001b[0mOverflowError\u001b[0m\u001b[0;34m,\u001b[0m \u001b[0mTypeError\u001b[0m\u001b[0;34m,\u001b[0m \u001b[0mValueError\u001b[0m\u001b[0;34m)\u001b[0m\u001b[0;34m:\u001b[0m\u001b[0;34m\u001b[0m\u001b[0;34m\u001b[0m\u001b[0m\n\u001b[1;32m   5293\u001b[0m             \u001b[0;32mreturn\u001b[0m \u001b[0;32mFalse\u001b[0m\u001b[0;34m\u001b[0m\u001b[0;34m\u001b[0m\u001b[0m\n",
            "\u001b[0;32m/usr/local/lib/python3.10/dist-packages/pandas/_libs/properties.pyx\u001b[0m in \u001b[0;36mpandas._libs.properties.CachedProperty.__get__\u001b[0;34m()\u001b[0m\n",
            "\u001b[0;32m/usr/local/lib/python3.10/dist-packages/pandas/core/indexes/base.py\u001b[0m in \u001b[0;36m_engine\u001b[0;34m(self)\u001b[0m\n\u001b[1;32m    903\u001b[0m         \u001b[0;31m# error: Argument 1 to \"ExtensionEngine\" has incompatible type\u001b[0m\u001b[0;34m\u001b[0m\u001b[0;34m\u001b[0m\u001b[0m\n\u001b[1;32m    904\u001b[0m         \u001b[0;31m# \"ndarray[Any, Any]\"; expected \"ExtensionArray\"\u001b[0m\u001b[0;34m\u001b[0m\u001b[0;34m\u001b[0m\u001b[0m\n\u001b[0;32m--> 905\u001b[0;31m         \u001b[0;32mreturn\u001b[0m \u001b[0mself\u001b[0m\u001b[0;34m.\u001b[0m\u001b[0m_engine_type\u001b[0m\u001b[0;34m(\u001b[0m\u001b[0mtarget_values\u001b[0m\u001b[0;34m)\u001b[0m  \u001b[0;31m# type: ignore[arg-type]\u001b[0m\u001b[0;34m\u001b[0m\u001b[0;34m\u001b[0m\u001b[0m\n\u001b[0m\u001b[1;32m    906\u001b[0m \u001b[0;34m\u001b[0m\u001b[0m\n\u001b[1;32m    907\u001b[0m     \u001b[0;34m@\u001b[0m\u001b[0mfinal\u001b[0m\u001b[0;34m\u001b[0m\u001b[0;34m\u001b[0m\u001b[0m\n",
            "\u001b[0;32m/usr/local/lib/python3.10/dist-packages/pandas/core/indexes/base.py\u001b[0m in \u001b[0;36m_engine_type\u001b[0;34m(self)\u001b[0m\n\u001b[1;32m    411\u001b[0m     \u001b[0m_is_backward_compat_public_numeric_index\u001b[0m\u001b[0;34m:\u001b[0m \u001b[0mbool\u001b[0m \u001b[0;34m=\u001b[0m \u001b[0;32mFalse\u001b[0m\u001b[0;34m\u001b[0m\u001b[0;34m\u001b[0m\u001b[0m\n\u001b[1;32m    412\u001b[0m \u001b[0;34m\u001b[0m\u001b[0m\n\u001b[0;32m--> 413\u001b[0;31m     \u001b[0;34m@\u001b[0m\u001b[0mproperty\u001b[0m\u001b[0;34m\u001b[0m\u001b[0;34m\u001b[0m\u001b[0m\n\u001b[0m\u001b[1;32m    414\u001b[0m     def _engine_type(\n\u001b[1;32m    415\u001b[0m         \u001b[0mself\u001b[0m\u001b[0;34m,\u001b[0m\u001b[0;34m\u001b[0m\u001b[0;34m\u001b[0m\u001b[0m\n",
            "\u001b[0;31mKeyboardInterrupt\u001b[0m: "
          ]
        }
      ]
    }
  ],
  "metadata": {
    "kernelspec": {
      "display_name": "Python 3 (ipykernel)",
      "language": "python",
      "name": "python3"
    },
    "language_info": {
      "codemirror_mode": {
        "name": "ipython",
        "version": 3
      },
      "file_extension": ".py",
      "mimetype": "text/x-python",
      "name": "python",
      "nbconvert_exporter": "python",
      "pygments_lexer": "ipython3",
      "version": "3.10.11"
    },
    "colab": {
      "provenance": []
    }
  },
  "nbformat": 4,
  "nbformat_minor": 5
}