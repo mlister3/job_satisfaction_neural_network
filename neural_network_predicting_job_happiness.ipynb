{
  "cells": [
    {
      "cell_type": "markdown",
      "source": [
        "### Dependencies"
      ],
      "metadata": {
        "id": "IaPKEWSbRUae"
      },
      "id": "IaPKEWSbRUae"
    },
    {
      "cell_type": "code",
      "source": [
        "# Install Modules\n",
        "!pip install keras_tuner -q\n",
        "\n",
        "# Load Dependencies\n",
        "import pandas as pd\n",
        "from sklearn.model_selection import train_test_split\n",
        "from sklearn.preprocessing import StandardScaler\n",
        "from sklearn.decomposition import PCA\n",
        "import tensorflow as tf\n",
        "import keras_tuner as kt\n",
        "import warnings\n",
        "import numpy as np\n",
        "\n",
        "# Disable all warnings\n",
        "warnings.filterwarnings(\"ignore\")"
      ],
      "metadata": {
        "id": "cGTSm3q0pxD1",
        "outputId": "0bdd017e-268b-43d4-ad2e-137bd1a98d37",
        "colab": {
          "base_uri": "https://localhost:8080/"
        }
      },
      "id": "cGTSm3q0pxD1",
      "execution_count": 1,
      "outputs": [
        {
          "output_type": "stream",
          "name": "stdout",
          "text": [
            "\u001b[?25l     \u001b[90m━━━━━━━━━━━━━━━━━━━━━━━━━━━━━━━━━━━━━━━━\u001b[0m \u001b[32m0.0/176.1 kB\u001b[0m \u001b[31m?\u001b[0m eta \u001b[36m-:--:--\u001b[0m\r\u001b[2K     \u001b[90m━━━━━━━━━━━━━━━━━━━━━━━━━━━━━━━━━━━━━━\u001b[0m \u001b[32m176.1/176.1 kB\u001b[0m \u001b[31m13.7 MB/s\u001b[0m eta \u001b[36m0:00:00\u001b[0m\n",
            "\u001b[?25h"
          ]
        }
      ]
    },
    {
      "cell_type": "markdown",
      "source": [
        "## Preprocessing"
      ],
      "metadata": {
        "id": "2qmFvsUoRh79"
      },
      "id": "2qmFvsUoRh79"
    },
    {
      "cell_type": "markdown",
      "source": [
        "### Load Data"
      ],
      "metadata": {
        "id": "EBWujbVtpiCk"
      },
      "id": "EBWujbVtpiCk"
    },
    {
      "cell_type": "code",
      "execution_count": 16,
      "id": "7d72e12a",
      "metadata": {
        "id": "7d72e12a"
      },
      "outputs": [],
      "source": [
        "def load_join(select, loaded):\n",
        "    selected_df = pd.read_csv(\"https://www.dropbox.com/s/\" + select + \"?dl=1\", index_col=\"review_index\")\n",
        "    if loaded is not None:\n",
        "        selected_df = pd.merge(loaded, selected_df, on='review_index')\n",
        "    return selected_df"
      ]
    },
    {
      "cell_type": "code",
      "execution_count": 17,
      "id": "3db93c45",
      "metadata": {
        "id": "3db93c45"
      },
      "outputs": [],
      "source": [
        "load_metadata = True\n",
        "load_ratings = True\n",
        "load_opinions = True\n",
        "load_descriptions = False\n",
        "load_world_happiness_report = False\n",
        "\n",
        "working_df = None\n",
        "if load_metadata == True:\n",
        "    load_index = \"goqyfyeu2qvpsmo/metadata_df\"\n",
        "    working_df = load_join(load_index, working_df)\n",
        "if load_ratings == True:\n",
        "    load_index = \"9j2j86xwqrmrljx/ratings_df.csv\"\n",
        "    working_df = load_join(load_index, working_df)\n",
        "if load_opinions == True:\n",
        "    load_index = \"q8v9f6rbb4z12df/opinion_df.csv\"\n",
        "    working_df = load_join(load_index, working_df)\n",
        "if load_descriptions == True:\n",
        "    load_index = \"hnp8sebleh6dzgt/descriptions_df.csv\"\n",
        "    working_df = load_join(load_index, working_df)\n",
        "    \n",
        "if load_world_happiness_report == True:\n",
        "    WHR_df = pd.read_csv(\"https://www.dropbox.com/s/jyr4e7fleevrb1s/WHR2023.csv?dl=1\")"
      ]
    },
    {
      "cell_type": "code",
      "execution_count": 18,
      "id": "ef1fe8a6",
      "metadata": {
        "id": "ef1fe8a6",
        "outputId": "58caf9fc-3f6e-440a-cd88-ef2364f637af",
        "colab": {
          "base_uri": "https://localhost:8080/",
          "height": 253
        }
      },
      "outputs": [
        {
          "output_type": "execute_result",
          "data": {
            "text/plain": [
              "                                         current  overall_rating  \\\n",
              "review_index                                                       \n",
              "0                               Current Employee               2   \n",
              "1             Current Employee, more than 1 year               2   \n",
              "2             Current Employee, less than 1 year               1   \n",
              "\n",
              "              work_life_balance  culture_values  diversity_inclusion  \\\n",
              "review_index                                                           \n",
              "0                           4.0             3.0                  NaN   \n",
              "1                           3.0             1.0                  NaN   \n",
              "2                           1.0             1.0                  NaN   \n",
              "\n",
              "              career_opp  comp_benefits  senior_mgmt recommend ceo_approv  \\\n",
              "review_index                                                                \n",
              "0                    2.0            3.0          3.0         x          o   \n",
              "1                    2.0            1.0          4.0         x          o   \n",
              "2                    1.0            1.0          1.0         x          o   \n",
              "\n",
              "             outlook  \n",
              "review_index          \n",
              "0                  r  \n",
              "1                  r  \n",
              "2                  x  "
            ],
            "text/html": [
              "\n",
              "  <div id=\"df-1240e15f-4f62-4d32-837b-2ed30a93b926\">\n",
              "    <div class=\"colab-df-container\">\n",
              "      <div>\n",
              "<style scoped>\n",
              "    .dataframe tbody tr th:only-of-type {\n",
              "        vertical-align: middle;\n",
              "    }\n",
              "\n",
              "    .dataframe tbody tr th {\n",
              "        vertical-align: top;\n",
              "    }\n",
              "\n",
              "    .dataframe thead th {\n",
              "        text-align: right;\n",
              "    }\n",
              "</style>\n",
              "<table border=\"1\" class=\"dataframe\">\n",
              "  <thead>\n",
              "    <tr style=\"text-align: right;\">\n",
              "      <th></th>\n",
              "      <th>current</th>\n",
              "      <th>overall_rating</th>\n",
              "      <th>work_life_balance</th>\n",
              "      <th>culture_values</th>\n",
              "      <th>diversity_inclusion</th>\n",
              "      <th>career_opp</th>\n",
              "      <th>comp_benefits</th>\n",
              "      <th>senior_mgmt</th>\n",
              "      <th>recommend</th>\n",
              "      <th>ceo_approv</th>\n",
              "      <th>outlook</th>\n",
              "    </tr>\n",
              "    <tr>\n",
              "      <th>review_index</th>\n",
              "      <th></th>\n",
              "      <th></th>\n",
              "      <th></th>\n",
              "      <th></th>\n",
              "      <th></th>\n",
              "      <th></th>\n",
              "      <th></th>\n",
              "      <th></th>\n",
              "      <th></th>\n",
              "      <th></th>\n",
              "      <th></th>\n",
              "    </tr>\n",
              "  </thead>\n",
              "  <tbody>\n",
              "    <tr>\n",
              "      <th>0</th>\n",
              "      <td>Current Employee</td>\n",
              "      <td>2</td>\n",
              "      <td>4.0</td>\n",
              "      <td>3.0</td>\n",
              "      <td>NaN</td>\n",
              "      <td>2.0</td>\n",
              "      <td>3.0</td>\n",
              "      <td>3.0</td>\n",
              "      <td>x</td>\n",
              "      <td>o</td>\n",
              "      <td>r</td>\n",
              "    </tr>\n",
              "    <tr>\n",
              "      <th>1</th>\n",
              "      <td>Current Employee, more than 1 year</td>\n",
              "      <td>2</td>\n",
              "      <td>3.0</td>\n",
              "      <td>1.0</td>\n",
              "      <td>NaN</td>\n",
              "      <td>2.0</td>\n",
              "      <td>1.0</td>\n",
              "      <td>4.0</td>\n",
              "      <td>x</td>\n",
              "      <td>o</td>\n",
              "      <td>r</td>\n",
              "    </tr>\n",
              "    <tr>\n",
              "      <th>2</th>\n",
              "      <td>Current Employee, less than 1 year</td>\n",
              "      <td>1</td>\n",
              "      <td>1.0</td>\n",
              "      <td>1.0</td>\n",
              "      <td>NaN</td>\n",
              "      <td>1.0</td>\n",
              "      <td>1.0</td>\n",
              "      <td>1.0</td>\n",
              "      <td>x</td>\n",
              "      <td>o</td>\n",
              "      <td>x</td>\n",
              "    </tr>\n",
              "  </tbody>\n",
              "</table>\n",
              "</div>\n",
              "      <button class=\"colab-df-convert\" onclick=\"convertToInteractive('df-1240e15f-4f62-4d32-837b-2ed30a93b926')\"\n",
              "              title=\"Convert this dataframe to an interactive table.\"\n",
              "              style=\"display:none;\">\n",
              "        \n",
              "  <svg xmlns=\"http://www.w3.org/2000/svg\" height=\"24px\"viewBox=\"0 0 24 24\"\n",
              "       width=\"24px\">\n",
              "    <path d=\"M0 0h24v24H0V0z\" fill=\"none\"/>\n",
              "    <path d=\"M18.56 5.44l.94 2.06.94-2.06 2.06-.94-2.06-.94-.94-2.06-.94 2.06-2.06.94zm-11 1L8.5 8.5l.94-2.06 2.06-.94-2.06-.94L8.5 2.5l-.94 2.06-2.06.94zm10 10l.94 2.06.94-2.06 2.06-.94-2.06-.94-.94-2.06-.94 2.06-2.06.94z\"/><path d=\"M17.41 7.96l-1.37-1.37c-.4-.4-.92-.59-1.43-.59-.52 0-1.04.2-1.43.59L10.3 9.45l-7.72 7.72c-.78.78-.78 2.05 0 2.83L4 21.41c.39.39.9.59 1.41.59.51 0 1.02-.2 1.41-.59l7.78-7.78 2.81-2.81c.8-.78.8-2.07 0-2.86zM5.41 20L4 18.59l7.72-7.72 1.47 1.35L5.41 20z\"/>\n",
              "  </svg>\n",
              "      </button>\n",
              "      \n",
              "  <style>\n",
              "    .colab-df-container {\n",
              "      display:flex;\n",
              "      flex-wrap:wrap;\n",
              "      gap: 12px;\n",
              "    }\n",
              "\n",
              "    .colab-df-convert {\n",
              "      background-color: #E8F0FE;\n",
              "      border: none;\n",
              "      border-radius: 50%;\n",
              "      cursor: pointer;\n",
              "      display: none;\n",
              "      fill: #1967D2;\n",
              "      height: 32px;\n",
              "      padding: 0 0 0 0;\n",
              "      width: 32px;\n",
              "    }\n",
              "\n",
              "    .colab-df-convert:hover {\n",
              "      background-color: #E2EBFA;\n",
              "      box-shadow: 0px 1px 2px rgba(60, 64, 67, 0.3), 0px 1px 3px 1px rgba(60, 64, 67, 0.15);\n",
              "      fill: #174EA6;\n",
              "    }\n",
              "\n",
              "    [theme=dark] .colab-df-convert {\n",
              "      background-color: #3B4455;\n",
              "      fill: #D2E3FC;\n",
              "    }\n",
              "\n",
              "    [theme=dark] .colab-df-convert:hover {\n",
              "      background-color: #434B5C;\n",
              "      box-shadow: 0px 1px 3px 1px rgba(0, 0, 0, 0.15);\n",
              "      filter: drop-shadow(0px 1px 2px rgba(0, 0, 0, 0.3));\n",
              "      fill: #FFFFFF;\n",
              "    }\n",
              "  </style>\n",
              "\n",
              "      <script>\n",
              "        const buttonEl =\n",
              "          document.querySelector('#df-1240e15f-4f62-4d32-837b-2ed30a93b926 button.colab-df-convert');\n",
              "        buttonEl.style.display =\n",
              "          google.colab.kernel.accessAllowed ? 'block' : 'none';\n",
              "\n",
              "        async function convertToInteractive(key) {\n",
              "          const element = document.querySelector('#df-1240e15f-4f62-4d32-837b-2ed30a93b926');\n",
              "          const dataTable =\n",
              "            await google.colab.kernel.invokeFunction('convertToInteractive',\n",
              "                                                     [key], {});\n",
              "          if (!dataTable) return;\n",
              "\n",
              "          const docLinkHtml = 'Like what you see? Visit the ' +\n",
              "            '<a target=\"_blank\" href=https://colab.research.google.com/notebooks/data_table.ipynb>data table notebook</a>'\n",
              "            + ' to learn more about interactive tables.';\n",
              "          element.innerHTML = '';\n",
              "          dataTable['output_type'] = 'display_data';\n",
              "          await google.colab.output.renderOutput(dataTable, element);\n",
              "          const docLink = document.createElement('div');\n",
              "          docLink.innerHTML = docLinkHtml;\n",
              "          element.appendChild(docLink);\n",
              "        }\n",
              "      </script>\n",
              "    </div>\n",
              "  </div>\n",
              "  "
            ]
          },
          "metadata": {},
          "execution_count": 18
        }
      ],
      "source": [
        "unedited_working_df = working_df.copy()\n",
        "working_df = working_df.drop(['firm', 'date_review', 'job_title', 'location'], axis=1)\n",
        "working_df.head(3)"
      ]
    },
    {
      "cell_type": "markdown",
      "source": [
        "### Data Cleaning"
      ],
      "metadata": {
        "id": "e20KFxSGSZZD"
      },
      "id": "e20KFxSGSZZD"
    },
    {
      "cell_type": "markdown",
      "source": [
        "#### Cleaning Data Attempt - Drop Less Columns"
      ],
      "metadata": {
        "id": "XvzKGdaSTyTa"
      },
      "id": "XvzKGdaSTyTa"
    },
    {
      "cell_type": "code",
      "source": [
        "preprocessing_df = unedited_working_df.copy()\n",
        "preprocessing_df = preprocessing_df.drop(['date_review', 'location', 'job_title'], axis=1)"
      ],
      "metadata": {
        "id": "-3sbJz_oT7uh"
      },
      "id": "-3sbJz_oT7uh",
      "execution_count": 112,
      "outputs": []
    },
    {
      "cell_type": "code",
      "source": [
        "cutoff_value = 2000\n",
        "firms_to_replace = preprocessing_df['firm'].value_counts()[preprocessing_df['firm'].value_counts() < cutoff_value].index.tolist()\n",
        "\n",
        "# Replace in dataframe\n",
        "for firm in firms_to_replace:\n",
        "    preprocessing_df['firm'] = preprocessing_df['firm'].replace(firm,\"Other\")\n",
        "    \n",
        "# Check to make sure binning was successful\n",
        "print(preprocessing_df['firm'].value_counts())\n",
        "print(\"These ar how many samples that got 'firm' changed to Other: \", len(preprocessing_df[preprocessing_df['firm'] == \"Other\"]))\n",
        "print(\"Number of firms removed: \", len(firms_to_replace))"
      ],
      "metadata": {
        "id": "rTx2FoxVWDZw",
        "outputId": "c7a230d6-80bf-4b6c-b7cd-7cd57b20f64a",
        "colab": {
          "base_uri": "https://localhost:8080/"
        }
      },
      "id": "rTx2FoxVWDZw",
      "execution_count": 113,
      "outputs": [
        {
          "output_type": "stream",
          "name": "stdout",
          "text": [
            "Other                 132211\n",
            "IBM                    60436\n",
            "McDonald-s             49450\n",
            "Deloitte               46995\n",
            "EY                     34050\n",
            "                       ...  \n",
            "Bayer                   2441\n",
            "BDO                     2422\n",
            "The-Salvation-Army      2356\n",
            "Accenture               2156\n",
            "Co-op                   2065\n",
            "Name: firm, Length: 77, dtype: int64\n",
            "These ar how many samples that got 'firm' changed to Other:  132211\n",
            "Number of firms removed:  352\n"
          ]
        }
      ]
    },
    {
      "cell_type": "code",
      "source": [
        "# Cutoff value to make a list of values in the 'current' column to put into \"other\" catagory\n",
        "cutoff_value = 10000\n",
        "current_to_replace = preprocessing_df['current'].value_counts()[preprocessing_df['current'].value_counts() < cutoff_value].index.tolist()\n",
        "\n",
        "# Replace in dataframe\n",
        "for review in current_to_replace:\n",
        "    preprocessing_df['current'] = preprocessing_df['current'].replace(review,\"Other\")\n",
        "\n",
        "# Check to make sure binning was successful\n",
        "preprocessing_df['current'].value_counts()"
      ],
      "metadata": {
        "id": "39acOwg0d6hs",
        "outputId": "ee6e7708-7bac-4171-f538-37fd85ec711a",
        "colab": {
          "base_uri": "https://localhost:8080/"
        }
      },
      "id": "39acOwg0d6hs",
      "execution_count": 114,
      "outputs": [
        {
          "output_type": "execute_result",
          "data": {
            "text/plain": [
              "Current Employee                        209599\n",
              "Former Employee                         146133\n",
              "Current Employee, more than 1 year       82749\n",
              "Current Employee, more than 3 years      66471\n",
              "Former Employee, more than 1 year        65687\n",
              "Current Employee, less than 1 year       49603\n",
              "Former Employee, more than 3 years       43614\n",
              "Former Employee, less than 1 year        41874\n",
              "Current Employee, more than 5 years      40155\n",
              "Current Employee, more than 10 years     25029\n",
              "Former Employee, more than 5 years       23017\n",
              "Current Employee, more than 8 years      18506\n",
              "Former Employee, more than 10 years      15411\n",
              "Former Employee, more than 8 years       10686\n",
              "Other                                       32\n",
              "Name: current, dtype: int64"
            ]
          },
          "metadata": {},
          "execution_count": 114
        }
      ]
    },
    {
      "cell_type": "code",
      "source": [
        "print(\"Columns before processing: \", len(preprocessing_df))\n",
        "columns_to_convert = ['overall_rating', 'work_life_balance', 'culture_values',\n",
        "                      'diversity_inclusion', 'career_opp', 'comp_benefits',\n",
        "                      'senior_mgmt']\n",
        "\n",
        "preprocessing_df[columns_to_convert] = preprocessing_df[columns_to_convert].astype(float)\n",
        "preprocessing_df.dropna(subset=columns_to_convert, inplace=True)\n",
        "print(\"Column after dropping NaN values: \", len(preprocessing_df))"
      ],
      "metadata": {
        "id": "MAuiVMDzebJs",
        "outputId": "5e120690-d6c9-44b4-e400-c6b5f7cbe96f",
        "colab": {
          "base_uri": "https://localhost:8080/"
        }
      },
      "id": "MAuiVMDzebJs",
      "execution_count": 115,
      "outputs": [
        {
          "output_type": "stream",
          "name": "stdout",
          "text": [
            "Columns before processing:  838566\n",
            "Column after dropping NaN values:  133863\n"
          ]
        }
      ]
    },
    {
      "cell_type": "code",
      "source": [
        "X = pd.get_dummies(preprocessing_df.drop('overall_rating', axis = 1)).drop(['recommend_o', 'ceo_approv_o', 'outlook_o'], axis = 1)\n",
        "y = pd.get_dummies(preprocessing_df['overall_rating'].astype(int))"
      ],
      "metadata": {
        "id": "_xk5_jE7erM6"
      },
      "id": "_xk5_jE7erM6",
      "execution_count": 116,
      "outputs": []
    },
    {
      "cell_type": "code",
      "source": [
        "# Split the preprocessed data into a training and testing dataset\n",
        "X_train, X_test, y_train, y_test = train_test_split(X, y, test_size=0.25, random_state=1)\n",
        "\n",
        "# Create a StandardScaler instances\n",
        "scaler = StandardScaler()\n",
        "\n",
        "# Fit the StandardScaler\n",
        "X_scaler = scaler.fit(X_train)\n",
        "\n",
        "# Scale the data\n",
        "X_train_scaled = X_scaler.transform(X_train)\n",
        "X_test_scaled = X_scaler.transform(X_test)\n",
        "\n",
        "X_train_scaled.shape"
      ],
      "metadata": {
        "id": "XaNS2qcVdw_2",
        "outputId": "de77d6c1-6567-4f59-93e5-d197496e5076",
        "colab": {
          "base_uri": "https://localhost:8080/"
        }
      },
      "id": "XaNS2qcVdw_2",
      "execution_count": 117,
      "outputs": [
        {
          "output_type": "execute_result",
          "data": {
            "text/plain": [
              "(100397, 106)"
            ]
          },
          "metadata": {},
          "execution_count": 117
        }
      ]
    },
    {
      "cell_type": "markdown",
      "source": [
        "#### Cleaning Data Attempt - Hot-Ended Method"
      ],
      "metadata": {
        "id": "7wdAQdvIpo6i"
      },
      "id": "7wdAQdvIpo6i"
    },
    {
      "cell_type": "code",
      "source": [
        "working_hotend_df = working_df.copy().astype(str)\n",
        "working_hotend_df = working_hotend_df.reset_index(drop=True)"
      ],
      "metadata": {
        "id": "85lu7JWltWJa"
      },
      "id": "85lu7JWltWJa",
      "execution_count": 88,
      "outputs": []
    },
    {
      "cell_type": "code",
      "source": [
        "# Cutoff value to make a list of values in the 'current' column to put into \"other\" catagory\n",
        "cutoff_value = 10000\n",
        "current_to_replace = working_hotend_df['current'].value_counts()[working_hotend_df['current'].value_counts() < cutoff_value].index.tolist()\n",
        "\n",
        "# Replace in dataframe\n",
        "for review in current_to_replace:\n",
        "    working_hotend_df['current'] = working_hotend_df['current'].replace(review,\"Other\")\n",
        "\n",
        "# Check to make sure binning was successful\n",
        "working_hotend_df['current'].value_counts()"
      ],
      "metadata": {
        "id": "XEuSrPpv0A7M",
        "outputId": "adf8f715-30ee-4424-f0fd-2cfce571ad91",
        "colab": {
          "base_uri": "https://localhost:8080/"
        }
      },
      "id": "XEuSrPpv0A7M",
      "execution_count": 89,
      "outputs": [
        {
          "output_type": "execute_result",
          "data": {
            "text/plain": [
              "Current Employee                        209599\n",
              "Former Employee                         146133\n",
              "Current Employee, more than 1 year       82749\n",
              "Current Employee, more than 3 years      66471\n",
              "Former Employee, more than 1 year        65687\n",
              "Current Employee, less than 1 year       49603\n",
              "Former Employee, more than 3 years       43614\n",
              "Former Employee, less than 1 year        41874\n",
              "Current Employee, more than 5 years      40155\n",
              "Current Employee, more than 10 years     25029\n",
              "Former Employee, more than 5 years       23017\n",
              "Current Employee, more than 8 years      18506\n",
              "Former Employee, more than 10 years      15411\n",
              "Former Employee, more than 8 years       10686\n",
              "Other                                       32\n",
              "Name: current, dtype: int64"
            ]
          },
          "metadata": {},
          "execution_count": 89
        }
      ]
    },
    {
      "cell_type": "code",
      "source": [
        "working_hotend_df.nunique()"
      ],
      "metadata": {
        "id": "Jt2DvdeMptyr",
        "outputId": "91fd0f29-8b4b-4510-9fc8-6944f99b0318",
        "colab": {
          "base_uri": "https://localhost:8080/"
        }
      },
      "id": "Jt2DvdeMptyr",
      "execution_count": 90,
      "outputs": [
        {
          "output_type": "execute_result",
          "data": {
            "text/plain": [
              "current                15\n",
              "overall_rating          5\n",
              "work_life_balance       6\n",
              "culture_values          6\n",
              "diversity_inclusion     6\n",
              "career_opp              6\n",
              "comp_benefits           6\n",
              "senior_mgmt             6\n",
              "recommend               3\n",
              "ceo_approv              4\n",
              "outlook                 4\n",
              "dtype: int64"
            ]
          },
          "metadata": {},
          "execution_count": 90
        }
      ]
    },
    {
      "cell_type": "code",
      "source": [
        "X = pd.get_dummies(working_hotend_df.drop('overall_rating', axis = 1))\n",
        "y = pd.get_dummies(working_hotend_df['overall_rating'].astype(int))\n",
        "\n",
        "X = X.drop(['work_life_balance_nan', 'culture_values_nan', 'diversity_inclusion_nan', 'career_opp_nan', \n",
        "           'comp_benefits_nan', 'senior_mgmt_nan', 'recommend_o', 'ceo_approv_o', 'outlook_o'], axis = 1)\n",
        "X.columns"
      ],
      "metadata": {
        "id": "KGZHleoDqqZO",
        "outputId": "7b9b059f-99f4-4bc7-aa89-0220c15ff736",
        "colab": {
          "base_uri": "https://localhost:8080/"
        }
      },
      "id": "KGZHleoDqqZO",
      "execution_count": 91,
      "outputs": [
        {
          "output_type": "execute_result",
          "data": {
            "text/plain": [
              "Index(['current_Current Employee',\n",
              "       'current_Current Employee, less than 1 year',\n",
              "       'current_Current Employee, more than 1 year',\n",
              "       'current_Current Employee, more than 10 years',\n",
              "       'current_Current Employee, more than 3 years',\n",
              "       'current_Current Employee, more than 5 years',\n",
              "       'current_Current Employee, more than 8 years',\n",
              "       'current_Former Employee', 'current_Former Employee, less than 1 year',\n",
              "       'current_Former Employee, more than 1 year',\n",
              "       'current_Former Employee, more than 10 years',\n",
              "       'current_Former Employee, more than 3 years',\n",
              "       'current_Former Employee, more than 5 years',\n",
              "       'current_Former Employee, more than 8 years', 'current_Other',\n",
              "       'work_life_balance_1.0', 'work_life_balance_2.0',\n",
              "       'work_life_balance_3.0', 'work_life_balance_4.0',\n",
              "       'work_life_balance_5.0', 'culture_values_1.0', 'culture_values_2.0',\n",
              "       'culture_values_3.0', 'culture_values_4.0', 'culture_values_5.0',\n",
              "       'diversity_inclusion_1.0', 'diversity_inclusion_2.0',\n",
              "       'diversity_inclusion_3.0', 'diversity_inclusion_4.0',\n",
              "       'diversity_inclusion_5.0', 'career_opp_1.0', 'career_opp_2.0',\n",
              "       'career_opp_3.0', 'career_opp_4.0', 'career_opp_5.0',\n",
              "       'comp_benefits_1.0', 'comp_benefits_2.0', 'comp_benefits_3.0',\n",
              "       'comp_benefits_4.0', 'comp_benefits_5.0', 'senior_mgmt_1.0',\n",
              "       'senior_mgmt_2.0', 'senior_mgmt_3.0', 'senior_mgmt_4.0',\n",
              "       'senior_mgmt_5.0', 'recommend_v', 'recommend_x', 'ceo_approv_r',\n",
              "       'ceo_approv_v', 'ceo_approv_x', 'outlook_r', 'outlook_v', 'outlook_x'],\n",
              "      dtype='object')"
            ]
          },
          "metadata": {},
          "execution_count": 91
        }
      ]
    },
    {
      "cell_type": "code",
      "source": [
        "y.columns"
      ],
      "metadata": {
        "id": "7XZPULqpiWFC",
        "outputId": "67ce1e2c-fac2-423d-ec4b-42c4de757506",
        "colab": {
          "base_uri": "https://localhost:8080/"
        }
      },
      "id": "7XZPULqpiWFC",
      "execution_count": 92,
      "outputs": [
        {
          "output_type": "execute_result",
          "data": {
            "text/plain": [
              "Int64Index([1, 2, 3, 4, 5], dtype='int64')"
            ]
          },
          "metadata": {},
          "execution_count": 92
        }
      ]
    },
    {
      "cell_type": "code",
      "source": [
        "# Split the preprocessed data into a training and testing dataset\n",
        "X_train, X_test, y_train, y_test = train_test_split(X, y, test_size=0.25, random_state=1)\n",
        "\n",
        "# Create a StandardScaler instances\n",
        "scaler = StandardScaler()\n",
        "\n",
        "# Fit the StandardScaler\n",
        "X_scaler = scaler.fit(X_train)\n",
        "\n",
        "# Scale the data\n",
        "X_train_scaled = X_scaler.transform(X_train)\n",
        "X_test_scaled = X_scaler.transform(X_test)\n",
        "\n",
        "X_train_scaled.shape"
      ],
      "metadata": {
        "id": "DLkLyCW030Ux",
        "outputId": "e4edbac4-cff7-4e18-d179-232b702a30ed",
        "colab": {
          "base_uri": "https://localhost:8080/"
        }
      },
      "id": "DLkLyCW030Ux",
      "execution_count": 93,
      "outputs": [
        {
          "output_type": "execute_result",
          "data": {
            "text/plain": [
              "(628924, 53)"
            ]
          },
          "metadata": {},
          "execution_count": 93
        }
      ]
    },
    {
      "cell_type": "markdown",
      "source": [
        "#### Cleaning Data Attempt - Half Hot-Ended Remove NaN"
      ],
      "metadata": {
        "id": "crZbmswLpKK1"
      },
      "id": "crZbmswLpKK1"
    },
    {
      "cell_type": "code",
      "source": [
        "working_half_hotend_df = working_df.copy()\n",
        "print(\"Columns before processing: \", len(working_half_hotend_df))\n",
        "columns_to_convert = ['overall_rating', 'work_life_balance', 'culture_values',\n",
        "                      'diversity_inclusion', 'career_opp', 'comp_benefits',\n",
        "                      'senior_mgmt']\n",
        "\n",
        "working_half_hotend_df[columns_to_convert] = working_half_hotend_df[columns_to_convert].astype(float)\n",
        "working_half_hotend_df.dropna(subset=columns_to_convert, inplace=True)\n",
        "print(\"Column after dropping NaN values: \", len(working_half_hotend_df))"
      ],
      "metadata": {
        "id": "bTo1RtfapS4X",
        "outputId": "015455ba-9d36-4ed8-ef80-c7ad9ad5ee1f",
        "colab": {
          "base_uri": "https://localhost:8080/"
        }
      },
      "id": "bTo1RtfapS4X",
      "execution_count": 5,
      "outputs": [
        {
          "output_type": "stream",
          "name": "stdout",
          "text": [
            "Columns before processing:  838566\n",
            "Column after dropping NaN values:  133863\n"
          ]
        }
      ]
    },
    {
      "cell_type": "code",
      "source": [
        "# Cutoff value to make a list of values in the 'current' column to put into \"other\" catagory\n",
        "cutoff_value = 10\n",
        "current_to_replace = working_half_hotend_df['current'].value_counts()[working_half_hotend_df['current'].value_counts() < cutoff_value].index.tolist()\n",
        "\n",
        "# Replace in dataframe\n",
        "for review in current_to_replace:\n",
        "    working_half_hotend_df['current'] = working_half_hotend_df['current'].replace(review,\"Other\")\n",
        "\n",
        "# Check to make sure binning was successful\n",
        "working_half_hotend_df['current'].value_counts()"
      ],
      "metadata": {
        "id": "KGiJaOscrV5U",
        "outputId": "3ba773a7-19e2-44e1-eb63-3f4419d65efc",
        "colab": {
          "base_uri": "https://localhost:8080/"
        }
      },
      "id": "KGiJaOscrV5U",
      "execution_count": 6,
      "outputs": [
        {
          "output_type": "execute_result",
          "data": {
            "text/plain": [
              "Current Employee                        27897\n",
              "Current Employee, more than 1 year      16569\n",
              "Former Employee                         14089\n",
              "Former Employee, more than 1 year       13959\n",
              "Current Employee, more than 3 years     13332\n",
              "Former Employee, more than 3 years       8950\n",
              "Former Employee, less than 1 year        8902\n",
              "Current Employee, less than 1 year       7949\n",
              "Current Employee, more than 5 years      7381\n",
              "Former Employee, more than 5 years       4229\n",
              "Current Employee, more than 8 years      3324\n",
              "Current Employee, more than 10 years     3234\n",
              "Former Employee, more than 8 years       2020\n",
              "Former Employee, more than 10 years      2019\n",
              "Other                                       9\n",
              "Name: current, dtype: int64"
            ]
          },
          "metadata": {},
          "execution_count": 6
        }
      ]
    },
    {
      "cell_type": "code",
      "source": [
        "working_half_hotend_df.nunique()"
      ],
      "metadata": {
        "id": "ZkgM6zrdtsmZ",
        "outputId": "80dc1397-1bf3-4f04-ade5-e9ab7c2a9e58",
        "colab": {
          "base_uri": "https://localhost:8080/"
        }
      },
      "id": "ZkgM6zrdtsmZ",
      "execution_count": 7,
      "outputs": [
        {
          "output_type": "execute_result",
          "data": {
            "text/plain": [
              "current                15\n",
              "overall_rating          5\n",
              "work_life_balance       5\n",
              "culture_values          5\n",
              "diversity_inclusion     5\n",
              "career_opp              5\n",
              "comp_benefits           5\n",
              "senior_mgmt             5\n",
              "recommend               3\n",
              "ceo_approv              4\n",
              "outlook                 4\n",
              "dtype: int64"
            ]
          },
          "metadata": {},
          "execution_count": 7
        }
      ]
    },
    {
      "cell_type": "code",
      "source": [
        "X = pd.get_dummies(working_half_hotend_df.drop('overall_rating', axis = 1)).drop(['recommend_o', 'ceo_approv_o', 'outlook_o'], axis = 1)\n",
        "y = pd.get_dummies(working_half_hotend_df['overall_rating'].astype(int))\n",
        "\n",
        "X.columns"
      ],
      "metadata": {
        "id": "GRs0ZXHb4U4e",
        "outputId": "6ba6c86e-925c-41b3-d02a-773d04bfa557",
        "colab": {
          "base_uri": "https://localhost:8080/"
        }
      },
      "id": "GRs0ZXHb4U4e",
      "execution_count": 8,
      "outputs": [
        {
          "output_type": "execute_result",
          "data": {
            "text/plain": [
              "Index(['work_life_balance', 'culture_values', 'diversity_inclusion',\n",
              "       'career_opp', 'comp_benefits', 'senior_mgmt',\n",
              "       'current_Current Employee',\n",
              "       'current_Current Employee, less than 1 year',\n",
              "       'current_Current Employee, more than 1 year',\n",
              "       'current_Current Employee, more than 10 years',\n",
              "       'current_Current Employee, more than 3 years',\n",
              "       'current_Current Employee, more than 5 years',\n",
              "       'current_Current Employee, more than 8 years',\n",
              "       'current_Former Employee', 'current_Former Employee, less than 1 year',\n",
              "       'current_Former Employee, more than 1 year',\n",
              "       'current_Former Employee, more than 10 years',\n",
              "       'current_Former Employee, more than 3 years',\n",
              "       'current_Former Employee, more than 5 years',\n",
              "       'current_Former Employee, more than 8 years', 'current_Other',\n",
              "       'recommend_v', 'recommend_x', 'ceo_approv_r', 'ceo_approv_v',\n",
              "       'ceo_approv_x', 'outlook_r', 'outlook_v', 'outlook_x'],\n",
              "      dtype='object')"
            ]
          },
          "metadata": {},
          "execution_count": 8
        }
      ]
    },
    {
      "cell_type": "code",
      "source": [
        "# Split the preprocessed data into a training and testing dataset\n",
        "X_train, X_test, y_train, y_test = train_test_split(X, y, test_size=0.25, random_state=1)\n",
        "\n",
        "# Create a StandardScaler instances\n",
        "scaler = StandardScaler()\n",
        "\n",
        "# Fit the StandardScaler\n",
        "X_scaler = scaler.fit(X_train)\n",
        "\n",
        "# Scale the data\n",
        "X_train_scaled = X_scaler.transform(X_train)\n",
        "X_test_scaled = X_scaler.transform(X_test)\n",
        "\n",
        "X_train_scaled.shape"
      ],
      "metadata": {
        "id": "E7jtdKzF4iWW",
        "outputId": "8367f214-f952-4148-9d2b-edb449a97e1a",
        "colab": {
          "base_uri": "https://localhost:8080/"
        }
      },
      "id": "E7jtdKzF4iWW",
      "execution_count": 9,
      "outputs": [
        {
          "output_type": "execute_result",
          "data": {
            "text/plain": [
              "(100397, 29)"
            ]
          },
          "metadata": {},
          "execution_count": 9
        }
      ]
    },
    {
      "cell_type": "markdown",
      "source": [
        "#### Cleaning Data Attempt - Half Hot-Ended Masking NaN"
      ],
      "metadata": {
        "id": "zDd9eoEx-2LF"
      },
      "id": "zDd9eoEx-2LF"
    },
    {
      "cell_type": "code",
      "source": [
        "mask_working_df = working_df.copy()\n",
        "print(\"Columns before processing: \", len(mask_working_df))\n",
        "columns_to_convert = ['overall_rating', 'work_life_balance', 'culture_values',\n",
        "                      'diversity_inclusion', 'career_opp', 'comp_benefits',\n",
        "                      'senior_mgmt']\n",
        "                      \n",
        "mask_working_df[columns_to_convert] = mask_working_df[columns_to_convert].astype(float)"
      ],
      "metadata": {
        "id": "a3u3BDHd-_4J"
      },
      "id": "a3u3BDHd-_4J",
      "execution_count": null,
      "outputs": []
    },
    {
      "cell_type": "code",
      "source": [
        "# Cutoff value to make a list of values in the 'current' column to put into \"other\" catagory\n",
        "cutoff_value = 1000\n",
        "current_to_replace = mask_working_df['current'].value_counts()[mask_working_df['current'].value_counts() < cutoff_value].index.tolist()\n",
        "\n",
        "# Replace in dataframe\n",
        "for review in current_to_replace:\n",
        "    mask_working_df['current'] = mask_working_df['current'].replace(review,\"Other\")\n",
        "\n",
        "# Check to make sure binning was successful\n",
        "mask_working_df['current'].value_counts()"
      ],
      "metadata": {
        "id": "OeMr_lZI_XBP"
      },
      "id": "OeMr_lZI_XBP",
      "execution_count": null,
      "outputs": []
    },
    {
      "cell_type": "code",
      "source": [
        "hot_end_columns = ['current', 'recommend', 'ceo_approv', 'outlook']\n",
        "mask_working_df = (pd.get_dummies(mask_working_df, columns=hot_end_columns)).drop(['recommend_o', 'ceo_approv_o', 'outlook_o'], axis = 1)"
      ],
      "metadata": {
        "id": "z02REvG5_yS8"
      },
      "id": "z02REvG5_yS8",
      "execution_count": null,
      "outputs": []
    },
    {
      "cell_type": "code",
      "source": [
        "X = mask_working_df.drop('overall_rating', axis = 1)\n",
        "y = pd.get_dummies(mask_working_df['overall_rating'].astype(int))\n",
        "X.head()"
      ],
      "metadata": {
        "id": "RORCDX1C_rV1"
      },
      "id": "RORCDX1C_rV1",
      "execution_count": null,
      "outputs": []
    },
    {
      "cell_type": "code",
      "source": [
        "# Split the preprocessed data into a training and testing dataset\n",
        "X_train, X_test, y_train, y_test = train_test_split(X, y, test_size=0.25, random_state=1)\n",
        "\n",
        "# Create a StandardScaler instances\n",
        "scaler = StandardScaler()\n",
        "\n",
        "# Fit the StandardScaler\n",
        "X_scaler = scaler.fit(X_train)\n",
        "\n",
        "# Scale the data\n",
        "X_train_scaled = X_scaler.transform(X_train)\n",
        "X_test_scaled = X_scaler.transform(X_test)\n",
        "\n",
        "X_train_scaled.shape"
      ],
      "metadata": {
        "id": "E50NTy96CYCs"
      },
      "id": "E50NTy96CYCs",
      "execution_count": null,
      "outputs": []
    },
    {
      "cell_type": "code",
      "source": [
        "X_train_scaled = np.nan_to_num(X_train_scaled, nan=10)\n",
        "X_test_scaled = np.nan_to_num(X_test_scaled, nan=10)"
      ],
      "metadata": {
        "id": "cbl16ysOEkqb"
      },
      "id": "cbl16ysOEkqb",
      "execution_count": null,
      "outputs": []
    },
    {
      "cell_type": "markdown",
      "source": [
        "## NN Attempt - Compile, Train, & Evaluate Default Model"
      ],
      "metadata": {
        "id": "CGVIpLvl4KGZ"
      },
      "id": "CGVIpLvl4KGZ"
    },
    {
      "cell_type": "code",
      "source": [
        "# Define the model\n",
        "nn_default = tf.keras.models.Sequential()\n",
        "\n",
        "# Add the masking layer\n",
        "nn_default.add(tf.keras.layers.Masking(mask_value=10, input_shape=(X_train_scaled.shape[1],)))\n",
        "\n",
        "# Add the first hidden layer\n",
        "nn_default.add(tf.keras.layers.Dense(units=80, activation='relu'))\n",
        "\n",
        "# Add the second hidden layer\n",
        "nn_default.add(tf.keras.layers.Dense(units=30, activation='relu'))\n",
        "\n",
        "# Add the output layer\n",
        "nn_default.add(tf.keras.layers.Dense(units=5, activation='sigmoid'))\n",
        "\n",
        "# Check the structure of the model\n",
        "nn_default.summary()"
      ],
      "metadata": {
        "id": "YAFrnD0r4RxQ",
        "outputId": "716bea0d-edb4-4ab3-a10a-23c61c977c90",
        "colab": {
          "base_uri": "https://localhost:8080/"
        }
      },
      "id": "YAFrnD0r4RxQ",
      "execution_count": 125,
      "outputs": [
        {
          "output_type": "stream",
          "name": "stdout",
          "text": [
            "Model: \"sequential_4\"\n",
            "_________________________________________________________________\n",
            " Layer (type)                Output Shape              Param #   \n",
            "=================================================================\n",
            " masking_4 (Masking)         (None, 106)               0         \n",
            "                                                                 \n",
            " dense_12 (Dense)            (None, 80)                8560      \n",
            "                                                                 \n",
            " dense_13 (Dense)            (None, 30)                2430      \n",
            "                                                                 \n",
            " dense_14 (Dense)            (None, 5)                 155       \n",
            "                                                                 \n",
            "=================================================================\n",
            "Total params: 11,145\n",
            "Trainable params: 11,145\n",
            "Non-trainable params: 0\n",
            "_________________________________________________________________\n"
          ]
        }
      ]
    },
    {
      "cell_type": "code",
      "source": [
        "# Compile the model\n",
        "nn_default.compile(loss='mse', optimizer='adam', metrics=['accuracy'])\n",
        "\n",
        "# Train the model\n",
        "history = nn_default.fit(X_train_scaled, y_train, epochs=20, verbose=1, batch_size=64)"
      ],
      "metadata": {
        "id": "4pCl9zGr4blK",
        "outputId": "5efd9740-3dc6-4fa2-c5cc-9b2eb590e208",
        "colab": {
          "base_uri": "https://localhost:8080/"
        }
      },
      "id": "4pCl9zGr4blK",
      "execution_count": 126,
      "outputs": [
        {
          "output_type": "stream",
          "name": "stdout",
          "text": [
            "Epoch 1/20\n",
            "1569/1569 [==============================] - 4s 2ms/step - loss: 0.0980 - accuracy: 0.6321\n",
            "Epoch 2/20\n",
            "1569/1569 [==============================] - 3s 2ms/step - loss: 0.0901 - accuracy: 0.6643\n",
            "Epoch 3/20\n",
            "1569/1569 [==============================] - 2s 1ms/step - loss: 0.0892 - accuracy: 0.6671\n",
            "Epoch 4/20\n",
            "1569/1569 [==============================] - 2s 1ms/step - loss: 0.0887 - accuracy: 0.6694\n",
            "Epoch 5/20\n",
            "1569/1569 [==============================] - 2s 1ms/step - loss: 0.0882 - accuracy: 0.6723\n",
            "Epoch 6/20\n",
            "1569/1569 [==============================] - 2s 2ms/step - loss: 0.0879 - accuracy: 0.6741\n",
            "Epoch 7/20\n",
            "1569/1569 [==============================] - 2s 1ms/step - loss: 0.0874 - accuracy: 0.6761\n",
            "Epoch 8/20\n",
            "1569/1569 [==============================] - 2s 1ms/step - loss: 0.0870 - accuracy: 0.6784\n",
            "Epoch 9/20\n",
            "1569/1569 [==============================] - 2s 1ms/step - loss: 0.0866 - accuracy: 0.6793\n",
            "Epoch 10/20\n",
            "1569/1569 [==============================] - 2s 1ms/step - loss: 0.0862 - accuracy: 0.6816\n",
            "Epoch 11/20\n",
            "1569/1569 [==============================] - 2s 1ms/step - loss: 0.0859 - accuracy: 0.6832\n",
            "Epoch 12/20\n",
            "1569/1569 [==============================] - 2s 1ms/step - loss: 0.0856 - accuracy: 0.6848\n",
            "Epoch 13/20\n",
            "1569/1569 [==============================] - 2s 1ms/step - loss: 0.0853 - accuracy: 0.6850\n",
            "Epoch 14/20\n",
            "1569/1569 [==============================] - 2s 1ms/step - loss: 0.0851 - accuracy: 0.6867\n",
            "Epoch 15/20\n",
            "1569/1569 [==============================] - 2s 1ms/step - loss: 0.0848 - accuracy: 0.6889\n",
            "Epoch 16/20\n",
            "1569/1569 [==============================] - 2s 1ms/step - loss: 0.0846 - accuracy: 0.6897\n",
            "Epoch 17/20\n",
            "1569/1569 [==============================] - 2s 2ms/step - loss: 0.0844 - accuracy: 0.6909\n",
            "Epoch 18/20\n",
            "1569/1569 [==============================] - 2s 1ms/step - loss: 0.0841 - accuracy: 0.6917\n",
            "Epoch 19/20\n",
            "1569/1569 [==============================] - 2s 1ms/step - loss: 0.0839 - accuracy: 0.6933\n",
            "Epoch 20/20\n",
            "1569/1569 [==============================] - 2s 1ms/step - loss: 0.0837 - accuracy: 0.6944\n"
          ]
        }
      ]
    },
    {
      "cell_type": "code",
      "source": [
        "# Evaluate the model using the test data\n",
        "model_loss, model_accuracy = nn_default.evaluate(X_test_scaled,y_test,verbose=1, batch_size=64)\n",
        "print(f\"Loss: {model_loss}, Accuracy: {model_accuracy}\")"
      ],
      "metadata": {
        "colab": {
          "base_uri": "https://localhost:8080/"
        },
        "id": "Xq7EK7m1CNB8",
        "outputId": "ba378ce5-e948-4674-fb74-0fecd3205efe"
      },
      "id": "Xq7EK7m1CNB8",
      "execution_count": 127,
      "outputs": [
        {
          "output_type": "stream",
          "name": "stdout",
          "text": [
            "523/523 [==============================] - 1s 1ms/step - loss: 0.0910 - accuracy: 0.6620\n",
            "Loss: 0.09097267687320709, Accuracy: 0.6620450615882874\n"
          ]
        }
      ]
    },
    {
      "cell_type": "code",
      "source": [
        "predictions = pd.DataFrame(nn_default.predict(X_test_scaled))"
      ],
      "metadata": {
        "id": "V4gglbzaGIi9",
        "outputId": "97a25321-d3da-41c0-a661-c3597e8f3cd4",
        "colab": {
          "base_uri": "https://localhost:8080/"
        }
      },
      "id": "V4gglbzaGIi9",
      "execution_count": 128,
      "outputs": [
        {
          "output_type": "stream",
          "name": "stdout",
          "text": [
            "1046/1046 [==============================] - 1s 885us/step\n"
          ]
        }
      ]
    },
    {
      "cell_type": "code",
      "source": [
        "predictions = predictions.rename(columns={0: 1, 1: 2, 2: 3, 3: 4, 4: 5})\n",
        "predictions['y_predict'] = predictions.idxmax(axis=1)\n",
        "predictions['y_actual'] = (y_test.idxmax(axis=1)).reset_index(drop=True)\n",
        "predictions[1:10]"
      ],
      "metadata": {
        "id": "QZyzY7QFagvv",
        "outputId": "0982bc9a-d85c-4ace-9f16-e0d26d93fda5",
        "colab": {
          "base_uri": "https://localhost:8080/",
          "height": 331
        }
      },
      "id": "QZyzY7QFagvv",
      "execution_count": 129,
      "outputs": [
        {
          "output_type": "execute_result",
          "data": {
            "text/plain": [
              "          1         2         3         4         5  y_predict  y_actual\n",
              "1  0.000024  0.000458  0.031864  0.716882  0.253105          4         4\n",
              "2  0.000817  0.001293  0.113885  0.605885  0.234679          4         5\n",
              "3  0.006188  0.026284  0.329893  0.483585  0.116851          4         1\n",
              "4  0.949283  0.057061  0.014787  0.003150  0.008702          1         1\n",
              "5  0.000039  0.000104  0.011411  0.667435  0.298531          4         4\n",
              "6  0.002738  0.211386  0.671880  0.136382  0.019643          3         3\n",
              "7  0.907078  0.093326  0.028072  0.004121  0.009068          1         1\n",
              "8  0.000246  0.000215  0.022103  0.508211  0.432774          4         5\n",
              "9  0.000368  0.010831  0.047661  0.786832  0.158492          4         4"
            ],
            "text/html": [
              "\n",
              "  <div id=\"df-21860d04-d66a-4c21-aa02-509693444dd3\">\n",
              "    <div class=\"colab-df-container\">\n",
              "      <div>\n",
              "<style scoped>\n",
              "    .dataframe tbody tr th:only-of-type {\n",
              "        vertical-align: middle;\n",
              "    }\n",
              "\n",
              "    .dataframe tbody tr th {\n",
              "        vertical-align: top;\n",
              "    }\n",
              "\n",
              "    .dataframe thead th {\n",
              "        text-align: right;\n",
              "    }\n",
              "</style>\n",
              "<table border=\"1\" class=\"dataframe\">\n",
              "  <thead>\n",
              "    <tr style=\"text-align: right;\">\n",
              "      <th></th>\n",
              "      <th>1</th>\n",
              "      <th>2</th>\n",
              "      <th>3</th>\n",
              "      <th>4</th>\n",
              "      <th>5</th>\n",
              "      <th>y_predict</th>\n",
              "      <th>y_actual</th>\n",
              "    </tr>\n",
              "  </thead>\n",
              "  <tbody>\n",
              "    <tr>\n",
              "      <th>1</th>\n",
              "      <td>0.000024</td>\n",
              "      <td>0.000458</td>\n",
              "      <td>0.031864</td>\n",
              "      <td>0.716882</td>\n",
              "      <td>0.253105</td>\n",
              "      <td>4</td>\n",
              "      <td>4</td>\n",
              "    </tr>\n",
              "    <tr>\n",
              "      <th>2</th>\n",
              "      <td>0.000817</td>\n",
              "      <td>0.001293</td>\n",
              "      <td>0.113885</td>\n",
              "      <td>0.605885</td>\n",
              "      <td>0.234679</td>\n",
              "      <td>4</td>\n",
              "      <td>5</td>\n",
              "    </tr>\n",
              "    <tr>\n",
              "      <th>3</th>\n",
              "      <td>0.006188</td>\n",
              "      <td>0.026284</td>\n",
              "      <td>0.329893</td>\n",
              "      <td>0.483585</td>\n",
              "      <td>0.116851</td>\n",
              "      <td>4</td>\n",
              "      <td>1</td>\n",
              "    </tr>\n",
              "    <tr>\n",
              "      <th>4</th>\n",
              "      <td>0.949283</td>\n",
              "      <td>0.057061</td>\n",
              "      <td>0.014787</td>\n",
              "      <td>0.003150</td>\n",
              "      <td>0.008702</td>\n",
              "      <td>1</td>\n",
              "      <td>1</td>\n",
              "    </tr>\n",
              "    <tr>\n",
              "      <th>5</th>\n",
              "      <td>0.000039</td>\n",
              "      <td>0.000104</td>\n",
              "      <td>0.011411</td>\n",
              "      <td>0.667435</td>\n",
              "      <td>0.298531</td>\n",
              "      <td>4</td>\n",
              "      <td>4</td>\n",
              "    </tr>\n",
              "    <tr>\n",
              "      <th>6</th>\n",
              "      <td>0.002738</td>\n",
              "      <td>0.211386</td>\n",
              "      <td>0.671880</td>\n",
              "      <td>0.136382</td>\n",
              "      <td>0.019643</td>\n",
              "      <td>3</td>\n",
              "      <td>3</td>\n",
              "    </tr>\n",
              "    <tr>\n",
              "      <th>7</th>\n",
              "      <td>0.907078</td>\n",
              "      <td>0.093326</td>\n",
              "      <td>0.028072</td>\n",
              "      <td>0.004121</td>\n",
              "      <td>0.009068</td>\n",
              "      <td>1</td>\n",
              "      <td>1</td>\n",
              "    </tr>\n",
              "    <tr>\n",
              "      <th>8</th>\n",
              "      <td>0.000246</td>\n",
              "      <td>0.000215</td>\n",
              "      <td>0.022103</td>\n",
              "      <td>0.508211</td>\n",
              "      <td>0.432774</td>\n",
              "      <td>4</td>\n",
              "      <td>5</td>\n",
              "    </tr>\n",
              "    <tr>\n",
              "      <th>9</th>\n",
              "      <td>0.000368</td>\n",
              "      <td>0.010831</td>\n",
              "      <td>0.047661</td>\n",
              "      <td>0.786832</td>\n",
              "      <td>0.158492</td>\n",
              "      <td>4</td>\n",
              "      <td>4</td>\n",
              "    </tr>\n",
              "  </tbody>\n",
              "</table>\n",
              "</div>\n",
              "      <button class=\"colab-df-convert\" onclick=\"convertToInteractive('df-21860d04-d66a-4c21-aa02-509693444dd3')\"\n",
              "              title=\"Convert this dataframe to an interactive table.\"\n",
              "              style=\"display:none;\">\n",
              "        \n",
              "  <svg xmlns=\"http://www.w3.org/2000/svg\" height=\"24px\"viewBox=\"0 0 24 24\"\n",
              "       width=\"24px\">\n",
              "    <path d=\"M0 0h24v24H0V0z\" fill=\"none\"/>\n",
              "    <path d=\"M18.56 5.44l.94 2.06.94-2.06 2.06-.94-2.06-.94-.94-2.06-.94 2.06-2.06.94zm-11 1L8.5 8.5l.94-2.06 2.06-.94-2.06-.94L8.5 2.5l-.94 2.06-2.06.94zm10 10l.94 2.06.94-2.06 2.06-.94-2.06-.94-.94-2.06-.94 2.06-2.06.94z\"/><path d=\"M17.41 7.96l-1.37-1.37c-.4-.4-.92-.59-1.43-.59-.52 0-1.04.2-1.43.59L10.3 9.45l-7.72 7.72c-.78.78-.78 2.05 0 2.83L4 21.41c.39.39.9.59 1.41.59.51 0 1.02-.2 1.41-.59l7.78-7.78 2.81-2.81c.8-.78.8-2.07 0-2.86zM5.41 20L4 18.59l7.72-7.72 1.47 1.35L5.41 20z\"/>\n",
              "  </svg>\n",
              "      </button>\n",
              "      \n",
              "  <style>\n",
              "    .colab-df-container {\n",
              "      display:flex;\n",
              "      flex-wrap:wrap;\n",
              "      gap: 12px;\n",
              "    }\n",
              "\n",
              "    .colab-df-convert {\n",
              "      background-color: #E8F0FE;\n",
              "      border: none;\n",
              "      border-radius: 50%;\n",
              "      cursor: pointer;\n",
              "      display: none;\n",
              "      fill: #1967D2;\n",
              "      height: 32px;\n",
              "      padding: 0 0 0 0;\n",
              "      width: 32px;\n",
              "    }\n",
              "\n",
              "    .colab-df-convert:hover {\n",
              "      background-color: #E2EBFA;\n",
              "      box-shadow: 0px 1px 2px rgba(60, 64, 67, 0.3), 0px 1px 3px 1px rgba(60, 64, 67, 0.15);\n",
              "      fill: #174EA6;\n",
              "    }\n",
              "\n",
              "    [theme=dark] .colab-df-convert {\n",
              "      background-color: #3B4455;\n",
              "      fill: #D2E3FC;\n",
              "    }\n",
              "\n",
              "    [theme=dark] .colab-df-convert:hover {\n",
              "      background-color: #434B5C;\n",
              "      box-shadow: 0px 1px 3px 1px rgba(0, 0, 0, 0.15);\n",
              "      filter: drop-shadow(0px 1px 2px rgba(0, 0, 0, 0.3));\n",
              "      fill: #FFFFFF;\n",
              "    }\n",
              "  </style>\n",
              "\n",
              "      <script>\n",
              "        const buttonEl =\n",
              "          document.querySelector('#df-21860d04-d66a-4c21-aa02-509693444dd3 button.colab-df-convert');\n",
              "        buttonEl.style.display =\n",
              "          google.colab.kernel.accessAllowed ? 'block' : 'none';\n",
              "\n",
              "        async function convertToInteractive(key) {\n",
              "          const element = document.querySelector('#df-21860d04-d66a-4c21-aa02-509693444dd3');\n",
              "          const dataTable =\n",
              "            await google.colab.kernel.invokeFunction('convertToInteractive',\n",
              "                                                     [key], {});\n",
              "          if (!dataTable) return;\n",
              "\n",
              "          const docLinkHtml = 'Like what you see? Visit the ' +\n",
              "            '<a target=\"_blank\" href=https://colab.research.google.com/notebooks/data_table.ipynb>data table notebook</a>'\n",
              "            + ' to learn more about interactive tables.';\n",
              "          element.innerHTML = '';\n",
              "          dataTable['output_type'] = 'display_data';\n",
              "          await google.colab.output.renderOutput(dataTable, element);\n",
              "          const docLink = document.createElement('div');\n",
              "          docLink.innerHTML = docLinkHtml;\n",
              "          element.appendChild(docLink);\n",
              "        }\n",
              "      </script>\n",
              "    </div>\n",
              "  </div>\n",
              "  "
            ]
          },
          "metadata": {},
          "execution_count": 129
        }
      ]
    },
    {
      "cell_type": "code",
      "source": [
        "difference = 0\n",
        "\n",
        "for index, row in predictions.iterrows():\n",
        "    # Get the absolute difference between 'y_predict' and 'y_actual' columns\n",
        "    diff = abs(row['y_predict'] - row['y_actual'])\n",
        "    \n",
        "    # Add the difference to the total\n",
        "    difference += diff\n",
        "\n",
        "difference = difference / len(predictions)\n",
        "print(\"Mean points delta actual value: \", difference)"
      ],
      "metadata": {
        "id": "gbbrZIoxIj61",
        "outputId": "4abead26-eb93-4667-8579-3709bcd92561",
        "colab": {
          "base_uri": "https://localhost:8080/"
        }
      },
      "id": "gbbrZIoxIj61",
      "execution_count": 130,
      "outputs": [
        {
          "output_type": "stream",
          "name": "stdout",
          "text": [
            "Mean points delta actual value:  0.37142174146895357\n"
          ]
        }
      ]
    },
    {
      "cell_type": "markdown",
      "source": [
        "Hot Ended - Mean points delta actual value:  0.43129239369973577\n",
        "\n",
        "Half Hot Ended Remove NaN - Mean points delta actual value:  0.36371242455028985\n",
        "\n",
        "Half Hot Ended Mask NaN - Mean points delta actual value:  0.4334150599593593"
      ],
      "metadata": {
        "id": "MII4Eq4PL1GR"
      },
      "id": "MII4Eq4PL1GR"
    }
  ],
  "metadata": {
    "kernelspec": {
      "display_name": "Python 3 (ipykernel)",
      "language": "python",
      "name": "python3"
    },
    "language_info": {
      "codemirror_mode": {
        "name": "ipython",
        "version": 3
      },
      "file_extension": ".py",
      "mimetype": "text/x-python",
      "name": "python",
      "nbconvert_exporter": "python",
      "pygments_lexer": "ipython3",
      "version": "3.10.11"
    },
    "colab": {
      "provenance": []
    }
  },
  "nbformat": 4,
  "nbformat_minor": 5
}