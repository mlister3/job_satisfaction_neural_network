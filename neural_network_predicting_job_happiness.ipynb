{
 "cells": [
  {
   "cell_type": "code",
   "execution_count": 1,
   "id": "b2ee1f76",
   "metadata": {},
   "outputs": [],
   "source": [
    "import pandas as pd\n",
    "    \n",
    "def load_join(select, loaded):\n",
    "    selected_df = pd.read_csv(\"https://www.dropbox.com/s/\" + select + \"?dl=1\", index_col=\"review_index\")\n",
    "    if loaded is not None:\n",
    "        selected_df = pd.merge(loaded, selected_df, on='review_index')\n",
    "    return selected_df"
   ]
  },
  {
   "cell_type": "code",
   "execution_count": 2,
   "id": "c0617996",
   "metadata": {},
   "outputs": [
    {
     "ename": "TypeError",
     "evalue": "load_join() takes 2 positional arguments but 3 were given",
     "output_type": "error",
     "traceback": [
      "\u001b[1;31m---------------------------------------------------------------------------\u001b[0m",
      "\u001b[1;31mTypeError\u001b[0m                                 Traceback (most recent call last)",
      "Cell \u001b[1;32mIn[2], line 13\u001b[0m\n\u001b[0;32m     11\u001b[0m \u001b[38;5;28;01mif\u001b[39;00m load_ratings \u001b[38;5;241m==\u001b[39m \u001b[38;5;28;01mTrue\u001b[39;00m:\n\u001b[0;32m     12\u001b[0m     load_index \u001b[38;5;241m=\u001b[39m \u001b[38;5;124m\"\u001b[39m\u001b[38;5;124m9j2j86xwqrmrljx/ratings_df.csv\u001b[39m\u001b[38;5;124m\"\u001b[39m\n\u001b[1;32m---> 13\u001b[0m     working_df \u001b[38;5;241m=\u001b[39m \u001b[43mload_join\u001b[49m\u001b[43m(\u001b[49m\u001b[43mload_index\u001b[49m\u001b[43m,\u001b[49m\u001b[43m \u001b[49m\u001b[43mworking_df\u001b[49m\u001b[43m,\u001b[49m\u001b[43m \u001b[49m\u001b[38;5;241;43m0\u001b[39;49m\u001b[43m)\u001b[49m\n\u001b[0;32m     14\u001b[0m \u001b[38;5;28;01mif\u001b[39;00m load_opinions \u001b[38;5;241m==\u001b[39m \u001b[38;5;28;01mTrue\u001b[39;00m:\n\u001b[0;32m     15\u001b[0m     load_index \u001b[38;5;241m=\u001b[39m \u001b[38;5;124m\"\u001b[39m\u001b[38;5;124mq8v9f6rbb4z12df/opinion_df.csv\u001b[39m\u001b[38;5;124m\"\u001b[39m\n",
      "\u001b[1;31mTypeError\u001b[0m: load_join() takes 2 positional arguments but 3 were given"
     ]
    }
   ],
   "source": [
    "load_metadata = False\n",
    "load_ratings = True\n",
    "load_opinions = True\n",
    "load_descriptions = False\n",
    "load_world_happiness_report = False\n",
    "\n",
    "working_df = None\n",
    "if load_metadata == True:\n",
    "    load_index = \"goqyfyeu2qvpsmo/metadata_df\"\n",
    "    working_df = load_join(load_index, working_df)\n",
    "if load_ratings == True:\n",
    "    load_index = \"9j2j86xwqrmrljx/ratings_df.csv\"\n",
    "    working_df = load_join(load_index, working_df)\n",
    "if load_opinions == True:\n",
    "    load_index = \"q8v9f6rbb4z12df/opinion_df.csv\"\n",
    "    working_df = load_join(load_index, working_df, 0)\n",
    "if load_descriptions == True:\n",
    "    load_index = \"hnp8sebleh6dzgt/descriptions_df.csv\"\n",
    "    working_df = load_join(load_index, working_df, 0)\n",
    "    \n",
    "if load_world_happiness_report == True:\n",
    "    WHR_df = pd.read_csv(\"https://www.dropbox.com/s/jyr4e7fleevrb1s/WHR2023.csv?dl=1\")"
   ]
  },
  {
   "cell_type": "code",
   "execution_count": null,
   "id": "9c00dbbc",
   "metadata": {},
   "outputs": [],
   "source": [
    "working_df.head(3)"
   ]
  },
  {
   "cell_type": "code",
   "execution_count": null,
   "id": "f85c37d6",
   "metadata": {},
   "outputs": [],
   "source": []
  }
 ],
 "metadata": {
  "kernelspec": {
   "display_name": "Python 3 (ipykernel)",
   "language": "python",
   "name": "python3"
  },
  "language_info": {
   "codemirror_mode": {
    "name": "ipython",
    "version": 3
   },
   "file_extension": ".py",
   "mimetype": "text/x-python",
   "name": "python",
   "nbconvert_exporter": "python",
   "pygments_lexer": "ipython3",
   "version": "3.10.11"
  }
 },
 "nbformat": 4,
 "nbformat_minor": 5
}
