{
  "cells": [
    {
      "cell_type": "markdown",
      "source": [
        "### Dependencies"
      ],
      "metadata": {
        "id": "IaPKEWSbRUae"
      },
      "id": "IaPKEWSbRUae"
    },
    {
      "cell_type": "code",
      "source": [
        "# Install Modules\n",
        "!pip install keras_tuner -q\n",
        "\n",
        "# Load Dependencies\n",
        "import pandas as pd\n",
        "from sklearn.model_selection import train_test_split\n",
        "from sklearn.preprocessing import StandardScaler\n",
        "from sklearn.decomposition import PCA\n",
        "import tensorflow as tf\n",
        "import keras_tuner as kt\n",
        "import warnings\n",
        "import numpy as np\n",
        "from collections import Counter\n",
        "import nltk\n",
        "from nltk.tokenize import word_tokenize\n",
        "from nltk.corpus import stopwords\n",
        "nltk.download('punkt')\n",
        "nltk.download('stopwords')\n",
        "\n",
        "# Disable all warnings\n",
        "warnings.filterwarnings(\"ignore\")"
      ],
      "metadata": {
        "id": "cGTSm3q0pxD1",
        "outputId": "4bde275f-c4c1-4e27-8cbe-9cf35efad770",
        "colab": {
          "base_uri": "https://localhost:8080/"
        }
      },
      "id": "cGTSm3q0pxD1",
      "execution_count": 1,
      "outputs": [
        {
          "output_type": "stream",
          "name": "stdout",
          "text": [
            "\u001b[?25l     \u001b[90m━━━━━━━━━━━━━━━━━━━━━━━━━━━━━━━━━━━━━━━━\u001b[0m \u001b[32m0.0/176.1 kB\u001b[0m \u001b[31m?\u001b[0m eta \u001b[36m-:--:--\u001b[0m\r\u001b[2K     \u001b[90m━━━━━━━━━━━━━━━━━━━━━━━━━━━━━━━━━━━━━━━\u001b[0m \u001b[32m176.1/176.1 kB\u001b[0m \u001b[31m6.2 MB/s\u001b[0m eta \u001b[36m0:00:00\u001b[0m\n",
            "\u001b[?25h"
          ]
        },
        {
          "output_type": "stream",
          "name": "stderr",
          "text": [
            "[nltk_data] Downloading package punkt to /root/nltk_data...\n",
            "[nltk_data]   Unzipping tokenizers/punkt.zip.\n",
            "[nltk_data] Downloading package stopwords to /root/nltk_data...\n",
            "[nltk_data]   Unzipping corpora/stopwords.zip.\n"
          ]
        }
      ]
    },
    {
      "cell_type": "markdown",
      "source": [
        "## Preprocessing"
      ],
      "metadata": {
        "id": "2qmFvsUoRh79"
      },
      "id": "2qmFvsUoRh79"
    },
    {
      "cell_type": "markdown",
      "source": [
        "### Load Data"
      ],
      "metadata": {
        "id": "EBWujbVtpiCk"
      },
      "id": "EBWujbVtpiCk"
    },
    {
      "cell_type": "code",
      "execution_count": 2,
      "id": "7d72e12a",
      "metadata": {
        "id": "7d72e12a"
      },
      "outputs": [],
      "source": [
        "def load_join(select, loaded):\n",
        "    selected_df = pd.read_csv(\"https://www.dropbox.com/s/\" + select + \"?dl=1\", index_col=\"review_index\")\n",
        "    if loaded is not None:\n",
        "        selected_df = pd.merge(loaded, selected_df, on='review_index')\n",
        "    return selected_df"
      ]
    },
    {
      "cell_type": "code",
      "execution_count": 3,
      "id": "3db93c45",
      "metadata": {
        "id": "3db93c45"
      },
      "outputs": [],
      "source": [
        "load_metadata = True\n",
        "load_ratings = True\n",
        "load_opinions = True\n",
        "load_descriptions = True\n",
        "load_world_happiness_report = False\n",
        "\n",
        "index_df = None\n",
        "if load_metadata == True:\n",
        "    load_index = \"goqyfyeu2qvpsmo/metadata_df.csv\"\n",
        "    index_df = load_join(load_index, index_df)\n",
        "if load_ratings == True:\n",
        "    load_index = \"9j2j86xwqrmrljx/ratings_df.csv\"\n",
        "    index_df = load_join(load_index, index_df)\n",
        "if load_opinions == True:\n",
        "    load_index = \"q8v9f6rbb4z12df/opinion_df.csv\"\n",
        "    index_df = load_join(load_index, index_df)\n",
        "if load_descriptions == True:\n",
        "    load_index = \"hnp8sebleh6dzgt/descriptions_df.csv\"\n",
        "    index_df = load_join(load_index, index_df)\n",
        "    \n",
        "if load_world_happiness_report == True:\n",
        "    WHR_df = pd.read_csv(\"https://www.dropbox.com/s/jyr4e7fleevrb1s/WHR2023.csv?dl=1\")"
      ]
    },
    {
      "cell_type": "code",
      "execution_count": 4,
      "id": "ef1fe8a6",
      "metadata": {
        "id": "ef1fe8a6"
      },
      "outputs": [],
      "source": [
        "user_input_df = index_df.drop(['firm', 'date_review', 'job_title', 'location', 'current',\t'work_life_balance',\t'culture_values',\t'diversity_inclusion',\n",
        "                               'career_opp',\t'comp_benefits',\t'senior_mgmt',\t'recommend',\t'ceo_approv',\t'outlook'], axis=1)\n",
        "\n",
        "nn_working_df = index_df.drop(['date_review', 'job_title', 'location', 'headline', 'pros', 'cons'], axis=1).copy()"
      ]
    },
    {
      "cell_type": "markdown",
      "source": [
        "### Data Cleaning"
      ],
      "metadata": {
        "id": "e20KFxSGSZZD"
      },
      "id": "e20KFxSGSZZD"
    },
    {
      "cell_type": "markdown",
      "source": [
        "#### Cleaning Data Attempt - Half Hot-Ended Remove NaN"
      ],
      "metadata": {
        "id": "crZbmswLpKK1"
      },
      "id": "crZbmswLpKK1"
    },
    {
      "cell_type": "code",
      "source": [
        "working_half_hotend_df = nn_working_df.copy()\n",
        "columns_to_convert = ['overall_rating', 'work_life_balance', 'culture_values',\n",
        "                      'diversity_inclusion', 'career_opp', 'comp_benefits',\n",
        "                      'senior_mgmt']\n",
        "\n",
        "working_half_hotend_df[columns_to_convert] = working_half_hotend_df[columns_to_convert].astype(float)"
      ],
      "metadata": {
        "id": "bTo1RtfapS4X"
      },
      "id": "bTo1RtfapS4X",
      "execution_count": 5,
      "outputs": []
    },
    {
      "cell_type": "code",
      "source": [
        "cutoff_value = 3000\n",
        "firms_to_replace = working_half_hotend_df['firm'].value_counts()[working_half_hotend_df['firm'].value_counts() < cutoff_value].index.tolist()\n",
        "\n",
        "# Replace in dataframe\n",
        "for firm in firms_to_replace:\n",
        "    working_half_hotend_df['firm'] = working_half_hotend_df['firm'].replace(firm,\"Other\")\n",
        "    \n",
        "# Check to make sure binning was successful\n",
        "print(working_half_hotend_df['firm'].value_counts())\n",
        "print(\"These ar how many samples that got 'firm' changed to Other: \", len(working_half_hotend_df[working_half_hotend_df['firm'] == \"Other\"]))\n",
        "print(\"Number of firms removed: \", len(firms_to_replace))\n",
        "print(\"Remaining number of firms: \", len(working_half_hotend_df['firm'].value_counts()))"
      ],
      "metadata": {
        "id": "PlbLgahEoeV3",
        "outputId": "beb7feb5-6762-4fef-9dbc-ba16bb06574f",
        "colab": {
          "base_uri": "https://localhost:8080/"
        }
      },
      "id": "PlbLgahEoeV3",
      "execution_count": 6,
      "outputs": [
        {
          "output_type": "stream",
          "name": "stdout",
          "text": [
            "Other                      178782\n",
            "IBM                         60436\n",
            "McDonald-s                  49450\n",
            "Deloitte                    46995\n",
            "EY                          34050\n",
            "PwC                         33227\n",
            "Oracle                      31941\n",
            "Microsoft                   26675\n",
            "J-P-Morgan                  25814\n",
            "KPMG                        24815\n",
            "Apple                       20797\n",
            "Citi                        18726\n",
            "Google                      15995\n",
            "SAP                         14344\n",
            "HSBC-Holdings               13893\n",
            "Tesco                       12149\n",
            "Marriott-International      10409\n",
            "Barclays                     9710\n",
            "Thomson-Reuters              9553\n",
            "American-Express             9349\n",
            "Morgan-Stanley               9093\n",
            "Goldman-Sachs                8808\n",
            "Vodafone                     8321\n",
            "Salesforce                   8234\n",
            "Pizza-Hut                    7592\n",
            "BNY-Mellon                   6630\n",
            "Deutsche-Bank                6388\n",
            "Hilton                       6155\n",
            "J-Sainsbury                  5925\n",
            "GlaxoSmithKline              5646\n",
            "Unilever                     5632\n",
            "BT                           5337\n",
            "CBRE                         5276\n",
            "McKinsey-and-Company         5106\n",
            "NHS                          4977\n",
            "Pearson                      4879\n",
            "ASDA                         4760\n",
            "Primark                      4680\n",
            "Marks-and-Spencer            4557\n",
            "Bloomberg-L-P                4394\n",
            "Booking-com                  4393\n",
            "University-of-Michigan       4185\n",
            "Hyatt                        4041\n",
            "Aon                          3975\n",
            "Capita                       3945\n",
            "Willis-Towers-Watson         3816\n",
            "BNP-Paribas                  3757\n",
            "LinkedIn                     3635\n",
            "Bain-and-Company             3623\n",
            "Boots                        3618\n",
            "Waitrose                     3616\n",
            "Mercer                       3496\n",
            "Boston-Consulting-Group      3466\n",
            "AstraZeneca                  3443\n",
            "Sodexo                       3411\n",
            "next                         3324\n",
            "Grant-Thornton               3244\n",
            "Hays                         3045\n",
            "Lloyds-Banking-Group         3033\n",
            "Name: firm, dtype: int64\n",
            "These ar how many samples that got 'firm' changed to Other:  178782\n",
            "Number of firms removed:  370\n",
            "Remaining number of firms:  59\n"
          ]
        }
      ]
    },
    {
      "cell_type": "code",
      "source": [
        "# Cutoff value to make a list of values in the 'current' column to put into \"other\" catagory\n",
        "cutoff_value = 10\n",
        "current_to_replace = working_half_hotend_df['current'].value_counts()[working_half_hotend_df['current'].value_counts() < cutoff_value].index.tolist()\n",
        "\n",
        "# Replace in dataframe\n",
        "for review in current_to_replace:\n",
        "    working_half_hotend_df['current'] = working_half_hotend_df['current'].replace(review,\"Other\")\n",
        "\n",
        "# Check to make sure binning was successful\n",
        "working_half_hotend_df['current'].value_counts()"
      ],
      "metadata": {
        "colab": {
          "base_uri": "https://localhost:8080/"
        },
        "id": "KGiJaOscrV5U",
        "outputId": "083db584-dd53-4334-8a06-e527e77a118e"
      },
      "id": "KGiJaOscrV5U",
      "execution_count": 7,
      "outputs": [
        {
          "output_type": "execute_result",
          "data": {
            "text/plain": [
              "Current Employee                        209599\n",
              "Former Employee                         146133\n",
              "Current Employee, more than 1 year       82749\n",
              "Current Employee, more than 3 years      66471\n",
              "Former Employee, more than 1 year        65687\n",
              "Current Employee, less than 1 year       49603\n",
              "Former Employee, more than 3 years       43614\n",
              "Former Employee, less than 1 year        41874\n",
              "Current Employee, more than 5 years      40155\n",
              "Current Employee, more than 10 years     25029\n",
              "Former Employee, more than 5 years       23017\n",
              "Current Employee, more than 8 years      18506\n",
              "Former Employee, more than 10 years      15411\n",
              "Former Employee, more than 8 years       10686\n",
              "Other                                       32\n",
              "Name: current, dtype: int64"
            ]
          },
          "metadata": {},
          "execution_count": 7
        }
      ]
    },
    {
      "cell_type": "code",
      "source": [
        "print(\"Columns before processing: \", len(working_half_hotend_df))\n",
        "working_half_hotend_df.dropna(subset=columns_to_convert, inplace=True)\n",
        "print(\"Column after dropping NaN values: \", len(working_half_hotend_df))\n",
        "working_half_hotend_df.nunique()"
      ],
      "metadata": {
        "colab": {
          "base_uri": "https://localhost:8080/"
        },
        "id": "ZkgM6zrdtsmZ",
        "outputId": "8c039e1f-3af2-4296-ba21-e670a9488180"
      },
      "id": "ZkgM6zrdtsmZ",
      "execution_count": 8,
      "outputs": [
        {
          "output_type": "stream",
          "name": "stdout",
          "text": [
            "Columns before processing:  838566\n",
            "Column after dropping NaN values:  133863\n"
          ]
        },
        {
          "output_type": "execute_result",
          "data": {
            "text/plain": [
              "firm                   59\n",
              "current                15\n",
              "overall_rating          5\n",
              "work_life_balance       5\n",
              "culture_values          5\n",
              "diversity_inclusion     5\n",
              "career_opp              5\n",
              "comp_benefits           5\n",
              "senior_mgmt             5\n",
              "recommend               3\n",
              "ceo_approv              4\n",
              "outlook                 4\n",
              "dtype: int64"
            ]
          },
          "metadata": {},
          "execution_count": 8
        }
      ]
    },
    {
      "cell_type": "code",
      "source": [
        "X = pd.get_dummies(working_half_hotend_df.drop('overall_rating', axis = 1)).drop(['recommend_o', 'ceo_approv_o', 'outlook_o'], axis = 1)\n",
        "y = pd.get_dummies(working_half_hotend_df['overall_rating'].astype(int))\n",
        "\n",
        "X.columns"
      ],
      "metadata": {
        "colab": {
          "base_uri": "https://localhost:8080/"
        },
        "id": "GRs0ZXHb4U4e",
        "outputId": "bad6619a-3d52-4d4f-8767-5dcef6510135"
      },
      "id": "GRs0ZXHb4U4e",
      "execution_count": 9,
      "outputs": [
        {
          "output_type": "execute_result",
          "data": {
            "text/plain": [
              "Index(['work_life_balance', 'culture_values', 'diversity_inclusion',\n",
              "       'career_opp', 'comp_benefits', 'senior_mgmt', 'firm_ASDA',\n",
              "       'firm_American-Express', 'firm_Aon', 'firm_Apple', 'firm_AstraZeneca',\n",
              "       'firm_BNP-Paribas', 'firm_BNY-Mellon', 'firm_BT',\n",
              "       'firm_Bain-and-Company', 'firm_Barclays', 'firm_Bloomberg-L-P',\n",
              "       'firm_Booking-com', 'firm_Boots', 'firm_Boston-Consulting-Group',\n",
              "       'firm_CBRE', 'firm_Capita', 'firm_Citi', 'firm_Deloitte',\n",
              "       'firm_Deutsche-Bank', 'firm_EY', 'firm_GlaxoSmithKline',\n",
              "       'firm_Goldman-Sachs', 'firm_Google', 'firm_Grant-Thornton',\n",
              "       'firm_HSBC-Holdings', 'firm_Hays', 'firm_Hilton', 'firm_Hyatt',\n",
              "       'firm_IBM', 'firm_J-P-Morgan', 'firm_J-Sainsbury', 'firm_KPMG',\n",
              "       'firm_LinkedIn', 'firm_Lloyds-Banking-Group', 'firm_Marks-and-Spencer',\n",
              "       'firm_Marriott-International', 'firm_McDonald-s',\n",
              "       'firm_McKinsey-and-Company', 'firm_Mercer', 'firm_Microsoft',\n",
              "       'firm_Morgan-Stanley', 'firm_NHS', 'firm_Oracle', 'firm_Other',\n",
              "       'firm_Pearson', 'firm_Pizza-Hut', 'firm_Primark', 'firm_PwC',\n",
              "       'firm_SAP', 'firm_Salesforce', 'firm_Sodexo', 'firm_Tesco',\n",
              "       'firm_Thomson-Reuters', 'firm_Unilever', 'firm_University-of-Michigan',\n",
              "       'firm_Vodafone', 'firm_Waitrose', 'firm_Willis-Towers-Watson',\n",
              "       'firm_next', 'current_Current Employee',\n",
              "       'current_Current Employee, less than 1 year',\n",
              "       'current_Current Employee, more than 1 year',\n",
              "       'current_Current Employee, more than 10 years',\n",
              "       'current_Current Employee, more than 3 years',\n",
              "       'current_Current Employee, more than 5 years',\n",
              "       'current_Current Employee, more than 8 years',\n",
              "       'current_Former Employee', 'current_Former Employee, less than 1 year',\n",
              "       'current_Former Employee, more than 1 year',\n",
              "       'current_Former Employee, more than 10 years',\n",
              "       'current_Former Employee, more than 3 years',\n",
              "       'current_Former Employee, more than 5 years',\n",
              "       'current_Former Employee, more than 8 years', 'current_Other',\n",
              "       'recommend_v', 'recommend_x', 'ceo_approv_r', 'ceo_approv_v',\n",
              "       'ceo_approv_x', 'outlook_r', 'outlook_v', 'outlook_x'],\n",
              "      dtype='object')"
            ]
          },
          "metadata": {},
          "execution_count": 9
        }
      ]
    },
    {
      "cell_type": "code",
      "source": [
        "# Split the preprocessed data into a training and testing dataset\n",
        "X_train, X_test, y_train, y_test = train_test_split(X, y, test_size=0.25, random_state=1)\n",
        "\n",
        "# Create a StandardScaler instances\n",
        "scaler = StandardScaler()\n",
        "\n",
        "# Fit the StandardScaler\n",
        "X_scaler = scaler.fit(X_train)\n",
        "\n",
        "# Scale the data\n",
        "X_train_scaled = X_scaler.transform(X_train)\n",
        "X_test_scaled = X_scaler.transform(X_test)\n",
        "\n",
        "X_train_scaled.shape"
      ],
      "metadata": {
        "colab": {
          "base_uri": "https://localhost:8080/"
        },
        "id": "E7jtdKzF4iWW",
        "outputId": "4b531bf1-5b8c-41c5-9924-e37ae0e295d3"
      },
      "id": "E7jtdKzF4iWW",
      "execution_count": 10,
      "outputs": [
        {
          "output_type": "execute_result",
          "data": {
            "text/plain": [
              "(100397, 88)"
            ]
          },
          "metadata": {},
          "execution_count": 10
        }
      ]
    },
    {
      "cell_type": "markdown",
      "source": [
        "#### Cleaning Data Attempt - Drop Less Columns // not for prod"
      ],
      "metadata": {
        "id": "XvzKGdaSTyTa"
      },
      "id": "XvzKGdaSTyTa"
    },
    {
      "cell_type": "code",
      "source": [
        "preprocessing_df = unedited_working_df.copy()\n",
        "preprocessing_df = preprocessing_df.drop(['date_review', 'job_title', 'location'], axis=1)"
      ],
      "metadata": {
        "id": "-3sbJz_oT7uh"
      },
      "id": "-3sbJz_oT7uh",
      "execution_count": null,
      "outputs": []
    },
    {
      "cell_type": "code",
      "source": [
        "preprocessing_df.nunique()"
      ],
      "metadata": {
        "id": "YZmwqlx_g81L",
        "outputId": "33eb9cfe-d7be-40e0-c830-ebf7e09d06eb",
        "colab": {
          "base_uri": "https://localhost:8080/"
        }
      },
      "id": "YZmwqlx_g81L",
      "execution_count": null,
      "outputs": [
        {
          "output_type": "execute_result",
          "data": {
            "text/plain": [
              "firm                   428\n",
              "current                 29\n",
              "overall_rating           5\n",
              "work_life_balance        5\n",
              "culture_values           5\n",
              "diversity_inclusion      5\n",
              "career_opp               5\n",
              "comp_benefits            5\n",
              "senior_mgmt              5\n",
              "recommend                3\n",
              "ceo_approv               4\n",
              "outlook                  4\n",
              "dtype: int64"
            ]
          },
          "metadata": {},
          "execution_count": 6
        }
      ]
    },
    {
      "cell_type": "code",
      "source": [
        "cutoff_value = 2000\n",
        "firms_to_replace = preprocessing_df['firm'].value_counts()[preprocessing_df['firm'].value_counts() < cutoff_value].index.tolist()\n",
        "\n",
        "# Replace in dataframe\n",
        "for firm in firms_to_replace:\n",
        "    preprocessing_df['firm'] = preprocessing_df['firm'].replace(firm,\"Other\")\n",
        "    \n",
        "# Check to make sure binning was successful\n",
        "print(preprocessing_df['firm'].value_counts())\n",
        "print(\"These ar how many samples that got 'firm' changed to Other: \", len(preprocessing_df[preprocessing_df['firm'] == \"Other\"]))\n",
        "print(\"Number of firms removed: \", len(firms_to_replace))"
      ],
      "metadata": {
        "colab": {
          "base_uri": "https://localhost:8080/"
        },
        "id": "rTx2FoxVWDZw",
        "outputId": "cf53b8b4-8349-4cc8-9295-9a1dc2755ffc"
      },
      "id": "rTx2FoxVWDZw",
      "execution_count": null,
      "outputs": [
        {
          "output_type": "stream",
          "name": "stdout",
          "text": [
            "Other                 132211\n",
            "IBM                    60436\n",
            "McDonald-s             49450\n",
            "Deloitte               46995\n",
            "EY                     34050\n",
            "                       ...  \n",
            "Bayer                   2441\n",
            "BDO                     2422\n",
            "The-Salvation-Army      2356\n",
            "Accenture               2156\n",
            "Co-op                   2065\n",
            "Name: firm, Length: 77, dtype: int64\n",
            "These ar how many samples that got 'firm' changed to Other:  132211\n",
            "Number of firms removed:  352\n"
          ]
        }
      ]
    },
    {
      "cell_type": "code",
      "source": [
        "# Cutoff value to make a list of values in the 'current' column to put into \"other\" catagory\n",
        "cutoff_value = 10000\n",
        "current_to_replace = preprocessing_df['current'].value_counts()[preprocessing_df['current'].value_counts() < cutoff_value].index.tolist()\n",
        "\n",
        "# Replace in dataframe\n",
        "for review in current_to_replace:\n",
        "    preprocessing_df['current'] = preprocessing_df['current'].replace(review,\"Other\")\n",
        "\n",
        "# Check to make sure binning was successful\n",
        "preprocessing_df['current'].value_counts()"
      ],
      "metadata": {
        "colab": {
          "base_uri": "https://localhost:8080/"
        },
        "id": "39acOwg0d6hs",
        "outputId": "2672f3dd-7021-4cb6-e4f8-f6e107269f04"
      },
      "id": "39acOwg0d6hs",
      "execution_count": null,
      "outputs": [
        {
          "output_type": "execute_result",
          "data": {
            "text/plain": [
              "Current Employee                        209599\n",
              "Former Employee                         146133\n",
              "Current Employee, more than 1 year       82749\n",
              "Current Employee, more than 3 years      66471\n",
              "Former Employee, more than 1 year        65687\n",
              "Current Employee, less than 1 year       49603\n",
              "Former Employee, more than 3 years       43614\n",
              "Former Employee, less than 1 year        41874\n",
              "Current Employee, more than 5 years      40155\n",
              "Current Employee, more than 10 years     25029\n",
              "Former Employee, more than 5 years       23017\n",
              "Current Employee, more than 8 years      18506\n",
              "Former Employee, more than 10 years      15411\n",
              "Former Employee, more than 8 years       10686\n",
              "Other                                       32\n",
              "Name: current, dtype: int64"
            ]
          },
          "metadata": {},
          "execution_count": 8
        }
      ]
    },
    {
      "cell_type": "code",
      "source": [
        "print(\"Columns before processing: \", len(preprocessing_df))\n",
        "columns_to_convert = ['overall_rating', 'work_life_balance', 'culture_values',\n",
        "                      'diversity_inclusion', 'career_opp', 'comp_benefits',\n",
        "                      'senior_mgmt']\n",
        "\n",
        "preprocessing_df[columns_to_convert] = preprocessing_df[columns_to_convert].astype(float)\n",
        "preprocessing_df.dropna(subset=columns_to_convert, inplace=True)\n",
        "print(\"Column after dropping NaN values: \", len(preprocessing_df))"
      ],
      "metadata": {
        "colab": {
          "base_uri": "https://localhost:8080/"
        },
        "id": "MAuiVMDzebJs",
        "outputId": "b7a0eb7f-cf51-480d-ce28-5b0e2251b5e1"
      },
      "id": "MAuiVMDzebJs",
      "execution_count": null,
      "outputs": [
        {
          "output_type": "stream",
          "name": "stdout",
          "text": [
            "Columns before processing:  838566\n",
            "Column after dropping NaN values:  133863\n"
          ]
        }
      ]
    },
    {
      "cell_type": "code",
      "source": [
        "X = pd.get_dummies(preprocessing_df.drop('overall_rating', axis = 1)).drop(['recommend_o', 'ceo_approv_o', 'outlook_o'], axis = 1)\n",
        "y = pd.get_dummies(preprocessing_df['overall_rating'].astype(int))"
      ],
      "metadata": {
        "id": "_xk5_jE7erM6"
      },
      "id": "_xk5_jE7erM6",
      "execution_count": null,
      "outputs": []
    },
    {
      "cell_type": "code",
      "source": [
        "# Split the preprocessed data into a training and testing dataset\n",
        "X_train, X_test, y_train, y_test = train_test_split(X, y, test_size=0.25, random_state=1)\n",
        "\n",
        "# Create a StandardScaler instances\n",
        "scaler = StandardScaler()\n",
        "\n",
        "# Fit the StandardScaler\n",
        "X_scaler = scaler.fit(X_train)\n",
        "\n",
        "# Scale the data\n",
        "X_train_scaled = X_scaler.transform(X_train)\n",
        "X_test_scaled = X_scaler.transform(X_test)\n",
        "\n",
        "X_train_scaled.shape"
      ],
      "metadata": {
        "colab": {
          "base_uri": "https://localhost:8080/"
        },
        "id": "XaNS2qcVdw_2",
        "outputId": "fa038fbf-d601-4abb-e2ca-2c8a25de02bb"
      },
      "id": "XaNS2qcVdw_2",
      "execution_count": null,
      "outputs": [
        {
          "output_type": "execute_result",
          "data": {
            "text/plain": [
              "(100397, 106)"
            ]
          },
          "metadata": {},
          "execution_count": 11
        }
      ]
    },
    {
      "cell_type": "markdown",
      "source": [
        "#### Cleaning Data Attempt - PCA // not for prod"
      ],
      "metadata": {
        "id": "BwLXYwU-hbUN"
      },
      "id": "BwLXYwU-hbUN"
    },
    {
      "cell_type": "code",
      "source": [
        "# Create PCA Model\n",
        "pca_model = PCA(n_components=25)"
      ],
      "metadata": {
        "id": "QLpXNAZSjlyo"
      },
      "id": "QLpXNAZSjlyo",
      "execution_count": null,
      "outputs": []
    },
    {
      "cell_type": "code",
      "source": [
        "pca_model = pca_model.fit(X_train_scaled)\n",
        "\n",
        "X_train_scaled = pca_model.transform(X_train_scaled)\n",
        "X_test_scaled = pca_model.transform(X_test_scaled)\n",
        "\n",
        "# Training DataFrame with the PCA components\n",
        "pca_df = pd.DataFrame(data=X_train_scaled, columns=['PC1', 'PC2', 'PC3', 'PC4', 'PC5', 'PC6', 'PC7', 'PC8', 'PC9', 'PC10', \n",
        "                                                'PC11', 'PC12', 'PC13', 'PC14', 'PC15', 'PC16', 'PC17', 'PC18', 'PC19', 'PC20',\n",
        "                                                'PC21', 'PC22', 'PC23', 'PC24', 'PC25'])#, 'PC26', 'PC27', 'PC28', 'PC29'])#, 'PC30'])\n",
        "                                              #  'PC31', 'PC32', 'PC33', 'PC34', 'PC35'])\n",
        "\n",
        "# Retrieve the explained variance from the PCA model\n",
        "explained_variance = pca_model.explained_variance_ratio_\n",
        "Scope = 0\n",
        "\n",
        "# Print the explained variance for each principal component\n",
        "for i, variance in enumerate(explained_variance):\n",
        "    Scope = Scope + variance\n",
        "    print(f\"Explained Variance PC{i+1}: {variance:.4f}\")\n",
        "\n",
        "print(f\"{Scope * 100:.2f}%\")"
      ],
      "metadata": {
        "id": "aweKhmPsiGMG",
        "outputId": "7eade046-bf26-4765-8575-39446eab0665",
        "colab": {
          "base_uri": "https://localhost:8080/"
        }
      },
      "id": "aweKhmPsiGMG",
      "execution_count": null,
      "outputs": [
        {
          "output_type": "stream",
          "name": "stdout",
          "text": [
            "Explained Variance PC1: 0.1108\n",
            "Explained Variance PC2: 0.0630\n",
            "Explained Variance PC3: 0.0426\n",
            "Explained Variance PC4: 0.0403\n",
            "Explained Variance PC5: 0.0301\n",
            "Explained Variance PC6: 0.0261\n",
            "Explained Variance PC7: 0.0238\n",
            "Explained Variance PC8: 0.0224\n",
            "Explained Variance PC9: 0.0223\n",
            "Explained Variance PC10: 0.0215\n",
            "Explained Variance PC11: 0.0208\n",
            "Explained Variance PC12: 0.0205\n",
            "Explained Variance PC13: 0.0204\n",
            "Explained Variance PC14: 0.0203\n",
            "Explained Variance PC15: 0.0202\n",
            "Explained Variance PC16: 0.0200\n",
            "Explained Variance PC17: 0.0198\n",
            "Explained Variance PC18: 0.0198\n",
            "Explained Variance PC19: 0.0195\n",
            "Explained Variance PC20: 0.0193\n",
            "Explained Variance PC21: 0.0192\n",
            "Explained Variance PC22: 0.0191\n",
            "Explained Variance PC23: 0.0191\n",
            "Explained Variance PC24: 0.0189\n",
            "Explained Variance PC25: 0.0187\n",
            "69.86%\n"
          ]
        }
      ]
    },
    {
      "cell_type": "markdown",
      "source": [
        "## NN Attempt - Compile, Train, & Evaluate Default Model"
      ],
      "metadata": {
        "id": "CGVIpLvl4KGZ"
      },
      "id": "CGVIpLvl4KGZ"
    },
    {
      "cell_type": "code",
      "source": [
        "# Define the model\n",
        "nn_default = tf.keras.models.Sequential()\n",
        "\n",
        "# Add the masking layer\n",
        "#nn_default.add(tf.keras.layers.Masking(mask_value=10, input_shape=(X_train_scaled.shape[1],)))\n",
        "\n",
        "nn_default.add(tf.keras.layers.Dense(units=100, activation='relu', input_dim=X_train_scaled.shape[1]))\n",
        "\n",
        "nn_default.add(tf.keras.layers.Dense(units=80, activation='relu'))\n",
        "\n",
        "# Add the output layer\n",
        "nn_default.add(tf.keras.layers.Dense(units=5, activation='sigmoid'))\n",
        "\n",
        "# Check the structure of the model\n",
        "nn_default.summary()"
      ],
      "metadata": {
        "id": "YAFrnD0r4RxQ",
        "outputId": "1ca7843f-3ecd-4257-fbdb-f3df699188fb",
        "colab": {
          "base_uri": "https://localhost:8080/"
        }
      },
      "id": "YAFrnD0r4RxQ",
      "execution_count": null,
      "outputs": [
        {
          "output_type": "stream",
          "name": "stdout",
          "text": [
            "Model: \"sequential\"\n",
            "_________________________________________________________________\n",
            " Layer (type)                Output Shape              Param #   \n",
            "=================================================================\n",
            " dense (Dense)               (None, 100)               8900      \n",
            "                                                                 \n",
            " dense_1 (Dense)             (None, 80)                8080      \n",
            "                                                                 \n",
            " dense_2 (Dense)             (None, 5)                 405       \n",
            "                                                                 \n",
            "=================================================================\n",
            "Total params: 17,385\n",
            "Trainable params: 17,385\n",
            "Non-trainable params: 0\n",
            "_________________________________________________________________\n"
          ]
        }
      ]
    },
    {
      "cell_type": "code",
      "source": [
        "# Compile the model\n",
        "nn_default.compile(loss='mse', optimizer='adam', metrics=['accuracy'])\n",
        "\n",
        "# Train the model\n",
        "history = nn_default.fit(X_train_scaled, y_train, epochs=20, verbose=1, batch_size=64)"
      ],
      "metadata": {
        "id": "4pCl9zGr4blK",
        "outputId": "a6a795ad-2386-41b9-96c8-c5ed9d0a28db",
        "colab": {
          "base_uri": "https://localhost:8080/"
        }
      },
      "id": "4pCl9zGr4blK",
      "execution_count": null,
      "outputs": [
        {
          "output_type": "stream",
          "name": "stdout",
          "text": [
            "Epoch 1/20\n",
            "1569/1569 [==============================] - 6s 3ms/step - loss: 0.0956 - accuracy: 0.6407\n",
            "Epoch 2/20\n",
            "1569/1569 [==============================] - 9s 5ms/step - loss: 0.0900 - accuracy: 0.6639\n",
            "Epoch 3/20\n",
            "1569/1569 [==============================] - 6s 4ms/step - loss: 0.0892 - accuracy: 0.6660\n",
            "Epoch 4/20\n",
            "1569/1569 [==============================] - 4s 2ms/step - loss: 0.0885 - accuracy: 0.6716\n",
            "Epoch 5/20\n",
            "1569/1569 [==============================] - 5s 3ms/step - loss: 0.0879 - accuracy: 0.6732\n",
            "Epoch 6/20\n",
            "1569/1569 [==============================] - 3s 2ms/step - loss: 0.0872 - accuracy: 0.6767\n",
            "Epoch 7/20\n",
            "1569/1569 [==============================] - 4s 2ms/step - loss: 0.0867 - accuracy: 0.6785\n",
            "Epoch 8/20\n",
            "1569/1569 [==============================] - 4s 2ms/step - loss: 0.0862 - accuracy: 0.6799\n",
            "Epoch 9/20\n",
            "1569/1569 [==============================] - 4s 3ms/step - loss: 0.0857 - accuracy: 0.6830\n",
            "Epoch 10/20\n",
            "1569/1569 [==============================] - 4s 2ms/step - loss: 0.0853 - accuracy: 0.6847\n",
            "Epoch 11/20\n",
            "1569/1569 [==============================] - 4s 2ms/step - loss: 0.0849 - accuracy: 0.6881\n",
            "Epoch 12/20\n",
            "1569/1569 [==============================] - 5s 3ms/step - loss: 0.0844 - accuracy: 0.6899\n",
            "Epoch 13/20\n",
            "1569/1569 [==============================] - 4s 2ms/step - loss: 0.0842 - accuracy: 0.6917\n",
            "Epoch 14/20\n",
            "1569/1569 [==============================] - 3s 2ms/step - loss: 0.0838 - accuracy: 0.6929\n",
            "Epoch 15/20\n",
            "1569/1569 [==============================] - 5s 3ms/step - loss: 0.0834 - accuracy: 0.6956\n",
            "Epoch 16/20\n",
            "1569/1569 [==============================] - 4s 2ms/step - loss: 0.0831 - accuracy: 0.6961\n",
            "Epoch 17/20\n",
            "1569/1569 [==============================] - 4s 3ms/step - loss: 0.0828 - accuracy: 0.6993\n",
            "Epoch 18/20\n",
            "1569/1569 [==============================] - 4s 3ms/step - loss: 0.0825 - accuracy: 0.7006\n",
            "Epoch 19/20\n",
            "1569/1569 [==============================] - 5s 3ms/step - loss: 0.0821 - accuracy: 0.7020\n",
            "Epoch 20/20\n",
            "1569/1569 [==============================] - 4s 2ms/step - loss: 0.0818 - accuracy: 0.7038\n"
          ]
        }
      ]
    },
    {
      "cell_type": "code",
      "source": [
        "# Evaluate the model using the test data\n",
        "model_loss, model_accuracy = nn_default.evaluate(X_test_scaled,y_test,verbose=1, batch_size=64)\n",
        "print(f\"Loss: {model_loss}, Accuracy: {model_accuracy}\")"
      ],
      "metadata": {
        "colab": {
          "base_uri": "https://localhost:8080/"
        },
        "id": "Xq7EK7m1CNB8",
        "outputId": "119e6879-94de-4d49-deac-c94408824e0d"
      },
      "id": "Xq7EK7m1CNB8",
      "execution_count": null,
      "outputs": [
        {
          "output_type": "stream",
          "name": "stdout",
          "text": [
            "523/523 [==============================] - 3s 5ms/step - loss: 0.0918 - accuracy: 0.6580\n",
            "Loss: 0.09182965755462646, Accuracy: 0.6579812169075012\n"
          ]
        }
      ]
    },
    {
      "cell_type": "code",
      "source": [
        "predictions = pd.DataFrame(nn_default.predict(X_test_scaled))"
      ],
      "metadata": {
        "colab": {
          "base_uri": "https://localhost:8080/"
        },
        "id": "V4gglbzaGIi9",
        "outputId": "46a38fbd-0195-4a22-e32d-436feb150738"
      },
      "id": "V4gglbzaGIi9",
      "execution_count": null,
      "outputs": [
        {
          "output_type": "stream",
          "name": "stdout",
          "text": [
            "1046/1046 [==============================] - 3s 3ms/step\n"
          ]
        }
      ]
    },
    {
      "cell_type": "code",
      "source": [
        "predictions = predictions.rename(columns={0: 1, 1: 2, 2: 3, 3: 4, 4: 5})\n",
        "predictions['y_predict'] = predictions.idxmax(axis=1)\n",
        "predictions['y_actual'] = (y_test.idxmax(axis=1)).reset_index(drop=True)\n",
        "predictions[1:10]"
      ],
      "metadata": {
        "colab": {
          "base_uri": "https://localhost:8080/",
          "height": 331
        },
        "id": "QZyzY7QFagvv",
        "outputId": "c4de3848-2aa2-475a-cd17-7360a7167a2b"
      },
      "id": "QZyzY7QFagvv",
      "execution_count": null,
      "outputs": [
        {
          "output_type": "execute_result",
          "data": {
            "text/plain": [
              "          1         2         3         4         5  y_predict  y_actual\n",
              "1  0.000131  0.000025  0.032147  0.745639  0.247196          4         4\n",
              "2  0.020332  0.001130  0.076247  0.694191  0.207154          4         5\n",
              "3  0.003628  0.006335  0.575837  0.205699  0.126934          3         1\n",
              "4  0.943717  0.032295  0.020803  0.002818  0.025525          1         1\n",
              "5  0.000144  0.000146  0.007877  0.693879  0.369257          4         4\n",
              "6  0.035349  0.089166  0.807430  0.069468  0.051479          3         3\n",
              "7  0.890638  0.036913  0.084308  0.005161  0.028080          1         1\n",
              "8  0.000307  0.000035  0.057680  0.360820  0.454887          5         5\n",
              "9  0.000093  0.000159  0.114203  0.669935  0.185061          4         4"
            ],
            "text/html": [
              "\n",
              "  <div id=\"df-dfd3944b-96ca-479b-889d-76c2f3edde71\">\n",
              "    <div class=\"colab-df-container\">\n",
              "      <div>\n",
              "<style scoped>\n",
              "    .dataframe tbody tr th:only-of-type {\n",
              "        vertical-align: middle;\n",
              "    }\n",
              "\n",
              "    .dataframe tbody tr th {\n",
              "        vertical-align: top;\n",
              "    }\n",
              "\n",
              "    .dataframe thead th {\n",
              "        text-align: right;\n",
              "    }\n",
              "</style>\n",
              "<table border=\"1\" class=\"dataframe\">\n",
              "  <thead>\n",
              "    <tr style=\"text-align: right;\">\n",
              "      <th></th>\n",
              "      <th>1</th>\n",
              "      <th>2</th>\n",
              "      <th>3</th>\n",
              "      <th>4</th>\n",
              "      <th>5</th>\n",
              "      <th>y_predict</th>\n",
              "      <th>y_actual</th>\n",
              "    </tr>\n",
              "  </thead>\n",
              "  <tbody>\n",
              "    <tr>\n",
              "      <th>1</th>\n",
              "      <td>0.000131</td>\n",
              "      <td>0.000025</td>\n",
              "      <td>0.032147</td>\n",
              "      <td>0.745639</td>\n",
              "      <td>0.247196</td>\n",
              "      <td>4</td>\n",
              "      <td>4</td>\n",
              "    </tr>\n",
              "    <tr>\n",
              "      <th>2</th>\n",
              "      <td>0.020332</td>\n",
              "      <td>0.001130</td>\n",
              "      <td>0.076247</td>\n",
              "      <td>0.694191</td>\n",
              "      <td>0.207154</td>\n",
              "      <td>4</td>\n",
              "      <td>5</td>\n",
              "    </tr>\n",
              "    <tr>\n",
              "      <th>3</th>\n",
              "      <td>0.003628</td>\n",
              "      <td>0.006335</td>\n",
              "      <td>0.575837</td>\n",
              "      <td>0.205699</td>\n",
              "      <td>0.126934</td>\n",
              "      <td>3</td>\n",
              "      <td>1</td>\n",
              "    </tr>\n",
              "    <tr>\n",
              "      <th>4</th>\n",
              "      <td>0.943717</td>\n",
              "      <td>0.032295</td>\n",
              "      <td>0.020803</td>\n",
              "      <td>0.002818</td>\n",
              "      <td>0.025525</td>\n",
              "      <td>1</td>\n",
              "      <td>1</td>\n",
              "    </tr>\n",
              "    <tr>\n",
              "      <th>5</th>\n",
              "      <td>0.000144</td>\n",
              "      <td>0.000146</td>\n",
              "      <td>0.007877</td>\n",
              "      <td>0.693879</td>\n",
              "      <td>0.369257</td>\n",
              "      <td>4</td>\n",
              "      <td>4</td>\n",
              "    </tr>\n",
              "    <tr>\n",
              "      <th>6</th>\n",
              "      <td>0.035349</td>\n",
              "      <td>0.089166</td>\n",
              "      <td>0.807430</td>\n",
              "      <td>0.069468</td>\n",
              "      <td>0.051479</td>\n",
              "      <td>3</td>\n",
              "      <td>3</td>\n",
              "    </tr>\n",
              "    <tr>\n",
              "      <th>7</th>\n",
              "      <td>0.890638</td>\n",
              "      <td>0.036913</td>\n",
              "      <td>0.084308</td>\n",
              "      <td>0.005161</td>\n",
              "      <td>0.028080</td>\n",
              "      <td>1</td>\n",
              "      <td>1</td>\n",
              "    </tr>\n",
              "    <tr>\n",
              "      <th>8</th>\n",
              "      <td>0.000307</td>\n",
              "      <td>0.000035</td>\n",
              "      <td>0.057680</td>\n",
              "      <td>0.360820</td>\n",
              "      <td>0.454887</td>\n",
              "      <td>5</td>\n",
              "      <td>5</td>\n",
              "    </tr>\n",
              "    <tr>\n",
              "      <th>9</th>\n",
              "      <td>0.000093</td>\n",
              "      <td>0.000159</td>\n",
              "      <td>0.114203</td>\n",
              "      <td>0.669935</td>\n",
              "      <td>0.185061</td>\n",
              "      <td>4</td>\n",
              "      <td>4</td>\n",
              "    </tr>\n",
              "  </tbody>\n",
              "</table>\n",
              "</div>\n",
              "      <button class=\"colab-df-convert\" onclick=\"convertToInteractive('df-dfd3944b-96ca-479b-889d-76c2f3edde71')\"\n",
              "              title=\"Convert this dataframe to an interactive table.\"\n",
              "              style=\"display:none;\">\n",
              "        \n",
              "  <svg xmlns=\"http://www.w3.org/2000/svg\" height=\"24px\"viewBox=\"0 0 24 24\"\n",
              "       width=\"24px\">\n",
              "    <path d=\"M0 0h24v24H0V0z\" fill=\"none\"/>\n",
              "    <path d=\"M18.56 5.44l.94 2.06.94-2.06 2.06-.94-2.06-.94-.94-2.06-.94 2.06-2.06.94zm-11 1L8.5 8.5l.94-2.06 2.06-.94-2.06-.94L8.5 2.5l-.94 2.06-2.06.94zm10 10l.94 2.06.94-2.06 2.06-.94-2.06-.94-.94-2.06-.94 2.06-2.06.94z\"/><path d=\"M17.41 7.96l-1.37-1.37c-.4-.4-.92-.59-1.43-.59-.52 0-1.04.2-1.43.59L10.3 9.45l-7.72 7.72c-.78.78-.78 2.05 0 2.83L4 21.41c.39.39.9.59 1.41.59.51 0 1.02-.2 1.41-.59l7.78-7.78 2.81-2.81c.8-.78.8-2.07 0-2.86zM5.41 20L4 18.59l7.72-7.72 1.47 1.35L5.41 20z\"/>\n",
              "  </svg>\n",
              "      </button>\n",
              "      \n",
              "  <style>\n",
              "    .colab-df-container {\n",
              "      display:flex;\n",
              "      flex-wrap:wrap;\n",
              "      gap: 12px;\n",
              "    }\n",
              "\n",
              "    .colab-df-convert {\n",
              "      background-color: #E8F0FE;\n",
              "      border: none;\n",
              "      border-radius: 50%;\n",
              "      cursor: pointer;\n",
              "      display: none;\n",
              "      fill: #1967D2;\n",
              "      height: 32px;\n",
              "      padding: 0 0 0 0;\n",
              "      width: 32px;\n",
              "    }\n",
              "\n",
              "    .colab-df-convert:hover {\n",
              "      background-color: #E2EBFA;\n",
              "      box-shadow: 0px 1px 2px rgba(60, 64, 67, 0.3), 0px 1px 3px 1px rgba(60, 64, 67, 0.15);\n",
              "      fill: #174EA6;\n",
              "    }\n",
              "\n",
              "    [theme=dark] .colab-df-convert {\n",
              "      background-color: #3B4455;\n",
              "      fill: #D2E3FC;\n",
              "    }\n",
              "\n",
              "    [theme=dark] .colab-df-convert:hover {\n",
              "      background-color: #434B5C;\n",
              "      box-shadow: 0px 1px 3px 1px rgba(0, 0, 0, 0.15);\n",
              "      filter: drop-shadow(0px 1px 2px rgba(0, 0, 0, 0.3));\n",
              "      fill: #FFFFFF;\n",
              "    }\n",
              "  </style>\n",
              "\n",
              "      <script>\n",
              "        const buttonEl =\n",
              "          document.querySelector('#df-dfd3944b-96ca-479b-889d-76c2f3edde71 button.colab-df-convert');\n",
              "        buttonEl.style.display =\n",
              "          google.colab.kernel.accessAllowed ? 'block' : 'none';\n",
              "\n",
              "        async function convertToInteractive(key) {\n",
              "          const element = document.querySelector('#df-dfd3944b-96ca-479b-889d-76c2f3edde71');\n",
              "          const dataTable =\n",
              "            await google.colab.kernel.invokeFunction('convertToInteractive',\n",
              "                                                     [key], {});\n",
              "          if (!dataTable) return;\n",
              "\n",
              "          const docLinkHtml = 'Like what you see? Visit the ' +\n",
              "            '<a target=\"_blank\" href=https://colab.research.google.com/notebooks/data_table.ipynb>data table notebook</a>'\n",
              "            + ' to learn more about interactive tables.';\n",
              "          element.innerHTML = '';\n",
              "          dataTable['output_type'] = 'display_data';\n",
              "          await google.colab.output.renderOutput(dataTable, element);\n",
              "          const docLink = document.createElement('div');\n",
              "          docLink.innerHTML = docLinkHtml;\n",
              "          element.appendChild(docLink);\n",
              "        }\n",
              "      </script>\n",
              "    </div>\n",
              "  </div>\n",
              "  "
            ]
          },
          "metadata": {},
          "execution_count": 24
        }
      ]
    },
    {
      "cell_type": "code",
      "source": [
        "difference = 0\n",
        "\n",
        "for index, row in predictions.iterrows():\n",
        "    # Get the absolute difference between 'y_predict' and 'y_actual' columns\n",
        "    diff = abs(row['y_predict'] - row['y_actual'])\n",
        "    \n",
        "    # Add the difference to the total\n",
        "    difference += diff\n",
        "\n",
        "difference = difference / len(predictions)\n",
        "print(\"Mean points delta actual value: \", difference)"
      ],
      "metadata": {
        "colab": {
          "base_uri": "https://localhost:8080/"
        },
        "id": "gbbrZIoxIj61",
        "outputId": "d8f43e9e-b5d3-4a4b-e1e5-6878b8d5348b"
      },
      "id": "gbbrZIoxIj61",
      "execution_count": null,
      "outputs": [
        {
          "output_type": "stream",
          "name": "stdout",
          "text": [
            "Mean points delta actual value:  0.37700950218131835\n"
          ]
        }
      ]
    },
    {
      "cell_type": "markdown",
      "source": [
        "Hot Ended - Mean points delta actual value:  0.43129239369973577\n",
        "\n",
        "Half Hot Ended Remove NaN - Mean points delta actual value:  0.36371242455028985\n",
        "\n",
        "Half Hot Ended Mask NaN - Mean points delta actual value:  0.4334150599593593"
      ],
      "metadata": {
        "id": "MII4Eq4PL1GR"
      },
      "id": "MII4Eq4PL1GR"
    },
    {
      "cell_type": "markdown",
      "source": [
        "## Scaping Key Words from User Inputs"
      ],
      "metadata": {
        "id": "nIHy2x3wDvs8"
      },
      "id": "nIHy2x3wDvs8"
    },
    {
      "cell_type": "code",
      "source": [
        "working_user_input_df = user_input_df.copy()\n",
        "working_user_input_df = working_user_input_df[working_user_input_df.index.isin(working_half_hotend_df.index)]\n",
        "print(\"Rows in dataset prior ro removing rows with NaN values: \", len(user_input_df))\n",
        "print(\"Rows in dataset after removing rows with NaN values: \", len(working_user_input_df))\n",
        "working_user_input_df.head(1)"
      ],
      "metadata": {
        "id": "zzCjYJuWD4ST",
        "outputId": "ad353288-fbf9-44d1-e8be-64c87f0d3de8",
        "colab": {
          "base_uri": "https://localhost:8080/",
          "height": 147
        }
      },
      "id": "zzCjYJuWD4ST",
      "execution_count": 11,
      "outputs": [
        {
          "output_type": "stream",
          "name": "stdout",
          "text": [
            "Rows in dataset prior ro removing rows with NaN values:  838566\n",
            "Rows in dataset after removing rows with NaN values:  133863\n"
          ]
        },
        {
          "output_type": "execute_result",
          "data": {
            "text/plain": [
              "              overall_rating                                     headline  \\\n",
              "review_index                                                                \n",
              "50                         2  The people both make and destroy this place   \n",
              "\n",
              "                                                           pros  \\\n",
              "review_index                                                      \n",
              "50            Great people in some places, excellent Christm...   \n",
              "\n",
              "                                                           cons  \n",
              "review_index                                                     \n",
              "50            Poor pay, huge gap for pay between senior mana...  "
            ],
            "text/html": [
              "\n",
              "  <div id=\"df-3491fc1e-db58-456f-b5f8-9429d7f76e70\">\n",
              "    <div class=\"colab-df-container\">\n",
              "      <div>\n",
              "<style scoped>\n",
              "    .dataframe tbody tr th:only-of-type {\n",
              "        vertical-align: middle;\n",
              "    }\n",
              "\n",
              "    .dataframe tbody tr th {\n",
              "        vertical-align: top;\n",
              "    }\n",
              "\n",
              "    .dataframe thead th {\n",
              "        text-align: right;\n",
              "    }\n",
              "</style>\n",
              "<table border=\"1\" class=\"dataframe\">\n",
              "  <thead>\n",
              "    <tr style=\"text-align: right;\">\n",
              "      <th></th>\n",
              "      <th>overall_rating</th>\n",
              "      <th>headline</th>\n",
              "      <th>pros</th>\n",
              "      <th>cons</th>\n",
              "    </tr>\n",
              "    <tr>\n",
              "      <th>review_index</th>\n",
              "      <th></th>\n",
              "      <th></th>\n",
              "      <th></th>\n",
              "      <th></th>\n",
              "    </tr>\n",
              "  </thead>\n",
              "  <tbody>\n",
              "    <tr>\n",
              "      <th>50</th>\n",
              "      <td>2</td>\n",
              "      <td>The people both make and destroy this place</td>\n",
              "      <td>Great people in some places, excellent Christm...</td>\n",
              "      <td>Poor pay, huge gap for pay between senior mana...</td>\n",
              "    </tr>\n",
              "  </tbody>\n",
              "</table>\n",
              "</div>\n",
              "      <button class=\"colab-df-convert\" onclick=\"convertToInteractive('df-3491fc1e-db58-456f-b5f8-9429d7f76e70')\"\n",
              "              title=\"Convert this dataframe to an interactive table.\"\n",
              "              style=\"display:none;\">\n",
              "        \n",
              "  <svg xmlns=\"http://www.w3.org/2000/svg\" height=\"24px\"viewBox=\"0 0 24 24\"\n",
              "       width=\"24px\">\n",
              "    <path d=\"M0 0h24v24H0V0z\" fill=\"none\"/>\n",
              "    <path d=\"M18.56 5.44l.94 2.06.94-2.06 2.06-.94-2.06-.94-.94-2.06-.94 2.06-2.06.94zm-11 1L8.5 8.5l.94-2.06 2.06-.94-2.06-.94L8.5 2.5l-.94 2.06-2.06.94zm10 10l.94 2.06.94-2.06 2.06-.94-2.06-.94-.94-2.06-.94 2.06-2.06.94z\"/><path d=\"M17.41 7.96l-1.37-1.37c-.4-.4-.92-.59-1.43-.59-.52 0-1.04.2-1.43.59L10.3 9.45l-7.72 7.72c-.78.78-.78 2.05 0 2.83L4 21.41c.39.39.9.59 1.41.59.51 0 1.02-.2 1.41-.59l7.78-7.78 2.81-2.81c.8-.78.8-2.07 0-2.86zM5.41 20L4 18.59l7.72-7.72 1.47 1.35L5.41 20z\"/>\n",
              "  </svg>\n",
              "      </button>\n",
              "      \n",
              "  <style>\n",
              "    .colab-df-container {\n",
              "      display:flex;\n",
              "      flex-wrap:wrap;\n",
              "      gap: 12px;\n",
              "    }\n",
              "\n",
              "    .colab-df-convert {\n",
              "      background-color: #E8F0FE;\n",
              "      border: none;\n",
              "      border-radius: 50%;\n",
              "      cursor: pointer;\n",
              "      display: none;\n",
              "      fill: #1967D2;\n",
              "      height: 32px;\n",
              "      padding: 0 0 0 0;\n",
              "      width: 32px;\n",
              "    }\n",
              "\n",
              "    .colab-df-convert:hover {\n",
              "      background-color: #E2EBFA;\n",
              "      box-shadow: 0px 1px 2px rgba(60, 64, 67, 0.3), 0px 1px 3px 1px rgba(60, 64, 67, 0.15);\n",
              "      fill: #174EA6;\n",
              "    }\n",
              "\n",
              "    [theme=dark] .colab-df-convert {\n",
              "      background-color: #3B4455;\n",
              "      fill: #D2E3FC;\n",
              "    }\n",
              "\n",
              "    [theme=dark] .colab-df-convert:hover {\n",
              "      background-color: #434B5C;\n",
              "      box-shadow: 0px 1px 3px 1px rgba(0, 0, 0, 0.15);\n",
              "      filter: drop-shadow(0px 1px 2px rgba(0, 0, 0, 0.3));\n",
              "      fill: #FFFFFF;\n",
              "    }\n",
              "  </style>\n",
              "\n",
              "      <script>\n",
              "        const buttonEl =\n",
              "          document.querySelector('#df-3491fc1e-db58-456f-b5f8-9429d7f76e70 button.colab-df-convert');\n",
              "        buttonEl.style.display =\n",
              "          google.colab.kernel.accessAllowed ? 'block' : 'none';\n",
              "\n",
              "        async function convertToInteractive(key) {\n",
              "          const element = document.querySelector('#df-3491fc1e-db58-456f-b5f8-9429d7f76e70');\n",
              "          const dataTable =\n",
              "            await google.colab.kernel.invokeFunction('convertToInteractive',\n",
              "                                                     [key], {});\n",
              "          if (!dataTable) return;\n",
              "\n",
              "          const docLinkHtml = 'Like what you see? Visit the ' +\n",
              "            '<a target=\"_blank\" href=https://colab.research.google.com/notebooks/data_table.ipynb>data table notebook</a>'\n",
              "            + ' to learn more about interactive tables.';\n",
              "          element.innerHTML = '';\n",
              "          dataTable['output_type'] = 'display_data';\n",
              "          await google.colab.output.renderOutput(dataTable, element);\n",
              "          const docLink = document.createElement('div');\n",
              "          docLink.innerHTML = docLinkHtml;\n",
              "          element.appendChild(docLink);\n",
              "        }\n",
              "      </script>\n",
              "    </div>\n",
              "  </div>\n",
              "  "
            ]
          },
          "metadata": {},
          "execution_count": 11
        }
      ]
    },
    {
      "cell_type": "code",
      "source": [
        "def text_tokenizer(text):\n",
        "    # Tokenize the text into individual words\n",
        "    words = word_tokenize(text.lower())\n",
        "\n",
        "    # Remove stopwords\n",
        "    stop_words = set(stopwords.words('english'))\n",
        "    filtered_words = [word for word in words if word.isalnum() and word not in stop_words]\n",
        "\n",
        "    return filtered_words\n",
        "\n",
        "# Text processor takes dataframe of only 1 column of strings, tokenizes it, and returns series of comma separated words from each string."
      ],
      "metadata": {
        "id": "zbF77vEFHf19"
      },
      "id": "zbF77vEFHf19",
      "execution_count": 92,
      "outputs": []
    },
    {
      "cell_type": "code",
      "source": [
        "def word_counter(series_column, n):\n",
        "  \n",
        "  all_words = [word for sublist in series_column for word in sublist]\n",
        "  word_counts = Counter(all_words)\n",
        "\n",
        "  most_common_words = word_counts.most_common(n)\n",
        "\n",
        "  return most_common_words\n",
        "\n",
        "# Takes in tokenized series and returns the top \"value of 'n'\" words as a series."
      ],
      "metadata": {
        "id": "B3NunGXtHlEr"
      },
      "id": "B3NunGXtHlEr",
      "execution_count": 93,
      "outputs": []
    },
    {
      "cell_type": "code",
      "source": [
        "def column_processor(rating, attribute, n):\n",
        "  index_user_input_df = working_user_input_df[working_user_input_df['overall_rating'] == rating].copy().drop(['overall_rating'], axis = 1)\n",
        "  isolated = index_user_input_df[attribute].rename(str(attribute)+ \"_\" + str(rating))\n",
        "  isolated = isolated.reset_index(drop=True)\n",
        "  isolated = isolated.dropna().astype(str)\n",
        "  preprocessed_data = isolated.apply(text_tokenizer)\n",
        "  word_count_list = word_counter(preprocessed_data, n)\n",
        "\n",
        "  return word_count_list\n",
        "\n",
        "# Takes requested rating and attribute, finds the column, and calls to the function that tokenizes text, calls to the function that counts words. Returns series."
      ],
      "metadata": {
        "id": "mFbVBjqrWfAr"
      },
      "id": "mFbVBjqrWfAr",
      "execution_count": 94,
      "outputs": []
    },
    {
      "cell_type": "code",
      "source": [
        "parsed_df = pd.DataFrame()\n",
        "#dfs_to_concat = [parsed_df]\n",
        "\n",
        "return_top_counter = 500\n",
        "\n",
        "for i in range(1, 6):\n",
        "    for attribute in working_user_input_df.drop(['overall_rating'], axis=1):\n",
        "        index_series_to_df = pd.DataFrame(column_processor(i, attribute, return_top_counter), columns=[str(attribute) + '_' + str(i) + '_words', str(attribute) + '_' + str(i) + '_count'])\n",
        "        index_series_to_df = index_series_to_df.rename_axis('word_index')\n",
        "        #dfs_to_concat.append(index_series_to_df)\n",
        "        if parsed_df.empty:\n",
        "            parsed_df = index_series_to_df\n",
        "        else:\n",
        "            parsed_df = pd.merge(parsed_df, index_series_to_df, on='word_index')\n",
        "#parsed_df = pd.merge(dfs_to_concat, left_index=True, right_index=True)\n",
        "\n",
        "# if loaded is not None:\n",
        "#        selected_df = pd.merge(loaded, selected_df, on='review_index')"
      ],
      "metadata": {
        "id": "oPVtfZkZZkfr"
      },
      "id": "oPVtfZkZZkfr",
      "execution_count": 133,
      "outputs": []
    },
    {
      "cell_type": "code",
      "source": [
        "parsed_df"
      ],
      "metadata": {
        "id": "RhOJ0fNao5_n",
        "outputId": "723d7b0d-25ed-479c-c36e-05fcee421506",
        "colab": {
          "base_uri": "https://localhost:8080/",
          "height": 519
        }
      },
      "id": "RhOJ0fNao5_n",
      "execution_count": 134,
      "outputs": [
        {
          "output_type": "execute_result",
          "data": {
            "text/plain": [
              "           headline_1_words  headline_1_count pros_1_words  pros_1_count  \\\n",
              "word_index                                                                 \n",
              "0                      work               813         good          2246   \n",
              "1                   company               596         work          1312   \n",
              "2                management               418       people           773   \n",
              "3                      good               414        great           640   \n",
              "4                       bad               406         none           616   \n",
              "...                     ...               ...          ...           ...   \n",
              "495                overtime                 6     partners            15   \n",
              "496                 layoffs                 6     facility            15   \n",
              "497                    big4                 6         save            15   \n",
              "498               something                 6         love            15   \n",
              "499                    suck                 6         line            15   \n",
              "\n",
              "           cons_1_words  cons_1_count headline_2_words  headline_2_count  \\\n",
              "word_index                                                                 \n",
              "0                  work          2851             good               965   \n",
              "1            management          2788             work               818   \n",
              "2                people          1484            great               508   \n",
              "3                   pay          1251          company               502   \n",
              "4               company          1230       management               474   \n",
              "...                 ...           ...              ...               ...   \n",
              "495             limited            55             shop                 7   \n",
              "496            policies            55        companies                 7   \n",
              "497           questions            55        knowledge                 7   \n",
              "498             thought            55          banking                 7   \n",
              "499                  12            55           vision                 7   \n",
              "\n",
              "           pros_2_words  pros_2_count  ... pros_4_words  pros_4_count  \\\n",
              "word_index                             ...                              \n",
              "0                  good          3505  ...         good         19656   \n",
              "1                  work          2046  ...         work         14258   \n",
              "2                people          1315  ...        great         11672   \n",
              "3                 great          1311  ...       people          6322   \n",
              "4              benefits           926  ...     benefits          5351   \n",
              "...                 ...           ...  ...          ...           ...   \n",
              "495                away            18  ...    supported            86   \n",
              "496                line            18  ...     partners            86   \n",
              "497            graduate            18  ...        think            85   \n",
              "498            autonomy            18  ...           co            85   \n",
              "499            workload            18  ...        ideas            85   \n",
              "\n",
              "           cons_4_words  cons_4_count headline_5_words  headline_5_count  \\\n",
              "word_index                                                                 \n",
              "0                  work          8665            great             15100   \n",
              "1                 hours          5448             work             11311   \n",
              "2                  long          4106          company              9408   \n",
              "3                   pay          3349            place              8304   \n",
              "4               balance          3345             good              7873   \n",
              "...                 ...           ...              ...               ...   \n",
              "495              proper            94           enough                16   \n",
              "496               goals            94           social                16   \n",
              "497               works            94             less                16   \n",
              "498            sometime            94            grads                16   \n",
              "499              remote            94          matters                16   \n",
              "\n",
              "           pros_5_words  pros_5_count cons_5_words  cons_5_count  \n",
              "word_index                                                        \n",
              "0                  work         16260         work          6802  \n",
              "1                  good         16093        hours          4534  \n",
              "2                 great         16062         cons          4422  \n",
              "3                people          6787         long          3515  \n",
              "4               culture          6545         none          3254  \n",
              "...                 ...           ...          ...           ...  \n",
              "495               looks            95   particular            79  \n",
              "496               share            95        upper            79  \n",
              "497             explore            95        wrong            79  \n",
              "498            attitude            94       almost            79  \n",
              "499            compared            94    contracts            78  \n",
              "\n",
              "[500 rows x 30 columns]"
            ],
            "text/html": [
              "\n",
              "  <div id=\"df-fac176dc-75d7-445b-ad4d-42a048e7d439\">\n",
              "    <div class=\"colab-df-container\">\n",
              "      <div>\n",
              "<style scoped>\n",
              "    .dataframe tbody tr th:only-of-type {\n",
              "        vertical-align: middle;\n",
              "    }\n",
              "\n",
              "    .dataframe tbody tr th {\n",
              "        vertical-align: top;\n",
              "    }\n",
              "\n",
              "    .dataframe thead th {\n",
              "        text-align: right;\n",
              "    }\n",
              "</style>\n",
              "<table border=\"1\" class=\"dataframe\">\n",
              "  <thead>\n",
              "    <tr style=\"text-align: right;\">\n",
              "      <th></th>\n",
              "      <th>headline_1_words</th>\n",
              "      <th>headline_1_count</th>\n",
              "      <th>pros_1_words</th>\n",
              "      <th>pros_1_count</th>\n",
              "      <th>cons_1_words</th>\n",
              "      <th>cons_1_count</th>\n",
              "      <th>headline_2_words</th>\n",
              "      <th>headline_2_count</th>\n",
              "      <th>pros_2_words</th>\n",
              "      <th>pros_2_count</th>\n",
              "      <th>...</th>\n",
              "      <th>pros_4_words</th>\n",
              "      <th>pros_4_count</th>\n",
              "      <th>cons_4_words</th>\n",
              "      <th>cons_4_count</th>\n",
              "      <th>headline_5_words</th>\n",
              "      <th>headline_5_count</th>\n",
              "      <th>pros_5_words</th>\n",
              "      <th>pros_5_count</th>\n",
              "      <th>cons_5_words</th>\n",
              "      <th>cons_5_count</th>\n",
              "    </tr>\n",
              "    <tr>\n",
              "      <th>word_index</th>\n",
              "      <th></th>\n",
              "      <th></th>\n",
              "      <th></th>\n",
              "      <th></th>\n",
              "      <th></th>\n",
              "      <th></th>\n",
              "      <th></th>\n",
              "      <th></th>\n",
              "      <th></th>\n",
              "      <th></th>\n",
              "      <th></th>\n",
              "      <th></th>\n",
              "      <th></th>\n",
              "      <th></th>\n",
              "      <th></th>\n",
              "      <th></th>\n",
              "      <th></th>\n",
              "      <th></th>\n",
              "      <th></th>\n",
              "      <th></th>\n",
              "      <th></th>\n",
              "    </tr>\n",
              "  </thead>\n",
              "  <tbody>\n",
              "    <tr>\n",
              "      <th>0</th>\n",
              "      <td>work</td>\n",
              "      <td>813</td>\n",
              "      <td>good</td>\n",
              "      <td>2246</td>\n",
              "      <td>work</td>\n",
              "      <td>2851</td>\n",
              "      <td>good</td>\n",
              "      <td>965</td>\n",
              "      <td>good</td>\n",
              "      <td>3505</td>\n",
              "      <td>...</td>\n",
              "      <td>good</td>\n",
              "      <td>19656</td>\n",
              "      <td>work</td>\n",
              "      <td>8665</td>\n",
              "      <td>great</td>\n",
              "      <td>15100</td>\n",
              "      <td>work</td>\n",
              "      <td>16260</td>\n",
              "      <td>work</td>\n",
              "      <td>6802</td>\n",
              "    </tr>\n",
              "    <tr>\n",
              "      <th>1</th>\n",
              "      <td>company</td>\n",
              "      <td>596</td>\n",
              "      <td>work</td>\n",
              "      <td>1312</td>\n",
              "      <td>management</td>\n",
              "      <td>2788</td>\n",
              "      <td>work</td>\n",
              "      <td>818</td>\n",
              "      <td>work</td>\n",
              "      <td>2046</td>\n",
              "      <td>...</td>\n",
              "      <td>work</td>\n",
              "      <td>14258</td>\n",
              "      <td>hours</td>\n",
              "      <td>5448</td>\n",
              "      <td>work</td>\n",
              "      <td>11311</td>\n",
              "      <td>good</td>\n",
              "      <td>16093</td>\n",
              "      <td>hours</td>\n",
              "      <td>4534</td>\n",
              "    </tr>\n",
              "    <tr>\n",
              "      <th>2</th>\n",
              "      <td>management</td>\n",
              "      <td>418</td>\n",
              "      <td>people</td>\n",
              "      <td>773</td>\n",
              "      <td>people</td>\n",
              "      <td>1484</td>\n",
              "      <td>great</td>\n",
              "      <td>508</td>\n",
              "      <td>people</td>\n",
              "      <td>1315</td>\n",
              "      <td>...</td>\n",
              "      <td>great</td>\n",
              "      <td>11672</td>\n",
              "      <td>long</td>\n",
              "      <td>4106</td>\n",
              "      <td>company</td>\n",
              "      <td>9408</td>\n",
              "      <td>great</td>\n",
              "      <td>16062</td>\n",
              "      <td>cons</td>\n",
              "      <td>4422</td>\n",
              "    </tr>\n",
              "    <tr>\n",
              "      <th>3</th>\n",
              "      <td>good</td>\n",
              "      <td>414</td>\n",
              "      <td>great</td>\n",
              "      <td>640</td>\n",
              "      <td>pay</td>\n",
              "      <td>1251</td>\n",
              "      <td>company</td>\n",
              "      <td>502</td>\n",
              "      <td>great</td>\n",
              "      <td>1311</td>\n",
              "      <td>...</td>\n",
              "      <td>people</td>\n",
              "      <td>6322</td>\n",
              "      <td>pay</td>\n",
              "      <td>3349</td>\n",
              "      <td>place</td>\n",
              "      <td>8304</td>\n",
              "      <td>people</td>\n",
              "      <td>6787</td>\n",
              "      <td>long</td>\n",
              "      <td>3515</td>\n",
              "    </tr>\n",
              "    <tr>\n",
              "      <th>4</th>\n",
              "      <td>bad</td>\n",
              "      <td>406</td>\n",
              "      <td>none</td>\n",
              "      <td>616</td>\n",
              "      <td>company</td>\n",
              "      <td>1230</td>\n",
              "      <td>management</td>\n",
              "      <td>474</td>\n",
              "      <td>benefits</td>\n",
              "      <td>926</td>\n",
              "      <td>...</td>\n",
              "      <td>benefits</td>\n",
              "      <td>5351</td>\n",
              "      <td>balance</td>\n",
              "      <td>3345</td>\n",
              "      <td>good</td>\n",
              "      <td>7873</td>\n",
              "      <td>culture</td>\n",
              "      <td>6545</td>\n",
              "      <td>none</td>\n",
              "      <td>3254</td>\n",
              "    </tr>\n",
              "    <tr>\n",
              "      <th>...</th>\n",
              "      <td>...</td>\n",
              "      <td>...</td>\n",
              "      <td>...</td>\n",
              "      <td>...</td>\n",
              "      <td>...</td>\n",
              "      <td>...</td>\n",
              "      <td>...</td>\n",
              "      <td>...</td>\n",
              "      <td>...</td>\n",
              "      <td>...</td>\n",
              "      <td>...</td>\n",
              "      <td>...</td>\n",
              "      <td>...</td>\n",
              "      <td>...</td>\n",
              "      <td>...</td>\n",
              "      <td>...</td>\n",
              "      <td>...</td>\n",
              "      <td>...</td>\n",
              "      <td>...</td>\n",
              "      <td>...</td>\n",
              "      <td>...</td>\n",
              "    </tr>\n",
              "    <tr>\n",
              "      <th>495</th>\n",
              "      <td>overtime</td>\n",
              "      <td>6</td>\n",
              "      <td>partners</td>\n",
              "      <td>15</td>\n",
              "      <td>limited</td>\n",
              "      <td>55</td>\n",
              "      <td>shop</td>\n",
              "      <td>7</td>\n",
              "      <td>away</td>\n",
              "      <td>18</td>\n",
              "      <td>...</td>\n",
              "      <td>supported</td>\n",
              "      <td>86</td>\n",
              "      <td>proper</td>\n",
              "      <td>94</td>\n",
              "      <td>enough</td>\n",
              "      <td>16</td>\n",
              "      <td>looks</td>\n",
              "      <td>95</td>\n",
              "      <td>particular</td>\n",
              "      <td>79</td>\n",
              "    </tr>\n",
              "    <tr>\n",
              "      <th>496</th>\n",
              "      <td>layoffs</td>\n",
              "      <td>6</td>\n",
              "      <td>facility</td>\n",
              "      <td>15</td>\n",
              "      <td>policies</td>\n",
              "      <td>55</td>\n",
              "      <td>companies</td>\n",
              "      <td>7</td>\n",
              "      <td>line</td>\n",
              "      <td>18</td>\n",
              "      <td>...</td>\n",
              "      <td>partners</td>\n",
              "      <td>86</td>\n",
              "      <td>goals</td>\n",
              "      <td>94</td>\n",
              "      <td>social</td>\n",
              "      <td>16</td>\n",
              "      <td>share</td>\n",
              "      <td>95</td>\n",
              "      <td>upper</td>\n",
              "      <td>79</td>\n",
              "    </tr>\n",
              "    <tr>\n",
              "      <th>497</th>\n",
              "      <td>big4</td>\n",
              "      <td>6</td>\n",
              "      <td>save</td>\n",
              "      <td>15</td>\n",
              "      <td>questions</td>\n",
              "      <td>55</td>\n",
              "      <td>knowledge</td>\n",
              "      <td>7</td>\n",
              "      <td>graduate</td>\n",
              "      <td>18</td>\n",
              "      <td>...</td>\n",
              "      <td>think</td>\n",
              "      <td>85</td>\n",
              "      <td>works</td>\n",
              "      <td>94</td>\n",
              "      <td>less</td>\n",
              "      <td>16</td>\n",
              "      <td>explore</td>\n",
              "      <td>95</td>\n",
              "      <td>wrong</td>\n",
              "      <td>79</td>\n",
              "    </tr>\n",
              "    <tr>\n",
              "      <th>498</th>\n",
              "      <td>something</td>\n",
              "      <td>6</td>\n",
              "      <td>love</td>\n",
              "      <td>15</td>\n",
              "      <td>thought</td>\n",
              "      <td>55</td>\n",
              "      <td>banking</td>\n",
              "      <td>7</td>\n",
              "      <td>autonomy</td>\n",
              "      <td>18</td>\n",
              "      <td>...</td>\n",
              "      <td>co</td>\n",
              "      <td>85</td>\n",
              "      <td>sometime</td>\n",
              "      <td>94</td>\n",
              "      <td>grads</td>\n",
              "      <td>16</td>\n",
              "      <td>attitude</td>\n",
              "      <td>94</td>\n",
              "      <td>almost</td>\n",
              "      <td>79</td>\n",
              "    </tr>\n",
              "    <tr>\n",
              "      <th>499</th>\n",
              "      <td>suck</td>\n",
              "      <td>6</td>\n",
              "      <td>line</td>\n",
              "      <td>15</td>\n",
              "      <td>12</td>\n",
              "      <td>55</td>\n",
              "      <td>vision</td>\n",
              "      <td>7</td>\n",
              "      <td>workload</td>\n",
              "      <td>18</td>\n",
              "      <td>...</td>\n",
              "      <td>ideas</td>\n",
              "      <td>85</td>\n",
              "      <td>remote</td>\n",
              "      <td>94</td>\n",
              "      <td>matters</td>\n",
              "      <td>16</td>\n",
              "      <td>compared</td>\n",
              "      <td>94</td>\n",
              "      <td>contracts</td>\n",
              "      <td>78</td>\n",
              "    </tr>\n",
              "  </tbody>\n",
              "</table>\n",
              "<p>500 rows × 30 columns</p>\n",
              "</div>\n",
              "      <button class=\"colab-df-convert\" onclick=\"convertToInteractive('df-fac176dc-75d7-445b-ad4d-42a048e7d439')\"\n",
              "              title=\"Convert this dataframe to an interactive table.\"\n",
              "              style=\"display:none;\">\n",
              "        \n",
              "  <svg xmlns=\"http://www.w3.org/2000/svg\" height=\"24px\"viewBox=\"0 0 24 24\"\n",
              "       width=\"24px\">\n",
              "    <path d=\"M0 0h24v24H0V0z\" fill=\"none\"/>\n",
              "    <path d=\"M18.56 5.44l.94 2.06.94-2.06 2.06-.94-2.06-.94-.94-2.06-.94 2.06-2.06.94zm-11 1L8.5 8.5l.94-2.06 2.06-.94-2.06-.94L8.5 2.5l-.94 2.06-2.06.94zm10 10l.94 2.06.94-2.06 2.06-.94-2.06-.94-.94-2.06-.94 2.06-2.06.94z\"/><path d=\"M17.41 7.96l-1.37-1.37c-.4-.4-.92-.59-1.43-.59-.52 0-1.04.2-1.43.59L10.3 9.45l-7.72 7.72c-.78.78-.78 2.05 0 2.83L4 21.41c.39.39.9.59 1.41.59.51 0 1.02-.2 1.41-.59l7.78-7.78 2.81-2.81c.8-.78.8-2.07 0-2.86zM5.41 20L4 18.59l7.72-7.72 1.47 1.35L5.41 20z\"/>\n",
              "  </svg>\n",
              "      </button>\n",
              "      \n",
              "  <style>\n",
              "    .colab-df-container {\n",
              "      display:flex;\n",
              "      flex-wrap:wrap;\n",
              "      gap: 12px;\n",
              "    }\n",
              "\n",
              "    .colab-df-convert {\n",
              "      background-color: #E8F0FE;\n",
              "      border: none;\n",
              "      border-radius: 50%;\n",
              "      cursor: pointer;\n",
              "      display: none;\n",
              "      fill: #1967D2;\n",
              "      height: 32px;\n",
              "      padding: 0 0 0 0;\n",
              "      width: 32px;\n",
              "    }\n",
              "\n",
              "    .colab-df-convert:hover {\n",
              "      background-color: #E2EBFA;\n",
              "      box-shadow: 0px 1px 2px rgba(60, 64, 67, 0.3), 0px 1px 3px 1px rgba(60, 64, 67, 0.15);\n",
              "      fill: #174EA6;\n",
              "    }\n",
              "\n",
              "    [theme=dark] .colab-df-convert {\n",
              "      background-color: #3B4455;\n",
              "      fill: #D2E3FC;\n",
              "    }\n",
              "\n",
              "    [theme=dark] .colab-df-convert:hover {\n",
              "      background-color: #434B5C;\n",
              "      box-shadow: 0px 1px 3px 1px rgba(0, 0, 0, 0.15);\n",
              "      filter: drop-shadow(0px 1px 2px rgba(0, 0, 0, 0.3));\n",
              "      fill: #FFFFFF;\n",
              "    }\n",
              "  </style>\n",
              "\n",
              "      <script>\n",
              "        const buttonEl =\n",
              "          document.querySelector('#df-fac176dc-75d7-445b-ad4d-42a048e7d439 button.colab-df-convert');\n",
              "        buttonEl.style.display =\n",
              "          google.colab.kernel.accessAllowed ? 'block' : 'none';\n",
              "\n",
              "        async function convertToInteractive(key) {\n",
              "          const element = document.querySelector('#df-fac176dc-75d7-445b-ad4d-42a048e7d439');\n",
              "          const dataTable =\n",
              "            await google.colab.kernel.invokeFunction('convertToInteractive',\n",
              "                                                     [key], {});\n",
              "          if (!dataTable) return;\n",
              "\n",
              "          const docLinkHtml = 'Like what you see? Visit the ' +\n",
              "            '<a target=\"_blank\" href=https://colab.research.google.com/notebooks/data_table.ipynb>data table notebook</a>'\n",
              "            + ' to learn more about interactive tables.';\n",
              "          element.innerHTML = '';\n",
              "          dataTable['output_type'] = 'display_data';\n",
              "          await google.colab.output.renderOutput(dataTable, element);\n",
              "          const docLink = document.createElement('div');\n",
              "          docLink.innerHTML = docLinkHtml;\n",
              "          element.appendChild(docLink);\n",
              "        }\n",
              "      </script>\n",
              "    </div>\n",
              "  </div>\n",
              "  "
            ]
          },
          "metadata": {},
          "execution_count": 134
        }
      ]
    }
  ],
  "metadata": {
    "kernelspec": {
      "display_name": "Python 3 (ipykernel)",
      "language": "python",
      "name": "python3"
    },
    "language_info": {
      "codemirror_mode": {
        "name": "ipython",
        "version": 3
      },
      "file_extension": ".py",
      "mimetype": "text/x-python",
      "name": "python",
      "nbconvert_exporter": "python",
      "pygments_lexer": "ipython3",
      "version": "3.10.11"
    },
    "colab": {
      "provenance": []
    }
  },
  "nbformat": 4,
  "nbformat_minor": 5
}