{
  "cells": [
    {
      "cell_type": "markdown",
      "source": [
        "### Dependencies"
      ],
      "metadata": {
        "id": "IaPKEWSbRUae"
      },
      "id": "IaPKEWSbRUae"
    },
    {
      "cell_type": "code",
      "source": [
        "# Install Modules\n",
        "!pip install keras_tuner -q\n",
        "\n",
        "# Load Dependencies\n",
        "import pandas as pd\n",
        "from sklearn.model_selection import train_test_split\n",
        "from sklearn.preprocessing import StandardScaler\n",
        "from sklearn.decomposition import PCA\n",
        "import tensorflow as tf\n",
        "import keras_tuner as kt\n",
        "import warnings\n",
        "import numpy as np\n",
        "from collections import Counter\n",
        "import nltk\n",
        "from nltk.tokenize import word_tokenize\n",
        "from nltk.corpus import stopwords\n",
        "nltk.download('punkt')\n",
        "nltk.download('stopwords')\n",
        "\n",
        "# Disable all warnings\n",
        "warnings.filterwarnings(\"ignore\")"
      ],
      "metadata": {
        "id": "cGTSm3q0pxD1",
        "outputId": "06f6ca6c-2caf-4c36-cf81-c0c43c0d7c54",
        "colab": {
          "base_uri": "https://localhost:8080/"
        }
      },
      "id": "cGTSm3q0pxD1",
      "execution_count": 50,
      "outputs": [
        {
          "output_type": "stream",
          "name": "stderr",
          "text": [
            "[nltk_data] Downloading package punkt to /root/nltk_data...\n",
            "[nltk_data]   Package punkt is already up-to-date!\n",
            "[nltk_data] Downloading package stopwords to /root/nltk_data...\n",
            "[nltk_data]   Package stopwords is already up-to-date!\n"
          ]
        }
      ]
    },
    {
      "cell_type": "markdown",
      "source": [
        "## Preprocessing"
      ],
      "metadata": {
        "id": "2qmFvsUoRh79"
      },
      "id": "2qmFvsUoRh79"
    },
    {
      "cell_type": "markdown",
      "source": [
        "### Load Data"
      ],
      "metadata": {
        "id": "EBWujbVtpiCk"
      },
      "id": "EBWujbVtpiCk"
    },
    {
      "cell_type": "code",
      "execution_count": 2,
      "id": "7d72e12a",
      "metadata": {
        "id": "7d72e12a"
      },
      "outputs": [],
      "source": [
        "def load_join(select, loaded):\n",
        "    selected_df = pd.read_csv(\"https://www.dropbox.com/s/\" + select + \"?dl=1\", index_col=\"review_index\")\n",
        "    if loaded is not None:\n",
        "        selected_df = pd.merge(loaded, selected_df, on='review_index')\n",
        "    return selected_df"
      ]
    },
    {
      "cell_type": "code",
      "execution_count": 3,
      "id": "3db93c45",
      "metadata": {
        "id": "3db93c45"
      },
      "outputs": [],
      "source": [
        "load_metadata = True\n",
        "load_ratings = True\n",
        "load_opinions = True\n",
        "load_descriptions = True\n",
        "load_world_happiness_report = False\n",
        "\n",
        "index_df = None\n",
        "if load_metadata == True:\n",
        "    load_index = \"goqyfyeu2qvpsmo/metadata_df.csv\"\n",
        "    index_df = load_join(load_index, index_df)\n",
        "if load_ratings == True:\n",
        "    load_index = \"9j2j86xwqrmrljx/ratings_df.csv\"\n",
        "    index_df = load_join(load_index, index_df)\n",
        "if load_opinions == True:\n",
        "    load_index = \"q8v9f6rbb4z12df/opinion_df.csv\"\n",
        "    index_df = load_join(load_index, index_df)\n",
        "if load_descriptions == True:\n",
        "    load_index = \"hnp8sebleh6dzgt/descriptions_df.csv\"\n",
        "    index_df = load_join(load_index, index_df)\n",
        "    \n",
        "if load_world_happiness_report == True:\n",
        "    WHR_df = pd.read_csv(\"https://www.dropbox.com/s/jyr4e7fleevrb1s/WHR2023.csv?dl=1\")"
      ]
    },
    {
      "cell_type": "code",
      "execution_count": 4,
      "id": "ef1fe8a6",
      "metadata": {
        "id": "ef1fe8a6"
      },
      "outputs": [],
      "source": [
        "user_input_df = index_df.drop(['firm', 'date_review', 'job_title', 'location', 'current',\t'work_life_balance',\t'culture_values',\t'diversity_inclusion',\n",
        "                               'career_opp',\t'comp_benefits',\t'senior_mgmt',\t'recommend',\t'ceo_approv',\t'outlook'], axis=1)\n",
        "\n",
        "nn_working_df = index_df.drop(['date_review', 'job_title', 'location', 'headline', 'pros', 'cons'], axis=1).copy()"
      ]
    },
    {
      "cell_type": "markdown",
      "source": [
        "### Data Cleaning"
      ],
      "metadata": {
        "id": "e20KFxSGSZZD"
      },
      "id": "e20KFxSGSZZD"
    },
    {
      "cell_type": "markdown",
      "source": [
        "#### Cleaning Data Attempt - Half Hot-Ended Remove NaN"
      ],
      "metadata": {
        "id": "crZbmswLpKK1"
      },
      "id": "crZbmswLpKK1"
    },
    {
      "cell_type": "code",
      "source": [
        "working_half_hotend_df = nn_working_df.copy()\n",
        "columns_to_convert = ['overall_rating', 'work_life_balance', 'culture_values',\n",
        "                      'diversity_inclusion', 'career_opp', 'comp_benefits',\n",
        "                      'senior_mgmt']\n",
        "\n",
        "working_half_hotend_df[columns_to_convert] = working_half_hotend_df[columns_to_convert].astype(float)"
      ],
      "metadata": {
        "id": "bTo1RtfapS4X"
      },
      "id": "bTo1RtfapS4X",
      "execution_count": 5,
      "outputs": []
    },
    {
      "cell_type": "code",
      "source": [
        "cutoff_value = 3000\n",
        "firms_to_replace = working_half_hotend_df['firm'].value_counts()[working_half_hotend_df['firm'].value_counts() < cutoff_value].index.tolist()\n",
        "\n",
        "# Replace in dataframe\n",
        "for firm in firms_to_replace:\n",
        "    working_half_hotend_df['firm'] = working_half_hotend_df['firm'].replace(firm,\"Other\")\n",
        "    \n",
        "# Check to make sure binning was successful\n",
        "print(working_half_hotend_df['firm'].value_counts())\n",
        "print(\"These ar how many samples that got 'firm' changed to Other: \", len(working_half_hotend_df[working_half_hotend_df['firm'] == \"Other\"]))\n",
        "print(\"Number of firms removed: \", len(firms_to_replace))\n",
        "print(\"Remaining number of firms: \", len(working_half_hotend_df['firm'].value_counts()))"
      ],
      "metadata": {
        "id": "PlbLgahEoeV3",
        "outputId": "a8725e92-0630-4571-e257-cbbc6cbd15cc",
        "colab": {
          "base_uri": "https://localhost:8080/"
        }
      },
      "id": "PlbLgahEoeV3",
      "execution_count": 6,
      "outputs": [
        {
          "output_type": "stream",
          "name": "stdout",
          "text": [
            "Other                      178782\n",
            "IBM                         60436\n",
            "McDonald-s                  49450\n",
            "Deloitte                    46995\n",
            "EY                          34050\n",
            "PwC                         33227\n",
            "Oracle                      31941\n",
            "Microsoft                   26675\n",
            "J-P-Morgan                  25814\n",
            "KPMG                        24815\n",
            "Apple                       20797\n",
            "Citi                        18726\n",
            "Google                      15995\n",
            "SAP                         14344\n",
            "HSBC-Holdings               13893\n",
            "Tesco                       12149\n",
            "Marriott-International      10409\n",
            "Barclays                     9710\n",
            "Thomson-Reuters              9553\n",
            "American-Express             9349\n",
            "Morgan-Stanley               9093\n",
            "Goldman-Sachs                8808\n",
            "Vodafone                     8321\n",
            "Salesforce                   8234\n",
            "Pizza-Hut                    7592\n",
            "BNY-Mellon                   6630\n",
            "Deutsche-Bank                6388\n",
            "Hilton                       6155\n",
            "J-Sainsbury                  5925\n",
            "GlaxoSmithKline              5646\n",
            "Unilever                     5632\n",
            "BT                           5337\n",
            "CBRE                         5276\n",
            "McKinsey-and-Company         5106\n",
            "NHS                          4977\n",
            "Pearson                      4879\n",
            "ASDA                         4760\n",
            "Primark                      4680\n",
            "Marks-and-Spencer            4557\n",
            "Bloomberg-L-P                4394\n",
            "Booking-com                  4393\n",
            "University-of-Michigan       4185\n",
            "Hyatt                        4041\n",
            "Aon                          3975\n",
            "Capita                       3945\n",
            "Willis-Towers-Watson         3816\n",
            "BNP-Paribas                  3757\n",
            "LinkedIn                     3635\n",
            "Bain-and-Company             3623\n",
            "Boots                        3618\n",
            "Waitrose                     3616\n",
            "Mercer                       3496\n",
            "Boston-Consulting-Group      3466\n",
            "AstraZeneca                  3443\n",
            "Sodexo                       3411\n",
            "next                         3324\n",
            "Grant-Thornton               3244\n",
            "Hays                         3045\n",
            "Lloyds-Banking-Group         3033\n",
            "Name: firm, dtype: int64\n",
            "These ar how many samples that got 'firm' changed to Other:  178782\n",
            "Number of firms removed:  370\n",
            "Remaining number of firms:  59\n"
          ]
        }
      ]
    },
    {
      "cell_type": "code",
      "source": [
        "# Cutoff value to make a list of values in the 'current' column to put into \"other\" catagory\n",
        "cutoff_value = 10\n",
        "current_to_replace = working_half_hotend_df['current'].value_counts()[working_half_hotend_df['current'].value_counts() < cutoff_value].index.tolist()\n",
        "\n",
        "# Replace in dataframe\n",
        "for review in current_to_replace:\n",
        "    working_half_hotend_df['current'] = working_half_hotend_df['current'].replace(review,\"Other\")\n",
        "\n",
        "# Check to make sure binning was successful\n",
        "working_half_hotend_df['current'].value_counts()"
      ],
      "metadata": {
        "colab": {
          "base_uri": "https://localhost:8080/"
        },
        "id": "KGiJaOscrV5U",
        "outputId": "786782c2-5437-4cd6-9f76-5653472ab6b5"
      },
      "id": "KGiJaOscrV5U",
      "execution_count": 7,
      "outputs": [
        {
          "output_type": "execute_result",
          "data": {
            "text/plain": [
              "Current Employee                        209599\n",
              "Former Employee                         146133\n",
              "Current Employee, more than 1 year       82749\n",
              "Current Employee, more than 3 years      66471\n",
              "Former Employee, more than 1 year        65687\n",
              "Current Employee, less than 1 year       49603\n",
              "Former Employee, more than 3 years       43614\n",
              "Former Employee, less than 1 year        41874\n",
              "Current Employee, more than 5 years      40155\n",
              "Current Employee, more than 10 years     25029\n",
              "Former Employee, more than 5 years       23017\n",
              "Current Employee, more than 8 years      18506\n",
              "Former Employee, more than 10 years      15411\n",
              "Former Employee, more than 8 years       10686\n",
              "Other                                       32\n",
              "Name: current, dtype: int64"
            ]
          },
          "metadata": {},
          "execution_count": 7
        }
      ]
    },
    {
      "cell_type": "code",
      "source": [
        "print(\"Columns before processing: \", len(working_half_hotend_df))\n",
        "working_half_hotend_df.dropna(subset=columns_to_convert, inplace=True)\n",
        "print(\"Column after dropping NaN values: \", len(working_half_hotend_df))\n",
        "working_half_hotend_df.nunique()"
      ],
      "metadata": {
        "colab": {
          "base_uri": "https://localhost:8080/"
        },
        "id": "ZkgM6zrdtsmZ",
        "outputId": "a7a9f343-4fbe-426d-f12c-c255f0dc5b64"
      },
      "id": "ZkgM6zrdtsmZ",
      "execution_count": 8,
      "outputs": [
        {
          "output_type": "stream",
          "name": "stdout",
          "text": [
            "Columns before processing:  838566\n",
            "Column after dropping NaN values:  133863\n"
          ]
        },
        {
          "output_type": "execute_result",
          "data": {
            "text/plain": [
              "firm                   59\n",
              "current                15\n",
              "overall_rating          5\n",
              "work_life_balance       5\n",
              "culture_values          5\n",
              "diversity_inclusion     5\n",
              "career_opp              5\n",
              "comp_benefits           5\n",
              "senior_mgmt             5\n",
              "recommend               3\n",
              "ceo_approv              4\n",
              "outlook                 4\n",
              "dtype: int64"
            ]
          },
          "metadata": {},
          "execution_count": 8
        }
      ]
    },
    {
      "cell_type": "code",
      "source": [
        "X = pd.get_dummies(working_half_hotend_df.drop('overall_rating', axis = 1)).drop(['recommend_o', 'ceo_approv_o', 'outlook_o'], axis = 1)\n",
        "y = pd.get_dummies(working_half_hotend_df['overall_rating'].astype(int))\n",
        "\n",
        "X.columns"
      ],
      "metadata": {
        "colab": {
          "base_uri": "https://localhost:8080/"
        },
        "id": "GRs0ZXHb4U4e",
        "outputId": "65bfb54a-47c6-47f9-a472-b3723af64580"
      },
      "id": "GRs0ZXHb4U4e",
      "execution_count": 9,
      "outputs": [
        {
          "output_type": "execute_result",
          "data": {
            "text/plain": [
              "Index(['work_life_balance', 'culture_values', 'diversity_inclusion',\n",
              "       'career_opp', 'comp_benefits', 'senior_mgmt', 'firm_ASDA',\n",
              "       'firm_American-Express', 'firm_Aon', 'firm_Apple', 'firm_AstraZeneca',\n",
              "       'firm_BNP-Paribas', 'firm_BNY-Mellon', 'firm_BT',\n",
              "       'firm_Bain-and-Company', 'firm_Barclays', 'firm_Bloomberg-L-P',\n",
              "       'firm_Booking-com', 'firm_Boots', 'firm_Boston-Consulting-Group',\n",
              "       'firm_CBRE', 'firm_Capita', 'firm_Citi', 'firm_Deloitte',\n",
              "       'firm_Deutsche-Bank', 'firm_EY', 'firm_GlaxoSmithKline',\n",
              "       'firm_Goldman-Sachs', 'firm_Google', 'firm_Grant-Thornton',\n",
              "       'firm_HSBC-Holdings', 'firm_Hays', 'firm_Hilton', 'firm_Hyatt',\n",
              "       'firm_IBM', 'firm_J-P-Morgan', 'firm_J-Sainsbury', 'firm_KPMG',\n",
              "       'firm_LinkedIn', 'firm_Lloyds-Banking-Group', 'firm_Marks-and-Spencer',\n",
              "       'firm_Marriott-International', 'firm_McDonald-s',\n",
              "       'firm_McKinsey-and-Company', 'firm_Mercer', 'firm_Microsoft',\n",
              "       'firm_Morgan-Stanley', 'firm_NHS', 'firm_Oracle', 'firm_Other',\n",
              "       'firm_Pearson', 'firm_Pizza-Hut', 'firm_Primark', 'firm_PwC',\n",
              "       'firm_SAP', 'firm_Salesforce', 'firm_Sodexo', 'firm_Tesco',\n",
              "       'firm_Thomson-Reuters', 'firm_Unilever', 'firm_University-of-Michigan',\n",
              "       'firm_Vodafone', 'firm_Waitrose', 'firm_Willis-Towers-Watson',\n",
              "       'firm_next', 'current_Current Employee',\n",
              "       'current_Current Employee, less than 1 year',\n",
              "       'current_Current Employee, more than 1 year',\n",
              "       'current_Current Employee, more than 10 years',\n",
              "       'current_Current Employee, more than 3 years',\n",
              "       'current_Current Employee, more than 5 years',\n",
              "       'current_Current Employee, more than 8 years',\n",
              "       'current_Former Employee', 'current_Former Employee, less than 1 year',\n",
              "       'current_Former Employee, more than 1 year',\n",
              "       'current_Former Employee, more than 10 years',\n",
              "       'current_Former Employee, more than 3 years',\n",
              "       'current_Former Employee, more than 5 years',\n",
              "       'current_Former Employee, more than 8 years', 'current_Other',\n",
              "       'recommend_v', 'recommend_x', 'ceo_approv_r', 'ceo_approv_v',\n",
              "       'ceo_approv_x', 'outlook_r', 'outlook_v', 'outlook_x'],\n",
              "      dtype='object')"
            ]
          },
          "metadata": {},
          "execution_count": 9
        }
      ]
    },
    {
      "cell_type": "code",
      "source": [
        "# Split the preprocessed data into a training and testing dataset\n",
        "X_train, X_test, y_train, y_test = train_test_split(X, y, test_size=0.25, random_state=1)\n",
        "\n",
        "# Create a StandardScaler instances\n",
        "scaler = StandardScaler()\n",
        "\n",
        "# Fit the StandardScaler\n",
        "X_scaler = scaler.fit(X_train)\n",
        "\n",
        "# Scale the data\n",
        "X_train_scaled = X_scaler.transform(X_train)\n",
        "X_test_scaled = X_scaler.transform(X_test)\n",
        "\n",
        "X_train_scaled.shape"
      ],
      "metadata": {
        "colab": {
          "base_uri": "https://localhost:8080/"
        },
        "id": "E7jtdKzF4iWW",
        "outputId": "5175f840-df63-45a7-86ef-6697f74a228a"
      },
      "id": "E7jtdKzF4iWW",
      "execution_count": 10,
      "outputs": [
        {
          "output_type": "execute_result",
          "data": {
            "text/plain": [
              "(100397, 88)"
            ]
          },
          "metadata": {},
          "execution_count": 10
        }
      ]
    },
    {
      "cell_type": "markdown",
      "source": [
        "#### Cleaning Data Attempt - Drop Less Columns // not for prod"
      ],
      "metadata": {
        "id": "XvzKGdaSTyTa"
      },
      "id": "XvzKGdaSTyTa"
    },
    {
      "cell_type": "code",
      "source": [
        "preprocessing_df = unedited_working_df.copy()\n",
        "preprocessing_df = preprocessing_df.drop(['date_review', 'job_title', 'location'], axis=1)"
      ],
      "metadata": {
        "id": "-3sbJz_oT7uh"
      },
      "id": "-3sbJz_oT7uh",
      "execution_count": null,
      "outputs": []
    },
    {
      "cell_type": "code",
      "source": [
        "preprocessing_df.nunique()"
      ],
      "metadata": {
        "id": "YZmwqlx_g81L",
        "outputId": "33eb9cfe-d7be-40e0-c830-ebf7e09d06eb",
        "colab": {
          "base_uri": "https://localhost:8080/"
        }
      },
      "id": "YZmwqlx_g81L",
      "execution_count": null,
      "outputs": [
        {
          "output_type": "execute_result",
          "data": {
            "text/plain": [
              "firm                   428\n",
              "current                 29\n",
              "overall_rating           5\n",
              "work_life_balance        5\n",
              "culture_values           5\n",
              "diversity_inclusion      5\n",
              "career_opp               5\n",
              "comp_benefits            5\n",
              "senior_mgmt              5\n",
              "recommend                3\n",
              "ceo_approv               4\n",
              "outlook                  4\n",
              "dtype: int64"
            ]
          },
          "metadata": {},
          "execution_count": 6
        }
      ]
    },
    {
      "cell_type": "code",
      "source": [
        "cutoff_value = 2000\n",
        "firms_to_replace = preprocessing_df['firm'].value_counts()[preprocessing_df['firm'].value_counts() < cutoff_value].index.tolist()\n",
        "\n",
        "# Replace in dataframe\n",
        "for firm in firms_to_replace:\n",
        "    preprocessing_df['firm'] = preprocessing_df['firm'].replace(firm,\"Other\")\n",
        "    \n",
        "# Check to make sure binning was successful\n",
        "print(preprocessing_df['firm'].value_counts())\n",
        "print(\"These ar how many samples that got 'firm' changed to Other: \", len(preprocessing_df[preprocessing_df['firm'] == \"Other\"]))\n",
        "print(\"Number of firms removed: \", len(firms_to_replace))"
      ],
      "metadata": {
        "colab": {
          "base_uri": "https://localhost:8080/"
        },
        "id": "rTx2FoxVWDZw",
        "outputId": "cf53b8b4-8349-4cc8-9295-9a1dc2755ffc"
      },
      "id": "rTx2FoxVWDZw",
      "execution_count": null,
      "outputs": [
        {
          "output_type": "stream",
          "name": "stdout",
          "text": [
            "Other                 132211\n",
            "IBM                    60436\n",
            "McDonald-s             49450\n",
            "Deloitte               46995\n",
            "EY                     34050\n",
            "                       ...  \n",
            "Bayer                   2441\n",
            "BDO                     2422\n",
            "The-Salvation-Army      2356\n",
            "Accenture               2156\n",
            "Co-op                   2065\n",
            "Name: firm, Length: 77, dtype: int64\n",
            "These ar how many samples that got 'firm' changed to Other:  132211\n",
            "Number of firms removed:  352\n"
          ]
        }
      ]
    },
    {
      "cell_type": "code",
      "source": [
        "# Cutoff value to make a list of values in the 'current' column to put into \"other\" catagory\n",
        "cutoff_value = 10000\n",
        "current_to_replace = preprocessing_df['current'].value_counts()[preprocessing_df['current'].value_counts() < cutoff_value].index.tolist()\n",
        "\n",
        "# Replace in dataframe\n",
        "for review in current_to_replace:\n",
        "    preprocessing_df['current'] = preprocessing_df['current'].replace(review,\"Other\")\n",
        "\n",
        "# Check to make sure binning was successful\n",
        "preprocessing_df['current'].value_counts()"
      ],
      "metadata": {
        "colab": {
          "base_uri": "https://localhost:8080/"
        },
        "id": "39acOwg0d6hs",
        "outputId": "2672f3dd-7021-4cb6-e4f8-f6e107269f04"
      },
      "id": "39acOwg0d6hs",
      "execution_count": null,
      "outputs": [
        {
          "output_type": "execute_result",
          "data": {
            "text/plain": [
              "Current Employee                        209599\n",
              "Former Employee                         146133\n",
              "Current Employee, more than 1 year       82749\n",
              "Current Employee, more than 3 years      66471\n",
              "Former Employee, more than 1 year        65687\n",
              "Current Employee, less than 1 year       49603\n",
              "Former Employee, more than 3 years       43614\n",
              "Former Employee, less than 1 year        41874\n",
              "Current Employee, more than 5 years      40155\n",
              "Current Employee, more than 10 years     25029\n",
              "Former Employee, more than 5 years       23017\n",
              "Current Employee, more than 8 years      18506\n",
              "Former Employee, more than 10 years      15411\n",
              "Former Employee, more than 8 years       10686\n",
              "Other                                       32\n",
              "Name: current, dtype: int64"
            ]
          },
          "metadata": {},
          "execution_count": 8
        }
      ]
    },
    {
      "cell_type": "code",
      "source": [
        "print(\"Columns before processing: \", len(preprocessing_df))\n",
        "columns_to_convert = ['overall_rating', 'work_life_balance', 'culture_values',\n",
        "                      'diversity_inclusion', 'career_opp', 'comp_benefits',\n",
        "                      'senior_mgmt']\n",
        "\n",
        "preprocessing_df[columns_to_convert] = preprocessing_df[columns_to_convert].astype(float)\n",
        "preprocessing_df.dropna(subset=columns_to_convert, inplace=True)\n",
        "print(\"Column after dropping NaN values: \", len(preprocessing_df))"
      ],
      "metadata": {
        "colab": {
          "base_uri": "https://localhost:8080/"
        },
        "id": "MAuiVMDzebJs",
        "outputId": "b7a0eb7f-cf51-480d-ce28-5b0e2251b5e1"
      },
      "id": "MAuiVMDzebJs",
      "execution_count": null,
      "outputs": [
        {
          "output_type": "stream",
          "name": "stdout",
          "text": [
            "Columns before processing:  838566\n",
            "Column after dropping NaN values:  133863\n"
          ]
        }
      ]
    },
    {
      "cell_type": "code",
      "source": [
        "X = pd.get_dummies(preprocessing_df.drop('overall_rating', axis = 1)).drop(['recommend_o', 'ceo_approv_o', 'outlook_o'], axis = 1)\n",
        "y = pd.get_dummies(preprocessing_df['overall_rating'].astype(int))"
      ],
      "metadata": {
        "id": "_xk5_jE7erM6"
      },
      "id": "_xk5_jE7erM6",
      "execution_count": null,
      "outputs": []
    },
    {
      "cell_type": "code",
      "source": [
        "# Split the preprocessed data into a training and testing dataset\n",
        "X_train, X_test, y_train, y_test = train_test_split(X, y, test_size=0.25, random_state=1)\n",
        "\n",
        "# Create a StandardScaler instances\n",
        "scaler = StandardScaler()\n",
        "\n",
        "# Fit the StandardScaler\n",
        "X_scaler = scaler.fit(X_train)\n",
        "\n",
        "# Scale the data\n",
        "X_train_scaled = X_scaler.transform(X_train)\n",
        "X_test_scaled = X_scaler.transform(X_test)\n",
        "\n",
        "X_train_scaled.shape"
      ],
      "metadata": {
        "colab": {
          "base_uri": "https://localhost:8080/"
        },
        "id": "XaNS2qcVdw_2",
        "outputId": "fa038fbf-d601-4abb-e2ca-2c8a25de02bb"
      },
      "id": "XaNS2qcVdw_2",
      "execution_count": null,
      "outputs": [
        {
          "output_type": "execute_result",
          "data": {
            "text/plain": [
              "(100397, 106)"
            ]
          },
          "metadata": {},
          "execution_count": 11
        }
      ]
    },
    {
      "cell_type": "markdown",
      "source": [
        "#### Cleaning Data Attempt - PCA // not for prod"
      ],
      "metadata": {
        "id": "BwLXYwU-hbUN"
      },
      "id": "BwLXYwU-hbUN"
    },
    {
      "cell_type": "code",
      "source": [
        "# Create PCA Model\n",
        "pca_model = PCA(n_components=25)"
      ],
      "metadata": {
        "id": "QLpXNAZSjlyo"
      },
      "id": "QLpXNAZSjlyo",
      "execution_count": null,
      "outputs": []
    },
    {
      "cell_type": "code",
      "source": [
        "pca_model = pca_model.fit(X_train_scaled)\n",
        "\n",
        "X_train_scaled = pca_model.transform(X_train_scaled)\n",
        "X_test_scaled = pca_model.transform(X_test_scaled)\n",
        "\n",
        "# Training DataFrame with the PCA components\n",
        "pca_df = pd.DataFrame(data=X_train_scaled, columns=['PC1', 'PC2', 'PC3', 'PC4', 'PC5', 'PC6', 'PC7', 'PC8', 'PC9', 'PC10', \n",
        "                                                'PC11', 'PC12', 'PC13', 'PC14', 'PC15', 'PC16', 'PC17', 'PC18', 'PC19', 'PC20',\n",
        "                                                'PC21', 'PC22', 'PC23', 'PC24', 'PC25'])#, 'PC26', 'PC27', 'PC28', 'PC29'])#, 'PC30'])\n",
        "                                              #  'PC31', 'PC32', 'PC33', 'PC34', 'PC35'])\n",
        "\n",
        "# Retrieve the explained variance from the PCA model\n",
        "explained_variance = pca_model.explained_variance_ratio_\n",
        "Scope = 0\n",
        "\n",
        "# Print the explained variance for each principal component\n",
        "for i, variance in enumerate(explained_variance):\n",
        "    Scope = Scope + variance\n",
        "    print(f\"Explained Variance PC{i+1}: {variance:.4f}\")\n",
        "\n",
        "print(f\"{Scope * 100:.2f}%\")"
      ],
      "metadata": {
        "id": "aweKhmPsiGMG",
        "outputId": "7eade046-bf26-4765-8575-39446eab0665",
        "colab": {
          "base_uri": "https://localhost:8080/"
        }
      },
      "id": "aweKhmPsiGMG",
      "execution_count": null,
      "outputs": [
        {
          "output_type": "stream",
          "name": "stdout",
          "text": [
            "Explained Variance PC1: 0.1108\n",
            "Explained Variance PC2: 0.0630\n",
            "Explained Variance PC3: 0.0426\n",
            "Explained Variance PC4: 0.0403\n",
            "Explained Variance PC5: 0.0301\n",
            "Explained Variance PC6: 0.0261\n",
            "Explained Variance PC7: 0.0238\n",
            "Explained Variance PC8: 0.0224\n",
            "Explained Variance PC9: 0.0223\n",
            "Explained Variance PC10: 0.0215\n",
            "Explained Variance PC11: 0.0208\n",
            "Explained Variance PC12: 0.0205\n",
            "Explained Variance PC13: 0.0204\n",
            "Explained Variance PC14: 0.0203\n",
            "Explained Variance PC15: 0.0202\n",
            "Explained Variance PC16: 0.0200\n",
            "Explained Variance PC17: 0.0198\n",
            "Explained Variance PC18: 0.0198\n",
            "Explained Variance PC19: 0.0195\n",
            "Explained Variance PC20: 0.0193\n",
            "Explained Variance PC21: 0.0192\n",
            "Explained Variance PC22: 0.0191\n",
            "Explained Variance PC23: 0.0191\n",
            "Explained Variance PC24: 0.0189\n",
            "Explained Variance PC25: 0.0187\n",
            "69.86%\n"
          ]
        }
      ]
    },
    {
      "cell_type": "markdown",
      "source": [
        "## NN Attempt - Compile, Train, & Evaluate Default Model"
      ],
      "metadata": {
        "id": "CGVIpLvl4KGZ"
      },
      "id": "CGVIpLvl4KGZ"
    },
    {
      "cell_type": "code",
      "source": [
        "# Define the model\n",
        "nn_default = tf.keras.models.Sequential()\n",
        "\n",
        "# Add the masking layer\n",
        "#nn_default.add(tf.keras.layers.Masking(mask_value=10, input_shape=(X_train_scaled.shape[1],)))\n",
        "\n",
        "nn_default.add(tf.keras.layers.Dense(units=100, activation='relu', input_dim=X_train_scaled.shape[1]))\n",
        "\n",
        "nn_default.add(tf.keras.layers.Dense(units=80, activation='relu'))\n",
        "\n",
        "# Add the output layer\n",
        "nn_default.add(tf.keras.layers.Dense(units=5, activation='sigmoid'))\n",
        "\n",
        "# Check the structure of the model\n",
        "nn_default.summary()"
      ],
      "metadata": {
        "id": "YAFrnD0r4RxQ",
        "outputId": "1ca7843f-3ecd-4257-fbdb-f3df699188fb",
        "colab": {
          "base_uri": "https://localhost:8080/"
        }
      },
      "id": "YAFrnD0r4RxQ",
      "execution_count": null,
      "outputs": [
        {
          "output_type": "stream",
          "name": "stdout",
          "text": [
            "Model: \"sequential\"\n",
            "_________________________________________________________________\n",
            " Layer (type)                Output Shape              Param #   \n",
            "=================================================================\n",
            " dense (Dense)               (None, 100)               8900      \n",
            "                                                                 \n",
            " dense_1 (Dense)             (None, 80)                8080      \n",
            "                                                                 \n",
            " dense_2 (Dense)             (None, 5)                 405       \n",
            "                                                                 \n",
            "=================================================================\n",
            "Total params: 17,385\n",
            "Trainable params: 17,385\n",
            "Non-trainable params: 0\n",
            "_________________________________________________________________\n"
          ]
        }
      ]
    },
    {
      "cell_type": "code",
      "source": [
        "# Compile the model\n",
        "nn_default.compile(loss='mse', optimizer='adam', metrics=['accuracy'])\n",
        "\n",
        "# Train the model\n",
        "history = nn_default.fit(X_train_scaled, y_train, epochs=20, verbose=1, batch_size=64)"
      ],
      "metadata": {
        "id": "4pCl9zGr4blK",
        "outputId": "a6a795ad-2386-41b9-96c8-c5ed9d0a28db",
        "colab": {
          "base_uri": "https://localhost:8080/"
        }
      },
      "id": "4pCl9zGr4blK",
      "execution_count": null,
      "outputs": [
        {
          "output_type": "stream",
          "name": "stdout",
          "text": [
            "Epoch 1/20\n",
            "1569/1569 [==============================] - 6s 3ms/step - loss: 0.0956 - accuracy: 0.6407\n",
            "Epoch 2/20\n",
            "1569/1569 [==============================] - 9s 5ms/step - loss: 0.0900 - accuracy: 0.6639\n",
            "Epoch 3/20\n",
            "1569/1569 [==============================] - 6s 4ms/step - loss: 0.0892 - accuracy: 0.6660\n",
            "Epoch 4/20\n",
            "1569/1569 [==============================] - 4s 2ms/step - loss: 0.0885 - accuracy: 0.6716\n",
            "Epoch 5/20\n",
            "1569/1569 [==============================] - 5s 3ms/step - loss: 0.0879 - accuracy: 0.6732\n",
            "Epoch 6/20\n",
            "1569/1569 [==============================] - 3s 2ms/step - loss: 0.0872 - accuracy: 0.6767\n",
            "Epoch 7/20\n",
            "1569/1569 [==============================] - 4s 2ms/step - loss: 0.0867 - accuracy: 0.6785\n",
            "Epoch 8/20\n",
            "1569/1569 [==============================] - 4s 2ms/step - loss: 0.0862 - accuracy: 0.6799\n",
            "Epoch 9/20\n",
            "1569/1569 [==============================] - 4s 3ms/step - loss: 0.0857 - accuracy: 0.6830\n",
            "Epoch 10/20\n",
            "1569/1569 [==============================] - 4s 2ms/step - loss: 0.0853 - accuracy: 0.6847\n",
            "Epoch 11/20\n",
            "1569/1569 [==============================] - 4s 2ms/step - loss: 0.0849 - accuracy: 0.6881\n",
            "Epoch 12/20\n",
            "1569/1569 [==============================] - 5s 3ms/step - loss: 0.0844 - accuracy: 0.6899\n",
            "Epoch 13/20\n",
            "1569/1569 [==============================] - 4s 2ms/step - loss: 0.0842 - accuracy: 0.6917\n",
            "Epoch 14/20\n",
            "1569/1569 [==============================] - 3s 2ms/step - loss: 0.0838 - accuracy: 0.6929\n",
            "Epoch 15/20\n",
            "1569/1569 [==============================] - 5s 3ms/step - loss: 0.0834 - accuracy: 0.6956\n",
            "Epoch 16/20\n",
            "1569/1569 [==============================] - 4s 2ms/step - loss: 0.0831 - accuracy: 0.6961\n",
            "Epoch 17/20\n",
            "1569/1569 [==============================] - 4s 3ms/step - loss: 0.0828 - accuracy: 0.6993\n",
            "Epoch 18/20\n",
            "1569/1569 [==============================] - 4s 3ms/step - loss: 0.0825 - accuracy: 0.7006\n",
            "Epoch 19/20\n",
            "1569/1569 [==============================] - 5s 3ms/step - loss: 0.0821 - accuracy: 0.7020\n",
            "Epoch 20/20\n",
            "1569/1569 [==============================] - 4s 2ms/step - loss: 0.0818 - accuracy: 0.7038\n"
          ]
        }
      ]
    },
    {
      "cell_type": "code",
      "source": [
        "# Evaluate the model using the test data\n",
        "model_loss, model_accuracy = nn_default.evaluate(X_test_scaled,y_test,verbose=1, batch_size=64)\n",
        "print(f\"Loss: {model_loss}, Accuracy: {model_accuracy}\")"
      ],
      "metadata": {
        "colab": {
          "base_uri": "https://localhost:8080/"
        },
        "id": "Xq7EK7m1CNB8",
        "outputId": "119e6879-94de-4d49-deac-c94408824e0d"
      },
      "id": "Xq7EK7m1CNB8",
      "execution_count": null,
      "outputs": [
        {
          "output_type": "stream",
          "name": "stdout",
          "text": [
            "523/523 [==============================] - 3s 5ms/step - loss: 0.0918 - accuracy: 0.6580\n",
            "Loss: 0.09182965755462646, Accuracy: 0.6579812169075012\n"
          ]
        }
      ]
    },
    {
      "cell_type": "code",
      "source": [
        "predictions = pd.DataFrame(nn_default.predict(X_test_scaled))"
      ],
      "metadata": {
        "colab": {
          "base_uri": "https://localhost:8080/"
        },
        "id": "V4gglbzaGIi9",
        "outputId": "46a38fbd-0195-4a22-e32d-436feb150738"
      },
      "id": "V4gglbzaGIi9",
      "execution_count": null,
      "outputs": [
        {
          "output_type": "stream",
          "name": "stdout",
          "text": [
            "1046/1046 [==============================] - 3s 3ms/step\n"
          ]
        }
      ]
    },
    {
      "cell_type": "code",
      "source": [
        "predictions = predictions.rename(columns={0: 1, 1: 2, 2: 3, 3: 4, 4: 5})\n",
        "predictions['y_predict'] = predictions.idxmax(axis=1)\n",
        "predictions['y_actual'] = (y_test.idxmax(axis=1)).reset_index(drop=True)\n",
        "predictions[1:10]"
      ],
      "metadata": {
        "colab": {
          "base_uri": "https://localhost:8080/",
          "height": 331
        },
        "id": "QZyzY7QFagvv",
        "outputId": "c4de3848-2aa2-475a-cd17-7360a7167a2b"
      },
      "id": "QZyzY7QFagvv",
      "execution_count": null,
      "outputs": [
        {
          "output_type": "execute_result",
          "data": {
            "text/plain": [
              "          1         2         3         4         5  y_predict  y_actual\n",
              "1  0.000131  0.000025  0.032147  0.745639  0.247196          4         4\n",
              "2  0.020332  0.001130  0.076247  0.694191  0.207154          4         5\n",
              "3  0.003628  0.006335  0.575837  0.205699  0.126934          3         1\n",
              "4  0.943717  0.032295  0.020803  0.002818  0.025525          1         1\n",
              "5  0.000144  0.000146  0.007877  0.693879  0.369257          4         4\n",
              "6  0.035349  0.089166  0.807430  0.069468  0.051479          3         3\n",
              "7  0.890638  0.036913  0.084308  0.005161  0.028080          1         1\n",
              "8  0.000307  0.000035  0.057680  0.360820  0.454887          5         5\n",
              "9  0.000093  0.000159  0.114203  0.669935  0.185061          4         4"
            ],
            "text/html": [
              "\n",
              "  <div id=\"df-dfd3944b-96ca-479b-889d-76c2f3edde71\">\n",
              "    <div class=\"colab-df-container\">\n",
              "      <div>\n",
              "<style scoped>\n",
              "    .dataframe tbody tr th:only-of-type {\n",
              "        vertical-align: middle;\n",
              "    }\n",
              "\n",
              "    .dataframe tbody tr th {\n",
              "        vertical-align: top;\n",
              "    }\n",
              "\n",
              "    .dataframe thead th {\n",
              "        text-align: right;\n",
              "    }\n",
              "</style>\n",
              "<table border=\"1\" class=\"dataframe\">\n",
              "  <thead>\n",
              "    <tr style=\"text-align: right;\">\n",
              "      <th></th>\n",
              "      <th>1</th>\n",
              "      <th>2</th>\n",
              "      <th>3</th>\n",
              "      <th>4</th>\n",
              "      <th>5</th>\n",
              "      <th>y_predict</th>\n",
              "      <th>y_actual</th>\n",
              "    </tr>\n",
              "  </thead>\n",
              "  <tbody>\n",
              "    <tr>\n",
              "      <th>1</th>\n",
              "      <td>0.000131</td>\n",
              "      <td>0.000025</td>\n",
              "      <td>0.032147</td>\n",
              "      <td>0.745639</td>\n",
              "      <td>0.247196</td>\n",
              "      <td>4</td>\n",
              "      <td>4</td>\n",
              "    </tr>\n",
              "    <tr>\n",
              "      <th>2</th>\n",
              "      <td>0.020332</td>\n",
              "      <td>0.001130</td>\n",
              "      <td>0.076247</td>\n",
              "      <td>0.694191</td>\n",
              "      <td>0.207154</td>\n",
              "      <td>4</td>\n",
              "      <td>5</td>\n",
              "    </tr>\n",
              "    <tr>\n",
              "      <th>3</th>\n",
              "      <td>0.003628</td>\n",
              "      <td>0.006335</td>\n",
              "      <td>0.575837</td>\n",
              "      <td>0.205699</td>\n",
              "      <td>0.126934</td>\n",
              "      <td>3</td>\n",
              "      <td>1</td>\n",
              "    </tr>\n",
              "    <tr>\n",
              "      <th>4</th>\n",
              "      <td>0.943717</td>\n",
              "      <td>0.032295</td>\n",
              "      <td>0.020803</td>\n",
              "      <td>0.002818</td>\n",
              "      <td>0.025525</td>\n",
              "      <td>1</td>\n",
              "      <td>1</td>\n",
              "    </tr>\n",
              "    <tr>\n",
              "      <th>5</th>\n",
              "      <td>0.000144</td>\n",
              "      <td>0.000146</td>\n",
              "      <td>0.007877</td>\n",
              "      <td>0.693879</td>\n",
              "      <td>0.369257</td>\n",
              "      <td>4</td>\n",
              "      <td>4</td>\n",
              "    </tr>\n",
              "    <tr>\n",
              "      <th>6</th>\n",
              "      <td>0.035349</td>\n",
              "      <td>0.089166</td>\n",
              "      <td>0.807430</td>\n",
              "      <td>0.069468</td>\n",
              "      <td>0.051479</td>\n",
              "      <td>3</td>\n",
              "      <td>3</td>\n",
              "    </tr>\n",
              "    <tr>\n",
              "      <th>7</th>\n",
              "      <td>0.890638</td>\n",
              "      <td>0.036913</td>\n",
              "      <td>0.084308</td>\n",
              "      <td>0.005161</td>\n",
              "      <td>0.028080</td>\n",
              "      <td>1</td>\n",
              "      <td>1</td>\n",
              "    </tr>\n",
              "    <tr>\n",
              "      <th>8</th>\n",
              "      <td>0.000307</td>\n",
              "      <td>0.000035</td>\n",
              "      <td>0.057680</td>\n",
              "      <td>0.360820</td>\n",
              "      <td>0.454887</td>\n",
              "      <td>5</td>\n",
              "      <td>5</td>\n",
              "    </tr>\n",
              "    <tr>\n",
              "      <th>9</th>\n",
              "      <td>0.000093</td>\n",
              "      <td>0.000159</td>\n",
              "      <td>0.114203</td>\n",
              "      <td>0.669935</td>\n",
              "      <td>0.185061</td>\n",
              "      <td>4</td>\n",
              "      <td>4</td>\n",
              "    </tr>\n",
              "  </tbody>\n",
              "</table>\n",
              "</div>\n",
              "      <button class=\"colab-df-convert\" onclick=\"convertToInteractive('df-dfd3944b-96ca-479b-889d-76c2f3edde71')\"\n",
              "              title=\"Convert this dataframe to an interactive table.\"\n",
              "              style=\"display:none;\">\n",
              "        \n",
              "  <svg xmlns=\"http://www.w3.org/2000/svg\" height=\"24px\"viewBox=\"0 0 24 24\"\n",
              "       width=\"24px\">\n",
              "    <path d=\"M0 0h24v24H0V0z\" fill=\"none\"/>\n",
              "    <path d=\"M18.56 5.44l.94 2.06.94-2.06 2.06-.94-2.06-.94-.94-2.06-.94 2.06-2.06.94zm-11 1L8.5 8.5l.94-2.06 2.06-.94-2.06-.94L8.5 2.5l-.94 2.06-2.06.94zm10 10l.94 2.06.94-2.06 2.06-.94-2.06-.94-.94-2.06-.94 2.06-2.06.94z\"/><path d=\"M17.41 7.96l-1.37-1.37c-.4-.4-.92-.59-1.43-.59-.52 0-1.04.2-1.43.59L10.3 9.45l-7.72 7.72c-.78.78-.78 2.05 0 2.83L4 21.41c.39.39.9.59 1.41.59.51 0 1.02-.2 1.41-.59l7.78-7.78 2.81-2.81c.8-.78.8-2.07 0-2.86zM5.41 20L4 18.59l7.72-7.72 1.47 1.35L5.41 20z\"/>\n",
              "  </svg>\n",
              "      </button>\n",
              "      \n",
              "  <style>\n",
              "    .colab-df-container {\n",
              "      display:flex;\n",
              "      flex-wrap:wrap;\n",
              "      gap: 12px;\n",
              "    }\n",
              "\n",
              "    .colab-df-convert {\n",
              "      background-color: #E8F0FE;\n",
              "      border: none;\n",
              "      border-radius: 50%;\n",
              "      cursor: pointer;\n",
              "      display: none;\n",
              "      fill: #1967D2;\n",
              "      height: 32px;\n",
              "      padding: 0 0 0 0;\n",
              "      width: 32px;\n",
              "    }\n",
              "\n",
              "    .colab-df-convert:hover {\n",
              "      background-color: #E2EBFA;\n",
              "      box-shadow: 0px 1px 2px rgba(60, 64, 67, 0.3), 0px 1px 3px 1px rgba(60, 64, 67, 0.15);\n",
              "      fill: #174EA6;\n",
              "    }\n",
              "\n",
              "    [theme=dark] .colab-df-convert {\n",
              "      background-color: #3B4455;\n",
              "      fill: #D2E3FC;\n",
              "    }\n",
              "\n",
              "    [theme=dark] .colab-df-convert:hover {\n",
              "      background-color: #434B5C;\n",
              "      box-shadow: 0px 1px 3px 1px rgba(0, 0, 0, 0.15);\n",
              "      filter: drop-shadow(0px 1px 2px rgba(0, 0, 0, 0.3));\n",
              "      fill: #FFFFFF;\n",
              "    }\n",
              "  </style>\n",
              "\n",
              "      <script>\n",
              "        const buttonEl =\n",
              "          document.querySelector('#df-dfd3944b-96ca-479b-889d-76c2f3edde71 button.colab-df-convert');\n",
              "        buttonEl.style.display =\n",
              "          google.colab.kernel.accessAllowed ? 'block' : 'none';\n",
              "\n",
              "        async function convertToInteractive(key) {\n",
              "          const element = document.querySelector('#df-dfd3944b-96ca-479b-889d-76c2f3edde71');\n",
              "          const dataTable =\n",
              "            await google.colab.kernel.invokeFunction('convertToInteractive',\n",
              "                                                     [key], {});\n",
              "          if (!dataTable) return;\n",
              "\n",
              "          const docLinkHtml = 'Like what you see? Visit the ' +\n",
              "            '<a target=\"_blank\" href=https://colab.research.google.com/notebooks/data_table.ipynb>data table notebook</a>'\n",
              "            + ' to learn more about interactive tables.';\n",
              "          element.innerHTML = '';\n",
              "          dataTable['output_type'] = 'display_data';\n",
              "          await google.colab.output.renderOutput(dataTable, element);\n",
              "          const docLink = document.createElement('div');\n",
              "          docLink.innerHTML = docLinkHtml;\n",
              "          element.appendChild(docLink);\n",
              "        }\n",
              "      </script>\n",
              "    </div>\n",
              "  </div>\n",
              "  "
            ]
          },
          "metadata": {},
          "execution_count": 24
        }
      ]
    },
    {
      "cell_type": "code",
      "source": [
        "difference = 0\n",
        "\n",
        "for index, row in predictions.iterrows():\n",
        "    # Get the absolute difference between 'y_predict' and 'y_actual' columns\n",
        "    diff = abs(row['y_predict'] - row['y_actual'])\n",
        "    \n",
        "    # Add the difference to the total\n",
        "    difference += diff\n",
        "\n",
        "difference = difference / len(predictions)\n",
        "print(\"Mean points delta actual value: \", difference)"
      ],
      "metadata": {
        "colab": {
          "base_uri": "https://localhost:8080/"
        },
        "id": "gbbrZIoxIj61",
        "outputId": "d8f43e9e-b5d3-4a4b-e1e5-6878b8d5348b"
      },
      "id": "gbbrZIoxIj61",
      "execution_count": null,
      "outputs": [
        {
          "output_type": "stream",
          "name": "stdout",
          "text": [
            "Mean points delta actual value:  0.37700950218131835\n"
          ]
        }
      ]
    },
    {
      "cell_type": "markdown",
      "source": [
        "Hot Ended - Mean points delta actual value:  0.43129239369973577\n",
        "\n",
        "Half Hot Ended Remove NaN - Mean points delta actual value:  0.36371242455028985\n",
        "\n",
        "Half Hot Ended Mask NaN - Mean points delta actual value:  0.4334150599593593"
      ],
      "metadata": {
        "id": "MII4Eq4PL1GR"
      },
      "id": "MII4Eq4PL1GR"
    },
    {
      "cell_type": "markdown",
      "source": [
        "## Scaping Key Words from User Inputs"
      ],
      "metadata": {
        "id": "nIHy2x3wDvs8"
      },
      "id": "nIHy2x3wDvs8"
    },
    {
      "cell_type": "code",
      "source": [
        "working_user_input_df = user_input_df.copy()\n",
        "working_user_input_df = working_user_input_df[working_user_input_df.index.isin(working_half_hotend_df.index)]\n",
        "print(\"Rows in dataset prior ro removing rows with NaN values: \", len(user_input_df))\n",
        "print(\"Rows in dataset after removing rows with NaN values: \", len(working_user_input_df))\n",
        "working_user_input_df.head(1)"
      ],
      "metadata": {
        "id": "zzCjYJuWD4ST",
        "outputId": "7096003a-36f6-4878-9472-fe6c552064a8",
        "colab": {
          "base_uri": "https://localhost:8080/",
          "height": 147
        }
      },
      "id": "zzCjYJuWD4ST",
      "execution_count": 20,
      "outputs": [
        {
          "output_type": "stream",
          "name": "stdout",
          "text": [
            "Rows in dataset prior ro removing rows with NaN values:  838566\n",
            "Rows in dataset after removing rows with NaN values:  133863\n"
          ]
        },
        {
          "output_type": "execute_result",
          "data": {
            "text/plain": [
              "              overall_rating                                     headline  \\\n",
              "review_index                                                                \n",
              "50                         2  The people both make and destroy this place   \n",
              "\n",
              "                                                           pros  \\\n",
              "review_index                                                      \n",
              "50            Great people in some places, excellent Christm...   \n",
              "\n",
              "                                                           cons  \n",
              "review_index                                                     \n",
              "50            Poor pay, huge gap for pay between senior mana...  "
            ],
            "text/html": [
              "\n",
              "  <div id=\"df-7870145d-e21f-4b44-b877-500047f2d221\">\n",
              "    <div class=\"colab-df-container\">\n",
              "      <div>\n",
              "<style scoped>\n",
              "    .dataframe tbody tr th:only-of-type {\n",
              "        vertical-align: middle;\n",
              "    }\n",
              "\n",
              "    .dataframe tbody tr th {\n",
              "        vertical-align: top;\n",
              "    }\n",
              "\n",
              "    .dataframe thead th {\n",
              "        text-align: right;\n",
              "    }\n",
              "</style>\n",
              "<table border=\"1\" class=\"dataframe\">\n",
              "  <thead>\n",
              "    <tr style=\"text-align: right;\">\n",
              "      <th></th>\n",
              "      <th>overall_rating</th>\n",
              "      <th>headline</th>\n",
              "      <th>pros</th>\n",
              "      <th>cons</th>\n",
              "    </tr>\n",
              "    <tr>\n",
              "      <th>review_index</th>\n",
              "      <th></th>\n",
              "      <th></th>\n",
              "      <th></th>\n",
              "      <th></th>\n",
              "    </tr>\n",
              "  </thead>\n",
              "  <tbody>\n",
              "    <tr>\n",
              "      <th>50</th>\n",
              "      <td>2</td>\n",
              "      <td>The people both make and destroy this place</td>\n",
              "      <td>Great people in some places, excellent Christm...</td>\n",
              "      <td>Poor pay, huge gap for pay between senior mana...</td>\n",
              "    </tr>\n",
              "  </tbody>\n",
              "</table>\n",
              "</div>\n",
              "      <button class=\"colab-df-convert\" onclick=\"convertToInteractive('df-7870145d-e21f-4b44-b877-500047f2d221')\"\n",
              "              title=\"Convert this dataframe to an interactive table.\"\n",
              "              style=\"display:none;\">\n",
              "        \n",
              "  <svg xmlns=\"http://www.w3.org/2000/svg\" height=\"24px\"viewBox=\"0 0 24 24\"\n",
              "       width=\"24px\">\n",
              "    <path d=\"M0 0h24v24H0V0z\" fill=\"none\"/>\n",
              "    <path d=\"M18.56 5.44l.94 2.06.94-2.06 2.06-.94-2.06-.94-.94-2.06-.94 2.06-2.06.94zm-11 1L8.5 8.5l.94-2.06 2.06-.94-2.06-.94L8.5 2.5l-.94 2.06-2.06.94zm10 10l.94 2.06.94-2.06 2.06-.94-2.06-.94-.94-2.06-.94 2.06-2.06.94z\"/><path d=\"M17.41 7.96l-1.37-1.37c-.4-.4-.92-.59-1.43-.59-.52 0-1.04.2-1.43.59L10.3 9.45l-7.72 7.72c-.78.78-.78 2.05 0 2.83L4 21.41c.39.39.9.59 1.41.59.51 0 1.02-.2 1.41-.59l7.78-7.78 2.81-2.81c.8-.78.8-2.07 0-2.86zM5.41 20L4 18.59l7.72-7.72 1.47 1.35L5.41 20z\"/>\n",
              "  </svg>\n",
              "      </button>\n",
              "      \n",
              "  <style>\n",
              "    .colab-df-container {\n",
              "      display:flex;\n",
              "      flex-wrap:wrap;\n",
              "      gap: 12px;\n",
              "    }\n",
              "\n",
              "    .colab-df-convert {\n",
              "      background-color: #E8F0FE;\n",
              "      border: none;\n",
              "      border-radius: 50%;\n",
              "      cursor: pointer;\n",
              "      display: none;\n",
              "      fill: #1967D2;\n",
              "      height: 32px;\n",
              "      padding: 0 0 0 0;\n",
              "      width: 32px;\n",
              "    }\n",
              "\n",
              "    .colab-df-convert:hover {\n",
              "      background-color: #E2EBFA;\n",
              "      box-shadow: 0px 1px 2px rgba(60, 64, 67, 0.3), 0px 1px 3px 1px rgba(60, 64, 67, 0.15);\n",
              "      fill: #174EA6;\n",
              "    }\n",
              "\n",
              "    [theme=dark] .colab-df-convert {\n",
              "      background-color: #3B4455;\n",
              "      fill: #D2E3FC;\n",
              "    }\n",
              "\n",
              "    [theme=dark] .colab-df-convert:hover {\n",
              "      background-color: #434B5C;\n",
              "      box-shadow: 0px 1px 3px 1px rgba(0, 0, 0, 0.15);\n",
              "      filter: drop-shadow(0px 1px 2px rgba(0, 0, 0, 0.3));\n",
              "      fill: #FFFFFF;\n",
              "    }\n",
              "  </style>\n",
              "\n",
              "      <script>\n",
              "        const buttonEl =\n",
              "          document.querySelector('#df-7870145d-e21f-4b44-b877-500047f2d221 button.colab-df-convert');\n",
              "        buttonEl.style.display =\n",
              "          google.colab.kernel.accessAllowed ? 'block' : 'none';\n",
              "\n",
              "        async function convertToInteractive(key) {\n",
              "          const element = document.querySelector('#df-7870145d-e21f-4b44-b877-500047f2d221');\n",
              "          const dataTable =\n",
              "            await google.colab.kernel.invokeFunction('convertToInteractive',\n",
              "                                                     [key], {});\n",
              "          if (!dataTable) return;\n",
              "\n",
              "          const docLinkHtml = 'Like what you see? Visit the ' +\n",
              "            '<a target=\"_blank\" href=https://colab.research.google.com/notebooks/data_table.ipynb>data table notebook</a>'\n",
              "            + ' to learn more about interactive tables.';\n",
              "          element.innerHTML = '';\n",
              "          dataTable['output_type'] = 'display_data';\n",
              "          await google.colab.output.renderOutput(dataTable, element);\n",
              "          const docLink = document.createElement('div');\n",
              "          docLink.innerHTML = docLinkHtml;\n",
              "          element.appendChild(docLink);\n",
              "        }\n",
              "      </script>\n",
              "    </div>\n",
              "  </div>\n",
              "  "
            ]
          },
          "metadata": {},
          "execution_count": 20
        }
      ]
    },
    {
      "cell_type": "code",
      "source": [
        "def isolator(rating, attribute):\n",
        "  index_user_input_df = working_user_input_df[working_user_input_df['overall_rating'] == rating].copy().drop(['overall_rating'], axis = 1)\n",
        "  isolated = index_user_input_df[attribute].rename(str(attribute)+ \"_\" + str(rating))\n",
        "  return isolated\n",
        "\n",
        "  ## note - delete review_index"
      ],
      "metadata": {
        "id": "mFbVBjqrWfAr"
      },
      "id": "mFbVBjqrWfAr",
      "execution_count": 97,
      "outputs": []
    },
    {
      "cell_type": "code",
      "source": [
        "parsed_df = pd.DataFrame()\n",
        "\n",
        "for i in range (1, 6):\n",
        "  for attribute in working_user_input_df.drop(['overall_rating'], axis = 1):\n",
        "    index_user_input_df = pd.DataFrame(isolator(i, attribute))\n",
        "    if parsed_df is not None:\n",
        "        parsed_df = pd.concat([parsed_df, index_user_input_df], axis = 1)"
      ],
      "metadata": {
        "id": "oPVtfZkZZkfr"
      },
      "id": "oPVtfZkZZkfr",
      "execution_count": 93,
      "outputs": []
    },
    {
      "cell_type": "code",
      "source": [
        "def preprocess_text(text):\n",
        "    # Tokenize the text into individual words\n",
        "    words = word_tokenize(text.lower())\n",
        "\n",
        "    # Remove stopwords\n",
        "    stop_words = set(stopwords.words('english'))\n",
        "    filtered_words = [word for word in words if word.isalnum() and word not in stop_words]\n",
        "\n",
        "    return filtered_words"
      ],
      "metadata": {
        "id": "zbF77vEFHf19"
      },
      "id": "zbF77vEFHf19",
      "execution_count": 78,
      "outputs": []
    },
    {
      "cell_type": "code",
      "source": [
        "def process_text_list(rating, attribute, n):\n",
        "  preprocessed_data = isolate_pros.apply(preprocess_text)\n",
        "\n",
        "  all_words = [word for sublist in preprocessed_data for word in sublist]\n",
        "  word_counts = Counter(all_words)\n",
        "\n",
        "  most_common_words = word_counts.most_common(n)"
      ],
      "metadata": {
        "id": "B3NunGXtHlEr"
      },
      "id": "B3NunGXtHlEr",
      "execution_count": 28,
      "outputs": []
    },
    {
      "cell_type": "code",
      "source": [
        "test = isolator(1, \"pros\")\n",
        "test"
      ],
      "metadata": {
        "id": "am_G5iAeXWeN",
        "outputId": "dc4ea074-46e2-41fd-a26e-06acc2aa67fe",
        "colab": {
          "base_uri": "https://localhost:8080/"
        }
      },
      "id": "am_G5iAeXWeN",
      "execution_count": 98,
      "outputs": [
        {
          "output_type": "execute_result",
          "data": {
            "text/plain": [
              "review_index\n",
              "51        Majority of the people there are lovely, and t...\n",
              "55        You meet lovely people and make long life friends\n",
              "60        None, they lie about working hours, bonuses, p...\n",
              "61                               There are none to speak of\n",
              "142       If you're happy to accept an average salary an...\n",
              "                                ...                        \n",
              "838412    The only good thing about my time with this co...\n",
              "838452    Cool products\\r\\nFlextime\\r\\nEnglish speaking ...\n",
              "838483       Colleagues, 50% discount but that's really it.\n",
              "838486                      Benefits are good, that is all.\n",
              "838526                       some what flexible with hours.\n",
              "Name: pros_1, Length: 7911, dtype: object"
            ]
          },
          "metadata": {},
          "execution_count": 98
        }
      ]
    },
    {
      "cell_type": "code",
      "source": [
        "for word, count in most_common_words:\n",
        "    print(word, ':', count)"
      ],
      "metadata": {
        "id": "W9V3cO6rI_iw",
        "outputId": "06f63d8e-b13d-4ab2-8a02-a850b4c7564d",
        "colab": {
          "base_uri": "https://localhost:8080/"
        }
      },
      "id": "W9V3cO6rI_iw",
      "execution_count": 31,
      "outputs": [
        {
          "output_type": "stream",
          "name": "stdout",
          "text": [
            "good : 53573\n",
            "work : 41152\n",
            "great : 34407\n",
            "people : 19037\n",
            "benefits : 15285\n",
            "company : 13363\n",
            "culture : 13279\n",
            "environment : 12048\n",
            "opportunities : 10913\n",
            "balance : 10620\n",
            "working : 10212\n",
            "pay : 10022\n",
            "team : 9126\n",
            "life : 8713\n",
            "flexible : 8687\n",
            "nice : 8615\n",
            "friendly : 7460\n",
            "place : 7216\n",
            "learning : 6954\n",
            "job : 5962\n",
            "management : 5959\n",
            "hours : 5942\n",
            "salary : 5854\n",
            "career : 5752\n",
            "learn : 5434\n",
            "staff : 5253\n",
            "colleagues : 5241\n",
            "lots : 5019\n",
            "training : 4917\n",
            "experience : 4758\n",
            "lot : 4690\n",
            "get : 4393\n",
            "time : 4162\n",
            "growth : 3991\n",
            "employees : 3964\n",
            "best : 3908\n",
            "opportunity : 3885\n",
            "really : 3667\n",
            "amazing : 3436\n",
            "flexibility : 3412\n",
            "employee : 3250\n",
            "free : 3244\n",
            "easy : 3192\n",
            "development : 3170\n",
            "well : 3141\n",
            "exposure : 2997\n",
            "support : 2968\n",
            "excellent : 2926\n",
            "new : 2903\n",
            "supportive : 2889\n"
          ]
        }
      ]
    }
  ],
  "metadata": {
    "kernelspec": {
      "display_name": "Python 3 (ipykernel)",
      "language": "python",
      "name": "python3"
    },
    "language_info": {
      "codemirror_mode": {
        "name": "ipython",
        "version": 3
      },
      "file_extension": ".py",
      "mimetype": "text/x-python",
      "name": "python",
      "nbconvert_exporter": "python",
      "pygments_lexer": "ipython3",
      "version": "3.10.11"
    },
    "colab": {
      "provenance": []
    }
  },
  "nbformat": 4,
  "nbformat_minor": 5
}