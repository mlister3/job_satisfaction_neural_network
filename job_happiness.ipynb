{
 "cells": [
  {
   "cell_type": "code",
   "execution_count": null,
   "id": "3ab20875",
   "metadata": {},
   "outputs": [],
   "source": [
    "import gdown\n",
    "import pandas as pd\n",
    "\n",
    "url = \"https://drive.google.com/file/d/1-9I398x5bb26U7D7VUm6Xwa_qgY-IWsN/view?usp=share_link\"\n",
    "output = \"WHR2023.csv\"\n",
    "gdown.download(url, output, quiet=False)\n",
    "\n",
    "df = pd.read_csv(\"WHR2023.csv\")\n",
    "df"
   ]
  },
  {
   "cell_type": "code",
   "execution_count": null,
   "id": "df9ff1d1",
   "metadata": {},
   "outputs": [],
   "source": []
  }
 ],
 "metadata": {
  "kernelspec": {
   "display_name": "Python 3 (ipykernel)",
   "language": "python",
   "name": "python3"
  }
 },
 "nbformat": 4,
 "nbformat_minor": 5
}
