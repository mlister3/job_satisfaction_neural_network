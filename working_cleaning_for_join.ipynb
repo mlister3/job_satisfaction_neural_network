{
  "nbformat": 4,
  "nbformat_minor": 0,
  "metadata": {
    "colab": {
      "provenance": [],
      "collapsed_sections": [
        "OTu2oFdC-7U7",
        "bXnI2Z76Bec6"
      ],
      "authorship_tag": "ABX9TyOF1mbL0qBz8dRV8LQLsW5C"
    },
    "kernelspec": {
      "name": "python3",
      "display_name": "Python 3"
    },
    "language_info": {
      "name": "python"
    }
  },
  "cells": [
    {
      "cell_type": "markdown",
      "source": [
        "### Dependencies & working functions"
      ],
      "metadata": {
        "id": "OTu2oFdC-7U7"
      }
    },
    {
      "cell_type": "code",
      "source": [
        "%%shell\n",
        "# update \"apt\" which is the local programs on this virtual machine that is Debian Based\n",
        "sudo apt -y update -q\n",
        "\n",
        "# install curl, wget, and unzip - these utilities will help us retrieve files online and unzip them as needed.\n",
        "sudo apt install -y wget curl unzip -q\n",
        "\n",
        "# Colab has updated from ubuntu 18.04 LTS to 20.04 LTS (LTS stands for \"Long-Term Support\") Think of google doing this as an upgrade from one Windows version to another.\n",
        "# To summarize whats below: We are getting the correct chrome driver for the \"stable_current\" verson of chrome used by colab.\n",
        "# {\n",
        "wget http://archive.ubuntu.com/ubuntu/pool/main/libu/libu2f-host/libu2f-udev_1.1.4-1_all.deb\n",
        "dpkg -i libu2f-udev_1.1.4-1_all.deb\n",
        "wget https://dl.google.com/linux/direct/google-chrome-stable_current_amd64.deb\n",
        "dpkg -i google-chrome-stable_current_amd64.deb\n",
        "CHROME_DRIVER_VERSION=`curl -sS chromedriver.storage.googleapis.com/LATEST_RELEASE`\n",
        "wget -N https://chromedriver.storage.googleapis.com/$CHROME_DRIVER_VERSION/chromedriver_linux64.zip -P /tmp/\n",
        "unzip -o /tmp/chromedriver_linux64.zip -d /tmp/\n",
        "chmod +x /tmp/chromedriver\n",
        "mv /tmp/chromedriver /usr/local/bin/chromedriver\n",
        "# }\n",
        "\n",
        "pip install selenium -q"
      ],
      "metadata": {
        "colab": {
          "base_uri": "https://localhost:8080/"
        },
        "id": "UFwMtDW9ykjV",
        "outputId": "51339e46-7ccd-44fe-e30d-40ae7d3e9bd1"
      },
      "execution_count": null,
      "outputs": [
        {
          "output_type": "stream",
          "name": "stdout",
          "text": [
            "Hit:1 http://archive.ubuntu.com/ubuntu focal InRelease\n",
            "Get:2 http://security.ubuntu.com/ubuntu focal-security InRelease [114 kB]\n",
            "Get:3 http://archive.ubuntu.com/ubuntu focal-updates InRelease [114 kB]\n",
            "Get:4 https://cloud.r-project.org/bin/linux/ubuntu focal-cran40/ InRelease [3,622 B]\n",
            "Get:5 http://archive.ubuntu.com/ubuntu focal-backports InRelease [108 kB]\n",
            "Hit:6 https://developer.download.nvidia.com/compute/cuda/repos/ubuntu2004/x86_64  InRelease\n",
            "Hit:7 http://ppa.launchpad.net/c2d4u.team/c2d4u4.0+/ubuntu focal InRelease\n",
            "Hit:8 http://ppa.launchpad.net/cran/libgit2/ubuntu focal InRelease\n",
            "Hit:9 http://ppa.launchpad.net/deadsnakes/ppa/ubuntu focal InRelease\n",
            "Hit:10 http://ppa.launchpad.net/graphics-drivers/ppa/ubuntu focal InRelease\n",
            "Get:11 http://archive.ubuntu.com/ubuntu focal-updates/main amd64 Packages [3,299 kB]\n",
            "Get:12 http://archive.ubuntu.com/ubuntu focal-updates/universe amd64 Packages [1,360 kB]\n",
            "Hit:13 http://ppa.launchpad.net/ubuntugis/ppa/ubuntu focal InRelease\n",
            "Get:14 http://security.ubuntu.com/ubuntu focal-security/main amd64 Packages [2,820 kB]\n",
            "Get:15 http://security.ubuntu.com/ubuntu focal-security/restricted amd64 Packages [2,416 kB]\n",
            "Fetched 10.2 MB in 2s (4,225 kB/s)\n",
            "Reading package lists...\n",
            "Building dependency tree...\n",
            "Reading state information...\n",
            "14 packages can be upgraded. Run 'apt list --upgradable' to see them.\n",
            "Reading package lists...\n",
            "Building dependency tree...\n",
            "Reading state information...\n",
            "curl is already the newest version (7.68.0-1ubuntu2.18).\n",
            "unzip is already the newest version (6.0-25ubuntu1.1).\n",
            "wget is already the newest version (1.20.3-1ubuntu2).\n",
            "0 upgraded, 0 newly installed, 0 to remove and 14 not upgraded.\n",
            "--2023-06-23 00:19:33--  http://archive.ubuntu.com/ubuntu/pool/main/libu/libu2f-host/libu2f-udev_1.1.4-1_all.deb\n",
            "Resolving archive.ubuntu.com (archive.ubuntu.com)... 91.189.91.39, 91.189.91.38, 185.125.190.39, ...\n",
            "Connecting to archive.ubuntu.com (archive.ubuntu.com)|91.189.91.39|:80... connected.\n",
            "HTTP request sent, awaiting response... 200 OK\n",
            "Length: 3708 (3.6K) [application/x-debian-package]\n",
            "Saving to: ‘libu2f-udev_1.1.4-1_all.deb’\n",
            "\n",
            "libu2f-udev_1.1.4-1 100%[===================>]   3.62K  --.-KB/s    in 0s      \n",
            "\n",
            "2023-06-23 00:19:33 (424 MB/s) - ‘libu2f-udev_1.1.4-1_all.deb’ saved [3708/3708]\n",
            "\n",
            "Selecting previously unselected package libu2f-udev.\n",
            "(Reading database ... 123069 files and directories currently installed.)\n",
            "Preparing to unpack libu2f-udev_1.1.4-1_all.deb ...\n",
            "Unpacking libu2f-udev (1.1.4-1) ...\n",
            "Setting up libu2f-udev (1.1.4-1) ...\n",
            "--2023-06-23 00:19:34--  https://dl.google.com/linux/direct/google-chrome-stable_current_amd64.deb\n",
            "Resolving dl.google.com (dl.google.com)... 172.253.115.91, 172.253.115.136, 172.253.115.93, ...\n",
            "Connecting to dl.google.com (dl.google.com)|172.253.115.91|:443... connected.\n",
            "HTTP request sent, awaiting response... 200 OK\n",
            "Length: 94355016 (90M) [application/x-debian-package]\n",
            "Saving to: ‘google-chrome-stable_current_amd64.deb’\n",
            "\n",
            "google-chrome-stabl 100%[===================>]  89.98M   121MB/s    in 0.7s    \n",
            "\n",
            "2023-06-23 00:19:35 (121 MB/s) - ‘google-chrome-stable_current_amd64.deb’ saved [94355016/94355016]\n",
            "\n",
            "Selecting previously unselected package google-chrome-stable.\n",
            "(Reading database ... 123073 files and directories currently installed.)\n",
            "Preparing to unpack google-chrome-stable_current_amd64.deb ...\n",
            "Unpacking google-chrome-stable (114.0.5735.133-1) ...\n",
            "Setting up google-chrome-stable (114.0.5735.133-1) ...\n",
            "update-alternatives: using /usr/bin/google-chrome-stable to provide /usr/bin/x-www-browser (x-www-browser) in auto mode\n",
            "update-alternatives: using /usr/bin/google-chrome-stable to provide /usr/bin/gnome-www-browser (gnome-www-browser) in auto mode\n",
            "update-alternatives: using /usr/bin/google-chrome-stable to provide /usr/bin/google-chrome (google-chrome) in auto mode\n",
            "Processing triggers for mime-support (3.64ubuntu1) ...\n",
            "Processing triggers for man-db (2.9.1-1) ...\n",
            "--2023-06-23 00:19:47--  https://chromedriver.storage.googleapis.com/114.0.5735.90/chromedriver_linux64.zip\n",
            "Resolving chromedriver.storage.googleapis.com (chromedriver.storage.googleapis.com)... 142.251.167.128, 2607:f8b0:4004:c1d::80\n",
            "Connecting to chromedriver.storage.googleapis.com (chromedriver.storage.googleapis.com)|142.251.167.128|:443... connected.\n",
            "HTTP request sent, awaiting response... 200 OK\n",
            "Length: 7407250 (7.1M) [application/zip]\n",
            "Saving to: ‘/tmp/chromedriver_linux64.zip’\n",
            "\n",
            "chromedriver_linux6 100%[===================>]   7.06M  --.-KB/s    in 0.04s   \n",
            "\n",
            "2023-06-23 00:19:47 (192 MB/s) - ‘/tmp/chromedriver_linux64.zip’ saved [7407250/7407250]\n",
            "\n",
            "Archive:  /tmp/chromedriver_linux64.zip\n",
            "  inflating: /tmp/chromedriver       \n",
            "  inflating: /tmp/LICENSE.chromedriver  \n",
            "\u001b[2K     \u001b[90m━━━━━━━━━━━━━━━━━━━━━━━━━━━━━━━━━━━━━━━━\u001b[0m \u001b[32m6.7/6.7 MB\u001b[0m \u001b[31m60.0 MB/s\u001b[0m eta \u001b[36m0:00:00\u001b[0m\n",
            "\u001b[2K     \u001b[90m━━━━━━━━━━━━━━━━━━━━━━━━━━━━━━━━━━━━━━\u001b[0m \u001b[32m384.9/384.9 kB\u001b[0m \u001b[31m28.4 MB/s\u001b[0m eta \u001b[36m0:00:00\u001b[0m\n",
            "\u001b[2K     \u001b[90m━━━━━━━━━━━━━━━━━━━━━━━━━━━━━━━━━━━━━━━━\u001b[0m \u001b[32m58.3/58.3 kB\u001b[0m \u001b[31m5.9 MB/s\u001b[0m eta \u001b[36m0:00:00\u001b[0m\n",
            "\u001b[?25h"
          ]
        },
        {
          "output_type": "execute_result",
          "data": {
            "text/plain": []
          },
          "metadata": {},
          "execution_count": 1
        }
      ]
    },
    {
      "cell_type": "code",
      "source": [
        "from selenium import webdriver\n",
        "import pandas as pd\n",
        "import numpy as np\n",
        "import os\n",
        "import time\n",
        "import random\n",
        "from bs4 import BeautifulSoup\n",
        "\n",
        "# Disable all warnings\n",
        "import warnings\n",
        "warnings.filterwarnings(\"ignore\")"
      ],
      "metadata": {
        "id": "k0NYv_voyzA9"
      },
      "execution_count": null,
      "outputs": []
    },
    {
      "cell_type": "code",
      "source": [
        "def print_loading_bar(current, total, time, bar_length=40):\n",
        "    progress = current / total\n",
        "    completed_length = int(bar_length * progress)\n",
        "    remaining_length = bar_length - completed_length\n",
        "\n",
        "    bar = '█' * completed_length + '-' * remaining_length\n",
        "\n",
        "    print(f\"\\r[{bar}] Processing {current} of {total} COMPLETE {progress*100:.2f}% Time Lapsed {time:.2f} Seconds\", end =\"\")\n",
        "\n",
        "def load_join(select, loaded):\n",
        "    selected_df = pd.read_csv(\"https://www.dropbox.com/s/\" + select + \"?dl=1\", index_col=\"review_index\")\n",
        "    if loaded is not None:\n",
        "        selected_df = pd.merge(loaded, selected_df, on='review_index')\n",
        "    return selected_df"
      ],
      "metadata": {
        "id": "tDTchxhHHYJT"
      },
      "execution_count": null,
      "outputs": []
    },
    {
      "cell_type": "code",
      "source": [
        "def search_business_industry(business_name):\n",
        "    url = f\"https://www.glassdoor.com/Search/results.htm?keyword={business_name}\"\n",
        "\n",
        "    options = webdriver.ChromeOptions()\n",
        "    options.add_argument(\"--headless\")\n",
        "    options.add_argument('--disable-dev-shm-usage')\n",
        "    options.add_argument(\"--no-sandbox\")\n",
        "    options.add_argument(\"--disable-gpu\")\n",
        "    custom_user_agent = \"Mozilla/5.0 (Linux; Android 10; K) AppleWebKit/537.36 (KHTML, like Gecko) Chrome/114.0.0.0 Mobile Safari/537.36\"\n",
        "    options.add_argument(f\"--user-agent={custom_user_agent}\")\n",
        "\n",
        "    driver = webdriver.Chrome(options=options)\n",
        "\n",
        "    driver.get(url)\n",
        "    sleep_time = random.randint(15, 25)\n",
        "    time.sleep(sleep_time)\n",
        "\n",
        "    html = driver.page_source\n",
        "    driver.quit()\n",
        "\n",
        "    return html"
      ],
      "metadata": {
        "id": "CA9Asy9Nt2ZH"
      },
      "execution_count": null,
      "outputs": []
    },
    {
      "cell_type": "markdown",
      "source": [
        "### Load Data"
      ],
      "metadata": {
        "id": "bXnI2Z76Bec6"
      }
    },
    {
      "cell_type": "code",
      "source": [
        "load_metadata = True\n",
        "load_ratings = False\n",
        "load_opinions = False\n",
        "load_descriptions = False\n",
        "load_world_happiness_report = True\n",
        "word_counted_preprocessing_bypass = False\n",
        "\n",
        "index_df = None\n",
        "if load_metadata == True:\n",
        "    load_index = \"goqyfyeu2qvpsmo/metadata_df.csv\"\n",
        "    index_df = load_join(load_index, index_df)\n",
        "if load_ratings == True:\n",
        "    load_index = \"9j2j86xwqrmrljx/ratings_df.csv\"\n",
        "    index_df = load_join(load_index, index_df)\n",
        "if load_opinions == True:\n",
        "    load_index = \"q8v9f6rbb4z12df/opinion_df.csv\"\n",
        "    index_df = load_join(load_index, index_df)\n",
        "if load_descriptions == True:\n",
        "    load_index = \"hnp8sebleh6dzgt/descriptions_df.csv\"\n",
        "    index_df = load_join(load_index, index_df)\n",
        "\n",
        "if load_world_happiness_report == True:\n",
        "    WHR_df = pd.read_csv(\"https://www.dropbox.com/s/jyr4e7fleevrb1s/WHR2023.csv?dl=1\")\n",
        "\n",
        "if word_counted_preprocessing_bypass == True:\n",
        "    joint_df = pd.read_csv(\"https://www.dropbox.com/s/e64gm79gxu1tgip/joint_df.csv?dl=1\")"
      ],
      "metadata": {
        "id": "ppzJDICXHlDt"
      },
      "execution_count": null,
      "outputs": []
    },
    {
      "cell_type": "code",
      "source": [
        "working_df = index_df.copy()\n",
        "working_WHR_df = WHR_df.copy()"
      ],
      "metadata": {
        "id": "BzP0WM6NHsYC"
      },
      "execution_count": null,
      "outputs": []
    },
    {
      "cell_type": "markdown",
      "source": [
        "### Processing and Cleaning Data"
      ],
      "metadata": {
        "id": "yPCGxkvj_ANd"
      }
    },
    {
      "cell_type": "code",
      "source": [
        "working_firm_column = working_df['firm'].copy()\n",
        "unique_firms = working_firm_column.unique().tolist()\n",
        "\n",
        "unique_firms_length = len(unique_firms)\n",
        "chunk_size = unique_firms_length // 4\n",
        "\n",
        "# Split the list into four smaller lists\n",
        "unique_firms_part1 = unique_firms[:chunk_size]\n",
        "unique_firms_part2 = unique_firms[chunk_size:2*chunk_size]\n",
        "unique_firms_part3 = unique_firms[2*chunk_size:3*chunk_size]\n",
        "unique_firms_part4 = unique_firms[3*chunk_size:]\n",
        "\n",
        "# split the list into smaller chunks to avoid long scraping times.\n",
        "\n",
        "# Print the resulting smaller lists\n",
        "print(\"unique_firms_part1:\")\n",
        "print(unique_firms_part1)\n",
        "print()\n",
        "\n",
        "print(\"unique_firms_part2:\")\n",
        "print(unique_firms_part2)\n",
        "print()\n",
        "\n",
        "print(\"unique_firms_part3:\")\n",
        "print(unique_firms_part3)\n",
        "print()\n",
        "\n",
        "print(\"unique_firms_part4:\")\n",
        "print(unique_firms_part4)\n",
        "print()"
      ],
      "metadata": {
        "id": "bnQ7X3WpIE4q",
        "colab": {
          "base_uri": "https://localhost:8080/"
        },
        "outputId": "f232783f-9de9-4c0f-e22e-341d8be53355"
      },
      "execution_count": null,
      "outputs": [
        {
          "output_type": "stream",
          "name": "stdout",
          "text": [
            "<class 'list'>\n"
          ]
        }
      ]
    },
    {
      "cell_type": "code",
      "source": [
        "start_time = time.time()\n",
        "index = 0\n",
        "part_one_html_data = []\n",
        "\n",
        "for firm in unique_firms_part1:\n",
        "    index = index + 1\n",
        "    current_time = time.time()\n",
        "    execution_time = current_time - start_time\n",
        "    print_loading_bar(index, len(unique_firms), execution_time)\n",
        "    firm_html = search_business_industry(firm)"
      ],
      "metadata": {
        "colab": {
          "base_uri": "https://localhost:8080/"
        },
        "id": "vWdNUoytDaas",
        "outputId": "b2d88e42-e6aa-4a43-fd01-b43b12394ba4"
      },
      "execution_count": null,
      "outputs": [
        {
          "output_type": "stream",
          "name": "stdout",
          "text": [
            "\r[----------------------------------------] Processing 1 of 428 COMPLETE 0.23% Time Lapsed 0.00 Seconds\r[----------------------------------------] Processing 2 of 428 COMPLETE 0.47% Time Lapsed 0.00 Seconds\r[----------------------------------------] Processing 3 of 428 COMPLETE 0.70% Time Lapsed 0.00 Seconds\r[----------------------------------------] Processing 4 of 428 COMPLETE 0.93% Time Lapsed 0.00 Seconds\r[----------------------------------------] Processing 5 of 428 COMPLETE 1.17% Time Lapsed 0.00 Seconds\r[----------------------------------------] Processing 6 of 428 COMPLETE 1.40% Time Lapsed 0.00 Seconds\r[----------------------------------------] Processing 7 of 428 COMPLETE 1.64% Time Lapsed 0.00 Seconds\r[----------------------------------------] Processing 8 of 428 COMPLETE 1.87% Time Lapsed 0.00 Seconds\r[----------------------------------------] Processing 9 of 428 COMPLETE 2.10% Time Lapsed 0.00 Seconds\r[----------------------------------------] Processing 10 of 428 COMPLETE 2.34% Time Lapsed 0.00 Seconds\r[█---------------------------------------] Processing 11 of 428 COMPLETE 2.57% Time Lapsed 0.00 Seconds\r[█---------------------------------------] Processing 12 of 428 COMPLETE 2.80% Time Lapsed 0.00 Seconds\r[█---------------------------------------] Processing 13 of 428 COMPLETE 3.04% Time Lapsed 0.00 Seconds\r[█---------------------------------------] Processing 14 of 428 COMPLETE 3.27% Time Lapsed 0.00 Seconds\r[█---------------------------------------] Processing 15 of 428 COMPLETE 3.50% Time Lapsed 0.00 Seconds\r[█---------------------------------------] Processing 16 of 428 COMPLETE 3.74% Time Lapsed 0.00 Seconds\r[█---------------------------------------] Processing 17 of 428 COMPLETE 3.97% Time Lapsed 0.00 Seconds\r[█---------------------------------------] Processing 18 of 428 COMPLETE 4.21% Time Lapsed 0.00 Seconds\r[█---------------------------------------] Processing 19 of 428 COMPLETE 4.44% Time Lapsed 0.00 Seconds\r[█---------------------------------------] Processing 20 of 428 COMPLETE 4.67% Time Lapsed 0.00 Seconds\r[█---------------------------------------] Processing 21 of 428 COMPLETE 4.91% Time Lapsed 0.00 Seconds\r[██--------------------------------------] Processing 22 of 428 COMPLETE 5.14% Time Lapsed 0.00 Seconds\r[██--------------------------------------] Processing 23 of 428 COMPLETE 5.37% Time Lapsed 0.00 Seconds\r[██--------------------------------------] Processing 24 of 428 COMPLETE 5.61% Time Lapsed 0.00 Seconds\r[██--------------------------------------] Processing 25 of 428 COMPLETE 5.84% Time Lapsed 0.00 Seconds\r[██--------------------------------------] Processing 26 of 428 COMPLETE 6.07% Time Lapsed 0.00 Seconds\r[██--------------------------------------] Processing 27 of 428 COMPLETE 6.31% Time Lapsed 0.00 Seconds\r[██--------------------------------------] Processing 28 of 428 COMPLETE 6.54% Time Lapsed 0.00 Seconds\r[██--------------------------------------] Processing 29 of 428 COMPLETE 6.78% Time Lapsed 0.00 Seconds\r[██--------------------------------------] Processing 30 of 428 COMPLETE 7.01% Time Lapsed 0.00 Seconds\r[██--------------------------------------] Processing 31 of 428 COMPLETE 7.24% Time Lapsed 0.00 Seconds\r[██--------------------------------------] Processing 32 of 428 COMPLETE 7.48% Time Lapsed 0.00 Seconds\r[███-------------------------------------] Processing 33 of 428 COMPLETE 7.71% Time Lapsed 0.00 Seconds\r[███-------------------------------------] Processing 34 of 428 COMPLETE 7.94% Time Lapsed 0.00 Seconds\r[███-------------------------------------] Processing 35 of 428 COMPLETE 8.18% Time Lapsed 0.00 Seconds\r[███-------------------------------------] Processing 36 of 428 COMPLETE 8.41% Time Lapsed 0.00 Seconds\r[███-------------------------------------] Processing 37 of 428 COMPLETE 8.64% Time Lapsed 0.00 Seconds\r[███-------------------------------------] Processing 38 of 428 COMPLETE 8.88% Time Lapsed 0.00 Seconds\r[███-------------------------------------] Processing 39 of 428 COMPLETE 9.11% Time Lapsed 0.00 Seconds\r[███-------------------------------------] Processing 40 of 428 COMPLETE 9.35% Time Lapsed 0.00 Seconds\r[███-------------------------------------] Processing 41 of 428 COMPLETE 9.58% Time Lapsed 0.00 Seconds\r[███-------------------------------------] Processing 42 of 428 COMPLETE 9.81% Time Lapsed 0.00 Seconds\r[████------------------------------------] Processing 43 of 428 COMPLETE 10.05% Time Lapsed 0.00 Seconds\r[████------------------------------------] Processing 44 of 428 COMPLETE 10.28% Time Lapsed 0.00 Seconds\r[████------------------------------------] Processing 45 of 428 COMPLETE 10.51% Time Lapsed 0.00 Seconds\r[████------------------------------------] Processing 46 of 428 COMPLETE 10.75% Time Lapsed 0.00 Seconds\r[████------------------------------------] Processing 47 of 428 COMPLETE 10.98% Time Lapsed 0.00 Seconds\r[████------------------------------------] Processing 48 of 428 COMPLETE 11.21% Time Lapsed 0.00 Seconds\r[████------------------------------------] Processing 49 of 428 COMPLETE 11.45% Time Lapsed 0.00 Seconds\r[████------------------------------------] Processing 50 of 428 COMPLETE 11.68% Time Lapsed 0.00 Seconds\r[████------------------------------------] Processing 51 of 428 COMPLETE 11.92% Time Lapsed 0.00 Seconds\r[████------------------------------------] Processing 52 of 428 COMPLETE 12.15% Time Lapsed 0.00 Seconds\r[████------------------------------------] Processing 53 of 428 COMPLETE 12.38% Time Lapsed 0.00 Seconds\r[█████-----------------------------------] Processing 54 of 428 COMPLETE 12.62% Time Lapsed 0.00 Seconds\r[█████-----------------------------------] Processing 55 of 428 COMPLETE 12.85% Time Lapsed 0.00 Seconds\r[█████-----------------------------------] Processing 56 of 428 COMPLETE 13.08% Time Lapsed 0.00 Seconds\r[█████-----------------------------------] Processing 57 of 428 COMPLETE 13.32% Time Lapsed 0.00 Seconds\r[█████-----------------------------------] Processing 58 of 428 COMPLETE 13.55% Time Lapsed 0.00 Seconds\r[█████-----------------------------------] Processing 59 of 428 COMPLETE 13.79% Time Lapsed 0.00 Seconds\r[█████-----------------------------------] Processing 60 of 428 COMPLETE 14.02% Time Lapsed 0.00 Seconds\r[█████-----------------------------------] Processing 61 of 428 COMPLETE 14.25% Time Lapsed 0.00 Seconds\r[█████-----------------------------------] Processing 62 of 428 COMPLETE 14.49% Time Lapsed 0.00 Seconds\r[█████-----------------------------------] Processing 63 of 428 COMPLETE 14.72% Time Lapsed 0.00 Seconds\r[█████-----------------------------------] Processing 64 of 428 COMPLETE 14.95% Time Lapsed 0.00 Seconds\r[██████----------------------------------] Processing 65 of 428 COMPLETE 15.19% Time Lapsed 0.00 Seconds\r[██████----------------------------------] Processing 66 of 428 COMPLETE 15.42% Time Lapsed 0.00 Seconds\r[██████----------------------------------] Processing 67 of 428 COMPLETE 15.65% Time Lapsed 0.00 Seconds\r[██████----------------------------------] Processing 68 of 428 COMPLETE 15.89% Time Lapsed 0.00 Seconds\r[██████----------------------------------] Processing 69 of 428 COMPLETE 16.12% Time Lapsed 0.00 Seconds\r[██████----------------------------------] Processing 70 of 428 COMPLETE 16.36% Time Lapsed 0.00 Seconds\r[██████----------------------------------] Processing 71 of 428 COMPLETE 16.59% Time Lapsed 0.00 Seconds\r[██████----------------------------------] Processing 72 of 428 COMPLETE 16.82% Time Lapsed 0.00 Seconds\r[██████----------------------------------] Processing 73 of 428 COMPLETE 17.06% Time Lapsed 0.00 Seconds\r[██████----------------------------------] Processing 74 of 428 COMPLETE 17.29% Time Lapsed 0.00 Seconds\r[███████---------------------------------] Processing 75 of 428 COMPLETE 17.52% Time Lapsed 0.00 Seconds\r[███████---------------------------------] Processing 76 of 428 COMPLETE 17.76% Time Lapsed 0.00 Seconds\r[███████---------------------------------] Processing 77 of 428 COMPLETE 17.99% Time Lapsed 0.00 Seconds\r[███████---------------------------------] Processing 78 of 428 COMPLETE 18.22% Time Lapsed 0.00 Seconds\r[███████---------------------------------] Processing 79 of 428 COMPLETE 18.46% Time Lapsed 0.00 Seconds\r[███████---------------------------------] Processing 80 of 428 COMPLETE 18.69% Time Lapsed 0.00 Seconds\r[███████---------------------------------] Processing 81 of 428 COMPLETE 18.93% Time Lapsed 0.00 Seconds\r[███████---------------------------------] Processing 82 of 428 COMPLETE 19.16% Time Lapsed 0.00 Seconds\r[███████---------------------------------] Processing 83 of 428 COMPLETE 19.39% Time Lapsed 0.00 Seconds\r[███████---------------------------------] Processing 84 of 428 COMPLETE 19.63% Time Lapsed 0.00 Seconds\r[███████---------------------------------] Processing 85 of 428 COMPLETE 19.86% Time Lapsed 0.00 Seconds\r[████████--------------------------------] Processing 86 of 428 COMPLETE 20.09% Time Lapsed 0.00 Seconds\r[████████--------------------------------] Processing 87 of 428 COMPLETE 20.33% Time Lapsed 0.00 Seconds\r[████████--------------------------------] Processing 88 of 428 COMPLETE 20.56% Time Lapsed 0.00 Seconds\r[████████--------------------------------] Processing 89 of 428 COMPLETE 20.79% Time Lapsed 0.00 Seconds\r[████████--------------------------------] Processing 90 of 428 COMPLETE 21.03% Time Lapsed 0.00 Seconds\r[████████--------------------------------] Processing 91 of 428 COMPLETE 21.26% Time Lapsed 0.00 Seconds\r[████████--------------------------------] Processing 92 of 428 COMPLETE 21.50% Time Lapsed 0.00 Seconds\r[████████--------------------------------] Processing 93 of 428 COMPLETE 21.73% Time Lapsed 0.00 Seconds\r[████████--------------------------------] Processing 94 of 428 COMPLETE 21.96% Time Lapsed 0.00 Seconds\r[████████--------------------------------] Processing 95 of 428 COMPLETE 22.20% Time Lapsed 0.00 Seconds\r[████████--------------------------------] Processing 96 of 428 COMPLETE 22.43% Time Lapsed 0.00 Seconds\r[█████████-------------------------------] Processing 97 of 428 COMPLETE 22.66% Time Lapsed 0.00 Seconds\r[█████████-------------------------------] Processing 98 of 428 COMPLETE 22.90% Time Lapsed 0.00 Seconds\r[█████████-------------------------------] Processing 99 of 428 COMPLETE 23.13% Time Lapsed 0.00 Seconds\r[█████████-------------------------------] Processing 100 of 428 COMPLETE 23.36% Time Lapsed 0.00 Seconds\r[█████████-------------------------------] Processing 101 of 428 COMPLETE 23.60% Time Lapsed 0.00 Seconds\r[█████████-------------------------------] Processing 102 of 428 COMPLETE 23.83% Time Lapsed 0.00 Seconds\r[█████████-------------------------------] Processing 103 of 428 COMPLETE 24.07% Time Lapsed 0.00 Seconds\r[█████████-------------------------------] Processing 104 of 428 COMPLETE 24.30% Time Lapsed 0.00 Seconds\r[█████████-------------------------------] Processing 105 of 428 COMPLETE 24.53% Time Lapsed 0.00 Seconds\r[█████████-------------------------------] Processing 106 of 428 COMPLETE 24.77% Time Lapsed 0.00 Seconds\r[██████████------------------------------] Processing 107 of 428 COMPLETE 25.00% Time Lapsed 0.00 Seconds\r[██████████------------------------------] Processing 108 of 428 COMPLETE 25.23% Time Lapsed 0.00 Seconds\r[██████████------------------------------] Processing 109 of 428 COMPLETE 25.47% Time Lapsed 0.00 Seconds\r[██████████------------------------------] Processing 110 of 428 COMPLETE 25.70% Time Lapsed 0.00 Seconds\r[██████████------------------------------] Processing 111 of 428 COMPLETE 25.93% Time Lapsed 0.00 Seconds\r[██████████------------------------------] Processing 112 of 428 COMPLETE 26.17% Time Lapsed 0.00 Seconds\r[██████████------------------------------] Processing 113 of 428 COMPLETE 26.40% Time Lapsed 0.00 Seconds\r[██████████------------------------------] Processing 114 of 428 COMPLETE 26.64% Time Lapsed 0.00 Seconds\r[██████████------------------------------] Processing 115 of 428 COMPLETE 26.87% Time Lapsed 0.00 Seconds\r[██████████------------------------------] Processing 116 of 428 COMPLETE 27.10% Time Lapsed 0.00 Seconds\r[██████████------------------------------] Processing 117 of 428 COMPLETE 27.34% Time Lapsed 0.00 Seconds\r[███████████-----------------------------] Processing 118 of 428 COMPLETE 27.57% Time Lapsed 0.00 Seconds\r[███████████-----------------------------] Processing 119 of 428 COMPLETE 27.80% Time Lapsed 0.00 Seconds\r[███████████-----------------------------] Processing 120 of 428 COMPLETE 28.04% Time Lapsed 0.00 Seconds\r[███████████-----------------------------] Processing 121 of 428 COMPLETE 28.27% Time Lapsed 0.00 Seconds\r[███████████-----------------------------] Processing 122 of 428 COMPLETE 28.50% Time Lapsed 0.00 Seconds\r[███████████-----------------------------] Processing 123 of 428 COMPLETE 28.74% Time Lapsed 0.00 Seconds\r[███████████-----------------------------] Processing 124 of 428 COMPLETE 28.97% Time Lapsed 0.00 Seconds\r[███████████-----------------------------] Processing 125 of 428 COMPLETE 29.21% Time Lapsed 0.00 Seconds\r[███████████-----------------------------] Processing 126 of 428 COMPLETE 29.44% Time Lapsed 0.00 Seconds\r[███████████-----------------------------] Processing 127 of 428 COMPLETE 29.67% Time Lapsed 0.00 Seconds\r[███████████-----------------------------] Processing 128 of 428 COMPLETE 29.91% Time Lapsed 0.00 Seconds\r[████████████----------------------------] Processing 129 of 428 COMPLETE 30.14% Time Lapsed 0.00 Seconds\r[████████████----------------------------] Processing 130 of 428 COMPLETE 30.37% Time Lapsed 0.00 Seconds\r[████████████----------------------------] Processing 131 of 428 COMPLETE 30.61% Time Lapsed 0.00 Seconds\r[████████████----------------------------] Processing 132 of 428 COMPLETE 30.84% Time Lapsed 0.00 Seconds\r[████████████----------------------------] Processing 133 of 428 COMPLETE 31.07% Time Lapsed 0.00 Seconds\r[████████████----------------------------] Processing 134 of 428 COMPLETE 31.31% Time Lapsed 0.00 Seconds\r[████████████----------------------------] Processing 135 of 428 COMPLETE 31.54% Time Lapsed 0.00 Seconds\r[████████████----------------------------] Processing 136 of 428 COMPLETE 31.78% Time Lapsed 0.00 Seconds\r[████████████----------------------------] Processing 137 of 428 COMPLETE 32.01% Time Lapsed 0.00 Seconds\r[████████████----------------------------] Processing 138 of 428 COMPLETE 32.24% Time Lapsed 0.00 Seconds\r[████████████----------------------------] Processing 139 of 428 COMPLETE 32.48% Time Lapsed 0.00 Seconds\r[█████████████---------------------------] Processing 140 of 428 COMPLETE 32.71% Time Lapsed 0.00 Seconds\r[█████████████---------------------------] Processing 141 of 428 COMPLETE 32.94% Time Lapsed 0.00 Seconds\r[█████████████---------------------------] Processing 142 of 428 COMPLETE 33.18% Time Lapsed 0.00 Seconds\r[█████████████---------------------------] Processing 143 of 428 COMPLETE 33.41% Time Lapsed 0.00 Seconds\r[█████████████---------------------------] Processing 144 of 428 COMPLETE 33.64% Time Lapsed 0.00 Seconds\r[█████████████---------------------------] Processing 145 of 428 COMPLETE 33.88% Time Lapsed 0.00 Seconds\r[█████████████---------------------------] Processing 146 of 428 COMPLETE 34.11% Time Lapsed 0.00 Seconds\r[█████████████---------------------------] Processing 147 of 428 COMPLETE 34.35% Time Lapsed 0.00 Seconds\r[█████████████---------------------------] Processing 148 of 428 COMPLETE 34.58% Time Lapsed 0.00 Seconds\r[█████████████---------------------------] Processing 149 of 428 COMPLETE 34.81% Time Lapsed 0.00 Seconds\r[██████████████--------------------------] Processing 150 of 428 COMPLETE 35.05% Time Lapsed 0.00 Seconds\r[██████████████--------------------------] Processing 151 of 428 COMPLETE 35.28% Time Lapsed 0.00 Seconds\r[██████████████--------------------------] Processing 152 of 428 COMPLETE 35.51% Time Lapsed 0.00 Seconds\r[██████████████--------------------------] Processing 153 of 428 COMPLETE 35.75% Time Lapsed 0.00 Seconds\r[██████████████--------------------------] Processing 154 of 428 COMPLETE 35.98% Time Lapsed 0.00 Seconds\r[██████████████--------------------------] Processing 155 of 428 COMPLETE 36.21% Time Lapsed 0.00 Seconds\r[██████████████--------------------------] Processing 156 of 428 COMPLETE 36.45% Time Lapsed 0.00 Seconds\r[██████████████--------------------------] Processing 157 of 428 COMPLETE 36.68% Time Lapsed 0.00 Seconds\r[██████████████--------------------------] Processing 158 of 428 COMPLETE 36.92% Time Lapsed 0.00 Seconds\r[██████████████--------------------------] Processing 159 of 428 COMPLETE 37.15% Time Lapsed 0.00 Seconds\r[██████████████--------------------------] Processing 160 of 428 COMPLETE 37.38% Time Lapsed 0.00 Seconds\r[███████████████-------------------------] Processing 161 of 428 COMPLETE 37.62% Time Lapsed 0.00 Seconds\r[███████████████-------------------------] Processing 162 of 428 COMPLETE 37.85% Time Lapsed 0.00 Seconds\r[███████████████-------------------------] Processing 163 of 428 COMPLETE 38.08% Time Lapsed 0.00 Seconds\r[███████████████-------------------------] Processing 164 of 428 COMPLETE 38.32% Time Lapsed 0.00 Seconds\r[███████████████-------------------------] Processing 165 of 428 COMPLETE 38.55% Time Lapsed 0.00 Seconds\r[███████████████-------------------------] Processing 166 of 428 COMPLETE 38.79% Time Lapsed 0.00 Seconds\r[███████████████-------------------------] Processing 167 of 428 COMPLETE 39.02% Time Lapsed 0.00 Seconds\r[███████████████-------------------------] Processing 168 of 428 COMPLETE 39.25% Time Lapsed 0.00 Seconds\r[███████████████-------------------------] Processing 169 of 428 COMPLETE 39.49% Time Lapsed 0.00 Seconds\r[███████████████-------------------------] Processing 170 of 428 COMPLETE 39.72% Time Lapsed 0.00 Seconds\r[███████████████-------------------------] Processing 171 of 428 COMPLETE 39.95% Time Lapsed 0.00 Seconds\r[████████████████------------------------] Processing 172 of 428 COMPLETE 40.19% Time Lapsed 0.00 Seconds\r[████████████████------------------------] Processing 173 of 428 COMPLETE 40.42% Time Lapsed 0.00 Seconds\r[████████████████------------------------] Processing 174 of 428 COMPLETE 40.65% Time Lapsed 0.00 Seconds\r[████████████████------------------------] Processing 175 of 428 COMPLETE 40.89% Time Lapsed 0.01 Seconds\r[████████████████------------------------] Processing 176 of 428 COMPLETE 41.12% Time Lapsed 0.01 Seconds\r[████████████████------------------------] Processing 177 of 428 COMPLETE 41.36% Time Lapsed 0.01 Seconds\r[████████████████------------------------] Processing 178 of 428 COMPLETE 41.59% Time Lapsed 0.01 Seconds\r[████████████████------------------------] Processing 179 of 428 COMPLETE 41.82% Time Lapsed 0.01 Seconds\r[████████████████------------------------] Processing 180 of 428 COMPLETE 42.06% Time Lapsed 0.01 Seconds\r[████████████████------------------------] Processing 181 of 428 COMPLETE 42.29% Time Lapsed 0.01 Seconds\r[█████████████████-----------------------] Processing 182 of 428 COMPLETE 42.52% Time Lapsed 0.01 Seconds\r[█████████████████-----------------------] Processing 183 of 428 COMPLETE 42.76% Time Lapsed 0.01 Seconds\r[█████████████████-----------------------] Processing 184 of 428 COMPLETE 42.99% Time Lapsed 0.01 Seconds\r[█████████████████-----------------------] Processing 185 of 428 COMPLETE 43.22% Time Lapsed 0.01 Seconds\r[█████████████████-----------------------] Processing 186 of 428 COMPLETE 43.46% Time Lapsed 0.01 Seconds\r[█████████████████-----------------------] Processing 187 of 428 COMPLETE 43.69% Time Lapsed 0.01 Seconds\r[█████████████████-----------------------] Processing 188 of 428 COMPLETE 43.93% Time Lapsed 0.01 Seconds\r[█████████████████-----------------------] Processing 189 of 428 COMPLETE 44.16% Time Lapsed 0.01 Seconds\r[█████████████████-----------------------] Processing 190 of 428 COMPLETE 44.39% Time Lapsed 0.01 Seconds\r[█████████████████-----------------------] Processing 191 of 428 COMPLETE 44.63% Time Lapsed 0.01 Seconds\r[█████████████████-----------------------] Processing 192 of 428 COMPLETE 44.86% Time Lapsed 0.01 Seconds\r[██████████████████----------------------] Processing 193 of 428 COMPLETE 45.09% Time Lapsed 0.01 Seconds\r[██████████████████----------------------] Processing 194 of 428 COMPLETE 45.33% Time Lapsed 0.01 Seconds\r[██████████████████----------------------] Processing 195 of 428 COMPLETE 45.56% Time Lapsed 0.01 Seconds\r[██████████████████----------------------] Processing 196 of 428 COMPLETE 45.79% Time Lapsed 0.01 Seconds\r[██████████████████----------------------] Processing 197 of 428 COMPLETE 46.03% Time Lapsed 0.01 Seconds\r[██████████████████----------------------] Processing 198 of 428 COMPLETE 46.26% Time Lapsed 0.01 Seconds\r[██████████████████----------------------] Processing 199 of 428 COMPLETE 46.50% Time Lapsed 0.01 Seconds\r[██████████████████----------------------] Processing 200 of 428 COMPLETE 46.73% Time Lapsed 0.01 Seconds\r[██████████████████----------------------] Processing 201 of 428 COMPLETE 46.96% Time Lapsed 0.01 Seconds\r[██████████████████----------------------] Processing 202 of 428 COMPLETE 47.20% Time Lapsed 0.01 Seconds\r[██████████████████----------------------] Processing 203 of 428 COMPLETE 47.43% Time Lapsed 0.01 Seconds\r[███████████████████---------------------] Processing 204 of 428 COMPLETE 47.66% Time Lapsed 0.01 Seconds\r[███████████████████---------------------] Processing 205 of 428 COMPLETE 47.90% Time Lapsed 0.01 Seconds\r[███████████████████---------------------] Processing 206 of 428 COMPLETE 48.13% Time Lapsed 0.01 Seconds\r[███████████████████---------------------] Processing 207 of 428 COMPLETE 48.36% Time Lapsed 0.01 Seconds\r[███████████████████---------------------] Processing 208 of 428 COMPLETE 48.60% Time Lapsed 0.01 Seconds\r[███████████████████---------------------] Processing 209 of 428 COMPLETE 48.83% Time Lapsed 0.01 Seconds\r[███████████████████---------------------] Processing 210 of 428 COMPLETE 49.07% Time Lapsed 0.07 Seconds\r[███████████████████---------------------] Processing 211 of 428 COMPLETE 49.30% Time Lapsed 0.07 Seconds\r[███████████████████---------------------] Processing 212 of 428 COMPLETE 49.53% Time Lapsed 0.07 Seconds\r[███████████████████---------------------] Processing 213 of 428 COMPLETE 49.77% Time Lapsed 0.07 Seconds\r[████████████████████--------------------] Processing 214 of 428 COMPLETE 50.00% Time Lapsed 0.07 Seconds\r[████████████████████--------------------] Processing 215 of 428 COMPLETE 50.23% Time Lapsed 0.07 Seconds\r[████████████████████--------------------] Processing 216 of 428 COMPLETE 50.47% Time Lapsed 0.07 Seconds\r[████████████████████--------------------] Processing 217 of 428 COMPLETE 50.70% Time Lapsed 0.07 Seconds\r[████████████████████--------------------] Processing 218 of 428 COMPLETE 50.93% Time Lapsed 0.07 Seconds\r[████████████████████--------------------] Processing 219 of 428 COMPLETE 51.17% Time Lapsed 0.07 Seconds\r[████████████████████--------------------] Processing 220 of 428 COMPLETE 51.40% Time Lapsed 0.07 Seconds\r[████████████████████--------------------] Processing 221 of 428 COMPLETE 51.64% Time Lapsed 0.07 Seconds\r[████████████████████--------------------] Processing 222 of 428 COMPLETE 51.87% Time Lapsed 0.07 Seconds\r[████████████████████--------------------] Processing 223 of 428 COMPLETE 52.10% Time Lapsed 0.07 Seconds\r[████████████████████--------------------] Processing 224 of 428 COMPLETE 52.34% Time Lapsed 0.07 Seconds\r[█████████████████████-------------------] Processing 225 of 428 COMPLETE 52.57% Time Lapsed 0.07 Seconds\r[█████████████████████-------------------] Processing 226 of 428 COMPLETE 52.80% Time Lapsed 0.07 Seconds\r[█████████████████████-------------------] Processing 227 of 428 COMPLETE 53.04% Time Lapsed 0.07 Seconds\r[█████████████████████-------------------] Processing 228 of 428 COMPLETE 53.27% Time Lapsed 0.07 Seconds\r[█████████████████████-------------------] Processing 229 of 428 COMPLETE 53.50% Time Lapsed 0.07 Seconds\r[█████████████████████-------------------] Processing 230 of 428 COMPLETE 53.74% Time Lapsed 0.07 Seconds\r[█████████████████████-------------------] Processing 231 of 428 COMPLETE 53.97% Time Lapsed 0.07 Seconds\r[█████████████████████-------------------] Processing 232 of 428 COMPLETE 54.21% Time Lapsed 0.07 Seconds\r[█████████████████████-------------------] Processing 233 of 428 COMPLETE 54.44% Time Lapsed 0.07 Seconds\r[█████████████████████-------------------] Processing 234 of 428 COMPLETE 54.67% Time Lapsed 0.07 Seconds\r[█████████████████████-------------------] Processing 235 of 428 COMPLETE 54.91% Time Lapsed 0.07 Seconds\r[██████████████████████------------------] Processing 236 of 428 COMPLETE 55.14% Time Lapsed 0.07 Seconds\r[██████████████████████------------------] Processing 237 of 428 COMPLETE 55.37% Time Lapsed 0.07 Seconds\r[██████████████████████------------------] Processing 238 of 428 COMPLETE 55.61% Time Lapsed 0.07 Seconds\r[██████████████████████------------------] Processing 239 of 428 COMPLETE 55.84% Time Lapsed 0.07 Seconds\r[██████████████████████------------------] Processing 240 of 428 COMPLETE 56.07% Time Lapsed 0.07 Seconds\r[██████████████████████------------------] Processing 241 of 428 COMPLETE 56.31% Time Lapsed 0.07 Seconds\r[██████████████████████------------------] Processing 242 of 428 COMPLETE 56.54% Time Lapsed 0.07 Seconds\r[██████████████████████------------------] Processing 243 of 428 COMPLETE 56.78% Time Lapsed 0.07 Seconds\r[██████████████████████------------------] Processing 244 of 428 COMPLETE 57.01% Time Lapsed 0.07 Seconds\r[██████████████████████------------------] Processing 245 of 428 COMPLETE 57.24% Time Lapsed 0.09 Seconds\r[██████████████████████------------------] Processing 246 of 428 COMPLETE 57.48% Time Lapsed 0.09 Seconds\r[███████████████████████-----------------] Processing 247 of 428 COMPLETE 57.71% Time Lapsed 0.09 Seconds\r[███████████████████████-----------------] Processing 248 of 428 COMPLETE 57.94% Time Lapsed 0.09 Seconds\r[███████████████████████-----------------] Processing 249 of 428 COMPLETE 58.18% Time Lapsed 0.09 Seconds\r[███████████████████████-----------------] Processing 250 of 428 COMPLETE 58.41% Time Lapsed 0.09 Seconds\r[███████████████████████-----------------] Processing 251 of 428 COMPLETE 58.64% Time Lapsed 0.09 Seconds\r[███████████████████████-----------------] Processing 252 of 428 COMPLETE 58.88% Time Lapsed 0.09 Seconds\r[███████████████████████-----------------] Processing 253 of 428 COMPLETE 59.11% Time Lapsed 0.09 Seconds\r[███████████████████████-----------------] Processing 254 of 428 COMPLETE 59.35% Time Lapsed 0.09 Seconds\r[███████████████████████-----------------] Processing 255 of 428 COMPLETE 59.58% Time Lapsed 0.09 Seconds\r[███████████████████████-----------------] Processing 256 of 428 COMPLETE 59.81% Time Lapsed 0.09 Seconds\r[████████████████████████----------------] Processing 257 of 428 COMPLETE 60.05% Time Lapsed 0.09 Seconds\r[████████████████████████----------------] Processing 258 of 428 COMPLETE 60.28% Time Lapsed 0.09 Seconds\r[████████████████████████----------------] Processing 259 of 428 COMPLETE 60.51% Time Lapsed 0.09 Seconds\r[████████████████████████----------------] Processing 260 of 428 COMPLETE 60.75% Time Lapsed 0.09 Seconds\r[████████████████████████----------------] Processing 261 of 428 COMPLETE 60.98% Time Lapsed 0.09 Seconds\r[████████████████████████----------------] Processing 262 of 428 COMPLETE 61.21% Time Lapsed 0.09 Seconds\r[████████████████████████----------------] Processing 263 of 428 COMPLETE 61.45% Time Lapsed 0.09 Seconds\r[████████████████████████----------------] Processing 264 of 428 COMPLETE 61.68% Time Lapsed 0.09 Seconds\r[████████████████████████----------------] Processing 265 of 428 COMPLETE 61.92% Time Lapsed 0.09 Seconds\r[████████████████████████----------------] Processing 266 of 428 COMPLETE 62.15% Time Lapsed 0.09 Seconds\r[████████████████████████----------------] Processing 267 of 428 COMPLETE 62.38% Time Lapsed 0.09 Seconds\r[█████████████████████████---------------] Processing 268 of 428 COMPLETE 62.62% Time Lapsed 0.09 Seconds\r[█████████████████████████---------------] Processing 269 of 428 COMPLETE 62.85% Time Lapsed 0.09 Seconds\r[█████████████████████████---------------] Processing 270 of 428 COMPLETE 63.08% Time Lapsed 0.09 Seconds\r[█████████████████████████---------------] Processing 271 of 428 COMPLETE 63.32% Time Lapsed 0.09 Seconds\r[█████████████████████████---------------] Processing 272 of 428 COMPLETE 63.55% Time Lapsed 0.09 Seconds\r[█████████████████████████---------------] Processing 273 of 428 COMPLETE 63.79% Time Lapsed 0.09 Seconds\r[█████████████████████████---------------] Processing 274 of 428 COMPLETE 64.02% Time Lapsed 0.09 Seconds\r[█████████████████████████---------------] Processing 275 of 428 COMPLETE 64.25% Time Lapsed 0.09 Seconds\r[█████████████████████████---------------] Processing 276 of 428 COMPLETE 64.49% Time Lapsed 0.09 Seconds\r[█████████████████████████---------------] Processing 277 of 428 COMPLETE 64.72% Time Lapsed 0.09 Seconds\r[█████████████████████████---------------] Processing 278 of 428 COMPLETE 64.95% Time Lapsed 0.09 Seconds\r[██████████████████████████--------------] Processing 279 of 428 COMPLETE 65.19% Time Lapsed 0.09 Seconds\r[██████████████████████████--------------] Processing 280 of 428 COMPLETE 65.42% Time Lapsed 0.09 Seconds\r[██████████████████████████--------------] Processing 281 of 428 COMPLETE 65.65% Time Lapsed 0.09 Seconds\r[██████████████████████████--------------] Processing 282 of 428 COMPLETE 65.89% Time Lapsed 0.09 Seconds\r[██████████████████████████--------------] Processing 283 of 428 COMPLETE 66.12% Time Lapsed 0.09 Seconds\r[██████████████████████████--------------] Processing 284 of 428 COMPLETE 66.36% Time Lapsed 0.09 Seconds\r[██████████████████████████--------------] Processing 285 of 428 COMPLETE 66.59% Time Lapsed 0.09 Seconds\r[██████████████████████████--------------] Processing 286 of 428 COMPLETE 66.82% Time Lapsed 0.09 Seconds\r[██████████████████████████--------------] Processing 287 of 428 COMPLETE 67.06% Time Lapsed 0.09 Seconds\r[██████████████████████████--------------] Processing 288 of 428 COMPLETE 67.29% Time Lapsed 0.09 Seconds\r[███████████████████████████-------------] Processing 289 of 428 COMPLETE 67.52% Time Lapsed 0.09 Seconds\r[███████████████████████████-------------] Processing 290 of 428 COMPLETE 67.76% Time Lapsed 0.09 Seconds\r[███████████████████████████-------------] Processing 291 of 428 COMPLETE 67.99% Time Lapsed 0.09 Seconds\r[███████████████████████████-------------] Processing 292 of 428 COMPLETE 68.22% Time Lapsed 0.09 Seconds\r[███████████████████████████-------------] Processing 293 of 428 COMPLETE 68.46% Time Lapsed 0.09 Seconds\r[███████████████████████████-------------] Processing 294 of 428 COMPLETE 68.69% Time Lapsed 0.09 Seconds\r[███████████████████████████-------------] Processing 295 of 428 COMPLETE 68.93% Time Lapsed 0.09 Seconds\r[███████████████████████████-------------] Processing 296 of 428 COMPLETE 69.16% Time Lapsed 0.09 Seconds\r[███████████████████████████-------------] Processing 297 of 428 COMPLETE 69.39% Time Lapsed 0.09 Seconds\r[███████████████████████████-------------] Processing 298 of 428 COMPLETE 69.63% Time Lapsed 0.09 Seconds\r[███████████████████████████-------------] Processing 299 of 428 COMPLETE 69.86% Time Lapsed 0.09 Seconds\r[████████████████████████████------------] Processing 300 of 428 COMPLETE 70.09% Time Lapsed 0.09 Seconds\r[████████████████████████████------------] Processing 301 of 428 COMPLETE 70.33% Time Lapsed 0.09 Seconds\r[████████████████████████████------------] Processing 302 of 428 COMPLETE 70.56% Time Lapsed 0.09 Seconds\r[████████████████████████████------------] Processing 303 of 428 COMPLETE 70.79% Time Lapsed 0.09 Seconds\r[████████████████████████████------------] Processing 304 of 428 COMPLETE 71.03% Time Lapsed 0.09 Seconds\r[████████████████████████████------------] Processing 305 of 428 COMPLETE 71.26% Time Lapsed 0.09 Seconds\r[████████████████████████████------------] Processing 306 of 428 COMPLETE 71.50% Time Lapsed 0.09 Seconds\r[████████████████████████████------------] Processing 307 of 428 COMPLETE 71.73% Time Lapsed 0.09 Seconds\r[████████████████████████████------------] Processing 308 of 428 COMPLETE 71.96% Time Lapsed 0.09 Seconds\r[████████████████████████████------------] Processing 309 of 428 COMPLETE 72.20% Time Lapsed 0.09 Seconds\r[████████████████████████████------------] Processing 310 of 428 COMPLETE 72.43% Time Lapsed 0.09 Seconds\r[█████████████████████████████-----------] Processing 311 of 428 COMPLETE 72.66% Time Lapsed 0.09 Seconds\r[█████████████████████████████-----------] Processing 312 of 428 COMPLETE 72.90% Time Lapsed 0.09 Seconds\r[█████████████████████████████-----------] Processing 313 of 428 COMPLETE 73.13% Time Lapsed 0.09 Seconds\r[█████████████████████████████-----------] Processing 314 of 428 COMPLETE 73.36% Time Lapsed 0.09 Seconds\r[█████████████████████████████-----------] Processing 315 of 428 COMPLETE 73.60% Time Lapsed 0.09 Seconds\r[█████████████████████████████-----------] Processing 316 of 428 COMPLETE 73.83% Time Lapsed 0.09 Seconds\r[█████████████████████████████-----------] Processing 317 of 428 COMPLETE 74.07% Time Lapsed 0.09 Seconds\r[█████████████████████████████-----------] Processing 318 of 428 COMPLETE 74.30% Time Lapsed 0.09 Seconds\r[█████████████████████████████-----------] Processing 319 of 428 COMPLETE 74.53% Time Lapsed 0.09 Seconds\r[█████████████████████████████-----------] Processing 320 of 428 COMPLETE 74.77% Time Lapsed 0.09 Seconds\r[██████████████████████████████----------] Processing 321 of 428 COMPLETE 75.00% Time Lapsed 0.09 Seconds\r[██████████████████████████████----------] Processing 322 of 428 COMPLETE 75.23% Time Lapsed 0.09 Seconds\r[██████████████████████████████----------] Processing 323 of 428 COMPLETE 75.47% Time Lapsed 0.09 Seconds\r[██████████████████████████████----------] Processing 324 of 428 COMPLETE 75.70% Time Lapsed 0.09 Seconds\r[██████████████████████████████----------] Processing 325 of 428 COMPLETE 75.93% Time Lapsed 0.09 Seconds\r[██████████████████████████████----------] Processing 326 of 428 COMPLETE 76.17% Time Lapsed 0.09 Seconds\r[██████████████████████████████----------] Processing 327 of 428 COMPLETE 76.40% Time Lapsed 0.09 Seconds\r[██████████████████████████████----------] Processing 328 of 428 COMPLETE 76.64% Time Lapsed 0.09 Seconds\r[██████████████████████████████----------] Processing 329 of 428 COMPLETE 76.87% Time Lapsed 0.09 Seconds\r[██████████████████████████████----------] Processing 330 of 428 COMPLETE 77.10% Time Lapsed 0.09 Seconds\r[██████████████████████████████----------] Processing 331 of 428 COMPLETE 77.34% Time Lapsed 0.09 Seconds\r[███████████████████████████████---------] Processing 332 of 428 COMPLETE 77.57% Time Lapsed 0.09 Seconds\r[███████████████████████████████---------] Processing 333 of 428 COMPLETE 77.80% Time Lapsed 0.09 Seconds\r[███████████████████████████████---------] Processing 334 of 428 COMPLETE 78.04% Time Lapsed 0.09 Seconds\r[███████████████████████████████---------] Processing 335 of 428 COMPLETE 78.27% Time Lapsed 0.09 Seconds\r[███████████████████████████████---------] Processing 336 of 428 COMPLETE 78.50% Time Lapsed 0.09 Seconds\r[███████████████████████████████---------] Processing 337 of 428 COMPLETE 78.74% Time Lapsed 0.09 Seconds\r[███████████████████████████████---------] Processing 338 of 428 COMPLETE 78.97% Time Lapsed 0.09 Seconds\r[███████████████████████████████---------] Processing 339 of 428 COMPLETE 79.21% Time Lapsed 0.09 Seconds\r[███████████████████████████████---------] Processing 340 of 428 COMPLETE 79.44% Time Lapsed 0.09 Seconds\r[███████████████████████████████---------] Processing 341 of 428 COMPLETE 79.67% Time Lapsed 0.09 Seconds\r[███████████████████████████████---------] Processing 342 of 428 COMPLETE 79.91% Time Lapsed 0.09 Seconds\r[████████████████████████████████--------] Processing 343 of 428 COMPLETE 80.14% Time Lapsed 0.09 Seconds\r[████████████████████████████████--------] Processing 344 of 428 COMPLETE 80.37% Time Lapsed 0.09 Seconds\r[████████████████████████████████--------] Processing 345 of 428 COMPLETE 80.61% Time Lapsed 0.09 Seconds\r[████████████████████████████████--------] Processing 346 of 428 COMPLETE 80.84% Time Lapsed 0.09 Seconds\r[████████████████████████████████--------] Processing 347 of 428 COMPLETE 81.07% Time Lapsed 0.09 Seconds\r[████████████████████████████████--------] Processing 348 of 428 COMPLETE 81.31% Time Lapsed 0.09 Seconds\r[████████████████████████████████--------] Processing 349 of 428 COMPLETE 81.54% Time Lapsed 0.09 Seconds\r[████████████████████████████████--------] Processing 350 of 428 COMPLETE 81.78% Time Lapsed 0.09 Seconds\r[████████████████████████████████--------] Processing 351 of 428 COMPLETE 82.01% Time Lapsed 0.09 Seconds\r[████████████████████████████████--------] Processing 352 of 428 COMPLETE 82.24% Time Lapsed 0.09 Seconds\r[████████████████████████████████--------] Processing 353 of 428 COMPLETE 82.48% Time Lapsed 0.09 Seconds\r[█████████████████████████████████-------] Processing 354 of 428 COMPLETE 82.71% Time Lapsed 0.09 Seconds\r[█████████████████████████████████-------] Processing 355 of 428 COMPLETE 82.94% Time Lapsed 0.09 Seconds\r[█████████████████████████████████-------] Processing 356 of 428 COMPLETE 83.18% Time Lapsed 0.09 Seconds\r[█████████████████████████████████-------] Processing 357 of 428 COMPLETE 83.41% Time Lapsed 0.09 Seconds\r[█████████████████████████████████-------] Processing 358 of 428 COMPLETE 83.64% Time Lapsed 0.09 Seconds\r[█████████████████████████████████-------] Processing 359 of 428 COMPLETE 83.88% Time Lapsed 0.09 Seconds\r[█████████████████████████████████-------] Processing 360 of 428 COMPLETE 84.11% Time Lapsed 0.09 Seconds\r[█████████████████████████████████-------] Processing 361 of 428 COMPLETE 84.35% Time Lapsed 0.09 Seconds\r[█████████████████████████████████-------] Processing 362 of 428 COMPLETE 84.58% Time Lapsed 0.09 Seconds\r[█████████████████████████████████-------] Processing 363 of 428 COMPLETE 84.81% Time Lapsed 0.09 Seconds\r[██████████████████████████████████------] Processing 364 of 428 COMPLETE 85.05% Time Lapsed 0.09 Seconds\r[██████████████████████████████████------] Processing 365 of 428 COMPLETE 85.28% Time Lapsed 0.09 Seconds\r[██████████████████████████████████------] Processing 366 of 428 COMPLETE 85.51% Time Lapsed 0.09 Seconds\r[██████████████████████████████████------] Processing 367 of 428 COMPLETE 85.75% Time Lapsed 0.09 Seconds\r[██████████████████████████████████------] Processing 368 of 428 COMPLETE 85.98% Time Lapsed 0.09 Seconds\r[██████████████████████████████████------] Processing 369 of 428 COMPLETE 86.21% Time Lapsed 0.09 Seconds\r[██████████████████████████████████------] Processing 370 of 428 COMPLETE 86.45% Time Lapsed 0.09 Seconds\r[██████████████████████████████████------] Processing 371 of 428 COMPLETE 86.68% Time Lapsed 0.09 Seconds\r[██████████████████████████████████------] Processing 372 of 428 COMPLETE 86.92% Time Lapsed 0.09 Seconds\r[██████████████████████████████████------] Processing 373 of 428 COMPLETE 87.15% Time Lapsed 0.09 Seconds\r[██████████████████████████████████------] Processing 374 of 428 COMPLETE 87.38% Time Lapsed 0.09 Seconds\r[███████████████████████████████████-----] Processing 375 of 428 COMPLETE 87.62% Time Lapsed 0.09 Seconds\r[███████████████████████████████████-----] Processing 376 of 428 COMPLETE 87.85% Time Lapsed 0.09 Seconds\r[███████████████████████████████████-----] Processing 377 of 428 COMPLETE 88.08% Time Lapsed 0.09 Seconds\r[███████████████████████████████████-----] Processing 378 of 428 COMPLETE 88.32% Time Lapsed 0.09 Seconds\r[███████████████████████████████████-----] Processing 379 of 428 COMPLETE 88.55% Time Lapsed 0.09 Seconds\r[███████████████████████████████████-----] Processing 380 of 428 COMPLETE 88.79% Time Lapsed 0.09 Seconds\r[███████████████████████████████████-----] Processing 381 of 428 COMPLETE 89.02% Time Lapsed 0.09 Seconds\r[███████████████████████████████████-----] Processing 382 of 428 COMPLETE 89.25% Time Lapsed 0.09 Seconds\r[███████████████████████████████████-----] Processing 383 of 428 COMPLETE 89.49% Time Lapsed 0.09 Seconds\r[███████████████████████████████████-----] Processing 384 of 428 COMPLETE 89.72% Time Lapsed 0.09 Seconds\r[███████████████████████████████████-----] Processing 385 of 428 COMPLETE 89.95% Time Lapsed 0.09 Seconds\r[████████████████████████████████████----] Processing 386 of 428 COMPLETE 90.19% Time Lapsed 0.09 Seconds\r[████████████████████████████████████----] Processing 387 of 428 COMPLETE 90.42% Time Lapsed 0.09 Seconds\r[████████████████████████████████████----] Processing 388 of 428 COMPLETE 90.65% Time Lapsed 0.09 Seconds\r[████████████████████████████████████----] Processing 389 of 428 COMPLETE 90.89% Time Lapsed 0.09 Seconds\r[████████████████████████████████████----] Processing 390 of 428 COMPLETE 91.12% Time Lapsed 0.09 Seconds\r[████████████████████████████████████----] Processing 391 of 428 COMPLETE 91.36% Time Lapsed 0.09 Seconds\r[████████████████████████████████████----] Processing 392 of 428 COMPLETE 91.59% Time Lapsed 0.09 Seconds\r[████████████████████████████████████----] Processing 393 of 428 COMPLETE 91.82% Time Lapsed 0.09 Seconds\r[████████████████████████████████████----] Processing 394 of 428 COMPLETE 92.06% Time Lapsed 0.09 Seconds\r[████████████████████████████████████----] Processing 395 of 428 COMPLETE 92.29% Time Lapsed 0.09 Seconds\r[█████████████████████████████████████---] Processing 396 of 428 COMPLETE 92.52% Time Lapsed 0.09 Seconds\r[█████████████████████████████████████---] Processing 397 of 428 COMPLETE 92.76% Time Lapsed 0.09 Seconds\r[█████████████████████████████████████---] Processing 398 of 428 COMPLETE 92.99% Time Lapsed 0.09 Seconds\r[█████████████████████████████████████---] Processing 399 of 428 COMPLETE 93.22% Time Lapsed 0.09 Seconds\r[█████████████████████████████████████---] Processing 400 of 428 COMPLETE 93.46% Time Lapsed 0.09 Seconds\r[█████████████████████████████████████---] Processing 401 of 428 COMPLETE 93.69% Time Lapsed 0.09 Seconds\r[█████████████████████████████████████---] Processing 402 of 428 COMPLETE 93.93% Time Lapsed 0.09 Seconds\r[█████████████████████████████████████---] Processing 403 of 428 COMPLETE 94.16% Time Lapsed 0.09 Seconds\r[█████████████████████████████████████---] Processing 404 of 428 COMPLETE 94.39% Time Lapsed 0.09 Seconds\r[█████████████████████████████████████---] Processing 405 of 428 COMPLETE 94.63% Time Lapsed 0.09 Seconds\r[█████████████████████████████████████---] Processing 406 of 428 COMPLETE 94.86% Time Lapsed 0.09 Seconds\r[██████████████████████████████████████--] Processing 407 of 428 COMPLETE 95.09% Time Lapsed 0.09 Seconds\r[██████████████████████████████████████--] Processing 408 of 428 COMPLETE 95.33% Time Lapsed 0.09 Seconds\r[██████████████████████████████████████--] Processing 409 of 428 COMPLETE 95.56% Time Lapsed 0.09 Seconds\r[██████████████████████████████████████--] Processing 410 of 428 COMPLETE 95.79% Time Lapsed 0.09 Seconds\r[██████████████████████████████████████--] Processing 411 of 428 COMPLETE 96.03% Time Lapsed 0.09 Seconds\r[██████████████████████████████████████--] Processing 412 of 428 COMPLETE 96.26% Time Lapsed 0.09 Seconds\r[██████████████████████████████████████--] Processing 413 of 428 COMPLETE 96.50% Time Lapsed 0.09 Seconds\r[██████████████████████████████████████--] Processing 414 of 428 COMPLETE 96.73% Time Lapsed 0.09 Seconds\r[██████████████████████████████████████--] Processing 415 of 428 COMPLETE 96.96% Time Lapsed 0.09 Seconds\r[██████████████████████████████████████--] Processing 416 of 428 COMPLETE 97.20% Time Lapsed 0.09 Seconds\r[██████████████████████████████████████--] Processing 417 of 428 COMPLETE 97.43% Time Lapsed 0.09 Seconds\r[███████████████████████████████████████-] Processing 418 of 428 COMPLETE 97.66% Time Lapsed 0.09 Seconds\r[███████████████████████████████████████-] Processing 419 of 428 COMPLETE 97.90% Time Lapsed 0.09 Seconds\r[███████████████████████████████████████-] Processing 420 of 428 COMPLETE 98.13% Time Lapsed 0.09 Seconds\r[███████████████████████████████████████-] Processing 421 of 428 COMPLETE 98.36% Time Lapsed 0.09 Seconds\r[███████████████████████████████████████-] Processing 422 of 428 COMPLETE 98.60% Time Lapsed 0.09 Seconds\r[███████████████████████████████████████-] Processing 423 of 428 COMPLETE 98.83% Time Lapsed 0.09 Seconds\r[███████████████████████████████████████-] Processing 424 of 428 COMPLETE 99.07% Time Lapsed 0.09 Seconds\r[███████████████████████████████████████-] Processing 425 of 428 COMPLETE 99.30% Time Lapsed 0.09 Seconds\r[███████████████████████████████████████-] Processing 426 of 428 COMPLETE 99.53% Time Lapsed 0.09 Seconds\r[███████████████████████████████████████-] Processing 427 of 428 COMPLETE 99.77% Time Lapsed 0.09 Seconds\r[████████████████████████████████████████] Processing 428 of 428 COMPLETE 100.00% Time Lapsed 0.09 Seconds"
          ]
        }
      ]
    },
    {
      "cell_type": "code",
      "source": [
        "with open(\"test.txt\", \"w\") as file:\n",
        "    file.write(html)"
      ],
      "metadata": {
        "id": "RpjAYZrABnQM"
      },
      "execution_count": null,
      "outputs": []
    }
  ]
}